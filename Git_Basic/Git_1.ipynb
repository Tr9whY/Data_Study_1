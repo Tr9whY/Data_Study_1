{
 "cells": [
  {
   "cell_type": "markdown",
   "id": "49ff705d-68ca-4b66-8bf8-12a4690c4fa9",
   "metadata": {},
   "source": [
    "# < 깃허브 특강 1일차 >\n",
    "점심시간 11:50~ 13:10\n",
    "- 미니 특강 -\n",
    "  자격증 관련(취업/이직에 도움이 될)\n",
    "- 리눅스 기본 명령어\n",
    "\n",
    "- 모든 스포츠 선수의 공통 필수 역량? 체력!\n",
    "- 모든 it 종사자의 공통 필수 역량? 코딩~\n",
    "- 코딩은 어렵다. --> 너도 어렵다. --> 오래걸린다.--> 꾸준히...-->(2년) 5년~10년\n",
    "- A기업 빅데이터 신입직원 교육 (1개월)\n",
    "- 코딩(=프로그래밍)의 결과물 --> 소스 코드 관리 --> 깃/깃허브(부과적)\n",
    "\n",
    "깃 : 버전을 관리하는 도구. 텍스트 기반\n",
    "소스 트리 : 깃을 GUI 기반으로 사용\n",
    "Open Source : 소스 코드를 공개한 소프트웨어\n",
    "\n",
    "## <b>Linus Torvalds<b>\n",
    "### 소프트웨어 라이선스\n",
    "- 상용 S/W : 비용을 지불하고 사용. Windows, Office, HWP, 알집 ...\n",
    "- 쉐어웨어(Shareware) : 일정 기간만 무료, 그 이후 유료.. Winzip...\n",
    "- 프리웨어(Freeware) : 무료 프로그램.(실행 파일만 무료). 반디집, 카톡 PC용...\n",
    "- 오픈 소스 : 완전 무료 + 소스코드도 공개. 리눅스, 파이썬, 데이터 분석 라이브러리...\n",
    "\n",
    "      철학 : 자유 --> 사용의 자유, 다운로드의 자유, 배포의 자유, 수정의 자유, 판매의 자유"
   ]
  },
  {
   "cell_type": "markdown",
   "id": "988bf30a-31d0-4fa3-b4e1-37d0d012d5ae",
   "metadata": {},
   "source": [
    "### <b><u>버전과 버전관리</u></b>\n",
    "#### <b>버전 : 코드의 변경된 사항들 결국 코드...</b>\n",
    "- 유의미한 변화가 결과물로 나온 것.\n",
    "- 프로그램 개발 == 유의미한 변화를 쌓아 프로그램을 만들어나가는 것\n",
    "\n",
    "#### 깃을 왜 배울까?\n",
    "\n",
    "    - 깃이 없는 세상.\n",
    "    - 변경내역 기억, 작업 되돌리기(백업), 코드 공유\n",
    "    \n",
    "#### 깃이 없다면?\n",
    "\n",
    "    - 변경 내역 확인이 어렵다.\n",
    "    - 작업을 되돌리기 어렵다.\n",
    "    - 협력하기 어렵다.\n",
    " \n",
    "### <b><u>GIT</u></b> : 버전을 관리하는 도구\n",
    " - 변경 내역들을 기억하며\n",
    " - 필요하다면 작업을 되돌리며\n",
    " - 여러 명의 코드를 쉽게 나누고 합치며 개발하는 것.\n",
    "\n",
    "### <b><u>Sourcetree</u></b> : 버전을 관리하는 도구\n",
    "\n",
    "### <b><u>GIT HUB</u></b> : 원격 저장소 호스팅 서비스, 개발자들의 SNS\n",
    "- 원격 저장소 호스팅 서비스\n",
    "- 원격 깃으로 관리한 프로젝트 호스팅 서비스\n",
    "- 인터넷 상에서 깃으로 관리한 프로젝트 관리해주는 서비스"
   ]
  },
  {
   "cell_type": "markdown",
   "id": "d869cdc1-25e1-43df-a345-0644f3d8e366",
   "metadata": {},
   "source": [
    "### 셸 Shell : 명령어 해석기\n",
    "Dos  --> Windows : 명령 프롬프트(기능이 약함) >> 파워셸(PowerShell)\n",
    "Max(Unix,Linux):셸 (Bash)\n",
    "\n",
    "### <u>파워셸 실행 후</u>\n",
    "- git config -- global user.name \"영문이름 or 닉네임\"\n",
    "- git config -- global user.email \"이메일계정\""
   ]
  },
  {
   "cell_type": "markdown",
   "id": "b26d9979-e055-42dd-80bf-fc14354e179c",
   "metadata": {},
   "source": [
    "## 깃 버전 관리\n",
    "### 깃이 관리하는 세 개의 공간\n",
    "\n",
    "- 작업디렉터리 : 버전 관리의 대상이 위치하는 공간\n",
    "- 스테이지(INDEX) : 다음 버전이 될 후보가 올라가는 공간((임시 무대)깃이 관리하는 가상의 공간)\n",
    "    - 확인 차원\n",
    "    - 한번에 묶음\n",
    "    - <u>'add'</u> : 작업디렉터리를 스테이지로\n",
    "    - <u>'commit'</u> : 스테이지의 내용을 저장소에 올리는 것/ 확정된 버젼도 커밋.\n",
    "    - <u>커밋 해시 : 고유한 id 정보</u>\n",
    "- 저장소 : 버전이 만들어지고 관리되는 공간(깃이 관리하는 가상의 공간)"
   ]
  },
  {
   "cell_type": "markdown",
   "id": "7f029c94-8e5c-40d8-9971-a7a8af8862ee",
   "metadata": {},
   "source": [
    "### <b> 커밋 제목은 전달력있게 적는다(ex : 000을 수정 or 추가 or 삭제 하였다.)</b>"
   ]
  },
  {
   "cell_type": "markdown",
   "id": "98de1644-6851-47b5-865a-5c7b4eead17f",
   "metadata": {},
   "source": [
    "### 깃. 오전 & 오후 하루 두번 하는 것을 권장."
   ]
  },
  {
   "cell_type": "markdown",
   "id": "d69ded08-44a2-444d-be8f-acbb5fa0516a",
   "metadata": {},
   "source": [
    "### 태그 : 포스트잇 같은 느낌임, 삽입과 삭제, 태그 이름은 같으면 안됨"
   ]
  },
  {
   "cell_type": "markdown",
   "id": "0e188a72-8c1a-43d1-a16a-cdfcc036b02e",
   "metadata": {},
   "source": [
    "### GIT\n",
    " - 포토샵 그림도 관리가 돼. 코딩에 버그가 있어도 돼 / 모든 것을 관리 가능\n",
    " - 큰 파일은 바람직 하지 않다.(hwp 1만페이지...)"
   ]
  },
  {
   "cell_type": "markdown",
   "id": "bf7ad41f-8ab6-4bd8-9c5f-3c22156d249d",
   "metadata": {},
   "source": [
    "### 소프트웨어 개발 단계별 버전 용어 (개발 회사 마음임)###\n",
    "- Alpha(알파, Canary) : 개발자는 완성. 치명적인 버그 가능.\n",
    "- Beta(베타, Community) : 잘잘한 버그는 가능하지만, 치명적인 버그는 없을 것임.\n",
    "- RC(Release Candidate) : (출시 후보)버그 거의 없음.\n",
    "- Preview : 정품과 거의 동일.\n",
    "- 정식 : GA, RTM, 1.0버전... , Community 무료 정식.\n",
    "- Patch 1, 2...\n",
    "- Update 1, 2....\n",
    "- Service Pack 1, 2...(1년치 Update..)\n",
    "\n",
    "#### OpenSource : 0.02,0.05...0.3.2.... 1.0(정식)\n",
    "\n",
    "- 백업 : 작업 중인 데이터를 다른 저장소에 특별한 절차에 의해서 보관 또는 복사하는 것.\n",
    "- 백업 중에 덤프(Dump)"
   ]
  },
  {
   "cell_type": "markdown",
   "id": "14c89763-9594-4042-896d-9bc08b033dee",
   "metadata": {},
   "source": [
    "### <b><u>가장 중요한건 실력!<u></b>\n",
    "- <b><u>ADsP, SQLD</u></b>\n",
    "- 결론은 회사에서 원하는 자격증을 따.(관련 없는거 가져다 과감히 버려.)\n",
    "- 정보처리기사 (적극 추천) : 시험과목이 컴공과 4년의 핵심 요약(이건 나중에 회사 가서 따야함...필기라도? 안딴 이유?)"
   ]
  },
  {
   "cell_type": "markdown",
   "id": "a5d97b5b-f9df-4f67-bb1b-f304b7020747",
   "metadata": {},
   "source": [
    "### 버전 비교\n",
    "- 서로 다른 커밋을 비교하는 것\n",
    "- 커밋 이전의 내용 뿐 아니라, 커밋 이전의 파일도 접근할 수 있음."
   ]
  },
  {
   "cell_type": "markdown",
   "id": "d694effc-77aa-4b2d-a042-399687a02148",
   "metadata": {},
   "source": [
    "### 버전 되돌리기\n",
    " - revert : 버전을 되돌린 새로운 버전 만들기 / 지금까지 만든 버전은 손대지 않고 되돌리기.\n",
    " - reset : 버전을 완전히 되돌리기 /\n",
    "   - (<u> git 생성 방식 </u> : 1 작업 디렉터리에서 변경 사항 생성하기/ 2 스테이지로 추가하기 / 3 저장소로 커밋하기)\n",
    "    - Soft :\n",
    "      1. 작업 디렉터리에서 변경 사항 생성하기\n",
    "      2. 스테이지로 추가하기\n",
    "      3. But... 뒤에 작업물 들은 hard reset\n",
    "    - Mixed :\n",
    "      1. 작업 디렉터리에서 변경 사항 생성하기\n",
    "    - Hard : 걍 코드까지 다 날림"
   ]
  },
  {
   "cell_type": "markdown",
   "id": "92dd43d3-add6-4b3f-a462-e57688c4b927",
   "metadata": {},
   "source": [
    "### GIT 간단하게 쓸 용도 추천.(냉장고라고 생각하고 편한게 쓴다고 생각)."
   ]
  },
  {
   "cell_type": "markdown",
   "id": "a9f94e8f-22ea-4a67-aeda-37deeb57fc66",
   "metadata": {},
   "source": [
    "### 스태시 : 유용!\n",
    "- 지금까지 작업 임시 보관하기\n",
    "- 하나만쓰기 (권장) / 스테시 여러개 하고 적용은 안함..../ 그냥 보고 함."
   ]
  }
 ],
 "metadata": {
  "kernelspec": {
   "display_name": "Python 3 (ipykernel)",
   "language": "python",
   "name": "python3"
  },
  "language_info": {
   "codemirror_mode": {
    "name": "ipython",
    "version": 3
   },
   "file_extension": ".py",
   "mimetype": "text/x-python",
   "name": "python",
   "nbconvert_exporter": "python",
   "pygments_lexer": "ipython3",
   "version": "3.11.5"
  }
 },
 "nbformat": 4,
 "nbformat_minor": 5
}
