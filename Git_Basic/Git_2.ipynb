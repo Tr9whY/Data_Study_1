{
 "cells": [
  {
   "cell_type": "markdown",
   "id": "cb5bce0b-3368-41d3-9c7e-e18fd8816b2b",
   "metadata": {},
   "source": [
    "### 브랜치\n",
    "- 브랜치 == 나뭇가지 == 버전을 여러 개의 흐름으로 관리함\n",
    "- 버전의 분기\n",
    "- 최초의 브랜치는 <b>master</b> 브랜치로 이름이 정해져 있음.(깃허브는 <b>main 브랜치</b>로 바꿔서 부름)"
   ]
  },
  {
   "cell_type": "markdown",
   "id": "ae3ae0b1-6eda-4d4f-9f79-eb355aeee0ec",
   "metadata": {},
   "source": [
    "### 브랜치가 없다면?\n",
    "- 브랜치는 버전의 분기\n",
    "- 브랜치로 버전의 분기를 관리하는 방법\n",
    "    - 브랜치를 나눈다.\n",
    "    - 각자의 브랜치에서 작업한다.\n",
    "    - (필요하다면) 나눈 브랜치를 합친다."
   ]
  },
  {
   "cell_type": "markdown",
   "id": "5405e127-a086-43d3-acc7-4a7fadfd7db5",
   "metadata": {},
   "source": [
    "### HEAD\n",
    "- 현재 작업 중인 브랜치의 커밋을 가리킨다.\n",
    "- 일반적으로 현재 작업 중인 브랜치의 최신 커밋을 가리킨다.\n",
    "- 한 마디로 \"내가 지금 어디에서 작업 중인가\"를 가르킨다.\n",
    "### CheckOut\n",
    "- 특정 브랜치에서 작업할 수 있도록 작업 환경을 바꾸는 것\n",
    "- HEAD의 위치를 특정 브랜치의 최신 커밋으로 옮김."
   ]
  },
  {
   "cell_type": "markdown",
   "id": "ebeac967-6754-4867-af68-8d353038c3d0",
   "metadata": {},
   "source": [
    "### 브랜치와 병합"
   ]
  },
  {
   "cell_type": "markdown",
   "id": "8290372e-8f6a-4cc1-9e78-915ab109c8cc",
   "metadata": {},
   "source": [
    "### 리눅스 실습\n",
    "- 윈도우에서 리눅스(=유닉스=맥)의 셸을 사용하는 방법\n",
    "    - 가상 머신 생성 : Virtual Box, Hyper-V, VMware ----> 무거움\n",
    "    - 파워셸 처럼 윈도우환경에서 바로 리눅스를 실행하면 어떨까?\n",
    "    - WSL(Windows Subsystem for Linux) --> 버전 2\n",
    "    - Windows 10의 1주년 기념판부터 제공..\n",
    "    - 현재 Windows 10/11에서 (WSL2)를 제공 + Windows Server에서는 2019이후(WSL 1)을 제공\n",
    " \n",
    "### 명령어\n",
    "- 설치 : wsl --install ==> 5분 정도 후에 재부팅 필요함 --> 재부팅 후에 최대 30분간 진행할 수 있음.\n",
    "            - 이름 설정 / 패스워드 설정 / 기다리면 / ls -l/ pwd / git / exit\n",
    "- 시작 = 모든앱 = 우분투 클릭\n",
    "- uname -r / exit\n",
    "- 파워셸 = wsl --list --online\n",
    "- 설치 목록 확인 : wsl --list\n",
    "- 설치 : wsl --install -d 배포이름"
   ]
  },
  {
   "cell_type": "markdown",
   "id": "0e13f321-48bd-4c1f-8279-fdf1d3572baf",
   "metadata": {},
   "source": [
    "- Oracle\n",
    "- wsl --install -d OracleLinux_9_1"
   ]
  },
  {
   "cell_type": "markdown",
   "id": "d74d6b36-e137-46bd-b598-e2bf878d4def",
   "metadata": {},
   "source": [
    "### GitHub\n",
    "- 원격 저장소 서비스(=클라우드 저장소)\n",
    "- 개발자의 SNS"
   ]
  },
  {
   "cell_type": "markdown",
   "id": "6c508e99-902a-48d5-8596-ac8999e18468",
   "metadata": {},
   "source": [
    "- 원격 저장소와의 네 가지 상호작용\n",
    "    - 클론(clone)\n",
    "    - 푸시(push)\n",
    "    - 패치(fetch)\n",
    "    - 풀(pull)"
   ]
  },
  {
   "cell_type": "markdown",
   "id": "943630c9-ae3d-4faf-a342-433d58193349",
   "metadata": {},
   "source": [
    "- 회사에서 새로운 프로젝트 (Data_PTY)를 시작합니다. 새 노트북을 지급받고, \n",
    "- 그 노트북에 개발 환경 및 깃/깃허브 설정을 합시다.\n",
    "  \n",
    "#### 새 pc를 지급 받은 후\n",
    "1. 운영체제 설치 및 네트워크 설정\n",
    "2. 개발 환경 세팅 : Anaconda, Eclipse, Python ~~~\n",
    "3. 깃 설치 + 사용자/이메일 등록, 소스트리 설치, 깃허브 가입.\n",
    "4. 깃허브와 소스트리의 연동\n",
    "#### 각 프로젝트(Data_PTY)마다 1회\n",
    "1. 깃허브에 빈 저장소(Data_HKD) 생성 + 더미 파일 생성\n",
    "2. 깃허브와 소스트리의 클론!!!\n",
    "3. 확인하기\n",
    "#### 매일 작업하기(반복)\n",
    "1. pc에서 코딩하기 (=변경 사항 생성)\n",
    "2. (퇴근전 1) 커밋하기\n",
    "3. (퇴근전 2) pc의 커밋을 깃허브에 push하기.\n",
    "#### 협업 하기\n",
    "1. 리더\n",
    "- 프로젝트 세팅하기 (깃/깃허브) 모두 --> Data_자기이름영문\n",
    "- 팀원을 초청 : 깃허브 저장소마다 초청\n",
    "- settings >> Collaborators >> add people >> 깃허브아이디 입력"
   ]
  },
  {
   "cell_type": "markdown",
   "id": "d58de810-abd0-4612-9e37-3cb8ec9c9473",
   "metadata": {},
   "source": [
    "# git을 사용하기 위한 Linux\n",
    "- pwd: Print Working Direcotry (현재 내가 어느 폴더에 있지?)\n",
    "- cd 폴더명 : Change Directory (폴더를 이동) (그냥cd만 치면 home)\n",
    "- clear : 화면 깨끗해짐\n",
    "- whoami: 나 누구지? = 사용자이름 뱉음\n",
    "- mkdir 폴더명: Make Directory\n",
    "- rmdir 폴더명 : remove Directory\n",
    "- ls : list. 폴더나 파일 목록 보기\n",
    "- ls -l : 자세히 보기\n",
    "- ls -l -al : 숨김폴더 보기\n",
    "- touch 파일명: 빈 파일 생성\n",
    "- rm -f 파일명 : 파일 삭제\n",
    "- cp 원본타겟 : copy : 파일 복제\n",
    "- mv 원본 타겟 : 파일 이름 변경\n",
    "\n",
    "- vi 파일명 : 파일 편집 Visual Editor >> (명령) >> i(편집) >> 작업하기 >> Esc(명령) >> :w (저장) >> :q (quick 종료) or :wq (저장하고 종료)\n",
    "- cat 파일명: 파일 내용 확인"
   ]
  },
  {
   "cell_type": "markdown",
   "id": "8423354f-0067-43c8-a254-36a75e0ea5de",
   "metadata": {},
   "source": []
  },
  {
   "cell_type": "code",
   "execution_count": null,
   "id": "eb9ec991-01bc-49d8-9ced-8b0f4cfedc7a",
   "metadata": {},
   "outputs": [],
   "source": []
  },
  {
   "cell_type": "code",
   "execution_count": null,
   "id": "1af5fef2-4439-4100-b0e4-e226db31c36c",
   "metadata": {},
   "outputs": [],
   "source": []
  },
  {
   "cell_type": "code",
   "execution_count": null,
   "id": "52ab2665-3155-4294-9e8a-cb17873af5ed",
   "metadata": {},
   "outputs": [],
   "source": []
  },
  {
   "cell_type": "code",
   "execution_count": null,
   "id": "ca404689-f9a4-4c54-a95f-0d8a4dbd279f",
   "metadata": {},
   "outputs": [],
   "source": []
  },
  {
   "cell_type": "code",
   "execution_count": null,
   "id": "f791d2eb-9640-4ee5-8398-ff4e1d9a7061",
   "metadata": {},
   "outputs": [],
   "source": []
  },
  {
   "cell_type": "code",
   "execution_count": null,
   "id": "6eb9abfc-95b3-430e-9b74-fef9a10902b0",
   "metadata": {},
   "outputs": [],
   "source": []
  },
  {
   "cell_type": "code",
   "execution_count": null,
   "id": "0c1c1c77-4e84-42d6-8a0a-316ecf2d7cc5",
   "metadata": {},
   "outputs": [],
   "source": []
  }
 ],
 "metadata": {
  "kernelspec": {
   "display_name": "Python 3 (ipykernel)",
   "language": "python",
   "name": "python3"
  },
  "language_info": {
   "codemirror_mode": {
    "name": "ipython",
    "version": 3
   },
   "file_extension": ".py",
   "mimetype": "text/x-python",
   "name": "python",
   "nbconvert_exporter": "python",
   "pygments_lexer": "ipython3",
   "version": "3.11.5"
  }
 },
 "nbformat": 4,
 "nbformat_minor": 5
}
