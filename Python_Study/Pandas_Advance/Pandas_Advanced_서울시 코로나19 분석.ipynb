{
 "cells": [
  {
   "cell_type": "code",
   "execution_count": 3,
   "metadata": {},
   "outputs": [],
   "source": [
    "import numpy as np\n",
    "import pandas as pd\n",
    "import matplotlib.pyplot as plt\n",
    "%matplotlib inline"
   ]
  },
  {
   "cell_type": "code",
   "execution_count": 2,
   "metadata": {},
   "outputs": [
    {
     "data": {
      "image/png": "[encoded data removed]",
      "text/plain": [
       "<Figure size 640x480 with 1 Axes>"
      ]
     },
     "metadata": {},
     "output_type": "display_data"
    }
   ],
   "source": [
    "plt.plot([1,2,3],[4,5,6])\n",
    "plt.title('graph')\n",
    "plt.show()"
   ]
  },
  {
   "cell_type": "code",
   "execution_count": 5,
   "metadata": {},
   "outputs": [],
   "source": [
    "import matplotlib as mpl\n",
    "import matplotlib.pyplot as plt\n",
    "import matplotlib.font_manager as fm"
   ]
  },
  {
   "cell_type": "code",
   "execution_count": 6,
   "metadata": {},
   "outputs": [],
   "source": [
    "# 그래프에서 마이너스 폰트 깨지는 문제 대처\n",
    "mpl.rcParams['axes.unicode_minus'] = False"
   ]
  },
  {
   "cell_type": "code",
   "execution_count": 7,
   "metadata": {},
   "outputs": [],
   "source": [
    "# 폰트지정하기\n",
    "plt.rcParams['font.family'] = 'NanumGothic'\n",
    "#appleGothic (mac os)"
   ]
  },
  {
   "cell_type": "code",
   "execution_count": 8,
   "metadata": {},
   "outputs": [
    {
     "data": {
      "text/plain": [
       "['NanumSquare',\n",
       " 'NanumGothic',\n",
       " 'NanumBarunGothic',\n",
       " 'NanumMyeongjo',\n",
       " 'NanumSquareRound',\n",
       " 'NanumBarunpen',\n",
       " 'NanumSquare',\n",
       " 'NanumBarunGothic',\n",
       " 'NanumMyeongjo',\n",
       " 'Nanum Pen Script',\n",
       " 'NanumGothic',\n",
       " 'Nanum Brush Script',\n",
       " 'NanumGothic',\n",
       " 'NanumGothic',\n",
       " 'NanumMyeongjo',\n",
       " 'NanumSquareRound',\n",
       " 'NanumBarunpen',\n",
       " 'NanumSquareRound',\n",
       " 'NanumSquare',\n",
       " 'NanumSquare',\n",
       " 'NanumSquareRound',\n",
       " 'NanumBarunGothic',\n",
       " 'NanumBarunGothic']"
      ]
     },
     "execution_count": 8,
     "metadata": {},
     "output_type": "execute_result"
    }
   ],
   "source": [
    "# 폰트 확인하기\n",
    "[f.name for f in fm.fontManager.ttflist if 'Nanum' in  f.name]"
   ]
  },
  {
   "cell_type": "code",
   "execution_count": 9,
   "metadata": {},
   "outputs": [
    {
     "data": {
      "text/plain": [
       "['Malgun Gothic', 'Malgun Gothic', 'Malgun Gothic']"
      ]
     },
     "execution_count": 9,
     "metadata": {},
     "output_type": "execute_result"
    }
   ],
   "source": [
    "[f.name for f in fm.fontManager.ttflist if 'Malgun' in  f.name]"
   ]
  },
  {
   "cell_type": "code",
   "execution_count": 13,
   "metadata": {},
   "outputs": [
    {
     "name": "stderr",
     "output_type": "stream",
     "text": [
      "C:\\Users\\taeyoung\\AppData\\Local\\Temp\\ipykernel_21548\\3894158831.py:2: DtypeWarning: Columns (10) have mixed types. Specify dtype option on import or set low_memory=False.\n",
      "  raw = pd.read_csv('csv/서울시 코로나19 확진자 현황.csv')\n"
     ]
    }
   ],
   "source": [
    "# 데이터 불러오기\n",
    "raw = pd.read_csv('csv/서울시 코로나19 확진자 현황.csv')"
   ]
  },
  {
   "cell_type": "code",
   "execution_count": 14,
   "metadata": {},
   "outputs": [],
   "source": [
    "df = raw.copy()"
   ]
  },
  {
   "cell_type": "code",
   "execution_count": 15,
   "metadata": {},
   "outputs": [
    {
     "data": {
      "text/plain": [
       "Index(['연번', '확진일', '환자번호', '국적', '환자정보', '지역', '여행력', '접촉력', '조치사항', '상태',\n",
       "       '이동경로', '등록일', '수정일', '노출여부'],\n",
       "      dtype='object')"
      ]
     },
     "execution_count": 15,
     "metadata": {},
     "output_type": "execute_result"
    }
   ],
   "source": [
    "df.columns"
   ]
  },
  {
   "cell_type": "code",
   "execution_count": 18,
   "metadata": {},
   "outputs": [
    {
     "data": {
      "text/html": [
       "<div>\n",
       "<style scoped>\n",
       "    .dataframe tbody tr th:only-of-type {\n",
       "        vertical-align: middle;\n",
       "    }\n",
       "\n",
       "    .dataframe tbody tr th {\n",
       "        vertical-align: top;\n",
       "    }\n",
       "\n",
       "    .dataframe thead th {\n",
       "        text-align: right;\n",
       "    }\n",
       "</style>\n",
       "<table border=\"1\" class=\"dataframe\">\n",
       "  <thead>\n",
       "    <tr style=\"text-align: right;\">\n",
       "      <th></th>\n",
       "      <th>연번</th>\n",
       "      <th>확진일</th>\n",
       "      <th>지역</th>\n",
       "      <th>여행력</th>\n",
       "      <th>접촉력</th>\n",
       "      <th>조치사항</th>\n",
       "      <th>상태</th>\n",
       "    </tr>\n",
       "  </thead>\n",
       "  <tbody>\n",
       "    <tr>\n",
       "      <th>0</th>\n",
       "      <td>99550</td>\n",
       "      <td>2021-09-28</td>\n",
       "      <td>기타</td>\n",
       "      <td>NaN</td>\n",
       "      <td>감염경로 조사중</td>\n",
       "      <td>NaN</td>\n",
       "      <td>-</td>\n",
       "    </tr>\n",
       "    <tr>\n",
       "      <th>1</th>\n",
       "      <td>99549</td>\n",
       "      <td>2021-09-28</td>\n",
       "      <td>기타</td>\n",
       "      <td>NaN</td>\n",
       "      <td>감염경로 조사중</td>\n",
       "      <td>NaN</td>\n",
       "      <td>-</td>\n",
       "    </tr>\n",
       "    <tr>\n",
       "      <th>2</th>\n",
       "      <td>99548</td>\n",
       "      <td>2021-09-28</td>\n",
       "      <td>기타</td>\n",
       "      <td>NaN</td>\n",
       "      <td>감염경로 조사중</td>\n",
       "      <td>NaN</td>\n",
       "      <td>-</td>\n",
       "    </tr>\n",
       "    <tr>\n",
       "      <th>3</th>\n",
       "      <td>99547</td>\n",
       "      <td>2021-09-28</td>\n",
       "      <td>기타</td>\n",
       "      <td>NaN</td>\n",
       "      <td>감염경로 조사중</td>\n",
       "      <td>NaN</td>\n",
       "      <td>-</td>\n",
       "    </tr>\n",
       "    <tr>\n",
       "      <th>4</th>\n",
       "      <td>99546</td>\n",
       "      <td>2021-09-28</td>\n",
       "      <td>기타</td>\n",
       "      <td>NaN</td>\n",
       "      <td>감염경로 조사중</td>\n",
       "      <td>NaN</td>\n",
       "      <td>-</td>\n",
       "    </tr>\n",
       "    <tr>\n",
       "      <th>...</th>\n",
       "      <td>...</td>\n",
       "      <td>...</td>\n",
       "      <td>...</td>\n",
       "      <td>...</td>\n",
       "      <td>...</td>\n",
       "      <td>...</td>\n",
       "      <td>...</td>\n",
       "    </tr>\n",
       "    <tr>\n",
       "      <th>99545</th>\n",
       "      <td>5</td>\n",
       "      <td>2020-01-31</td>\n",
       "      <td>성북구</td>\n",
       "      <td>NaN</td>\n",
       "      <td>기타 확진자 접촉</td>\n",
       "      <td>NaN</td>\n",
       "      <td>퇴원</td>\n",
       "    </tr>\n",
       "    <tr>\n",
       "      <th>99546</th>\n",
       "      <td>4</td>\n",
       "      <td>2020-01-30</td>\n",
       "      <td>마포구</td>\n",
       "      <td>중국</td>\n",
       "      <td>해외유입</td>\n",
       "      <td>NaN</td>\n",
       "      <td>퇴원</td>\n",
       "    </tr>\n",
       "    <tr>\n",
       "      <th>99547</th>\n",
       "      <td>3</td>\n",
       "      <td>2020-01-30</td>\n",
       "      <td>종로구</td>\n",
       "      <td>NaN</td>\n",
       "      <td>종로구 집단발병</td>\n",
       "      <td>NaN</td>\n",
       "      <td>퇴원</td>\n",
       "    </tr>\n",
       "    <tr>\n",
       "      <th>99548</th>\n",
       "      <td>2</td>\n",
       "      <td>2020-01-30</td>\n",
       "      <td>중랑구</td>\n",
       "      <td>중국</td>\n",
       "      <td>해외유입</td>\n",
       "      <td>NaN</td>\n",
       "      <td>퇴원</td>\n",
       "    </tr>\n",
       "    <tr>\n",
       "      <th>99549</th>\n",
       "      <td>1</td>\n",
       "      <td>2020-01-24</td>\n",
       "      <td>강서구</td>\n",
       "      <td>중국</td>\n",
       "      <td>해외유입</td>\n",
       "      <td>NaN</td>\n",
       "      <td>퇴원</td>\n",
       "    </tr>\n",
       "  </tbody>\n",
       "</table>\n",
       "<p>99550 rows × 7 columns</p>\n",
       "</div>"
      ],
      "text/plain": [
       "          연번         확진일   지역  여행력        접촉력  조치사항  상태\n",
       "0      99550  2021-09-28   기타  NaN   감염경로 조사중   NaN   -\n",
       "1      99549  2021-09-28   기타  NaN   감염경로 조사중   NaN   -\n",
       "2      99548  2021-09-28   기타  NaN   감염경로 조사중   NaN   -\n",
       "3      99547  2021-09-28   기타  NaN   감염경로 조사중   NaN   -\n",
       "4      99546  2021-09-28   기타  NaN   감염경로 조사중   NaN   -\n",
       "...      ...         ...  ...  ...        ...   ...  ..\n",
       "99545      5  2020-01-31  성북구  NaN  기타 확진자 접촉   NaN  퇴원\n",
       "99546      4  2020-01-30  마포구   중국       해외유입   NaN  퇴원\n",
       "99547      3  2020-01-30  종로구  NaN   종로구 집단발병   NaN  퇴원\n",
       "99548      2  2020-01-30  중랑구   중국       해외유입   NaN  퇴원\n",
       "99549      1  2020-01-24  강서구   중국       해외유입   NaN  퇴원\n",
       "\n",
       "[99550 rows x 7 columns]"
      ]
     },
     "execution_count": 18,
     "metadata": {},
     "output_type": "execute_result"
    }
   ],
   "source": [
    "df.drop(columns=['환자번호', '국적', '환자정보','이동경로', '등록일', '수정일', '노출여부'])"
   ]
  },
  {
   "cell_type": "code",
   "execution_count": 21,
   "metadata": {},
   "outputs": [
    {
     "data": {
      "text/plain": [
       "연번        int64\n",
       "확진일      object\n",
       "환자번호    float64\n",
       "국적      float64\n",
       "환자정보    float64\n",
       "지역       object\n",
       "여행력      object\n",
       "접촉력      object\n",
       "조치사항    float64\n",
       "상태       object\n",
       "이동경로     object\n",
       "등록일      object\n",
       "수정일      object\n",
       "노출여부     object\n",
       "dtype: object"
      ]
     },
     "execution_count": 21,
     "metadata": {},
     "output_type": "execute_result"
    }
   ],
   "source": [
    "# 자료형 확인\n",
    "df.dtypes"
   ]
  },
  {
   "cell_type": "code",
   "execution_count": 22,
   "metadata": {},
   "outputs": [],
   "source": [
    "# 확진일 >> datetime\n",
    "df['확진일'] = pd.to_datetime(df['확진일'])"
   ]
  },
  {
   "cell_type": "code",
   "execution_count": 25,
   "metadata": {},
   "outputs": [
    {
     "name": "stdout",
     "output_type": "stream",
     "text": [
      "29\n",
      "['기타' '영등포구' '관악구' '서대문구' '송파구' '동대문구' '성동구' '중랑구' '타시도' '종로구' '도봉구' '용산구'\n",
      " '마포구' '구로구' '동작구' '강동구' '중구' '노원구' '양천구' '강서구' '은평구' '성북구' '광진구' '금천구'\n",
      " '강북구' '강남구' '서초구' '타시도 ' ' 성북구']\n"
     ]
    }
   ],
   "source": [
    "# '지역' 공백 제거\n",
    "print(df['지역'].nunique())\n",
    "print(df['지역'].unique())"
   ]
  },
  {
   "cell_type": "code",
   "execution_count": 30,
   "metadata": {},
   "outputs": [
    {
     "name": "stdout",
     "output_type": "stream",
     "text": [
      "27\n",
      "['기타' '영등포구' '관악구' '서대문구' '송파구' '동대문구' '성동구' '중랑구' '타시도' '종로구' '도봉구' '용산구'\n",
      " '마포구' '구로구' '동작구' '강동구' '중구' '노원구' '양천구' '강서구' '은평구' '성북구' '광진구' '금천구'\n",
      " '강북구' '강남구' '서초구']\n"
     ]
    }
   ],
   "source": [
    "# 문자 양쪽 공백 제거 >> 업데이트\n",
    "df['지역'] = df['지역'].str.strip()\n",
    "print(df['지역'].nunique())\n",
    "print(df['지역'].unique())"
   ]
  },
  {
   "cell_type": "code",
   "execution_count": 37,
   "metadata": {},
   "outputs": [
    {
     "name": "stdout",
     "output_type": "stream",
     "text": [
      "연번               int64\n",
      "확진일     datetime64[ns]\n",
      "환자번호           float64\n",
      "국적             float64\n",
      "환자정보           float64\n",
      "지역            category\n",
      "여행력             object\n",
      "접촉력             object\n",
      "조치사항           float64\n",
      "상태              object\n",
      "이동경로            object\n",
      "등록일             object\n",
      "수정일             object\n",
      "노출여부            object\n",
      "dtype: object\n",
      "<class 'pandas.core.frame.DataFrame'>\n",
      "RangeIndex: 99550 entries, 0 to 99549\n",
      "Data columns (total 14 columns):\n",
      " #   Column  Non-Null Count  Dtype         \n",
      "---  ------  --------------  -----         \n",
      " 0   연번      99550 non-null  int64         \n",
      " 1   확진일     99550 non-null  datetime64[ns]\n",
      " 2   환자번호    0 non-null      float64       \n",
      " 3   국적      0 non-null      float64       \n",
      " 4   환자정보    0 non-null      float64       \n",
      " 5   지역      99550 non-null  category      \n",
      " 6   여행력     1717 non-null   object        \n",
      " 7   접촉력     99550 non-null  object        \n",
      " 8   조치사항    0 non-null      float64       \n",
      " 9   상태      99550 non-null  object        \n",
      " 10  이동경로    10000 non-null  object        \n",
      " 11  등록일     99550 non-null  object        \n",
      " 12  수정일     99550 non-null  object        \n",
      " 13  노출여부    99550 non-null  object        \n",
      "dtypes: category(1), datetime64[ns](1), float64(4), int64(1), object(7)\n",
      "memory usage: 10.0+ MB\n",
      "None\n"
     ]
    }
   ],
   "source": [
    "df['지역'] = df['지역'].astype('category')\n",
    "print(df.dtypes)\n",
    "print(df.info())"
   ]
  },
  {
   "cell_type": "code",
   "execution_count": 35,
   "metadata": {},
   "outputs": [
    {
     "data": {
      "text/plain": [
       "연번          0\n",
       "확진일         0\n",
       "환자번호    99550\n",
       "국적      99550\n",
       "환자정보    99550\n",
       "지역          0\n",
       "여행력     97833\n",
       "접촉력         0\n",
       "조치사항    99550\n",
       "상태          0\n",
       "이동경로    89550\n",
       "등록일         0\n",
       "수정일         0\n",
       "노출여부        0\n",
       "dtype: int64"
      ]
     },
     "execution_count": 35,
     "metadata": {},
     "output_type": "execute_result"
    }
   ],
   "source": [
    "# 결측치 분석\n",
    "df.isnull().sum()"
   ]
  },
  {
   "cell_type": "code",
   "execution_count": 39,
   "metadata": {},
   "outputs": [
    {
     "name": "stderr",
     "output_type": "stream",
     "text": [
      "C:\\Users\\taeyoung\\AppData\\Local\\Temp\\ipykernel_21548\\920526386.py:5: FutureWarning: The default value of observed=False is deprecated and will change to observed=True in a future version of pandas. Specify observed=False to silence this warning and retain the current behavior\n",
      "  df_gu = pd.pivot_table(df, index='확진일',\n"
     ]
    }
   ],
   "source": [
    "# 구 별 확진자 동향\n",
    "# 확진일-구별 확진자 수 집계\n",
    "\n",
    "#피봇 테이블 만들기\n",
    "df_gu = pd.pivot_table(df, index='확진일',\n",
    "               columns='지역',\n",
    "               values='연번',\n",
    "               aggfunc='count',\n",
    "               margins=True)"
   ]
  },
  {
   "cell_type": "code",
   "execution_count": 44,
   "metadata": {},
   "outputs": [
    {
     "name": "stdout",
     "output_type": "stream",
     "text": [
      "확진일\n",
      "2020-01-24 00:00:00        1\n",
      "2020-01-30 00:00:00        3\n",
      "2020-01-31 00:00:00        3\n",
      "2020-02-02 00:00:00        1\n",
      "2020-02-05 00:00:00        2\n",
      "                       ...  \n",
      "2021-09-25 00:00:00      928\n",
      "2021-09-26 00:00:00      778\n",
      "2021-09-27 00:00:00      842\n",
      "2021-09-28 00:00:00     1054\n",
      "All                    99550\n",
      "Name: All, Length: 583, dtype: int64\n"
     ]
    }
   ],
   "source": [
    "# df_gu.head()\n",
    "# 서울시 일별 추가 확진자 동향\n",
    "\n",
    "print(df_gu['All'])"
   ]
  },
  {
   "cell_type": "code",
   "execution_count": 48,
   "metadata": {},
   "outputs": [],
   "source": [
    "df_gu['All'][:-1]\n",
    "s_date = df_gu['All'][:-1]"
   ]
  },
  {
   "cell_type": "code",
   "execution_count": 51,
   "metadata": {},
   "outputs": [
    {
     "data": {
      "text/plain": [
       "확진일\n",
       "2021-09-24    1222\n",
       "2021-09-28    1054\n",
       "2021-09-25     928\n",
       "2021-09-23     905\n",
       "2021-09-27     842\n",
       "              ... \n",
       "2020-04-24       1\n",
       "2020-04-30       1\n",
       "2020-05-01       1\n",
       "2020-05-17       1\n",
       "2020-01-24       1\n",
       "Name: All, Length: 582, dtype: int64"
      ]
     },
     "execution_count": 51,
     "metadata": {},
     "output_type": "execute_result"
    }
   ],
   "source": [
    "# 서울시 일별 추가확진자가 많았던 순으로 보기\n",
    "s_date.sort_values(ascending=False)  # 많았던 순서니까 False"
   ]
  },
  {
   "cell_type": "code",
   "execution_count": 52,
   "metadata": {},
   "outputs": [],
   "source": [
    "# 서울시 일별 추가 확진자 시각화\n",
    "x = s_date.index  # 일자\n",
    "y = s_date.values # 확진자 수"
   ]
  },
  {
   "cell_type": "code",
   "execution_count": 55,
   "metadata": {},
   "outputs": [
    {
     "data": {
      "image/png": "[encoded data removed]",
      "text/plain": [
       "<Figure size 640x480 with 1 Axes>"
      ]
     },
     "metadata": {},
     "output_type": "display_data"
    }
   ],
   "source": [
    "plt.plot(x,y)\n",
    "plt.title('서울시 일별 추가 확진자(2021.09.28 현재)')\n",
    "plt.xlabel('확진일')\n",
    "plt.ylabel('추가 확진자 수')\n",
    "plt.xticks(rotation=45)\n",
    "plt.show()"
   ]
  },
  {
   "cell_type": "code",
   "execution_count": 57,
   "metadata": {},
   "outputs": [
    {
     "data": {
      "text/plain": [
       "지역\n",
       "강남구      6926\n",
       "강동구      3782\n",
       "강북구      2606\n",
       "강서구      4447\n",
       "관악구      5418\n",
       "광진구      3486\n",
       "구로구      4168\n",
       "금천구      2064\n",
       "기타       2321\n",
       "노원구      3932\n",
       "도봉구      2605\n",
       "동대문구     3487\n",
       "동작구      4120\n",
       "마포구      3726\n",
       "서대문구     2692\n",
       "서초구      4284\n",
       "성동구      2839\n",
       "성북구      3779\n",
       "송파구      6356\n",
       "양천구      3291\n",
       "영등포구     4463\n",
       "용산구      2705\n",
       "은평구      4284\n",
       "종로구      1617\n",
       "중구       1708\n",
       "중랑구      3729\n",
       "타시도      4715\n",
       "All     99550\n",
       "Name: All, dtype: int64"
      ]
     },
     "execution_count": 57,
     "metadata": {},
     "output_type": "execute_result"
    }
   ],
   "source": [
    "df_gu.loc['All']"
   ]
  },
  {
   "cell_type": "code",
   "execution_count": 60,
   "metadata": {},
   "outputs": [
    {
     "data": {
      "text/plain": [
       "지역\n",
       "강남구     6926\n",
       "강동구     3782\n",
       "강북구     2606\n",
       "강서구     4447\n",
       "관악구     5418\n",
       "광진구     3486\n",
       "구로구     4168\n",
       "금천구     2064\n",
       "기타      2321\n",
       "노원구     3932\n",
       "도봉구     2605\n",
       "동대문구    3487\n",
       "동작구     4120\n",
       "마포구     3726\n",
       "서대문구    2692\n",
       "서초구     4284\n",
       "성동구     2839\n",
       "성북구     3779\n",
       "송파구     6356\n",
       "양천구     3291\n",
       "영등포구    4463\n",
       "용산구     2705\n",
       "은평구     4284\n",
       "종로구     1617\n",
       "중구      1708\n",
       "중랑구     3729\n",
       "타시도     4715\n",
       "Name: All, dtype: int64"
      ]
     },
     "execution_count": 60,
     "metadata": {},
     "output_type": "execute_result"
    }
   ],
   "source": [
    "# 서울시 구별 누적확진자 비교\n",
    "df_gu.loc['All'][:-1]"
   ]
  },
  {
   "cell_type": "code",
   "execution_count": 64,
   "metadata": {},
   "outputs": [],
   "source": [
    "# 서울시 구별 누적확진자 비교\n",
    "s_gu = df_gu.loc['All'][:-1]"
   ]
  },
  {
   "cell_type": "code",
   "execution_count": 65,
   "metadata": {},
   "outputs": [],
   "source": [
    "# 누적 확진자 수 많은 순으로 보기\n",
    "s_gu = s_gu.sort_values(ascending=False)"
   ]
  },
  {
   "cell_type": "code",
   "execution_count": 67,
   "metadata": {},
   "outputs": [
    {
     "data": {
      "image/png": "[encoded data removed]",
      "text/plain": [
       "<Figure size 1000x600 with 1 Axes>"
      ]
     },
     "metadata": {},
     "output_type": "display_data"
    }
   ],
   "source": [
    "x = s_gu.index  # 서울시 구\n",
    "y = s_gu.values # 누적 확진자 수\n",
    "\n",
    "plt.figure(figsize=(10,6))\n",
    "plt.title('서울시 구별 누적 확진자(2021.09.28 현재)', size=12)\n",
    "plt.barh(x,y) # 가로막대 그래프\n",
    "plt.show()"
   ]
  },
  {
   "cell_type": "code",
   "execution_count": 73,
   "metadata": {},
   "outputs": [
    {
     "data": {
      "text/plain": [
       "지역\n",
       "강남구     45\n",
       "강동구     51\n",
       "강북구     25\n",
       "강서구     41\n",
       "관악구     48\n",
       "광진구     36\n",
       "구로구     55\n",
       "금천구     31\n",
       "기타      65\n",
       "노원구     29\n",
       "도봉구     35\n",
       "동대문구    66\n",
       "동작구     28\n",
       "마포구     47\n",
       "서대문구    30\n",
       "서초구     19\n",
       "성동구     24\n",
       "성북구     41\n",
       "송파구     68\n",
       "양천구     27\n",
       "영등포구    43\n",
       "용산구     24\n",
       "은평구     47\n",
       "종로구     23\n",
       "중구      37\n",
       "중랑구     26\n",
       "타시도     43\n",
       "Name: 2021-09-28 00:00:00, dtype: int64"
      ]
     },
     "execution_count": 73,
     "metadata": {},
     "output_type": "execute_result"
    }
   ],
   "source": [
    "# 최근일 기준, 지역별 추가 확진자\n",
    "df_gu.iloc[-2]\n",
    "# 데이터프레임에서 뒤에서 두 번째 행 선택\n",
    "df_gu.iloc[-2][:-1] # 선택한 행에서 마지막 열 제외"
   ]
  },
  {
   "cell_type": "code",
   "execution_count": 79,
   "metadata": {},
   "outputs": [],
   "source": [
    "s_gu = df_gu.iloc[-2][:-1]\n",
    "s_gu = s_gu.sort_values(ascending=False)"
   ]
  },
  {
   "cell_type": "code",
   "execution_count": 80,
   "metadata": {},
   "outputs": [
    {
     "data": {
      "image/png": "[encoded data removed]",
      "text/plain": [
       "<Figure size 1000x600 with 1 Axes>"
      ]
     },
     "metadata": {},
     "output_type": "display_data"
    }
   ],
   "source": [
    "x = s_gu.index\n",
    "y = s_gu.values\n",
    "plt.figure(figsize=(10,6))\n",
    "plt.barh(x,y)\n",
    "plt.show()"
   ]
  },
  {
   "cell_type": "code",
   "execution_count": 87,
   "metadata": {},
   "outputs": [
    {
     "data": {
      "text/html": [
       "<div>\n",
       "<style scoped>\n",
       "    .dataframe tbody tr th:only-of-type {\n",
       "        vertical-align: middle;\n",
       "    }\n",
       "\n",
       "    .dataframe tbody tr th {\n",
       "        vertical-align: top;\n",
       "    }\n",
       "\n",
       "    .dataframe thead th {\n",
       "        text-align: right;\n",
       "    }\n",
       "</style>\n",
       "<table border=\"1\" class=\"dataframe\">\n",
       "  <thead>\n",
       "    <tr style=\"text-align: right;\">\n",
       "      <th></th>\n",
       "      <th>count</th>\n",
       "    </tr>\n",
       "    <tr>\n",
       "      <th>접촉력</th>\n",
       "      <th></th>\n",
       "    </tr>\n",
       "  </thead>\n",
       "  <tbody>\n",
       "    <tr>\n",
       "      <th>기타 확진자 접촉</th>\n",
       "      <td>37943</td>\n",
       "    </tr>\n",
       "    <tr>\n",
       "      <th>감염경로 조사중</th>\n",
       "      <td>31964</td>\n",
       "    </tr>\n",
       "    <tr>\n",
       "      <th>타시도 확진자 접촉</th>\n",
       "      <td>4244</td>\n",
       "    </tr>\n",
       "    <tr>\n",
       "      <th>해외유입</th>\n",
       "      <td>1729</td>\n",
       "    </tr>\n",
       "    <tr>\n",
       "      <th>동부구치소 관련</th>\n",
       "      <td>1175</td>\n",
       "    </tr>\n",
       "    <tr>\n",
       "      <th>병원 및 요양시설</th>\n",
       "      <td>988</td>\n",
       "    </tr>\n",
       "    <tr>\n",
       "      <th>송파구 소재 시장 관련(?21.9.)</th>\n",
       "      <td>659</td>\n",
       "    </tr>\n",
       "    <tr>\n",
       "      <th>성북구 사랑제일교회 관련</th>\n",
       "      <td>641</td>\n",
       "    </tr>\n",
       "    <tr>\n",
       "      <th>중구 소재 시장 관련(?21.9.)</th>\n",
       "      <td>277</td>\n",
       "    </tr>\n",
       "    <tr>\n",
       "      <th>강서구 교회 관련</th>\n",
       "      <td>246</td>\n",
       "    </tr>\n",
       "  </tbody>\n",
       "</table>\n",
       "</div>"
      ],
      "text/plain": [
       "                      count\n",
       "접촉력                        \n",
       "기타 확진자 접촉             37943\n",
       "감염경로 조사중              31964\n",
       "타시도 확진자 접촉             4244\n",
       "해외유입                   1729\n",
       "동부구치소 관련               1175\n",
       "병원 및 요양시설               988\n",
       "송파구 소재 시장 관련(?21.9.)    659\n",
       "성북구 사랑제일교회 관련           641\n",
       "중구 소재 시장 관련(?21.9.)     277\n",
       "강서구 교회 관련               246"
      ]
     },
     "execution_count": 87,
     "metadata": {},
     "output_type": "execute_result"
    }
   ],
   "source": [
    "# 접촉력에 따른 확진 분석\n",
    "df['접촉력']\n",
    "df['접촉력'].value_counts()[:10].to_frame()  # to_frame()을 하면 데이터프레임 형태로 나옴."
   ]
  },
  {
   "cell_type": "code",
   "execution_count": 91,
   "metadata": {},
   "outputs": [
    {
     "data": {
      "text/plain": [
       "0       2021-09-28\n",
       "1       2021-09-28\n",
       "2       2021-09-28\n",
       "3       2021-09-28\n",
       "4       2021-09-28\n",
       "           ...    \n",
       "99545   2020-01-31\n",
       "99546   2020-01-30\n",
       "99547   2020-01-30\n",
       "99548   2020-01-30\n",
       "99549   2020-01-24\n",
       "Name: 확진일, Length: 99550, dtype: datetime64[ns]"
      ]
     },
     "execution_count": 91,
     "metadata": {},
     "output_type": "execute_result"
    }
   ],
   "source": [
    "# 최근 월 접촉력에 따른 확진 건수 베스트 10 선정\n",
    "# 2021-09\n",
    "df['확진일']"
   ]
  },
  {
   "cell_type": "code",
   "execution_count": 92,
   "metadata": {},
   "outputs": [
    {
     "data": {
      "text/html": [
       "<div>\n",
       "<style scoped>\n",
       "    .dataframe tbody tr th:only-of-type {\n",
       "        vertical-align: middle;\n",
       "    }\n",
       "\n",
       "    .dataframe tbody tr th {\n",
       "        vertical-align: top;\n",
       "    }\n",
       "\n",
       "    .dataframe thead th {\n",
       "        text-align: right;\n",
       "    }\n",
       "</style>\n",
       "<table border=\"1\" class=\"dataframe\">\n",
       "  <thead>\n",
       "    <tr style=\"text-align: right;\">\n",
       "      <th></th>\n",
       "      <th>연번</th>\n",
       "      <th>확진일</th>\n",
       "      <th>환자번호</th>\n",
       "      <th>국적</th>\n",
       "      <th>환자정보</th>\n",
       "      <th>지역</th>\n",
       "      <th>여행력</th>\n",
       "      <th>접촉력</th>\n",
       "      <th>조치사항</th>\n",
       "      <th>상태</th>\n",
       "      <th>이동경로</th>\n",
       "      <th>등록일</th>\n",
       "      <th>수정일</th>\n",
       "      <th>노출여부</th>\n",
       "    </tr>\n",
       "  </thead>\n",
       "  <tbody>\n",
       "    <tr>\n",
       "      <th>0</th>\n",
       "      <td>99550</td>\n",
       "      <td>2021-09-28</td>\n",
       "      <td>NaN</td>\n",
       "      <td>NaN</td>\n",
       "      <td>NaN</td>\n",
       "      <td>기타</td>\n",
       "      <td>NaN</td>\n",
       "      <td>감염경로 조사중</td>\n",
       "      <td>NaN</td>\n",
       "      <td>-</td>\n",
       "      <td>NaN</td>\n",
       "      <td>2021-09-29 10:54</td>\n",
       "      <td>2021-09-29 10:54</td>\n",
       "      <td>Y</td>\n",
       "    </tr>\n",
       "    <tr>\n",
       "      <th>1</th>\n",
       "      <td>99549</td>\n",
       "      <td>2021-09-28</td>\n",
       "      <td>NaN</td>\n",
       "      <td>NaN</td>\n",
       "      <td>NaN</td>\n",
       "      <td>기타</td>\n",
       "      <td>NaN</td>\n",
       "      <td>감염경로 조사중</td>\n",
       "      <td>NaN</td>\n",
       "      <td>-</td>\n",
       "      <td>NaN</td>\n",
       "      <td>2021-09-29 10:54</td>\n",
       "      <td>2021-09-29 10:54</td>\n",
       "      <td>Y</td>\n",
       "    </tr>\n",
       "    <tr>\n",
       "      <th>2</th>\n",
       "      <td>99548</td>\n",
       "      <td>2021-09-28</td>\n",
       "      <td>NaN</td>\n",
       "      <td>NaN</td>\n",
       "      <td>NaN</td>\n",
       "      <td>기타</td>\n",
       "      <td>NaN</td>\n",
       "      <td>감염경로 조사중</td>\n",
       "      <td>NaN</td>\n",
       "      <td>-</td>\n",
       "      <td>NaN</td>\n",
       "      <td>2021-09-29 10:54</td>\n",
       "      <td>2021-09-29 10:54</td>\n",
       "      <td>Y</td>\n",
       "    </tr>\n",
       "    <tr>\n",
       "      <th>3</th>\n",
       "      <td>99547</td>\n",
       "      <td>2021-09-28</td>\n",
       "      <td>NaN</td>\n",
       "      <td>NaN</td>\n",
       "      <td>NaN</td>\n",
       "      <td>기타</td>\n",
       "      <td>NaN</td>\n",
       "      <td>감염경로 조사중</td>\n",
       "      <td>NaN</td>\n",
       "      <td>-</td>\n",
       "      <td>NaN</td>\n",
       "      <td>2021-09-29 10:54</td>\n",
       "      <td>2021-09-29 10:54</td>\n",
       "      <td>Y</td>\n",
       "    </tr>\n",
       "    <tr>\n",
       "      <th>4</th>\n",
       "      <td>99546</td>\n",
       "      <td>2021-09-28</td>\n",
       "      <td>NaN</td>\n",
       "      <td>NaN</td>\n",
       "      <td>NaN</td>\n",
       "      <td>기타</td>\n",
       "      <td>NaN</td>\n",
       "      <td>감염경로 조사중</td>\n",
       "      <td>NaN</td>\n",
       "      <td>-</td>\n",
       "      <td>NaN</td>\n",
       "      <td>2021-09-29 10:54</td>\n",
       "      <td>2021-09-29 10:54</td>\n",
       "      <td>Y</td>\n",
       "    </tr>\n",
       "    <tr>\n",
       "      <th>...</th>\n",
       "      <td>...</td>\n",
       "      <td>...</td>\n",
       "      <td>...</td>\n",
       "      <td>...</td>\n",
       "      <td>...</td>\n",
       "      <td>...</td>\n",
       "      <td>...</td>\n",
       "      <td>...</td>\n",
       "      <td>...</td>\n",
       "      <td>...</td>\n",
       "      <td>...</td>\n",
       "      <td>...</td>\n",
       "      <td>...</td>\n",
       "      <td>...</td>\n",
       "    </tr>\n",
       "    <tr>\n",
       "      <th>19529</th>\n",
       "      <td>80021</td>\n",
       "      <td>2021-09-01</td>\n",
       "      <td>NaN</td>\n",
       "      <td>NaN</td>\n",
       "      <td>NaN</td>\n",
       "      <td>동작구</td>\n",
       "      <td>NaN</td>\n",
       "      <td>감염경로 조사중</td>\n",
       "      <td>NaN</td>\n",
       "      <td>퇴원</td>\n",
       "      <td>NaN</td>\n",
       "      <td>2021-09-29 10:54</td>\n",
       "      <td>2021-09-29 10:54</td>\n",
       "      <td>Y</td>\n",
       "    </tr>\n",
       "    <tr>\n",
       "      <th>19530</th>\n",
       "      <td>80020</td>\n",
       "      <td>2021-09-01</td>\n",
       "      <td>NaN</td>\n",
       "      <td>NaN</td>\n",
       "      <td>NaN</td>\n",
       "      <td>중랑구</td>\n",
       "      <td>NaN</td>\n",
       "      <td>감염경로 조사중</td>\n",
       "      <td>NaN</td>\n",
       "      <td>퇴원</td>\n",
       "      <td>NaN</td>\n",
       "      <td>2021-09-29 10:54</td>\n",
       "      <td>2021-09-29 10:54</td>\n",
       "      <td>Y</td>\n",
       "    </tr>\n",
       "    <tr>\n",
       "      <th>19531</th>\n",
       "      <td>80019</td>\n",
       "      <td>2021-09-01</td>\n",
       "      <td>NaN</td>\n",
       "      <td>NaN</td>\n",
       "      <td>NaN</td>\n",
       "      <td>동작구</td>\n",
       "      <td>NaN</td>\n",
       "      <td>기타 확진자 접촉</td>\n",
       "      <td>NaN</td>\n",
       "      <td>-</td>\n",
       "      <td>NaN</td>\n",
       "      <td>2021-09-29 10:54</td>\n",
       "      <td>2021-09-29 10:54</td>\n",
       "      <td>Y</td>\n",
       "    </tr>\n",
       "    <tr>\n",
       "      <th>19532</th>\n",
       "      <td>80018</td>\n",
       "      <td>2021-09-01</td>\n",
       "      <td>NaN</td>\n",
       "      <td>NaN</td>\n",
       "      <td>NaN</td>\n",
       "      <td>중랑구</td>\n",
       "      <td>NaN</td>\n",
       "      <td>감염경로 조사중</td>\n",
       "      <td>NaN</td>\n",
       "      <td>퇴원</td>\n",
       "      <td>NaN</td>\n",
       "      <td>2021-09-29 10:54</td>\n",
       "      <td>2021-09-29 10:54</td>\n",
       "      <td>Y</td>\n",
       "    </tr>\n",
       "    <tr>\n",
       "      <th>19533</th>\n",
       "      <td>80017</td>\n",
       "      <td>2021-09-01</td>\n",
       "      <td>NaN</td>\n",
       "      <td>NaN</td>\n",
       "      <td>NaN</td>\n",
       "      <td>타시도</td>\n",
       "      <td>NaN</td>\n",
       "      <td>기타 확진자 접촉</td>\n",
       "      <td>NaN</td>\n",
       "      <td>퇴원</td>\n",
       "      <td>NaN</td>\n",
       "      <td>2021-09-29 10:54</td>\n",
       "      <td>2021-09-29 10:54</td>\n",
       "      <td>Y</td>\n",
       "    </tr>\n",
       "  </tbody>\n",
       "</table>\n",
       "<p>19534 rows × 14 columns</p>\n",
       "</div>"
      ],
      "text/plain": [
       "          연번        확진일  환자번호  국적  환자정보   지역  여행력        접촉력  조치사항  상태 이동경로  \\\n",
       "0      99550 2021-09-28   NaN NaN   NaN   기타  NaN   감염경로 조사중   NaN   -  NaN   \n",
       "1      99549 2021-09-28   NaN NaN   NaN   기타  NaN   감염경로 조사중   NaN   -  NaN   \n",
       "2      99548 2021-09-28   NaN NaN   NaN   기타  NaN   감염경로 조사중   NaN   -  NaN   \n",
       "3      99547 2021-09-28   NaN NaN   NaN   기타  NaN   감염경로 조사중   NaN   -  NaN   \n",
       "4      99546 2021-09-28   NaN NaN   NaN   기타  NaN   감염경로 조사중   NaN   -  NaN   \n",
       "...      ...        ...   ...  ..   ...  ...  ...        ...   ...  ..  ...   \n",
       "19529  80021 2021-09-01   NaN NaN   NaN  동작구  NaN   감염경로 조사중   NaN  퇴원  NaN   \n",
       "19530  80020 2021-09-01   NaN NaN   NaN  중랑구  NaN   감염경로 조사중   NaN  퇴원  NaN   \n",
       "19531  80019 2021-09-01   NaN NaN   NaN  동작구  NaN  기타 확진자 접촉   NaN   -  NaN   \n",
       "19532  80018 2021-09-01   NaN NaN   NaN  중랑구  NaN   감염경로 조사중   NaN  퇴원  NaN   \n",
       "19533  80017 2021-09-01   NaN NaN   NaN  타시도  NaN  기타 확진자 접촉   NaN  퇴원  NaN   \n",
       "\n",
       "                    등록일               수정일 노출여부  \n",
       "0      2021-09-29 10:54  2021-09-29 10:54    Y  \n",
       "1      2021-09-29 10:54  2021-09-29 10:54    Y  \n",
       "2      2021-09-29 10:54  2021-09-29 10:54    Y  \n",
       "3      2021-09-29 10:54  2021-09-29 10:54    Y  \n",
       "4      2021-09-29 10:54  2021-09-29 10:54    Y  \n",
       "...                 ...               ...  ...  \n",
       "19529  2021-09-29 10:54  2021-09-29 10:54    Y  \n",
       "19530  2021-09-29 10:54  2021-09-29 10:54    Y  \n",
       "19531  2021-09-29 10:54  2021-09-29 10:54    Y  \n",
       "19532  2021-09-29 10:54  2021-09-29 10:54    Y  \n",
       "19533  2021-09-29 10:54  2021-09-29 10:54    Y  \n",
       "\n",
       "[19534 rows x 14 columns]"
      ]
     },
     "execution_count": 92,
     "metadata": {},
     "output_type": "execute_result"
    }
   ],
   "source": [
    "\n",
    "df['확진일']\n",
    "\n",
    "condition = (df['확진일'].dt.year == 2021) & (df['확진일'].dt.month == 9)  # 위에서 상위 10개가 2021 09 니까\n",
    "df[condition]"
   ]
  },
  {
   "cell_type": "code",
   "execution_count": 98,
   "metadata": {},
   "outputs": [
    {
     "data": {
      "text/html": [
       "<div>\n",
       "<style scoped>\n",
       "    .dataframe tbody tr th:only-of-type {\n",
       "        vertical-align: middle;\n",
       "    }\n",
       "\n",
       "    .dataframe tbody tr th {\n",
       "        vertical-align: top;\n",
       "    }\n",
       "\n",
       "    .dataframe thead th {\n",
       "        text-align: right;\n",
       "    }\n",
       "</style>\n",
       "<table border=\"1\" class=\"dataframe\">\n",
       "  <thead>\n",
       "    <tr style=\"text-align: right;\">\n",
       "      <th></th>\n",
       "      <th>count</th>\n",
       "    </tr>\n",
       "    <tr>\n",
       "      <th>접촉력</th>\n",
       "      <th></th>\n",
       "    </tr>\n",
       "  </thead>\n",
       "  <tbody>\n",
       "    <tr>\n",
       "      <th>감염경로 조사중</th>\n",
       "      <td>8117</td>\n",
       "    </tr>\n",
       "    <tr>\n",
       "      <th>기타 확진자 접촉</th>\n",
       "      <td>8088</td>\n",
       "    </tr>\n",
       "    <tr>\n",
       "      <th>송파구 소재 시장 관련(?21.9.)</th>\n",
       "      <td>658</td>\n",
       "    </tr>\n",
       "    <tr>\n",
       "      <th>타시도 확진자 접촉</th>\n",
       "      <td>587</td>\n",
       "    </tr>\n",
       "    <tr>\n",
       "      <th>중구 소재 시장 관련(?21.9.)</th>\n",
       "      <td>277</td>\n",
       "    </tr>\n",
       "    <tr>\n",
       "      <th>병원 및 요양시설</th>\n",
       "      <td>186</td>\n",
       "    </tr>\n",
       "    <tr>\n",
       "      <th>해외유입</th>\n",
       "      <td>122</td>\n",
       "    </tr>\n",
       "    <tr>\n",
       "      <th>용산구 소재 병원 관련(?21.9.)</th>\n",
       "      <td>77</td>\n",
       "    </tr>\n",
       "    <tr>\n",
       "      <th>동대문구 소재 시장 관련</th>\n",
       "      <td>44</td>\n",
       "    </tr>\n",
       "    <tr>\n",
       "      <th>강서구 소재 시장 관련</th>\n",
       "      <td>44</td>\n",
       "    </tr>\n",
       "  </tbody>\n",
       "</table>\n",
       "</div>"
      ],
      "text/plain": [
       "                      count\n",
       "접촉력                        \n",
       "감염경로 조사중               8117\n",
       "기타 확진자 접촉              8088\n",
       "송파구 소재 시장 관련(?21.9.)    658\n",
       "타시도 확진자 접촉              587\n",
       "중구 소재 시장 관련(?21.9.)     277\n",
       "병원 및 요양시설               186\n",
       "해외유입                    122\n",
       "용산구 소재 병원 관련(?21.9.)     77\n",
       "동대문구 소재 시장 관련            44\n",
       "강서구 소재 시장 관련             44"
      ]
     },
     "execution_count": 98,
     "metadata": {},
     "output_type": "execute_result"
    }
   ],
   "source": [
    "condition = (df['확진일'].dt.year == 2021) & (df['확진일'].dt.month == 9)\n",
    "df[condition]['접촉력'].value_counts()[:10].to_frame() # 접촉력만 보고 싶으니까. 10번째만 뽑는다."
   ]
  },
  {
   "cell_type": "code",
   "execution_count": null,
   "metadata": {},
   "outputs": [],
   "source": []
  }
 ],
 "metadata": {
  "kernelspec": {
   "display_name": "Python 3",
   "language": "python",
   "name": "python3"
  },
  "language_info": {
   "codemirror_mode": {
    "name": "ipython",
    "version": 3
   },
   "file_extension": ".py",
   "mimetype": "text/x-python",
   "name": "python",
   "nbconvert_exporter": "python",
   "pygments_lexer": "ipython3",
   "version": "3.12.0"
  }
 },
 "nbformat": 4,
 "nbformat_minor": 2
}
