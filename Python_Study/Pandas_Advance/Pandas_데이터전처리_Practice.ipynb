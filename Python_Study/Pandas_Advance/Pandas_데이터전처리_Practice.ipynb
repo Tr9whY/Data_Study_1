{
 "cells": [
  {
   "cell_type": "code",
   "execution_count": 1,
   "metadata": {},
   "outputs": [],
   "source": [
    "# 데이터 탐색\n",
    "\n",
    "# EDA(Exploratory Data Analysis 탐색적 데이터 분석)"
   ]
  },
  {
   "cell_type": "code",
   "execution_count": 2,
   "metadata": {},
   "outputs": [],
   "source": [
    "import pandas as pd\n",
    "import numpy as np\n",
    "import matplotlib.pyplot as plt\n",
    "import matplotlib as mpl\n",
    "%matplotlib inline"
   ]
  },
  {
   "cell_type": "code",
   "execution_count": 3,
   "metadata": {},
   "outputs": [
    {
     "data": {
      "text/plain": [
       "False"
      ]
     },
     "execution_count": 3,
     "metadata": {},
     "output_type": "execute_result"
    }
   ],
   "source": [
    "from matplotlib import font_manager, rc\n",
    "import matplotlib as mpl\n",
    "\n",
    "# 마이너스 깨짐 현상 해결\n",
    "mpl.rcParams['axes.unicode_minus'] = False\n",
    "plt.rcParams['font.family'] == 'MS Gothic'"
   ]
  },
  {
   "cell_type": "code",
   "execution_count": 4,
   "metadata": {},
   "outputs": [],
   "source": [
    "path = 'csv_file/titanic.csv'"
   ]
  },
  {
   "cell_type": "code",
   "execution_count": 5,
   "metadata": {},
   "outputs": [],
   "source": [
    "raw = pd.read_csv(path)"
   ]
  },
  {
   "cell_type": "code",
   "execution_count": 6,
   "metadata": {},
   "outputs": [],
   "source": [
    "df = raw.copy()"
   ]
  },
  {
   "cell_type": "code",
   "execution_count": 7,
   "metadata": {},
   "outputs": [
    {
     "data": {
      "text/plain": [
       "(891, 12)"
      ]
     },
     "execution_count": 7,
     "metadata": {},
     "output_type": "execute_result"
    }
   ],
   "source": [
    "df.shape"
   ]
  },
  {
   "cell_type": "code",
   "execution_count": 8,
   "metadata": {},
   "outputs": [
    {
     "name": "stdout",
     "output_type": "stream",
     "text": [
      "<class 'pandas.core.frame.DataFrame'>\n",
      "RangeIndex: 891 entries, 0 to 890\n",
      "Data columns (total 12 columns):\n",
      " #   Column       Non-Null Count  Dtype  \n",
      "---  ------       --------------  -----  \n",
      " 0   PassengerId  891 non-null    int64  \n",
      " 1   Survived     891 non-null    int64  \n",
      " 2   Pclass       891 non-null    int64  \n",
      " 3   Name         891 non-null    object \n",
      " 4   Sex          891 non-null    object \n",
      " 5   Age          714 non-null    float64\n",
      " 6   SibSp        891 non-null    int64  \n",
      " 7   Parch        891 non-null    int64  \n",
      " 8   Ticket       891 non-null    object \n",
      " 9   Fare         891 non-null    float64\n",
      " 10  Cabin        204 non-null    object \n",
      " 11  Embarked     889 non-null    object \n",
      "dtypes: float64(2), int64(5), object(5)\n",
      "memory usage: 83.7+ KB\n"
     ]
    }
   ],
   "source": [
    "df.info()"
   ]
  },
  {
   "cell_type": "code",
   "execution_count": 9,
   "metadata": {},
   "outputs": [
    {
     "data": {
      "text/plain": [
       "Index(['PassengerId', 'Survived', 'Pclass', 'Name', 'Sex', 'Age', 'SibSp',\n",
       "       'Parch', 'Ticket', 'Fare', 'Cabin', 'Embarked'],\n",
       "      dtype='object')"
      ]
     },
     "execution_count": 9,
     "metadata": {},
     "output_type": "execute_result"
    }
   ],
   "source": [
    "df.columns"
   ]
  },
  {
   "cell_type": "code",
   "execution_count": 10,
   "metadata": {},
   "outputs": [],
   "source": [
    "# 변수 타입 변환\n",
    "df['Survived'] = df['Survived'].astype('str')\n",
    "df['Pclass'] = df['Pclass'].astype('str')"
   ]
  },
  {
   "cell_type": "code",
   "execution_count": 11,
   "metadata": {},
   "outputs": [
    {
     "name": "stdout",
     "output_type": "stream",
     "text": [
      "<class 'pandas.core.frame.DataFrame'>\n",
      "RangeIndex: 891 entries, 0 to 890\n",
      "Data columns (total 12 columns):\n",
      " #   Column       Non-Null Count  Dtype  \n",
      "---  ------       --------------  -----  \n",
      " 0   PassengerId  891 non-null    int64  \n",
      " 1   Survived     891 non-null    object \n",
      " 2   Pclass       891 non-null    object \n",
      " 3   Name         891 non-null    object \n",
      " 4   Sex          891 non-null    object \n",
      " 5   Age          714 non-null    float64\n",
      " 6   SibSp        891 non-null    int64  \n",
      " 7   Parch        891 non-null    int64  \n",
      " 8   Ticket       891 non-null    object \n",
      " 9   Fare         891 non-null    float64\n",
      " 10  Cabin        204 non-null    object \n",
      " 11  Embarked     889 non-null    object \n",
      "dtypes: float64(2), int64(3), object(7)\n",
      "memory usage: 83.7+ KB\n"
     ]
    }
   ],
   "source": [
    "df.info()"
   ]
  },
  {
   "cell_type": "code",
   "execution_count": 12,
   "metadata": {},
   "outputs": [
    {
     "data": {
      "text/html": [
       "<div>\n",
       "<style scoped>\n",
       "    .dataframe tbody tr th:only-of-type {\n",
       "        vertical-align: middle;\n",
       "    }\n",
       "\n",
       "    .dataframe tbody tr th {\n",
       "        vertical-align: top;\n",
       "    }\n",
       "\n",
       "    .dataframe thead th {\n",
       "        text-align: right;\n",
       "    }\n",
       "</style>\n",
       "<table border=\"1\" class=\"dataframe\">\n",
       "  <thead>\n",
       "    <tr style=\"text-align: right;\">\n",
       "      <th></th>\n",
       "      <th>PassengerId</th>\n",
       "      <th>Survived</th>\n",
       "      <th>Pclass</th>\n",
       "      <th>Name</th>\n",
       "      <th>Sex</th>\n",
       "      <th>Age</th>\n",
       "      <th>SibSp</th>\n",
       "      <th>Parch</th>\n",
       "      <th>Ticket</th>\n",
       "      <th>Fare</th>\n",
       "      <th>Cabin</th>\n",
       "      <th>Embarked</th>\n",
       "    </tr>\n",
       "  </thead>\n",
       "  <tbody>\n",
       "    <tr>\n",
       "      <th>count</th>\n",
       "      <td>891.000000</td>\n",
       "      <td>891</td>\n",
       "      <td>891</td>\n",
       "      <td>891</td>\n",
       "      <td>891</td>\n",
       "      <td>714.000000</td>\n",
       "      <td>891.000000</td>\n",
       "      <td>891.000000</td>\n",
       "      <td>891</td>\n",
       "      <td>891.000000</td>\n",
       "      <td>204</td>\n",
       "      <td>889</td>\n",
       "    </tr>\n",
       "    <tr>\n",
       "      <th>unique</th>\n",
       "      <td>NaN</td>\n",
       "      <td>2</td>\n",
       "      <td>3</td>\n",
       "      <td>891</td>\n",
       "      <td>2</td>\n",
       "      <td>NaN</td>\n",
       "      <td>NaN</td>\n",
       "      <td>NaN</td>\n",
       "      <td>681</td>\n",
       "      <td>NaN</td>\n",
       "      <td>147</td>\n",
       "      <td>3</td>\n",
       "    </tr>\n",
       "    <tr>\n",
       "      <th>top</th>\n",
       "      <td>NaN</td>\n",
       "      <td>0</td>\n",
       "      <td>3</td>\n",
       "      <td>Braund, Mr. Owen Harris</td>\n",
       "      <td>male</td>\n",
       "      <td>NaN</td>\n",
       "      <td>NaN</td>\n",
       "      <td>NaN</td>\n",
       "      <td>347082</td>\n",
       "      <td>NaN</td>\n",
       "      <td>B96 B98</td>\n",
       "      <td>S</td>\n",
       "    </tr>\n",
       "    <tr>\n",
       "      <th>freq</th>\n",
       "      <td>NaN</td>\n",
       "      <td>549</td>\n",
       "      <td>491</td>\n",
       "      <td>1</td>\n",
       "      <td>577</td>\n",
       "      <td>NaN</td>\n",
       "      <td>NaN</td>\n",
       "      <td>NaN</td>\n",
       "      <td>7</td>\n",
       "      <td>NaN</td>\n",
       "      <td>4</td>\n",
       "      <td>644</td>\n",
       "    </tr>\n",
       "    <tr>\n",
       "      <th>mean</th>\n",
       "      <td>446.000000</td>\n",
       "      <td>NaN</td>\n",
       "      <td>NaN</td>\n",
       "      <td>NaN</td>\n",
       "      <td>NaN</td>\n",
       "      <td>29.699118</td>\n",
       "      <td>0.523008</td>\n",
       "      <td>0.381594</td>\n",
       "      <td>NaN</td>\n",
       "      <td>32.204208</td>\n",
       "      <td>NaN</td>\n",
       "      <td>NaN</td>\n",
       "    </tr>\n",
       "    <tr>\n",
       "      <th>std</th>\n",
       "      <td>257.353842</td>\n",
       "      <td>NaN</td>\n",
       "      <td>NaN</td>\n",
       "      <td>NaN</td>\n",
       "      <td>NaN</td>\n",
       "      <td>14.526497</td>\n",
       "      <td>1.102743</td>\n",
       "      <td>0.806057</td>\n",
       "      <td>NaN</td>\n",
       "      <td>49.693429</td>\n",
       "      <td>NaN</td>\n",
       "      <td>NaN</td>\n",
       "    </tr>\n",
       "    <tr>\n",
       "      <th>min</th>\n",
       "      <td>1.000000</td>\n",
       "      <td>NaN</td>\n",
       "      <td>NaN</td>\n",
       "      <td>NaN</td>\n",
       "      <td>NaN</td>\n",
       "      <td>0.420000</td>\n",
       "      <td>0.000000</td>\n",
       "      <td>0.000000</td>\n",
       "      <td>NaN</td>\n",
       "      <td>0.000000</td>\n",
       "      <td>NaN</td>\n",
       "      <td>NaN</td>\n",
       "    </tr>\n",
       "    <tr>\n",
       "      <th>25%</th>\n",
       "      <td>223.500000</td>\n",
       "      <td>NaN</td>\n",
       "      <td>NaN</td>\n",
       "      <td>NaN</td>\n",
       "      <td>NaN</td>\n",
       "      <td>20.125000</td>\n",
       "      <td>0.000000</td>\n",
       "      <td>0.000000</td>\n",
       "      <td>NaN</td>\n",
       "      <td>7.910400</td>\n",
       "      <td>NaN</td>\n",
       "      <td>NaN</td>\n",
       "    </tr>\n",
       "    <tr>\n",
       "      <th>50%</th>\n",
       "      <td>446.000000</td>\n",
       "      <td>NaN</td>\n",
       "      <td>NaN</td>\n",
       "      <td>NaN</td>\n",
       "      <td>NaN</td>\n",
       "      <td>28.000000</td>\n",
       "      <td>0.000000</td>\n",
       "      <td>0.000000</td>\n",
       "      <td>NaN</td>\n",
       "      <td>14.454200</td>\n",
       "      <td>NaN</td>\n",
       "      <td>NaN</td>\n",
       "    </tr>\n",
       "    <tr>\n",
       "      <th>75%</th>\n",
       "      <td>668.500000</td>\n",
       "      <td>NaN</td>\n",
       "      <td>NaN</td>\n",
       "      <td>NaN</td>\n",
       "      <td>NaN</td>\n",
       "      <td>38.000000</td>\n",
       "      <td>1.000000</td>\n",
       "      <td>0.000000</td>\n",
       "      <td>NaN</td>\n",
       "      <td>31.000000</td>\n",
       "      <td>NaN</td>\n",
       "      <td>NaN</td>\n",
       "    </tr>\n",
       "    <tr>\n",
       "      <th>max</th>\n",
       "      <td>891.000000</td>\n",
       "      <td>NaN</td>\n",
       "      <td>NaN</td>\n",
       "      <td>NaN</td>\n",
       "      <td>NaN</td>\n",
       "      <td>80.000000</td>\n",
       "      <td>8.000000</td>\n",
       "      <td>6.000000</td>\n",
       "      <td>NaN</td>\n",
       "      <td>512.329200</td>\n",
       "      <td>NaN</td>\n",
       "      <td>NaN</td>\n",
       "    </tr>\n",
       "  </tbody>\n",
       "</table>\n",
       "</div>"
      ],
      "text/plain": [
       "        PassengerId Survived Pclass                     Name   Sex  \\\n",
       "count    891.000000      891    891                      891   891   \n",
       "unique          NaN        2      3                      891     2   \n",
       "top             NaN        0      3  Braund, Mr. Owen Harris  male   \n",
       "freq            NaN      549    491                        1   577   \n",
       "mean     446.000000      NaN    NaN                      NaN   NaN   \n",
       "std      257.353842      NaN    NaN                      NaN   NaN   \n",
       "min        1.000000      NaN    NaN                      NaN   NaN   \n",
       "25%      223.500000      NaN    NaN                      NaN   NaN   \n",
       "50%      446.000000      NaN    NaN                      NaN   NaN   \n",
       "75%      668.500000      NaN    NaN                      NaN   NaN   \n",
       "max      891.000000      NaN    NaN                      NaN   NaN   \n",
       "\n",
       "               Age       SibSp       Parch  Ticket        Fare    Cabin  \\\n",
       "count   714.000000  891.000000  891.000000     891  891.000000      204   \n",
       "unique         NaN         NaN         NaN     681         NaN      147   \n",
       "top            NaN         NaN         NaN  347082         NaN  B96 B98   \n",
       "freq           NaN         NaN         NaN       7         NaN        4   \n",
       "mean     29.699118    0.523008    0.381594     NaN   32.204208      NaN   \n",
       "std      14.526497    1.102743    0.806057     NaN   49.693429      NaN   \n",
       "min       0.420000    0.000000    0.000000     NaN    0.000000      NaN   \n",
       "25%      20.125000    0.000000    0.000000     NaN    7.910400      NaN   \n",
       "50%      28.000000    0.000000    0.000000     NaN   14.454200      NaN   \n",
       "75%      38.000000    1.000000    0.000000     NaN   31.000000      NaN   \n",
       "max      80.000000    8.000000    6.000000     NaN  512.329200      NaN   \n",
       "\n",
       "       Embarked  \n",
       "count       889  \n",
       "unique        3  \n",
       "top           S  \n",
       "freq        644  \n",
       "mean        NaN  \n",
       "std         NaN  \n",
       "min         NaN  \n",
       "25%         NaN  \n",
       "50%         NaN  \n",
       "75%         NaN  \n",
       "max         NaN  "
      ]
     },
     "execution_count": 12,
     "metadata": {},
     "output_type": "execute_result"
    }
   ],
   "source": [
    "df.describe(include='all')"
   ]
  },
  {
   "cell_type": "code",
   "execution_count": 13,
   "metadata": {},
   "outputs": [
    {
     "data": {
      "text/plain": [
       "Pclass\n",
       "1    216\n",
       "2    184\n",
       "3    491\n",
       "dtype: int64"
      ]
     },
     "execution_count": 13,
     "metadata": {},
     "output_type": "execute_result"
    }
   ],
   "source": [
    "# groupby(), size()\n",
    "group_pclass = df.groupby(\"Pclass\") # 좌석등급별\n",
    "group_pclass.size()"
   ]
  },
  {
   "cell_type": "code",
   "execution_count": 14,
   "metadata": {},
   "outputs": [
    {
     "data": {
      "image/png": "[encoded data removed]",
      "text/plain": [
       "<Figure size 640x480 with 1 Axes>"
      ]
     },
     "metadata": {},
     "output_type": "display_data"
    }
   ],
   "source": [
    "# 히스토그램\n",
    "plt.hist(df['Fare'])\n",
    "plt.show()"
   ]
  },
  {
   "cell_type": "code",
   "execution_count": 15,
   "metadata": {},
   "outputs": [
    {
     "data": {
      "text/plain": [
       "0       7.2500\n",
       "4       8.0500\n",
       "5       8.4583\n",
       "6      51.8625\n",
       "7      21.0750\n",
       "        ...   \n",
       "884     7.0500\n",
       "885    29.1250\n",
       "886    13.0000\n",
       "888    23.4500\n",
       "890     7.7500\n",
       "Name: Fare, Length: 549, dtype: float64"
      ]
     },
     "execution_count": 15,
     "metadata": {},
     "output_type": "execute_result"
    }
   ],
   "source": [
    "# 데이터 분리\n",
    "df[df['Survived'] == '0']['Fare']"
   ]
  },
  {
   "cell_type": "code",
   "execution_count": 16,
   "metadata": {},
   "outputs": [
    {
     "data": {
      "text/plain": [
       "Pclass\n",
       "3    372\n",
       "2     97\n",
       "1     80\n",
       "Name: count, dtype: int64"
      ]
     },
     "execution_count": 16,
     "metadata": {},
     "output_type": "execute_result"
    }
   ],
   "source": [
    "df[df['Survived'] == '0']['Pclass'].value_counts()"
   ]
  },
  {
   "cell_type": "code",
   "execution_count": 17,
   "metadata": {},
   "outputs": [
    {
     "data": {
      "text/plain": [
       "1      71.2833\n",
       "2       7.9250\n",
       "3      53.1000\n",
       "8      11.1333\n",
       "9      30.0708\n",
       "        ...   \n",
       "875     7.2250\n",
       "879    83.1583\n",
       "880    26.0000\n",
       "887    30.0000\n",
       "889    30.0000\n",
       "Name: Fare, Length: 342, dtype: float64"
      ]
     },
     "execution_count": 17,
     "metadata": {},
     "output_type": "execute_result"
    }
   ],
   "source": [
    "df[df['Survived'] == '1']['Fare']"
   ]
  },
  {
   "cell_type": "code",
   "execution_count": 18,
   "metadata": {},
   "outputs": [
    {
     "data": {
      "text/plain": [
       "Pclass\n",
       "1    136\n",
       "3    119\n",
       "2     87\n",
       "Name: count, dtype: int64"
      ]
     },
     "execution_count": 18,
     "metadata": {},
     "output_type": "execute_result"
    }
   ],
   "source": [
    "df[df['Survived'] == '1']['Pclass'].value_counts()"
   ]
  },
  {
   "cell_type": "code",
   "execution_count": 19,
   "metadata": {},
   "outputs": [],
   "source": [
    "data_0 = df[df['Survived'] == '0']['Fare'] # 사망자 요금 데이터\n",
    "data_1 = df[df['Survived'] == '1']['Fare'] # 생존자 요금 데이터"
   ]
  },
  {
   "cell_type": "code",
   "execution_count": 20,
   "metadata": {},
   "outputs": [
    {
     "data": {
      "image/png": "[encoded data removed]",
      "text/plain": [
       "<Figure size 640x480 with 1 Axes>"
      ]
     },
     "metadata": {},
     "output_type": "display_data"
    }
   ],
   "source": [
    "# 이상치, 결측치 확인\n",
    "\n",
    "# boxplot\n",
    "fig, ax = plt.subplots()\n",
    "ax.boxplot([data_0, data_1])\n",
    "plt.show()"
   ]
  },
  {
   "cell_type": "code",
   "execution_count": 21,
   "metadata": {},
   "outputs": [
    {
     "data": {
      "text/plain": [
       "Sex\n",
       "female    314\n",
       "male      577\n",
       "dtype: int64"
      ]
     },
     "execution_count": 21,
     "metadata": {},
     "output_type": "execute_result"
    }
   ],
   "source": [
    "grouped_sex = df.groupby('Sex')\n",
    "grouped_sex.size()"
   ]
  },
  {
   "cell_type": "code",
   "execution_count": 22,
   "metadata": {},
   "outputs": [
    {
     "data": {
      "text/html": [
       "<div>\n",
       "<style scoped>\n",
       "    .dataframe tbody tr th:only-of-type {\n",
       "        vertical-align: middle;\n",
       "    }\n",
       "\n",
       "    .dataframe tbody tr th {\n",
       "        vertical-align: top;\n",
       "    }\n",
       "\n",
       "    .dataframe thead th {\n",
       "        text-align: right;\n",
       "    }\n",
       "</style>\n",
       "<table border=\"1\" class=\"dataframe\">\n",
       "  <thead>\n",
       "    <tr style=\"text-align: right;\">\n",
       "      <th></th>\n",
       "      <th>PassengerId</th>\n",
       "      <th>Survived</th>\n",
       "      <th>Pclass</th>\n",
       "      <th>Name</th>\n",
       "      <th>Sex</th>\n",
       "      <th>Age</th>\n",
       "      <th>SibSp</th>\n",
       "      <th>Parch</th>\n",
       "      <th>Ticket</th>\n",
       "      <th>Fare</th>\n",
       "      <th>Cabin</th>\n",
       "      <th>Embarked</th>\n",
       "    </tr>\n",
       "  </thead>\n",
       "  <tbody>\n",
       "    <tr>\n",
       "      <th>1</th>\n",
       "      <td>2</td>\n",
       "      <td>1</td>\n",
       "      <td>1</td>\n",
       "      <td>Cumings, Mrs. John Bradley (Florence Briggs Th...</td>\n",
       "      <td>female</td>\n",
       "      <td>38.0</td>\n",
       "      <td>1</td>\n",
       "      <td>0</td>\n",
       "      <td>PC 17599</td>\n",
       "      <td>71.2833</td>\n",
       "      <td>C85</td>\n",
       "      <td>C</td>\n",
       "    </tr>\n",
       "    <tr>\n",
       "      <th>2</th>\n",
       "      <td>3</td>\n",
       "      <td>1</td>\n",
       "      <td>3</td>\n",
       "      <td>Heikkinen, Miss. Laina</td>\n",
       "      <td>female</td>\n",
       "      <td>26.0</td>\n",
       "      <td>0</td>\n",
       "      <td>0</td>\n",
       "      <td>STON/O2. 3101282</td>\n",
       "      <td>7.9250</td>\n",
       "      <td>NaN</td>\n",
       "      <td>S</td>\n",
       "    </tr>\n",
       "    <tr>\n",
       "      <th>3</th>\n",
       "      <td>4</td>\n",
       "      <td>1</td>\n",
       "      <td>1</td>\n",
       "      <td>Futrelle, Mrs. Jacques Heath (Lily May Peel)</td>\n",
       "      <td>female</td>\n",
       "      <td>35.0</td>\n",
       "      <td>1</td>\n",
       "      <td>0</td>\n",
       "      <td>113803</td>\n",
       "      <td>53.1000</td>\n",
       "      <td>C123</td>\n",
       "      <td>S</td>\n",
       "    </tr>\n",
       "  </tbody>\n",
       "</table>\n",
       "</div>"
      ],
      "text/plain": [
       "   PassengerId Survived Pclass  \\\n",
       "1            2        1      1   \n",
       "2            3        1      3   \n",
       "3            4        1      1   \n",
       "\n",
       "                                                Name     Sex   Age  SibSp  \\\n",
       "1  Cumings, Mrs. John Bradley (Florence Briggs Th...  female  38.0      1   \n",
       "2                             Heikkinen, Miss. Laina  female  26.0      0   \n",
       "3       Futrelle, Mrs. Jacques Heath (Lily May Peel)  female  35.0      1   \n",
       "\n",
       "   Parch            Ticket     Fare Cabin Embarked  \n",
       "1      0          PC 17599  71.2833   C85        C  \n",
       "2      0  STON/O2. 3101282   7.9250   NaN        S  \n",
       "3      0            113803  53.1000  C123        S  "
      ]
     },
     "execution_count": 22,
     "metadata": {},
     "output_type": "execute_result"
    }
   ],
   "source": [
    "# 성별(sex) 생존자 수\n",
    "df[df['Sex'] == 'female'][:3]"
   ]
  },
  {
   "cell_type": "code",
   "execution_count": 23,
   "metadata": {},
   "outputs": [
    {
     "data": {
      "text/plain": [
       "Survived\n",
       "0     81\n",
       "1    233\n",
       "dtype: int64"
      ]
     },
     "execution_count": 23,
     "metadata": {},
     "output_type": "execute_result"
    }
   ],
   "source": [
    "data_female = df[df['Sex'] == 'female']['Survived'] # 여성 생존자 데이터\n",
    "pd.DataFrame(data_female).groupby('Survived').size()"
   ]
  },
  {
   "cell_type": "code",
   "execution_count": 24,
   "metadata": {},
   "outputs": [
    {
     "data": {
      "text/plain": [
       "Survived\n",
       "0    468\n",
       "1    109\n",
       "dtype: int64"
      ]
     },
     "execution_count": 24,
     "metadata": {},
     "output_type": "execute_result"
    }
   ],
   "source": [
    "data_male = df[df['Sex'] == 'male']['Survived']\n",
    "pd.DataFrame(data_male).groupby('Survived').size()"
   ]
  },
  {
   "cell_type": "markdown",
   "metadata": {},
   "source": [
    "## 예시"
   ]
  },
  {
   "cell_type": "code",
   "execution_count": 25,
   "metadata": {},
   "outputs": [],
   "source": [
    "# 한국인, 일본인 각 성인 100명 육류 소비량 데이터 생성\n",
    "\n",
    "np.random.randn(1000)  # 0~1 사이 가상의 데이터 1000개 생성\n",
    "\n",
    "meat_consumption_kor = np.random.randn(1000) + 54\n",
    "meat_consumption_jpn = np.random.randn(1000) + 32"
   ]
  },
  {
   "cell_type": "code",
   "execution_count": 26,
   "metadata": {},
   "outputs": [
    {
     "data": {
      "text/html": [
       "<div>\n",
       "<style scoped>\n",
       "    .dataframe tbody tr th:only-of-type {\n",
       "        vertical-align: middle;\n",
       "    }\n",
       "\n",
       "    .dataframe tbody tr th {\n",
       "        vertical-align: top;\n",
       "    }\n",
       "\n",
       "    .dataframe thead th {\n",
       "        text-align: right;\n",
       "    }\n",
       "</style>\n",
       "<table border=\"1\" class=\"dataframe\">\n",
       "  <thead>\n",
       "    <tr style=\"text-align: right;\">\n",
       "      <th></th>\n",
       "      <th>한국인</th>\n",
       "      <th>일본인</th>\n",
       "    </tr>\n",
       "  </thead>\n",
       "  <tbody>\n",
       "    <tr>\n",
       "      <th>0</th>\n",
       "      <td>52.309381</td>\n",
       "      <td>31.699643</td>\n",
       "    </tr>\n",
       "    <tr>\n",
       "      <th>1</th>\n",
       "      <td>53.664183</td>\n",
       "      <td>32.590076</td>\n",
       "    </tr>\n",
       "    <tr>\n",
       "      <th>2</th>\n",
       "      <td>55.070145</td>\n",
       "      <td>31.440806</td>\n",
       "    </tr>\n",
       "  </tbody>\n",
       "</table>\n",
       "</div>"
      ],
      "text/plain": [
       "         한국인        일본인\n",
       "0  52.309381  31.699643\n",
       "1  53.664183  32.590076\n",
       "2  55.070145  31.440806"
      ]
     },
     "execution_count": 26,
     "metadata": {},
     "output_type": "execute_result"
    }
   ],
   "source": [
    "# 데이터 프레임 생성\n",
    "raw = pd.DataFrame({'한국인': meat_consumption_kor,\n",
    "              '일본인': meat_consumption_jpn})\n",
    "\n",
    "df = raw.copy()\n",
    "df.head(3)"
   ]
  },
  {
   "cell_type": "code",
   "execution_count": 27,
   "metadata": {},
   "outputs": [
    {
     "data": {
      "image/png": "[encoded data removed]",
      "text/plain": [
       "<Figure size 640x480 with 1 Axes>"
      ]
     },
     "metadata": {},
     "output_type": "display_data"
    }
   ],
   "source": [
    "# 한국인 육류 소비량 히스토그램\n",
    "\n",
    "plt.hist(meat_consumption_kor)\n",
    "plt.xlabel('Korea')\n",
    "plt.show()"
   ]
  },
  {
   "cell_type": "code",
   "execution_count": 28,
   "metadata": {},
   "outputs": [
    {
     "data": {
      "image/png": "[encoded data removed]",
      "text/plain": [
       "<Figure size 640x480 with 1 Axes>"
      ]
     },
     "metadata": {},
     "output_type": "display_data"
    }
   ],
   "source": [
    "plt.hist(meat_consumption_jpn)\n",
    "plt.xlabel('Japan')\n",
    "plt.show()"
   ]
  },
  {
   "cell_type": "code",
   "execution_count": 29,
   "metadata": {},
   "outputs": [],
   "source": [
    "# 표준 정규화 함수 zscore() 함수 이용\n",
    "# 기존 데이터프레임 데이터에 새 열 생성(zscore 즉 데이터표준화 한 컬럼 추가)\n",
    "\n",
    "import scipy.stats as ss\n",
    "df['한국인정규화'] = ss.zscore(meat_consumption_kor)\n",
    "df['일본인정규화'] = ss.zscore(meat_consumption_jpn)"
   ]
  },
  {
   "cell_type": "code",
   "execution_count": 30,
   "metadata": {},
   "outputs": [
    {
     "data": {
      "text/html": [
       "<div>\n",
       "<style scoped>\n",
       "    .dataframe tbody tr th:only-of-type {\n",
       "        vertical-align: middle;\n",
       "    }\n",
       "\n",
       "    .dataframe tbody tr th {\n",
       "        vertical-align: top;\n",
       "    }\n",
       "\n",
       "    .dataframe thead th {\n",
       "        text-align: right;\n",
       "    }\n",
       "</style>\n",
       "<table border=\"1\" class=\"dataframe\">\n",
       "  <thead>\n",
       "    <tr style=\"text-align: right;\">\n",
       "      <th></th>\n",
       "      <th>한국인</th>\n",
       "      <th>일본인</th>\n",
       "      <th>한국인정규화</th>\n",
       "      <th>일본인정규화</th>\n",
       "    </tr>\n",
       "  </thead>\n",
       "  <tbody>\n",
       "    <tr>\n",
       "      <th>0</th>\n",
       "      <td>52.309381</td>\n",
       "      <td>31.699643</td>\n",
       "      <td>-1.698938</td>\n",
       "      <td>-0.307959</td>\n",
       "    </tr>\n",
       "    <tr>\n",
       "      <th>1</th>\n",
       "      <td>53.664183</td>\n",
       "      <td>32.590076</td>\n",
       "      <td>-0.345098</td>\n",
       "      <td>0.554531</td>\n",
       "    </tr>\n",
       "    <tr>\n",
       "      <th>2</th>\n",
       "      <td>55.070145</td>\n",
       "      <td>31.440806</td>\n",
       "      <td>1.059865</td>\n",
       "      <td>-0.558673</td>\n",
       "    </tr>\n",
       "  </tbody>\n",
       "</table>\n",
       "</div>"
      ],
      "text/plain": [
       "         한국인        일본인    한국인정규화    일본인정규화\n",
       "0  52.309381  31.699643 -1.698938 -0.307959\n",
       "1  53.664183  32.590076 -0.345098  0.554531\n",
       "2  55.070145  31.440806  1.059865 -0.558673"
      ]
     },
     "execution_count": 30,
     "metadata": {},
     "output_type": "execute_result"
    }
   ],
   "source": [
    "df.head(3)"
   ]
  },
  {
   "cell_type": "code",
   "execution_count": 31,
   "metadata": {},
   "outputs": [],
   "source": [
    "# 표준정규화 수식 활용\n",
    "# (x-x_bar) / sigma >> zscore\n",
    "df['한국인정규화_수식']=\\\n",
    "(meat_consumption_kor - np.mean(meat_consumption_kor)) / np.std(meat_consumption_kor)\n",
    "df['일본인정규화_수식']=\\\n",
    "(meat_consumption_jpn - np.mean(meat_consumption_jpn)) / np.std(meat_consumption_jpn)"
   ]
  },
  {
   "cell_type": "code",
   "execution_count": 32,
   "metadata": {},
   "outputs": [
    {
     "data": {
      "text/html": [
       "<div>\n",
       "<style scoped>\n",
       "    .dataframe tbody tr th:only-of-type {\n",
       "        vertical-align: middle;\n",
       "    }\n",
       "\n",
       "    .dataframe tbody tr th {\n",
       "        vertical-align: top;\n",
       "    }\n",
       "\n",
       "    .dataframe thead th {\n",
       "        text-align: right;\n",
       "    }\n",
       "</style>\n",
       "<table border=\"1\" class=\"dataframe\">\n",
       "  <thead>\n",
       "    <tr style=\"text-align: right;\">\n",
       "      <th></th>\n",
       "      <th>한국인</th>\n",
       "      <th>일본인</th>\n",
       "      <th>한국인정규화</th>\n",
       "      <th>일본인정규화</th>\n",
       "      <th>한국인정규화_수식</th>\n",
       "      <th>일본인정규화_수식</th>\n",
       "    </tr>\n",
       "  </thead>\n",
       "  <tbody>\n",
       "    <tr>\n",
       "      <th>0</th>\n",
       "      <td>52.309381</td>\n",
       "      <td>31.699643</td>\n",
       "      <td>-1.698938</td>\n",
       "      <td>-0.307959</td>\n",
       "      <td>-1.698938</td>\n",
       "      <td>-0.307959</td>\n",
       "    </tr>\n",
       "    <tr>\n",
       "      <th>1</th>\n",
       "      <td>53.664183</td>\n",
       "      <td>32.590076</td>\n",
       "      <td>-0.345098</td>\n",
       "      <td>0.554531</td>\n",
       "      <td>-0.345098</td>\n",
       "      <td>0.554531</td>\n",
       "    </tr>\n",
       "    <tr>\n",
       "      <th>2</th>\n",
       "      <td>55.070145</td>\n",
       "      <td>31.440806</td>\n",
       "      <td>1.059865</td>\n",
       "      <td>-0.558673</td>\n",
       "      <td>1.059865</td>\n",
       "      <td>-0.558673</td>\n",
       "    </tr>\n",
       "  </tbody>\n",
       "</table>\n",
       "</div>"
      ],
      "text/plain": [
       "         한국인        일본인    한국인정규화    일본인정규화  한국인정규화_수식  일본인정규화_수식\n",
       "0  52.309381  31.699643 -1.698938 -0.307959  -1.698938  -0.307959\n",
       "1  53.664183  32.590076 -0.345098  0.554531  -0.345098   0.554531\n",
       "2  55.070145  31.440806  1.059865 -0.558673   1.059865  -0.558673"
      ]
     },
     "execution_count": 32,
     "metadata": {},
     "output_type": "execute_result"
    }
   ],
   "source": [
    "df.head(3)"
   ]
  },
  {
   "cell_type": "code",
   "execution_count": 33,
   "metadata": {},
   "outputs": [
    {
     "data": {
      "image/png": "[encoded data removed]",
      "text/plain": [
       "<Figure size 640x480 with 1 Axes>"
      ]
     },
     "metadata": {},
     "output_type": "display_data"
    },
    {
     "data": {
      "image/png": "[encoded data removed]",
      "text/plain": [
       "<Figure size 640x480 with 1 Axes>"
      ]
     },
     "metadata": {},
     "output_type": "display_data"
    }
   ],
   "source": [
    "# 표준화된 데이터에 대한 히스토그램 그리기\n",
    "\n",
    "plt.hist(df['한국인정규화'])\n",
    "plt.xlabel('Korea')\n",
    "plt.show()\n",
    "\n",
    "plt.hist(df['일본인정규화'])\n",
    "plt.xlabel('Japan')\n",
    "plt.show()"
   ]
  },
  {
   "cell_type": "code",
   "execution_count": 34,
   "metadata": {},
   "outputs": [],
   "source": [
    "# 사이킷런 스케일러 활용 정규화(*** 암기할 것)\n",
    "\n",
    "from sklearn.preprocessing import StandardScaler\n",
    "\n",
    "scaler = StandardScaler()\n",
    "df['한국인정규화_사이킷런_표준화'] = scaler.fit_transform(df[['한국인']])  # 2차원 이여야 함.\n",
    "df['일본인정규화_사이킷런_표준화'] = scaler.fit_transform(df[['일본인']])"
   ]
  },
  {
   "cell_type": "code",
   "execution_count": 35,
   "metadata": {},
   "outputs": [
    {
     "data": {
      "text/html": [
       "<div>\n",
       "<style scoped>\n",
       "    .dataframe tbody tr th:only-of-type {\n",
       "        vertical-align: middle;\n",
       "    }\n",
       "\n",
       "    .dataframe tbody tr th {\n",
       "        vertical-align: top;\n",
       "    }\n",
       "\n",
       "    .dataframe thead th {\n",
       "        text-align: right;\n",
       "    }\n",
       "</style>\n",
       "<table border=\"1\" class=\"dataframe\">\n",
       "  <thead>\n",
       "    <tr style=\"text-align: right;\">\n",
       "      <th></th>\n",
       "      <th>한국인</th>\n",
       "      <th>일본인</th>\n",
       "      <th>한국인정규화</th>\n",
       "      <th>일본인정규화</th>\n",
       "      <th>한국인정규화_수식</th>\n",
       "      <th>일본인정규화_수식</th>\n",
       "      <th>한국인정규화_사이킷런_표준화</th>\n",
       "      <th>일본인정규화_사이킷런_표준화</th>\n",
       "    </tr>\n",
       "  </thead>\n",
       "  <tbody>\n",
       "    <tr>\n",
       "      <th>0</th>\n",
       "      <td>52.309381</td>\n",
       "      <td>31.699643</td>\n",
       "      <td>-1.698938</td>\n",
       "      <td>-0.307959</td>\n",
       "      <td>-1.698938</td>\n",
       "      <td>-0.307959</td>\n",
       "      <td>-1.698938</td>\n",
       "      <td>-0.307959</td>\n",
       "    </tr>\n",
       "    <tr>\n",
       "      <th>1</th>\n",
       "      <td>53.664183</td>\n",
       "      <td>32.590076</td>\n",
       "      <td>-0.345098</td>\n",
       "      <td>0.554531</td>\n",
       "      <td>-0.345098</td>\n",
       "      <td>0.554531</td>\n",
       "      <td>-0.345098</td>\n",
       "      <td>0.554531</td>\n",
       "    </tr>\n",
       "    <tr>\n",
       "      <th>2</th>\n",
       "      <td>55.070145</td>\n",
       "      <td>31.440806</td>\n",
       "      <td>1.059865</td>\n",
       "      <td>-0.558673</td>\n",
       "      <td>1.059865</td>\n",
       "      <td>-0.558673</td>\n",
       "      <td>1.059865</td>\n",
       "      <td>-0.558673</td>\n",
       "    </tr>\n",
       "    <tr>\n",
       "      <th>3</th>\n",
       "      <td>54.574175</td>\n",
       "      <td>31.124642</td>\n",
       "      <td>0.564248</td>\n",
       "      <td>-0.864916</td>\n",
       "      <td>0.564248</td>\n",
       "      <td>-0.864916</td>\n",
       "      <td>0.564248</td>\n",
       "      <td>-0.864916</td>\n",
       "    </tr>\n",
       "    <tr>\n",
       "      <th>4</th>\n",
       "      <td>54.427512</td>\n",
       "      <td>33.253019</td>\n",
       "      <td>0.417689</td>\n",
       "      <td>1.196670</td>\n",
       "      <td>0.417689</td>\n",
       "      <td>1.196670</td>\n",
       "      <td>0.417689</td>\n",
       "      <td>1.196670</td>\n",
       "    </tr>\n",
       "  </tbody>\n",
       "</table>\n",
       "</div>"
      ],
      "text/plain": [
       "         한국인        일본인    한국인정규화    일본인정규화  한국인정규화_수식  일본인정규화_수식  \\\n",
       "0  52.309381  31.699643 -1.698938 -0.307959  -1.698938  -0.307959   \n",
       "1  53.664183  32.590076 -0.345098  0.554531  -0.345098   0.554531   \n",
       "2  55.070145  31.440806  1.059865 -0.558673   1.059865  -0.558673   \n",
       "3  54.574175  31.124642  0.564248 -0.864916   0.564248  -0.864916   \n",
       "4  54.427512  33.253019  0.417689  1.196670   0.417689   1.196670   \n",
       "\n",
       "   한국인정규화_사이킷런_표준화  일본인정규화_사이킷런_표준화  \n",
       "0        -1.698938        -0.307959  \n",
       "1        -0.345098         0.554531  \n",
       "2         1.059865        -0.558673  \n",
       "3         0.564248        -0.864916  \n",
       "4         0.417689         1.196670  "
      ]
     },
     "execution_count": 35,
     "metadata": {},
     "output_type": "execute_result"
    }
   ],
   "source": [
    "df.head()"
   ]
  },
  {
   "cell_type": "code",
   "execution_count": 36,
   "metadata": {},
   "outputs": [
    {
     "data": {
      "text/html": [
       "<div>\n",
       "<style scoped>\n",
       "    .dataframe tbody tr th:only-of-type {\n",
       "        vertical-align: middle;\n",
       "    }\n",
       "\n",
       "    .dataframe tbody tr th {\n",
       "        vertical-align: top;\n",
       "    }\n",
       "\n",
       "    .dataframe thead th {\n",
       "        text-align: right;\n",
       "    }\n",
       "</style>\n",
       "<table border=\"1\" class=\"dataframe\">\n",
       "  <thead>\n",
       "    <tr style=\"text-align: right;\">\n",
       "      <th></th>\n",
       "      <th>한국인</th>\n",
       "    </tr>\n",
       "  </thead>\n",
       "  <tbody>\n",
       "    <tr>\n",
       "      <th>0</th>\n",
       "      <td>52.309381</td>\n",
       "    </tr>\n",
       "    <tr>\n",
       "      <th>1</th>\n",
       "      <td>53.664183</td>\n",
       "    </tr>\n",
       "    <tr>\n",
       "      <th>2</th>\n",
       "      <td>55.070145</td>\n",
       "    </tr>\n",
       "    <tr>\n",
       "      <th>3</th>\n",
       "      <td>54.574175</td>\n",
       "    </tr>\n",
       "    <tr>\n",
       "      <th>4</th>\n",
       "      <td>54.427512</td>\n",
       "    </tr>\n",
       "    <tr>\n",
       "      <th>...</th>\n",
       "      <td>...</td>\n",
       "    </tr>\n",
       "    <tr>\n",
       "      <th>995</th>\n",
       "      <td>55.527904</td>\n",
       "    </tr>\n",
       "    <tr>\n",
       "      <th>996</th>\n",
       "      <td>56.430404</td>\n",
       "    </tr>\n",
       "    <tr>\n",
       "      <th>997</th>\n",
       "      <td>53.737387</td>\n",
       "    </tr>\n",
       "    <tr>\n",
       "      <th>998</th>\n",
       "      <td>53.580241</td>\n",
       "    </tr>\n",
       "    <tr>\n",
       "      <th>999</th>\n",
       "      <td>54.651693</td>\n",
       "    </tr>\n",
       "  </tbody>\n",
       "</table>\n",
       "<p>1000 rows × 1 columns</p>\n",
       "</div>"
      ],
      "text/plain": [
       "           한국인\n",
       "0    52.309381\n",
       "1    53.664183\n",
       "2    55.070145\n",
       "3    54.574175\n",
       "4    54.427512\n",
       "..         ...\n",
       "995  55.527904\n",
       "996  56.430404\n",
       "997  53.737387\n",
       "998  53.580241\n",
       "999  54.651693\n",
       "\n",
       "[1000 rows x 1 columns]"
      ]
     },
     "execution_count": 36,
     "metadata": {},
     "output_type": "execute_result"
    }
   ],
   "source": [
    "df[['한국인']]"
   ]
  },
  {
   "cell_type": "code",
   "execution_count": 37,
   "metadata": {},
   "outputs": [],
   "source": [
    "# 정규화 : min-max ( min : 0 , max : 1)\n",
    "\n",
    "from sklearn.preprocessing import MinMaxScaler\n",
    "scaler = MinMaxScaler()\n",
    "\n",
    "df['한국인정규화_사이킷런_최소최대'] = scaler.fit_transform(df[['한국인']])  # 2차원 이여야 함.\n",
    "df['일본인정규화_사이킷런_최소최대'] = scaler.fit_transform(df[['일본인']])"
   ]
  },
  {
   "cell_type": "code",
   "execution_count": 38,
   "metadata": {},
   "outputs": [
    {
     "data": {
      "text/html": [
       "<div>\n",
       "<style scoped>\n",
       "    .dataframe tbody tr th:only-of-type {\n",
       "        vertical-align: middle;\n",
       "    }\n",
       "\n",
       "    .dataframe tbody tr th {\n",
       "        vertical-align: top;\n",
       "    }\n",
       "\n",
       "    .dataframe thead th {\n",
       "        text-align: right;\n",
       "    }\n",
       "</style>\n",
       "<table border=\"1\" class=\"dataframe\">\n",
       "  <thead>\n",
       "    <tr style=\"text-align: right;\">\n",
       "      <th></th>\n",
       "      <th>한국인</th>\n",
       "      <th>일본인</th>\n",
       "      <th>한국인정규화</th>\n",
       "      <th>일본인정규화</th>\n",
       "      <th>한국인정규화_수식</th>\n",
       "      <th>일본인정규화_수식</th>\n",
       "      <th>한국인정규화_사이킷런_표준화</th>\n",
       "      <th>일본인정규화_사이킷런_표준화</th>\n",
       "      <th>한국인정규화_사이킷런_최소최대</th>\n",
       "      <th>일본인정규화_사이킷런_최소최대</th>\n",
       "    </tr>\n",
       "  </thead>\n",
       "  <tbody>\n",
       "    <tr>\n",
       "      <th>0</th>\n",
       "      <td>52.309381</td>\n",
       "      <td>31.699643</td>\n",
       "      <td>-1.698938</td>\n",
       "      <td>-0.307959</td>\n",
       "      <td>-1.698938</td>\n",
       "      <td>-0.307959</td>\n",
       "      <td>-1.698938</td>\n",
       "      <td>-0.307959</td>\n",
       "      <td>0.215819</td>\n",
       "      <td>0.420247</td>\n",
       "    </tr>\n",
       "    <tr>\n",
       "      <th>1</th>\n",
       "      <td>53.664183</td>\n",
       "      <td>32.590076</td>\n",
       "      <td>-0.345098</td>\n",
       "      <td>0.554531</td>\n",
       "      <td>-0.345098</td>\n",
       "      <td>0.554531</td>\n",
       "      <td>-0.345098</td>\n",
       "      <td>0.554531</td>\n",
       "      <td>0.446330</td>\n",
       "      <td>0.561776</td>\n",
       "    </tr>\n",
       "    <tr>\n",
       "      <th>2</th>\n",
       "      <td>55.070145</td>\n",
       "      <td>31.440806</td>\n",
       "      <td>1.059865</td>\n",
       "      <td>-0.558673</td>\n",
       "      <td>1.059865</td>\n",
       "      <td>-0.558673</td>\n",
       "      <td>1.059865</td>\n",
       "      <td>-0.558673</td>\n",
       "      <td>0.685544</td>\n",
       "      <td>0.379106</td>\n",
       "    </tr>\n",
       "  </tbody>\n",
       "</table>\n",
       "</div>"
      ],
      "text/plain": [
       "         한국인        일본인    한국인정규화    일본인정규화  한국인정규화_수식  일본인정규화_수식  \\\n",
       "0  52.309381  31.699643 -1.698938 -0.307959  -1.698938  -0.307959   \n",
       "1  53.664183  32.590076 -0.345098  0.554531  -0.345098   0.554531   \n",
       "2  55.070145  31.440806  1.059865 -0.558673   1.059865  -0.558673   \n",
       "\n",
       "   한국인정규화_사이킷런_표준화  일본인정규화_사이킷런_표준화  한국인정규화_사이킷런_최소최대  일본인정규화_사이킷런_최소최대  \n",
       "0        -1.698938        -0.307959          0.215819          0.420247  \n",
       "1        -0.345098         0.554531          0.446330          0.561776  \n",
       "2         1.059865        -0.558673          0.685544          0.379106  "
      ]
     },
     "execution_count": 38,
     "metadata": {},
     "output_type": "execute_result"
    }
   ],
   "source": [
    "df.head(3)"
   ]
  },
  {
   "cell_type": "code",
   "execution_count": 39,
   "metadata": {},
   "outputs": [
    {
     "data": {
      "text/html": [
       "<div>\n",
       "<style scoped>\n",
       "    .dataframe tbody tr th:only-of-type {\n",
       "        vertical-align: middle;\n",
       "    }\n",
       "\n",
       "    .dataframe tbody tr th {\n",
       "        vertical-align: top;\n",
       "    }\n",
       "\n",
       "    .dataframe thead th {\n",
       "        text-align: right;\n",
       "    }\n",
       "</style>\n",
       "<table border=\"1\" class=\"dataframe\">\n",
       "  <thead>\n",
       "    <tr style=\"text-align: right;\">\n",
       "      <th></th>\n",
       "      <th>한국인</th>\n",
       "      <th>일본인</th>\n",
       "      <th>한국인정규화</th>\n",
       "      <th>일본인정규화</th>\n",
       "      <th>한국인정규화_수식</th>\n",
       "      <th>일본인정규화_수식</th>\n",
       "      <th>한국인정규화_사이킷런_표준화</th>\n",
       "      <th>일본인정규화_사이킷런_표준화</th>\n",
       "      <th>한국인정규화_사이킷런_최소최대</th>\n",
       "      <th>일본인정규화_사이킷런_최소최대</th>\n",
       "      <th>한국인_수식_최대최소</th>\n",
       "      <th>일본인_수식_최대최소</th>\n",
       "    </tr>\n",
       "  </thead>\n",
       "  <tbody>\n",
       "    <tr>\n",
       "      <th>0</th>\n",
       "      <td>52.309381</td>\n",
       "      <td>31.699643</td>\n",
       "      <td>-1.698938</td>\n",
       "      <td>-0.307959</td>\n",
       "      <td>-1.698938</td>\n",
       "      <td>-0.307959</td>\n",
       "      <td>-1.698938</td>\n",
       "      <td>-0.307959</td>\n",
       "      <td>0.215819</td>\n",
       "      <td>0.420247</td>\n",
       "      <td>0.215819</td>\n",
       "      <td>0.420247</td>\n",
       "    </tr>\n",
       "    <tr>\n",
       "      <th>1</th>\n",
       "      <td>53.664183</td>\n",
       "      <td>32.590076</td>\n",
       "      <td>-0.345098</td>\n",
       "      <td>0.554531</td>\n",
       "      <td>-0.345098</td>\n",
       "      <td>0.554531</td>\n",
       "      <td>-0.345098</td>\n",
       "      <td>0.554531</td>\n",
       "      <td>0.446330</td>\n",
       "      <td>0.561776</td>\n",
       "      <td>0.446330</td>\n",
       "      <td>0.561776</td>\n",
       "    </tr>\n",
       "    <tr>\n",
       "      <th>2</th>\n",
       "      <td>55.070145</td>\n",
       "      <td>31.440806</td>\n",
       "      <td>1.059865</td>\n",
       "      <td>-0.558673</td>\n",
       "      <td>1.059865</td>\n",
       "      <td>-0.558673</td>\n",
       "      <td>1.059865</td>\n",
       "      <td>-0.558673</td>\n",
       "      <td>0.685544</td>\n",
       "      <td>0.379106</td>\n",
       "      <td>0.685544</td>\n",
       "      <td>0.379106</td>\n",
       "    </tr>\n",
       "  </tbody>\n",
       "</table>\n",
       "</div>"
      ],
      "text/plain": [
       "         한국인        일본인    한국인정규화    일본인정규화  한국인정규화_수식  일본인정규화_수식  \\\n",
       "0  52.309381  31.699643 -1.698938 -0.307959  -1.698938  -0.307959   \n",
       "1  53.664183  32.590076 -0.345098  0.554531  -0.345098   0.554531   \n",
       "2  55.070145  31.440806  1.059865 -0.558673   1.059865  -0.558673   \n",
       "\n",
       "   한국인정규화_사이킷런_표준화  일본인정규화_사이킷런_표준화  한국인정규화_사이킷런_최소최대  일본인정규화_사이킷런_최소최대  \\\n",
       "0        -1.698938        -0.307959          0.215819          0.420247   \n",
       "1        -0.345098         0.554531          0.446330          0.561776   \n",
       "2         1.059865        -0.558673          0.685544          0.379106   \n",
       "\n",
       "   한국인_수식_최대최소  일본인_수식_최대최소  \n",
       "0     0.215819     0.420247  \n",
       "1     0.446330     0.561776  \n",
       "2     0.685544     0.379106  "
      ]
     },
     "execution_count": 39,
     "metadata": {},
     "output_type": "execute_result"
    }
   ],
   "source": [
    "min_ = np.min(meat_consumption_kor)\n",
    "max_ = np.max(meat_consumption_kor)\n",
    "df['한국인_수식_최대최소']= (df[['한국인']] - min_) / (max_ - min_)\n",
    "\n",
    "min_ = np.min(meat_consumption_jpn)\n",
    "max_ = np.max(meat_consumption_jpn)\n",
    "df['일본인_수식_최대최소']= (df[['일본인']] - min_) / (max_ - min_)\n",
    "\n",
    "df.head(3)"
   ]
  },
  {
   "cell_type": "code",
   "execution_count": 40,
   "metadata": {},
   "outputs": [],
   "source": [
    "# USJudegeRatings.csv\n",
    "path = 'https://raw.githubusercontent.com/vincentarelbundock/Rdatasets/master/csv/datasets/USJudgeRatings.csv'"
   ]
  },
  {
   "cell_type": "code",
   "execution_count": 41,
   "metadata": {},
   "outputs": [],
   "source": [
    "raw  = pd.read_csv(path)"
   ]
  },
  {
   "cell_type": "code",
   "execution_count": 42,
   "metadata": {},
   "outputs": [],
   "source": [
    "df = raw.copy()"
   ]
  },
  {
   "cell_type": "code",
   "execution_count": 43,
   "metadata": {},
   "outputs": [
    {
     "data": {
      "text/html": [
       "<div>\n",
       "<style scoped>\n",
       "    .dataframe tbody tr th:only-of-type {\n",
       "        vertical-align: middle;\n",
       "    }\n",
       "\n",
       "    .dataframe tbody tr th {\n",
       "        vertical-align: top;\n",
       "    }\n",
       "\n",
       "    .dataframe thead th {\n",
       "        text-align: right;\n",
       "    }\n",
       "</style>\n",
       "<table border=\"1\" class=\"dataframe\">\n",
       "  <thead>\n",
       "    <tr style=\"text-align: right;\">\n",
       "      <th></th>\n",
       "      <th>rownames</th>\n",
       "      <th>CONT</th>\n",
       "      <th>INTG</th>\n",
       "      <th>DMNR</th>\n",
       "      <th>DILG</th>\n",
       "      <th>CFMG</th>\n",
       "      <th>DECI</th>\n",
       "      <th>PREP</th>\n",
       "      <th>FAMI</th>\n",
       "      <th>ORAL</th>\n",
       "      <th>WRIT</th>\n",
       "      <th>PHYS</th>\n",
       "      <th>RTEN</th>\n",
       "    </tr>\n",
       "  </thead>\n",
       "  <tbody>\n",
       "    <tr>\n",
       "      <th>0</th>\n",
       "      <td>AARONSON,L.H.</td>\n",
       "      <td>5.7</td>\n",
       "      <td>7.9</td>\n",
       "      <td>7.7</td>\n",
       "      <td>7.3</td>\n",
       "      <td>7.1</td>\n",
       "      <td>7.4</td>\n",
       "      <td>7.1</td>\n",
       "      <td>7.1</td>\n",
       "      <td>7.1</td>\n",
       "      <td>7.0</td>\n",
       "      <td>8.3</td>\n",
       "      <td>7.8</td>\n",
       "    </tr>\n",
       "    <tr>\n",
       "      <th>1</th>\n",
       "      <td>ALEXANDER,J.M.</td>\n",
       "      <td>6.8</td>\n",
       "      <td>8.9</td>\n",
       "      <td>8.8</td>\n",
       "      <td>8.5</td>\n",
       "      <td>7.8</td>\n",
       "      <td>8.1</td>\n",
       "      <td>8.0</td>\n",
       "      <td>8.0</td>\n",
       "      <td>7.8</td>\n",
       "      <td>7.9</td>\n",
       "      <td>8.5</td>\n",
       "      <td>8.7</td>\n",
       "    </tr>\n",
       "    <tr>\n",
       "      <th>2</th>\n",
       "      <td>ARMENTANO,A.J.</td>\n",
       "      <td>7.2</td>\n",
       "      <td>8.1</td>\n",
       "      <td>7.8</td>\n",
       "      <td>7.8</td>\n",
       "      <td>7.5</td>\n",
       "      <td>7.6</td>\n",
       "      <td>7.5</td>\n",
       "      <td>7.5</td>\n",
       "      <td>7.3</td>\n",
       "      <td>7.4</td>\n",
       "      <td>7.9</td>\n",
       "      <td>7.8</td>\n",
       "    </tr>\n",
       "  </tbody>\n",
       "</table>\n",
       "</div>"
      ],
      "text/plain": [
       "         rownames  CONT  INTG  DMNR  DILG  CFMG  DECI  PREP  FAMI  ORAL  WRIT  \\\n",
       "0   AARONSON,L.H.   5.7   7.9   7.7   7.3   7.1   7.4   7.1   7.1   7.1   7.0   \n",
       "1  ALEXANDER,J.M.   6.8   8.9   8.8   8.5   7.8   8.1   8.0   8.0   7.8   7.9   \n",
       "2  ARMENTANO,A.J.   7.2   8.1   7.8   7.8   7.5   7.6   7.5   7.5   7.3   7.4   \n",
       "\n",
       "   PHYS  RTEN  \n",
       "0   8.3   7.8  \n",
       "1   8.5   8.7  \n",
       "2   7.9   7.8  "
      ]
     },
     "execution_count": 43,
     "metadata": {},
     "output_type": "execute_result"
    }
   ],
   "source": [
    "df.head(3)"
   ]
  },
  {
   "cell_type": "code",
   "execution_count": 44,
   "metadata": {},
   "outputs": [
    {
     "data": {
      "text/plain": [
       "Index(['rownames', 'CONT', 'INTG', 'DMNR', 'DILG', 'CFMG', 'DECI', 'PREP',\n",
       "       'FAMI', 'ORAL', 'WRIT', 'PHYS', 'RTEN'],\n",
       "      dtype='object')"
      ]
     },
     "execution_count": 44,
     "metadata": {},
     "output_type": "execute_result"
    }
   ],
   "source": [
    "df.columns"
   ]
  },
  {
   "cell_type": "code",
   "execution_count": 45,
   "metadata": {},
   "outputs": [
    {
     "name": "stdout",
     "output_type": "stream",
     "text": [
      "1.0859724796276253\n",
      "-1.5582154642293153\n"
     ]
    }
   ],
   "source": [
    "import scipy.stats as ss\n",
    "\n",
    "# 지정한 컬럼 왜도(skew) 계산\n",
    "print(ss.skew(df['CONT']))\n",
    "print(ss.skew(df['PHYS']))"
   ]
  },
  {
   "cell_type": "code",
   "execution_count": 53,
   "metadata": {},
   "outputs": [
    {
     "data": {
      "text/plain": [
       "0     9.3\n",
       "1     9.5\n",
       "2     8.9\n",
       "3     9.8\n",
       "4     6.5\n",
       "5     9.6\n",
       "6    10.1\n",
       "7     7.8\n",
       "8     9.8\n",
       "9     9.5\n",
       "Name: PHYS, dtype: float64"
      ]
     },
     "execution_count": 53,
     "metadata": {},
     "output_type": "execute_result"
    }
   ],
   "source": [
    "(df['PHYS']+1)[:10]"
   ]
  },
  {
   "cell_type": "code",
   "execution_count": 54,
   "metadata": {},
   "outputs": [
    {
     "data": {
      "text/plain": [
       "10.1"
      ]
     },
     "execution_count": 54,
     "metadata": {},
     "output_type": "execute_result"
    }
   ],
   "source": [
    "np.max(df['PHYS'] + 1)\n",
    "# 모든 열의 값에 1 더한 후 최대값 구하기"
   ]
  },
  {
   "cell_type": "code",
   "execution_count": null,
   "metadata": {},
   "outputs": [],
   "source": [
    "np.max(df['PHYS'] + 1) - df['PHYS']\n",
    "# 원래 값이 클수록 결과 값이 작아지고, 원래 값이 작으면 결과 값은 커지는 효과."
   ]
  },
  {
   "cell_type": "code",
   "execution_count": 55,
   "metadata": {},
   "outputs": [
    {
     "data": {
      "text/plain": [
       "0     0.587787\n",
       "1     0.470004\n",
       "2     0.788457\n",
       "3     0.262364\n",
       "4     1.526056\n",
       "5     0.405465\n",
       "6     0.000000\n",
       "7     1.193922\n",
       "8     0.262364\n",
       "9     0.470004\n",
       "10    0.530628\n",
       "11    1.163151\n",
       "12    0.693147\n",
       "13    1.360977\n",
       "14    0.530628\n",
       "15    0.741937\n",
       "16    1.163151\n",
       "17    0.693147\n",
       "18    0.741937\n",
       "19    1.064711\n",
       "20    0.955511\n",
       "21    0.993252\n",
       "22    1.686399\n",
       "23    0.832909\n",
       "24    0.336472\n",
       "25    0.095310\n",
       "26    0.587787\n",
       "27    0.262364\n",
       "28    0.530628\n",
       "29    0.182322\n",
       "30    0.530628\n",
       "31    0.693147\n",
       "32    0.336472\n",
       "33    0.262364\n",
       "34    1.335001\n",
       "35    0.741937\n",
       "36    0.693147\n",
       "37    0.470004\n",
       "38    0.741937\n",
       "39    0.693147\n",
       "40    0.916291\n",
       "41    0.587787\n",
       "42    0.832909\n",
       "Name: PHYS, dtype: float64"
      ]
     },
     "execution_count": 55,
     "metadata": {},
     "output_type": "execute_result"
    }
   ],
   "source": [
    "np.log(np.max(df['PHYS'] + 1) - df['PHYS'])"
   ]
  },
  {
   "cell_type": "code",
   "execution_count": 51,
   "metadata": {},
   "outputs": [
    {
     "name": "stdout",
     "output_type": "stream",
     "text": [
      "0     1.740466\n",
      "1     1.916923\n",
      "2     1.974081\n",
      "3     1.916923\n",
      "4     1.987874\n",
      "5     1.824549\n",
      "6     2.360854\n",
      "7     1.945910\n",
      "8     1.987874\n",
      "9     2.104134\n",
      "10    1.945910\n",
      "11    1.871802\n",
      "12    1.902108\n",
      "13    1.945910\n",
      "14    1.871802\n",
      "15    1.987874\n",
      "16    2.079442\n",
      "17    2.041220\n",
      "18    2.116256\n",
      "19    2.261763\n",
      "20    1.960095\n",
      "21    2.028148\n",
      "22    1.887070\n",
      "23    1.824549\n",
      "24    2.014903\n",
      "25    2.054124\n",
      "26    1.960095\n",
      "27    2.014903\n",
      "28    2.014903\n",
      "29    1.960095\n",
      "30    1.887070\n",
      "31    2.128232\n",
      "32    1.931521\n",
      "33    1.987874\n",
      "34    2.041220\n",
      "35    2.140066\n",
      "36    1.931521\n",
      "37    1.871802\n",
      "38    2.116256\n",
      "39    2.116256\n",
      "40    2.197225\n",
      "41    1.960095\n",
      "42    2.151762\n",
      "Name: CONT_log, dtype: float64\n",
      "0     0.587787\n",
      "1     0.470004\n",
      "2     0.788457\n",
      "3     0.262364\n",
      "4     1.526056\n",
      "5     0.405465\n",
      "6     0.000000\n",
      "7     1.193922\n",
      "8     0.262364\n",
      "9     0.470004\n",
      "10    0.530628\n",
      "11    1.163151\n",
      "12    0.693147\n",
      "13    1.360977\n",
      "14    0.530628\n",
      "15    0.741937\n",
      "16    1.163151\n",
      "17    0.693147\n",
      "18    0.741937\n",
      "19    1.064711\n",
      "20    0.955511\n",
      "21    0.993252\n",
      "22    1.686399\n",
      "23    0.832909\n",
      "24    0.336472\n",
      "25    0.095310\n",
      "26    0.587787\n",
      "27    0.262364\n",
      "28    0.530628\n",
      "29    0.182322\n",
      "30    0.530628\n",
      "31    0.693147\n",
      "32    0.336472\n",
      "33    0.262364\n",
      "34    1.335001\n",
      "35    0.741937\n",
      "36    0.693147\n",
      "37    0.470004\n",
      "38    0.741937\n",
      "39    0.693147\n",
      "40    0.916291\n",
      "41    0.587787\n",
      "42    0.832909\n",
      "Name: PHYS_log, dtype: float64\n"
     ]
    }
   ],
   "source": [
    "# 변수 변환 - 로그 변환\n",
    "\n",
    "df['CONT_log'] = np.log(df['CONT'])\n",
    "df['PHYS_log'] = np.log(np.max(df['PHYS'] + 1) - df['PHYS'])\n",
    "\n",
    "# / log + 0.256887\n",
    "\n",
    "print(df['CONT_log'])\n",
    "print(df['PHYS_log'])\n",
    "\n",
    "# 이 변환은 변수의 값들이 한쪽으로 치우쳐 있거나, 최대값 근처에 몰려있을때 사용.\n",
    "# 값들을 역순으로 바꾸어 로그 변환을 적용한 것입니다.\n",
    "# 이 변환을 통해 데이터의 분포를 더 균등하게 만들 수 있습니다.\n",
    "\n",
    "# 결론적으로, 이러한 로그 변환은 데이터의 분포를 조정하고, \n",
    "# 모델의 성능을 향상시키기 위해 사용됩니다. \n",
    "# 데이터가 극단적인 값이나 비대칭적인 분포를 가질 때 특히 유용합니다."
   ]
  },
  {
   "cell_type": "code",
   "execution_count": 56,
   "metadata": {},
   "outputs": [
    {
     "name": "stdout",
     "output_type": "stream",
     "text": [
      "0.6555571886692603\n",
      "0.5824357748750443\n"
     ]
    }
   ],
   "source": [
    "# 왜도 계산\n",
    "\n",
    "print(ss.skew(df['CONT_log']))\n",
    "print(ss.skew(df['PHYS_log']))"
   ]
  },
  {
   "cell_type": "markdown",
   "metadata": {},
   "source": [
    "### 아주 쉬운 예시"
   ]
  },
  {
   "cell_type": "code",
   "execution_count": 79,
   "metadata": {},
   "outputs": [
    {
     "name": "stdout",
     "output_type": "stream",
     "text": [
      "   이름  수학점수\n",
      "0  철수    52\n",
      "1  영희    92\n",
      "2  미영    84\n",
      "3  시완    71\n",
      "4  미경    65\n",
      "5  영환    81\n",
      "6  숙경    66\n",
      "7  부영    77\n",
      "8  민섭    73\n",
      "9  보연    74\n",
      "73.5\n"
     ]
    }
   ],
   "source": [
    "# 수학 점수(Math_score)\n",
    "\n",
    "data = [[\"철수\",52], [\"영희\",92], [\"미영\",84], [\"시완\",71], [\"미경\",65],\n",
    "        [\"영환\",81], [\"숙경\",66], [\"부영\",77], [\"민섭\",73], [\"보연\",74]]\n",
    "\n",
    "# print(data)\n",
    "\n",
    "df = pd.DataFrame(data, columns = ['이름','수학점수'])\n",
    "print(df)\n",
    "\n",
    "print(np.mean(df['수학점수']))"
   ]
  },
  {
   "cell_type": "code",
   "execution_count": 80,
   "metadata": {},
   "outputs": [
    {
     "data": {
      "image/png": "[encoded data removed]",
      "text/plain": [
       "<Figure size 640x480 with 1 Axes>"
      ]
     },
     "metadata": {},
     "output_type": "display_data"
    }
   ],
   "source": [
    "plt.hist(df['수학점수'])\n",
    "plt.show()"
   ]
  },
  {
   "cell_type": "code",
   "execution_count": 81,
   "metadata": {},
   "outputs": [
    {
     "data": {
      "image/png": "[encoded data removed]",
      "text/plain": [
       "<Figure size 640x480 with 1 Axes>"
      ]
     },
     "metadata": {},
     "output_type": "display_data"
    }
   ],
   "source": [
    "# 히스토그램 (범위 50 ~ 100, 5개 구간)\n",
    "plt.hist(df['수학점수'], bins=5, range=[50,100], rwidth=0.7)\n",
    "# rwidth(그래프 폭 조절하는 기능, 생략시 default = 1)\n",
    "plt.show()"
   ]
  },
  {
   "cell_type": "code",
   "execution_count": 82,
   "metadata": {},
   "outputs": [
    {
     "data": {
      "text/html": [
       "<div>\n",
       "<style scoped>\n",
       "    .dataframe tbody tr th:only-of-type {\n",
       "        vertical-align: middle;\n",
       "    }\n",
       "\n",
       "    .dataframe tbody tr th {\n",
       "        vertical-align: top;\n",
       "    }\n",
       "\n",
       "    .dataframe thead th {\n",
       "        text-align: right;\n",
       "    }\n",
       "</style>\n",
       "<table border=\"1\" class=\"dataframe\">\n",
       "  <thead>\n",
       "    <tr style=\"text-align: right;\">\n",
       "      <th></th>\n",
       "      <th>이름</th>\n",
       "      <th>수학점수</th>\n",
       "    </tr>\n",
       "  </thead>\n",
       "  <tbody>\n",
       "    <tr>\n",
       "      <th>0</th>\n",
       "      <td>철수</td>\n",
       "      <td>52</td>\n",
       "    </tr>\n",
       "    <tr>\n",
       "      <th>1</th>\n",
       "      <td>영희</td>\n",
       "      <td>92</td>\n",
       "    </tr>\n",
       "    <tr>\n",
       "      <th>2</th>\n",
       "      <td>미영</td>\n",
       "      <td>84</td>\n",
       "    </tr>\n",
       "    <tr>\n",
       "      <th>3</th>\n",
       "      <td>시완</td>\n",
       "      <td>71</td>\n",
       "    </tr>\n",
       "    <tr>\n",
       "      <th>4</th>\n",
       "      <td>미경</td>\n",
       "      <td>65</td>\n",
       "    </tr>\n",
       "  </tbody>\n",
       "</table>\n",
       "</div>"
      ],
      "text/plain": [
       "   이름  수학점수\n",
       "0  철수    52\n",
       "1  영희    92\n",
       "2  미영    84\n",
       "3  시완    71\n",
       "4  미경    65"
      ]
     },
     "execution_count": 82,
     "metadata": {},
     "output_type": "execute_result"
    }
   ],
   "source": [
    "df.head()"
   ]
  },
  {
   "cell_type": "code",
   "execution_count": 83,
   "metadata": {},
   "outputs": [],
   "source": [
    "df.loc[df['수학점수'] < 60 , '등급']  = 'F'\n",
    "df.loc[(df['수학점수'] >= 60) & (df['수학점수'] < 70 ),'등급']  = 'D'\n",
    "df.loc[(df['수학점수'] >= 70) & (df['수학점수'] < 80 ),'등급']  = 'C'\n",
    "df.loc[(df['수학점수'] >= 80) & (df['수학점수'] < 90 ),'등급']  = 'B'\n",
    "df.loc[(df['수학점수'] >= 90) & (df['수학점수'] <= 100 ),'등급']  = 'A'"
   ]
  },
  {
   "cell_type": "code",
   "execution_count": 84,
   "metadata": {},
   "outputs": [
    {
     "data": {
      "text/html": [
       "<div>\n",
       "<style scoped>\n",
       "    .dataframe tbody tr th:only-of-type {\n",
       "        vertical-align: middle;\n",
       "    }\n",
       "\n",
       "    .dataframe tbody tr th {\n",
       "        vertical-align: top;\n",
       "    }\n",
       "\n",
       "    .dataframe thead th {\n",
       "        text-align: right;\n",
       "    }\n",
       "</style>\n",
       "<table border=\"1\" class=\"dataframe\">\n",
       "  <thead>\n",
       "    <tr style=\"text-align: right;\">\n",
       "      <th></th>\n",
       "      <th>이름</th>\n",
       "      <th>수학점수</th>\n",
       "      <th>등급</th>\n",
       "    </tr>\n",
       "  </thead>\n",
       "  <tbody>\n",
       "    <tr>\n",
       "      <th>0</th>\n",
       "      <td>철수</td>\n",
       "      <td>52</td>\n",
       "      <td>F</td>\n",
       "    </tr>\n",
       "    <tr>\n",
       "      <th>1</th>\n",
       "      <td>영희</td>\n",
       "      <td>92</td>\n",
       "      <td>A</td>\n",
       "    </tr>\n",
       "    <tr>\n",
       "      <th>2</th>\n",
       "      <td>미영</td>\n",
       "      <td>84</td>\n",
       "      <td>B</td>\n",
       "    </tr>\n",
       "    <tr>\n",
       "      <th>3</th>\n",
       "      <td>시완</td>\n",
       "      <td>71</td>\n",
       "      <td>C</td>\n",
       "    </tr>\n",
       "    <tr>\n",
       "      <th>4</th>\n",
       "      <td>미경</td>\n",
       "      <td>65</td>\n",
       "      <td>D</td>\n",
       "    </tr>\n",
       "  </tbody>\n",
       "</table>\n",
       "</div>"
      ],
      "text/plain": [
       "   이름  수학점수 등급\n",
       "0  철수    52  F\n",
       "1  영희    92  A\n",
       "2  미영    84  B\n",
       "3  시완    71  C\n",
       "4  미경    65  D"
      ]
     },
     "execution_count": 84,
     "metadata": {},
     "output_type": "execute_result"
    }
   ],
   "source": [
    "df.head()"
   ]
  },
  {
   "cell_type": "code",
   "execution_count": 85,
   "metadata": {},
   "outputs": [],
   "source": [
    "# CUT\n",
    "df['등급_cut'] = pd.cut(x=df['수학점수'], bins=[0,60,70,80,90,100], \n",
    "                  labels = ['F','D','C','B','A'],\n",
    "                  include_lowest=True)"
   ]
  },
  {
   "cell_type": "code",
   "execution_count": 86,
   "metadata": {},
   "outputs": [
    {
     "data": {
      "text/html": [
       "<div>\n",
       "<style scoped>\n",
       "    .dataframe tbody tr th:only-of-type {\n",
       "        vertical-align: middle;\n",
       "    }\n",
       "\n",
       "    .dataframe tbody tr th {\n",
       "        vertical-align: top;\n",
       "    }\n",
       "\n",
       "    .dataframe thead th {\n",
       "        text-align: right;\n",
       "    }\n",
       "</style>\n",
       "<table border=\"1\" class=\"dataframe\">\n",
       "  <thead>\n",
       "    <tr style=\"text-align: right;\">\n",
       "      <th></th>\n",
       "      <th>이름</th>\n",
       "      <th>수학점수</th>\n",
       "      <th>등급</th>\n",
       "      <th>등급_cut</th>\n",
       "    </tr>\n",
       "  </thead>\n",
       "  <tbody>\n",
       "    <tr>\n",
       "      <th>0</th>\n",
       "      <td>철수</td>\n",
       "      <td>52</td>\n",
       "      <td>F</td>\n",
       "      <td>F</td>\n",
       "    </tr>\n",
       "    <tr>\n",
       "      <th>1</th>\n",
       "      <td>영희</td>\n",
       "      <td>92</td>\n",
       "      <td>A</td>\n",
       "      <td>A</td>\n",
       "    </tr>\n",
       "    <tr>\n",
       "      <th>2</th>\n",
       "      <td>미영</td>\n",
       "      <td>84</td>\n",
       "      <td>B</td>\n",
       "      <td>B</td>\n",
       "    </tr>\n",
       "    <tr>\n",
       "      <th>3</th>\n",
       "      <td>시완</td>\n",
       "      <td>71</td>\n",
       "      <td>C</td>\n",
       "      <td>C</td>\n",
       "    </tr>\n",
       "    <tr>\n",
       "      <th>4</th>\n",
       "      <td>미경</td>\n",
       "      <td>65</td>\n",
       "      <td>D</td>\n",
       "      <td>D</td>\n",
       "    </tr>\n",
       "  </tbody>\n",
       "</table>\n",
       "</div>"
      ],
      "text/plain": [
       "   이름  수학점수 등급 등급_cut\n",
       "0  철수    52  F      F\n",
       "1  영희    92  A      A\n",
       "2  미영    84  B      B\n",
       "3  시완    71  C      C\n",
       "4  미경    65  D      D"
      ]
     },
     "execution_count": 86,
     "metadata": {},
     "output_type": "execute_result"
    }
   ],
   "source": [
    "df.head()"
   ]
  },
  {
   "cell_type": "code",
   "execution_count": 87,
   "metadata": {},
   "outputs": [],
   "source": [
    "# Qcut\n",
    "df['등급_QCUT'] = pd.qcut(x=df['수학점수'],\n",
    "                        q=5, \n",
    "                        labels = ['F','D','C','B','A'])"
   ]
  },
  {
   "cell_type": "code",
   "execution_count": 88,
   "metadata": {},
   "outputs": [
    {
     "data": {
      "text/html": [
       "<div>\n",
       "<style scoped>\n",
       "    .dataframe tbody tr th:only-of-type {\n",
       "        vertical-align: middle;\n",
       "    }\n",
       "\n",
       "    .dataframe tbody tr th {\n",
       "        vertical-align: top;\n",
       "    }\n",
       "\n",
       "    .dataframe thead th {\n",
       "        text-align: right;\n",
       "    }\n",
       "</style>\n",
       "<table border=\"1\" class=\"dataframe\">\n",
       "  <thead>\n",
       "    <tr style=\"text-align: right;\">\n",
       "      <th></th>\n",
       "      <th>이름</th>\n",
       "      <th>수학점수</th>\n",
       "      <th>등급</th>\n",
       "      <th>등급_cut</th>\n",
       "      <th>등급_QCUT</th>\n",
       "    </tr>\n",
       "  </thead>\n",
       "  <tbody>\n",
       "    <tr>\n",
       "      <th>0</th>\n",
       "      <td>철수</td>\n",
       "      <td>52</td>\n",
       "      <td>F</td>\n",
       "      <td>F</td>\n",
       "      <td>F</td>\n",
       "    </tr>\n",
       "    <tr>\n",
       "      <th>1</th>\n",
       "      <td>영희</td>\n",
       "      <td>92</td>\n",
       "      <td>A</td>\n",
       "      <td>A</td>\n",
       "      <td>A</td>\n",
       "    </tr>\n",
       "    <tr>\n",
       "      <th>2</th>\n",
       "      <td>미영</td>\n",
       "      <td>84</td>\n",
       "      <td>B</td>\n",
       "      <td>B</td>\n",
       "      <td>A</td>\n",
       "    </tr>\n",
       "    <tr>\n",
       "      <th>3</th>\n",
       "      <td>시완</td>\n",
       "      <td>71</td>\n",
       "      <td>C</td>\n",
       "      <td>C</td>\n",
       "      <td>D</td>\n",
       "    </tr>\n",
       "    <tr>\n",
       "      <th>4</th>\n",
       "      <td>미경</td>\n",
       "      <td>65</td>\n",
       "      <td>D</td>\n",
       "      <td>D</td>\n",
       "      <td>F</td>\n",
       "    </tr>\n",
       "  </tbody>\n",
       "</table>\n",
       "</div>"
      ],
      "text/plain": [
       "   이름  수학점수 등급 등급_cut 등급_QCUT\n",
       "0  철수    52  F      F       F\n",
       "1  영희    92  A      A       A\n",
       "2  미영    84  B      B       A\n",
       "3  시완    71  C      C       D\n",
       "4  미경    65  D      D       F"
      ]
     },
     "execution_count": 88,
     "metadata": {},
     "output_type": "execute_result"
    }
   ],
   "source": [
    "df.head()"
   ]
  },
  {
   "cell_type": "markdown",
   "metadata": {},
   "source": [
    "### 차원축소 : PCA(Principal Component Analysis, 주성분분석)"
   ]
  },
  {
   "cell_type": "code",
   "execution_count": 90,
   "metadata": {},
   "outputs": [],
   "source": [
    "raw = pd.read_csv('csv_file/iris.csv')"
   ]
  },
  {
   "cell_type": "code",
   "execution_count": 91,
   "metadata": {},
   "outputs": [],
   "source": [
    "iris = raw.copy()"
   ]
  },
  {
   "cell_type": "code",
   "execution_count": 94,
   "metadata": {},
   "outputs": [],
   "source": [
    "# 연속형 변수와 범주형 변수 분리\n",
    "df = iris.drop(['species'], axis=1)\n",
    "df_species = iris[['species']]"
   ]
  },
  {
   "cell_type": "code",
   "execution_count": 95,
   "metadata": {},
   "outputs": [
    {
     "data": {
      "text/html": [
       "<div>\n",
       "<style scoped>\n",
       "    .dataframe tbody tr th:only-of-type {\n",
       "        vertical-align: middle;\n",
       "    }\n",
       "\n",
       "    .dataframe tbody tr th {\n",
       "        vertical-align: top;\n",
       "    }\n",
       "\n",
       "    .dataframe thead th {\n",
       "        text-align: right;\n",
       "    }\n",
       "</style>\n",
       "<table border=\"1\" class=\"dataframe\">\n",
       "  <thead>\n",
       "    <tr style=\"text-align: right;\">\n",
       "      <th></th>\n",
       "      <th>sepal_length</th>\n",
       "      <th>sepal_width</th>\n",
       "      <th>petal_length</th>\n",
       "      <th>petal_width</th>\n",
       "    </tr>\n",
       "  </thead>\n",
       "  <tbody>\n",
       "    <tr>\n",
       "      <th>0</th>\n",
       "      <td>5.1</td>\n",
       "      <td>3.5</td>\n",
       "      <td>1.4</td>\n",
       "      <td>0.2</td>\n",
       "    </tr>\n",
       "    <tr>\n",
       "      <th>1</th>\n",
       "      <td>4.9</td>\n",
       "      <td>3.0</td>\n",
       "      <td>1.4</td>\n",
       "      <td>0.2</td>\n",
       "    </tr>\n",
       "    <tr>\n",
       "      <th>2</th>\n",
       "      <td>4.7</td>\n",
       "      <td>3.2</td>\n",
       "      <td>1.3</td>\n",
       "      <td>0.2</td>\n",
       "    </tr>\n",
       "    <tr>\n",
       "      <th>3</th>\n",
       "      <td>4.6</td>\n",
       "      <td>3.1</td>\n",
       "      <td>1.5</td>\n",
       "      <td>0.2</td>\n",
       "    </tr>\n",
       "    <tr>\n",
       "      <th>4</th>\n",
       "      <td>5.0</td>\n",
       "      <td>3.6</td>\n",
       "      <td>1.4</td>\n",
       "      <td>0.2</td>\n",
       "    </tr>\n",
       "  </tbody>\n",
       "</table>\n",
       "</div>"
      ],
      "text/plain": [
       "   sepal_length  sepal_width  petal_length  petal_width\n",
       "0           5.1          3.5           1.4          0.2\n",
       "1           4.9          3.0           1.4          0.2\n",
       "2           4.7          3.2           1.3          0.2\n",
       "3           4.6          3.1           1.5          0.2\n",
       "4           5.0          3.6           1.4          0.2"
      ]
     },
     "execution_count": 95,
     "metadata": {},
     "output_type": "execute_result"
    }
   ],
   "source": [
    "df.head()"
   ]
  },
  {
   "cell_type": "code",
   "execution_count": 98,
   "metadata": {},
   "outputs": [
    {
     "data": {
      "text/html": [
       "<div>\n",
       "<style scoped>\n",
       "    .dataframe tbody tr th:only-of-type {\n",
       "        vertical-align: middle;\n",
       "    }\n",
       "\n",
       "    .dataframe tbody tr th {\n",
       "        vertical-align: top;\n",
       "    }\n",
       "\n",
       "    .dataframe thead th {\n",
       "        text-align: right;\n",
       "    }\n",
       "</style>\n",
       "<table border=\"1\" class=\"dataframe\">\n",
       "  <thead>\n",
       "    <tr style=\"text-align: right;\">\n",
       "      <th></th>\n",
       "      <th>species</th>\n",
       "    </tr>\n",
       "  </thead>\n",
       "  <tbody>\n",
       "    <tr>\n",
       "      <th>0</th>\n",
       "      <td>setosa</td>\n",
       "    </tr>\n",
       "    <tr>\n",
       "      <th>1</th>\n",
       "      <td>setosa</td>\n",
       "    </tr>\n",
       "    <tr>\n",
       "      <th>2</th>\n",
       "      <td>setosa</td>\n",
       "    </tr>\n",
       "    <tr>\n",
       "      <th>3</th>\n",
       "      <td>setosa</td>\n",
       "    </tr>\n",
       "    <tr>\n",
       "      <th>4</th>\n",
       "      <td>setosa</td>\n",
       "    </tr>\n",
       "    <tr>\n",
       "      <th>...</th>\n",
       "      <td>...</td>\n",
       "    </tr>\n",
       "    <tr>\n",
       "      <th>145</th>\n",
       "      <td>virginica</td>\n",
       "    </tr>\n",
       "    <tr>\n",
       "      <th>146</th>\n",
       "      <td>virginica</td>\n",
       "    </tr>\n",
       "    <tr>\n",
       "      <th>147</th>\n",
       "      <td>virginica</td>\n",
       "    </tr>\n",
       "    <tr>\n",
       "      <th>148</th>\n",
       "      <td>virginica</td>\n",
       "    </tr>\n",
       "    <tr>\n",
       "      <th>149</th>\n",
       "      <td>virginica</td>\n",
       "    </tr>\n",
       "  </tbody>\n",
       "</table>\n",
       "<p>150 rows × 1 columns</p>\n",
       "</div>"
      ],
      "text/plain": [
       "       species\n",
       "0       setosa\n",
       "1       setosa\n",
       "2       setosa\n",
       "3       setosa\n",
       "4       setosa\n",
       "..         ...\n",
       "145  virginica\n",
       "146  virginica\n",
       "147  virginica\n",
       "148  virginica\n",
       "149  virginica\n",
       "\n",
       "[150 rows x 1 columns]"
      ]
     },
     "execution_count": 98,
     "metadata": {},
     "output_type": "execute_result"
    }
   ],
   "source": [
    "df_species"
   ]
  },
  {
   "cell_type": "code",
   "execution_count": 99,
   "metadata": {},
   "outputs": [],
   "source": [
    "# 변수 정규화\n",
    "# \n",
    "from sklearn.preprocessing import StandardScaler\n",
    "\n",
    "df['sepal_length'] = StandardScaler().fit_transform(df[['sepal_length']])\n",
    "df['sepal_width'] = StandardScaler().fit_transform(df[['sepal_width']])\n",
    "\n",
    "df['petal_length'] = StandardScaler().fit_transform(df[['petal_length']])\n",
    "df['petal_width'] = StandardScaler().fit_transform(df[['petal_width']])"
   ]
  },
  {
   "cell_type": "code",
   "execution_count": 104,
   "metadata": {},
   "outputs": [
    {
     "name": "stdout",
     "output_type": "stream",
     "text": [
      "[[-2.26470281e+00  4.80026597e-01 -1.27706022e-01 -2.41682039e-02]\n",
      " [-2.08096115e+00 -6.74133557e-01 -2.34608854e-01 -1.03006775e-01]\n",
      " [-2.36422905e+00 -3.41908024e-01  4.42014848e-02 -2.83770534e-02]\n",
      " [-2.29938422e+00 -5.97394508e-01  9.12901063e-02  6.59555596e-02]\n",
      " [-2.38984217e+00  6.46835383e-01  1.57381957e-02  3.59228133e-02]\n",
      " [-2.07563095e+00  1.48917752e+00  2.69682944e-02 -6.60818022e-03]\n",
      " [-2.44402884e+00  4.76441976e-02  3.35470401e-01  3.67755572e-02]\n",
      " [-2.23284716e+00  2.23148073e-01 -8.86954979e-02  2.46120962e-02]\n",
      " [-2.33464048e+00 -1.11532768e+00  1.45076864e-01  2.68592208e-02]\n",
      " [-2.18432817e+00 -4.69013561e-01 -2.53765567e-01  3.98992877e-02]\n",
      " [-2.16631010e+00  1.04369065e+00 -2.68681102e-01 -1.67313672e-02]\n",
      " [-2.32613087e+00  1.33078335e-01  9.37592444e-02  1.33483413e-01]\n",
      " [-2.21845090e+00 -7.28676165e-01 -2.30911237e-01 -2.42503814e-03]\n",
      " [-2.63310070e+00 -9.61506729e-01  1.80796084e-01  1.92155336e-02]\n",
      " [-2.19874060e+00  1.86005711e+00 -4.72900998e-01 -1.94731769e-01]\n",
      " [-2.26221453e+00  2.68628449e+00  3.05266093e-02 -5.05337373e-02]\n",
      " [-2.20758770e+00  1.48360936e+00 -5.34409408e-03 -1.88817432e-01]\n",
      " [-2.19034951e+00  4.88838316e-01 -4.42153165e-02 -9.30904384e-02]\n",
      " [-1.89857200e+00  1.40501879e+00 -3.74343275e-01 -6.10959671e-02]\n",
      " [-2.34336905e+00  1.12784938e+00  1.32630467e-01  3.77564197e-02]\n",
      " [-1.91432300e+00  4.08855708e-01 -4.21292594e-01 -1.09212863e-02]\n",
      " [-2.20701284e+00  9.24121427e-01  1.59865277e-01 -5.95973299e-02]\n",
      " [-2.77434470e+00  4.58343668e-01  3.32179098e-01 -1.96484301e-02]\n",
      " [-1.81866953e+00  8.55585263e-02  3.44885958e-02 -1.51140999e-01]\n",
      " [-2.22716331e+00  1.37254455e-01  1.17993536e-01  2.70140352e-01]\n",
      " [-1.95184633e+00 -6.25618588e-01 -3.05640982e-01 -4.35616510e-02]\n",
      " [-2.05115137e+00  2.42163553e-01  8.63640108e-02 -6.76800599e-02]\n",
      " [-2.16857717e+00  5.27149525e-01 -2.06816248e-01 -1.02753930e-02]\n",
      " [-2.13956345e+00  3.13217810e-01 -2.71150240e-01 -8.42592210e-02]\n",
      " [-2.26526149e+00 -3.37731904e-01  6.84357762e-02  1.08279885e-01]\n",
      " [-2.14012214e+00 -5.04540690e-01 -7.50084417e-02  4.81888683e-02]\n",
      " [-1.83159477e+00  4.23695068e-01 -2.70467377e-01 -2.39870381e-01]\n",
      " [-2.61494794e+00  1.79357586e+00  4.72284187e-02  2.29235932e-01]\n",
      " [-2.44617739e+00  2.15072788e+00 -8.26680451e-02  4.82143929e-02]\n",
      " [-2.10997488e+00 -4.60201841e-01 -1.70274861e-01 -2.90229468e-02]\n",
      " [-2.20780890e+00 -2.06107398e-01 -2.25441580e-01 -1.68907873e-01]\n",
      " [-2.04514621e+00  6.61558111e-01 -4.84537410e-01 -1.96358525e-01]\n",
      " [-2.52733191e+00  5.92292774e-01  1.94358125e-02  1.36504550e-01]\n",
      " [-2.42963258e+00 -9.04180040e-01  1.93254662e-01  9.73842285e-03]\n",
      " [-2.16971071e+00  2.68878961e-01 -1.75883821e-01 -7.04740592e-03]\n",
      " [-2.28647514e+00  4.41715388e-01  3.48949090e-02 -1.06983249e-01]\n",
      " [-1.85812246e+00 -2.33741516e+00 -2.04234223e-01 -2.89863919e-01]\n",
      " [-2.55363840e+00 -4.79100690e-01  3.05766453e-01  6.66014529e-02]\n",
      " [-1.96444768e+00  4.72326668e-01  3.09601318e-01 -1.77093014e-01]\n",
      " [-2.13705901e+00  1.14222926e+00  2.48433561e-01  1.51043437e-01]\n",
      " [-2.06974430e+00 -7.11052725e-01 -6.39298256e-02 -1.40269507e-01]\n",
      " [-2.38473317e+00  1.12042970e+00  5.72178581e-02  1.52230967e-01]\n",
      " [-2.39437631e+00 -3.86246873e-01  1.39467905e-01  4.88347616e-02]\n",
      " [-2.22944655e+00  9.97959764e-01 -1.81492780e-01  1.49281349e-02]\n",
      " [-2.20383344e+00  9.21635752e-03 -1.53029490e-01 -4.93717318e-02]\n",
      " [ 1.10178118e+00  8.62972418e-01 -6.84586163e-01 -3.48337755e-02]\n",
      " [ 7.31337425e-01  5.94614726e-01 -9.41217155e-02 -4.90362325e-03]\n",
      " [ 1.24097932e+00  6.16297654e-01 -5.54006835e-01 -9.42339702e-03]\n",
      " [ 4.07483059e-01 -1.75440399e+00 -2.31017678e-02 -6.57688353e-02]\n",
      " [ 1.07547470e+00 -2.08421046e-01 -3.98255523e-01 -1.04736873e-01]\n",
      " [ 3.88687337e-01 -5.93283636e-01  1.24191550e-01  2.40831300e-01]\n",
      " [ 7.46529741e-01  7.73019312e-01  1.48969403e-01  7.73697853e-02]\n",
      " [-4.87322742e-01 -1.85242909e+00  2.49265266e-01  4.05202053e-02]\n",
      " [ 9.27901638e-01  3.22260779e-02 -5.96169361e-01  2.98796094e-02]\n",
      " [ 1.14261887e-02 -1.03401828e+00  5.38899390e-01  2.84611837e-02]\n",
      " [-1.10196280e-01 -2.65407282e+00 -4.67904441e-02 -1.37607310e-02]\n",
      " [ 4.40693449e-01 -6.32951884e-02  2.05073815e-01 -4.01260816e-02]\n",
      " [ 5.62108306e-01 -1.76472438e+00 -7.65771394e-01 -4.57311573e-02]\n",
      " [ 7.19561889e-01 -1.86224606e-01 -6.86589454e-02  1.64807198e-01]\n",
      " [-3.33547032e-02 -4.39003210e-01  1.94932893e-01 -1.09048499e-01]\n",
      " [ 8.75407191e-01  5.09063957e-01 -5.03511382e-01 -1.04943723e-01]\n",
      " [ 3.50251668e-01 -1.96311735e-01  4.90873075e-01  1.91509364e-01]\n",
      " [ 1.58810048e-01 -7.92095742e-01 -3.02037174e-01  2.05297735e-01]\n",
      " [ 1.22509363e+00 -1.62224380e+00 -4.82304024e-01 -2.25899769e-01]\n",
      " [ 1.64917899e-01 -1.30260923e+00 -1.72837808e-01  5.17268487e-02]\n",
      " [ 7.37682649e-01  3.96571562e-01  6.16526306e-01  8.32841227e-02]\n",
      " [ 4.76287191e-01 -4.17320281e-01 -2.64952227e-01 -1.13568273e-01]\n",
      " [ 1.23417810e+00 -9.33325729e-01 -3.68412272e-01  9.94452551e-03]\n",
      " [ 6.32858200e-01 -4.16387721e-01 -2.91896252e-01  2.74220152e-01]\n",
      " [ 7.02661183e-01 -6.34118197e-02 -4.46027008e-01 -4.34583252e-02]\n",
      " [ 8.74273654e-01  2.50793393e-01 -4.72578954e-01 -1.01715736e-01]\n",
      " [ 1.25650912e+00 -7.72560197e-02 -7.27155002e-01 -3.96885184e-02]\n",
      " [ 1.35840512e+00  3.31311682e-01 -2.60826577e-01 -6.68280639e-02]\n",
      " [ 6.64800367e-01 -2.25927855e-01  8.58638887e-02  3.64398401e-02]\n",
      " [-4.02586109e-02 -1.05871855e+00 -3.19573330e-01 -6.47881557e-02]\n",
      " [ 1.30795175e-01 -1.56227183e+00 -1.49983478e-01  9.40252286e-03]\n",
      " [ 2.34526890e-02 -1.57247559e+00 -2.41552281e-01  3.27724444e-02]\n",
      " [ 2.41538273e-01 -7.77256383e-01 -1.51211957e-01 -2.36513599e-02]\n",
      " [ 1.06109461e+00 -6.33843245e-01  1.05311387e-01  1.83968453e-01]\n",
      " [ 2.23978774e-01 -2.87773512e-01  6.65249720e-01  2.54828368e-01]\n",
      " [ 4.29139116e-01  8.45582241e-01  4.50634071e-01  1.09675181e-01]\n",
      " [ 1.04872805e+00  5.22051797e-01 -3.95786384e-01 -3.72090187e-02]\n",
      " [ 1.04453138e+00 -1.38298872e+00 -6.88295960e-01 -1.36835600e-01]\n",
      " [ 6.95883211e-02 -2.19503335e-01  2.91579274e-01  1.47144581e-01]\n",
      " [ 2.83477238e-01 -1.32932464e+00  8.94100229e-02 -8.90580520e-03]\n",
      " [ 2.79077776e-01 -1.12002852e+00  9.44876010e-02  2.70657196e-01]\n",
      " [ 6.24569791e-01  2.49230293e-02 -2.04811472e-02  1.47686401e-01]\n",
      " [ 3.36530370e-01 -9.88404018e-01 -1.99389755e-01 -6.53056201e-03]\n",
      " [-3.62183385e-01 -2.01923787e+00  1.05821048e-01 -1.95708119e-02]\n",
      " [ 2.88586239e-01 -8.55730320e-01  1.30889685e-01  1.07402349e-01]\n",
      " [ 9.13606557e-02 -1.81192126e-01  1.28978343e-01  2.29959626e-01]\n",
      " [ 2.27716866e-01 -3.84920081e-01  1.56213154e-01  1.32605877e-01]\n",
      " [ 5.76388289e-01 -1.54873597e-01 -2.71650362e-01  1.98606790e-02]\n",
      " [-4.47667019e-01 -1.54379203e+00  1.90400930e-01 -1.99946457e-01]\n",
      " [ 2.56730589e-01 -5.98851796e-01  9.18791610e-02  5.86220486e-02]\n",
      " [ 1.84456887e+00  8.70421312e-01  1.00540102e+00  4.92497432e-02]\n",
      " [ 1.15788161e+00 -6.98869862e-01  5.30160149e-01  4.05207540e-02]\n",
      " [ 2.20526679e+00  5.62010477e-01 -2.02914170e-01 -5.91841937e-02]\n",
      " [ 1.44015066e+00 -4.69875881e-02  1.63630107e-01  2.35770073e-01]\n",
      " [ 1.86781222e+00  2.95044824e-01  3.95628375e-01  1.62982715e-02]\n",
      " [ 2.75187334e+00  8.00409201e-01 -5.82309103e-01  1.01384486e-01]\n",
      " [ 3.67017688e-01 -1.56150289e+00  9.86893267e-01  1.33123834e-01]\n",
      " [ 2.30243944e+00  4.20065580e-01 -6.51706439e-01  2.38041242e-01]\n",
      " [ 2.00668647e+00 -7.11438654e-01 -3.93990571e-01  8.65106302e-02]\n",
      " [ 2.25977735e+00  1.92101038e+00  3.97551897e-01 -1.04838918e-01]\n",
      " [ 1.36417549e+00  6.92756454e-01  2.84612074e-01 -1.07860420e-01]\n",
      " [ 1.60267867e+00 -4.21700450e-01  2.31864079e-02 -5.83316327e-02]\n",
      " [ 1.88390070e+00  4.19249651e-01  2.63384095e-02 -1.46414939e-01]\n",
      " [ 1.26011510e+00 -1.16226042e+00  5.80249290e-01 -9.91573214e-02]\n",
      " [ 1.46764520e+00 -4.42271587e-01  1.00386957e+00 -2.75658903e-01]\n",
      " [ 1.59007732e+00  6.76244806e-01  6.38428708e-01 -1.91862996e-01]\n",
      " [ 1.47143146e+00  2.55621824e-01  3.74312599e-02  1.55330271e-01]\n",
      " [ 2.42632899e+00  2.55666125e+00 -1.27881459e-01  2.73807183e-01]\n",
      " [ 3.31069558e+00  1.77809493e-02 -7.03305304e-01 -4.51886059e-02]\n",
      " [ 1.26376667e+00 -1.70674538e+00 -2.67536893e-01  6.51807997e-02]\n",
      " [ 2.03771630e+00  9.10467410e-01  2.34799484e-01 -1.67951254e-01]\n",
      " [ 9.77980734e-01 -5.71764325e-01  8.28127201e-01 -2.77555871e-02]\n",
      " [ 2.89765149e+00  4.13641060e-01 -8.57421825e-01  1.27336502e-01]\n",
      " [ 1.33323218e+00 -4.81811219e-01 -5.42836383e-03 -1.39959148e-01]\n",
      " [ 1.70073390e+00  1.01392187e+00  2.98450613e-01  6.16437339e-02]\n",
      " [ 1.95432671e+00  1.00777760e+00 -4.19984722e-01  2.18338351e-01]\n",
      " [ 1.17510363e+00 -3.16394472e-01  1.29937757e-01 -1.25420444e-01]\n",
      " [ 1.02095055e+00  6.43460292e-02  3.37715967e-01  8.65440136e-03]\n",
      " [ 1.78834992e+00 -1.87361215e-01  2.70658006e-01 -3.10876478e-02]\n",
      " [ 1.86364755e+00  5.62290726e-01 -7.15634119e-01  2.08215164e-01]\n",
      " [ 2.43595373e+00  2.59284433e-01 -7.27816146e-01  1.79233648e-02]\n",
      " [ 2.30492772e+00  2.62632347e+00 -4.93473808e-01  2.11675709e-01]\n",
      " [ 1.86270322e+00 -1.78549495e-01  3.54148712e-01 -1.00009882e-01]\n",
      " [ 1.11414774e+00 -2.92922623e-01 -1.83488392e-01  1.86343697e-01]\n",
      " [ 1.20247330e+00 -8.11315271e-01 -1.64723757e-01  4.89483470e-01]\n",
      " [ 2.79877045e+00  8.56803329e-01 -5.42906499e-01 -2.95881050e-01]\n",
      " [ 1.57625591e+00  1.06858111e+00  9.45853819e-01 -3.56057591e-02]\n",
      " [ 1.34629210e+00  4.22430611e-01  1.80875478e-01  2.15421288e-01]\n",
      " [ 9.24824917e-01  1.72231005e-02  4.16826193e-01 -5.23840949e-03]\n",
      " [ 1.85204505e+00  6.76128174e-01 -1.26721148e-02 -1.95195239e-01]\n",
      " [ 2.01481043e+00  6.13885637e-01  4.28332842e-01 -2.47538313e-01]\n",
      " [ 1.90178409e+00  6.89575494e-01  1.30075005e-01 -4.69696647e-01]\n",
      " [ 1.15788161e+00 -6.98869862e-01  5.30160149e-01  4.05207540e-02]\n",
      " [ 2.04055823e+00  8.67520601e-01  3.38144000e-01 -4.51871263e-02]\n",
      " [ 1.99814710e+00  1.04916875e+00  6.32413436e-01 -2.14045204e-01]\n",
      " [ 1.87050329e+00  3.86966082e-01  2.56273852e-01 -3.89256845e-01]\n",
      " [ 1.56458048e+00 -8.96686809e-01 -2.63713516e-02 -2.20192100e-01]\n",
      " [ 1.52117050e+00  2.69069144e-01  1.80178380e-01 -1.19171137e-01]\n",
      " [ 1.37278779e+00  1.01125442e+00  9.33395241e-01 -2.61286484e-02]\n",
      " [ 9.60656030e-01 -2.43316682e-02  5.28248807e-01  1.63078032e-01]]\n",
      "(150, 4)\n"
     ]
    }
   ],
   "source": [
    "# PCA 수행\n",
    "from sklearn.decomposition import PCA\n",
    "\n",
    "pca = PCA(n_components = 4)\n",
    "\n",
    "p_score = pca.fit_transform(df)\n",
    "print(p_score)\n",
    "print(p_score.shape)"
   ]
  },
  {
   "cell_type": "code",
   "execution_count": 105,
   "metadata": {},
   "outputs": [
    {
     "name": "stdout",
     "output_type": "stream",
     "text": [
      "[0.72962445 0.22850762 0.03668922 0.00517871]\n"
     ]
    }
   ],
   "source": [
    "print(pca.explained_variance_ratio_)\n",
    "# 결과해석\n",
    "# 주요인 pca1, pca2\n",
    "# pca1은 가장 주요한 요인으로 전체 데이터의 72.96% 설명함\n",
    "# pca는 두번째 주요인으로 전체 데이터의 22.85% 설명함\n",
    "\n",
    "# 주요인 pca1, pca2 로 설명한 데이터는 95.81%\n",
    "# 0.72962445 + 0.22850762 = 0.95813207"
   ]
  },
  {
   "cell_type": "code",
   "execution_count": 111,
   "metadata": {},
   "outputs": [
    {
     "name": "stdout",
     "output_type": "stream",
     "text": [
      "[[-2.26470281  0.4800266 ]\n",
      " [-2.08096115 -0.67413356]\n",
      " [-2.36422905 -0.34190802]\n",
      " [-2.29938422 -0.59739451]\n",
      " [-2.38984217  0.64683538]\n",
      " [-2.07563095  1.48917752]\n",
      " [-2.44402884  0.0476442 ]\n",
      " [-2.23284716  0.22314807]\n",
      " [-2.33464048 -1.11532768]\n",
      " [-2.18432817 -0.46901356]\n",
      " [-2.1663101   1.04369065]\n",
      " [-2.32613087  0.13307834]\n",
      " [-2.2184509  -0.72867617]\n",
      " [-2.6331007  -0.96150673]\n",
      " [-2.1987406   1.86005711]\n",
      " [-2.26221453  2.68628449]\n",
      " [-2.2075877   1.48360936]\n",
      " [-2.19034951  0.48883832]\n",
      " [-1.898572    1.40501879]\n",
      " [-2.34336905  1.12784938]\n",
      " [-1.914323    0.40885571]\n",
      " [-2.20701284  0.92412143]\n",
      " [-2.7743447   0.45834367]\n",
      " [-1.81866953  0.08555853]\n",
      " [-2.22716331  0.13725446]\n",
      " [-1.95184633 -0.62561859]\n",
      " [-2.05115137  0.24216355]\n",
      " [-2.16857717  0.52714953]\n",
      " [-2.13956345  0.31321781]\n",
      " [-2.26526149 -0.3377319 ]\n",
      " [-2.14012214 -0.50454069]\n",
      " [-1.83159477  0.42369507]\n",
      " [-2.61494794  1.79357586]\n",
      " [-2.44617739  2.15072788]\n",
      " [-2.10997488 -0.46020184]\n",
      " [-2.2078089  -0.2061074 ]\n",
      " [-2.04514621  0.66155811]\n",
      " [-2.52733191  0.59229277]\n",
      " [-2.42963258 -0.90418004]\n",
      " [-2.16971071  0.26887896]\n",
      " [-2.28647514  0.44171539]\n",
      " [-1.85812246 -2.33741516]\n",
      " [-2.5536384  -0.47910069]\n",
      " [-1.96444768  0.47232667]\n",
      " [-2.13705901  1.14222926]\n",
      " [-2.0697443  -0.71105273]\n",
      " [-2.38473317  1.1204297 ]\n",
      " [-2.39437631 -0.38624687]\n",
      " [-2.22944655  0.99795976]\n",
      " [-2.20383344  0.00921636]\n",
      " [ 1.10178118  0.86297242]\n",
      " [ 0.73133743  0.59461473]\n",
      " [ 1.24097932  0.61629765]\n",
      " [ 0.40748306 -1.75440399]\n",
      " [ 1.0754747  -0.20842105]\n",
      " [ 0.38868734 -0.59328364]\n",
      " [ 0.74652974  0.77301931]\n",
      " [-0.48732274 -1.85242909]\n",
      " [ 0.92790164  0.03222608]\n",
      " [ 0.01142619 -1.03401828]\n",
      " [-0.11019628 -2.65407282]\n",
      " [ 0.44069345 -0.06329519]\n",
      " [ 0.56210831 -1.76472438]\n",
      " [ 0.71956189 -0.18622461]\n",
      " [-0.0333547  -0.43900321]\n",
      " [ 0.87540719  0.50906396]\n",
      " [ 0.35025167 -0.19631173]\n",
      " [ 0.15881005 -0.79209574]\n",
      " [ 1.22509363 -1.6222438 ]\n",
      " [ 0.1649179  -1.30260923]\n",
      " [ 0.73768265  0.39657156]\n",
      " [ 0.47628719 -0.41732028]\n",
      " [ 1.2341781  -0.93332573]\n",
      " [ 0.6328582  -0.41638772]\n",
      " [ 0.70266118 -0.06341182]\n",
      " [ 0.87427365  0.25079339]\n",
      " [ 1.25650912 -0.07725602]\n",
      " [ 1.35840512  0.33131168]\n",
      " [ 0.66480037 -0.22592785]\n",
      " [-0.04025861 -1.05871855]\n",
      " [ 0.13079518 -1.56227183]\n",
      " [ 0.02345269 -1.57247559]\n",
      " [ 0.24153827 -0.77725638]\n",
      " [ 1.06109461 -0.63384324]\n",
      " [ 0.22397877 -0.28777351]\n",
      " [ 0.42913912  0.84558224]\n",
      " [ 1.04872805  0.5220518 ]\n",
      " [ 1.04453138 -1.38298872]\n",
      " [ 0.06958832 -0.21950333]\n",
      " [ 0.28347724 -1.32932464]\n",
      " [ 0.27907778 -1.12002852]\n",
      " [ 0.62456979  0.02492303]\n",
      " [ 0.33653037 -0.98840402]\n",
      " [-0.36218338 -2.01923787]\n",
      " [ 0.28858624 -0.85573032]\n",
      " [ 0.09136066 -0.18119213]\n",
      " [ 0.22771687 -0.38492008]\n",
      " [ 0.57638829 -0.1548736 ]\n",
      " [-0.44766702 -1.54379203]\n",
      " [ 0.25673059 -0.5988518 ]\n",
      " [ 1.84456887  0.87042131]\n",
      " [ 1.15788161 -0.69886986]\n",
      " [ 2.20526679  0.56201048]\n",
      " [ 1.44015066 -0.04698759]\n",
      " [ 1.86781222  0.29504482]\n",
      " [ 2.75187334  0.8004092 ]\n",
      " [ 0.36701769 -1.56150289]\n",
      " [ 2.30243944  0.42006558]\n",
      " [ 2.00668647 -0.71143865]\n",
      " [ 2.25977735  1.92101038]\n",
      " [ 1.36417549  0.69275645]\n",
      " [ 1.60267867 -0.42170045]\n",
      " [ 1.8839007   0.41924965]\n",
      " [ 1.2601151  -1.16226042]\n",
      " [ 1.4676452  -0.44227159]\n",
      " [ 1.59007732  0.67624481]\n",
      " [ 1.47143146  0.25562182]\n",
      " [ 2.42632899  2.55666125]\n",
      " [ 3.31069558  0.01778095]\n",
      " [ 1.26376667 -1.70674538]\n",
      " [ 2.0377163   0.91046741]\n",
      " [ 0.97798073 -0.57176432]\n",
      " [ 2.89765149  0.41364106]\n",
      " [ 1.33323218 -0.48181122]\n",
      " [ 1.7007339   1.01392187]\n",
      " [ 1.95432671  1.0077776 ]\n",
      " [ 1.17510363 -0.31639447]\n",
      " [ 1.02095055  0.06434603]\n",
      " [ 1.78834992 -0.18736121]\n",
      " [ 1.86364755  0.56229073]\n",
      " [ 2.43595373  0.25928443]\n",
      " [ 2.30492772  2.62632347]\n",
      " [ 1.86270322 -0.17854949]\n",
      " [ 1.11414774 -0.29292262]\n",
      " [ 1.2024733  -0.81131527]\n",
      " [ 2.79877045  0.85680333]\n",
      " [ 1.57625591  1.06858111]\n",
      " [ 1.3462921   0.42243061]\n",
      " [ 0.92482492  0.0172231 ]\n",
      " [ 1.85204505  0.67612817]\n",
      " [ 2.01481043  0.61388564]\n",
      " [ 1.90178409  0.68957549]\n",
      " [ 1.15788161 -0.69886986]\n",
      " [ 2.04055823  0.8675206 ]\n",
      " [ 1.9981471   1.04916875]\n",
      " [ 1.87050329  0.38696608]\n",
      " [ 1.56458048 -0.89668681]\n",
      " [ 1.5211705   0.26906914]\n",
      " [ 1.37278779  1.01125442]\n",
      " [ 0.96065603 -0.02433167]]\n",
      "(150, 2)\n",
      "[0.72962445 0.22850762]\n"
     ]
    }
   ],
   "source": [
    "# PCA 수행\n",
    "from sklearn.decomposition import PCA\n",
    "\n",
    "pca_2 = PCA(n_components = 2)\n",
    "\n",
    "p_score_2 = pca_2.fit_transform(df)\n",
    "print(p_score_2)\n",
    "print(p_score_2.shape)\n",
    "print(pca_2.explained_variance_ratio_)"
   ]
  },
  {
   "cell_type": "markdown",
   "metadata": {},
   "source": [
    "### 결측치 처리"
   ]
  },
  {
   "cell_type": "code",
   "execution_count": 115,
   "metadata": {},
   "outputs": [],
   "source": [
    "raw = pd.read_csv('csv_file/titanic.csv')\n",
    "df = raw.copy()"
   ]
  },
  {
   "cell_type": "code",
   "execution_count": 117,
   "metadata": {},
   "outputs": [
    {
     "data": {
      "text/plain": [
       "PassengerId      0\n",
       "Survived         0\n",
       "Pclass           0\n",
       "Name             0\n",
       "Sex              0\n",
       "Age            177\n",
       "SibSp            0\n",
       "Parch            0\n",
       "Ticket           0\n",
       "Fare             0\n",
       "Cabin          687\n",
       "Embarked         2\n",
       "dtype: int64"
      ]
     },
     "execution_count": 117,
     "metadata": {},
     "output_type": "execute_result"
    }
   ],
   "source": [
    "df.isnull().sum()"
   ]
  },
  {
   "cell_type": "code",
   "execution_count": 120,
   "metadata": {},
   "outputs": [],
   "source": [
    "# 결측치가 있는 모든 행 제거\n",
    "df_row = df.dropna(axis=0)"
   ]
  },
  {
   "cell_type": "code",
   "execution_count": 121,
   "metadata": {},
   "outputs": [
    {
     "data": {
      "text/plain": [
       "PassengerId    0\n",
       "Survived       0\n",
       "Pclass         0\n",
       "Name           0\n",
       "Sex            0\n",
       "Age            0\n",
       "SibSp          0\n",
       "Parch          0\n",
       "Ticket         0\n",
       "Fare           0\n",
       "Cabin          0\n",
       "Embarked       0\n",
       "dtype: int64"
      ]
     },
     "execution_count": 121,
     "metadata": {},
     "output_type": "execute_result"
    }
   ],
   "source": [
    "df_row.isnull().sum()"
   ]
  },
  {
   "cell_type": "code",
   "execution_count": 122,
   "metadata": {},
   "outputs": [
    {
     "data": {
      "text/plain": [
       "0"
      ]
     },
     "execution_count": 122,
     "metadata": {},
     "output_type": "execute_result"
    }
   ],
   "source": [
    "df_row.isnull().sum().sum()"
   ]
  },
  {
   "cell_type": "code",
   "execution_count": 123,
   "metadata": {},
   "outputs": [
    {
     "data": {
      "text/plain": [
       "(183, 12)"
      ]
     },
     "execution_count": 123,
     "metadata": {},
     "output_type": "execute_result"
    }
   ],
   "source": [
    "df_row.shape"
   ]
  },
  {
   "cell_type": "code",
   "execution_count": 125,
   "metadata": {},
   "outputs": [
    {
     "data": {
      "text/plain": [
       "dtype('float64')"
      ]
     },
     "execution_count": 125,
     "metadata": {},
     "output_type": "execute_result"
    }
   ],
   "source": [
    "df['Age'].dtype"
   ]
  },
  {
   "cell_type": "code",
   "execution_count": 127,
   "metadata": {},
   "outputs": [
    {
     "data": {
      "text/plain": [
       "177"
      ]
     },
     "execution_count": 127,
     "metadata": {},
     "output_type": "execute_result"
    }
   ],
   "source": [
    "# 단순 대치 : 평균\n",
    "df['Age'].isnull().sum() # Age컬럼 결측치 개수"
   ]
  },
  {
   "cell_type": "code",
   "execution_count": 126,
   "metadata": {},
   "outputs": [
    {
     "name": "stdout",
     "output_type": "stream",
     "text": [
      "29.69911764705882\n"
     ]
    }
   ],
   "source": [
    "age_mean = df['Age'].mean() # Age 평균\n",
    "print(age_mean)"
   ]
  },
  {
   "cell_type": "code",
   "execution_count": 128,
   "metadata": {},
   "outputs": [
    {
     "name": "stderr",
     "output_type": "stream",
     "text": [
      "C:\\Users\\taeyoung\\AppData\\Local\\Temp\\ipykernel_31536\\1439936708.py:1: FutureWarning: A value is trying to be set on a copy of a DataFrame or Series through chained assignment using an inplace method.\n",
      "The behavior will change in pandas 3.0. This inplace method will never work because the intermediate object on which we are setting values always behaves as a copy.\n",
      "\n",
      "For example, when doing 'df[col].method(value, inplace=True)', try using 'df.method({col: value}, inplace=True)' or df[col] = df[col].method(value) instead, to perform the operation inplace on the original object.\n",
      "\n",
      "\n",
      "  df['Age'].fillna(age_mean, inplace=True)\n"
     ]
    }
   ],
   "source": [
    "df['Age'].fillna(age_mean, inplace=True)"
   ]
  },
  {
   "cell_type": "code",
   "execution_count": 129,
   "metadata": {},
   "outputs": [
    {
     "data": {
      "text/plain": [
       "0"
      ]
     },
     "execution_count": 129,
     "metadata": {},
     "output_type": "execute_result"
    }
   ],
   "source": [
    "df['Age'].isnull().sum() # 평균값 대체 후 ,age 컬럼 결측치 개수"
   ]
  },
  {
   "cell_type": "code",
   "execution_count": 130,
   "metadata": {},
   "outputs": [
    {
     "name": "stdout",
     "output_type": "stream",
     "text": [
      "<class 'pandas.core.frame.DataFrame'>\n",
      "RangeIndex: 891 entries, 0 to 890\n",
      "Data columns (total 12 columns):\n",
      " #   Column       Non-Null Count  Dtype  \n",
      "---  ------       --------------  -----  \n",
      " 0   PassengerId  891 non-null    int64  \n",
      " 1   Survived     891 non-null    int64  \n",
      " 2   Pclass       891 non-null    int64  \n",
      " 3   Name         891 non-null    object \n",
      " 4   Sex          891 non-null    object \n",
      " 5   Age          891 non-null    float64\n",
      " 6   SibSp        891 non-null    int64  \n",
      " 7   Parch        891 non-null    int64  \n",
      " 8   Ticket       891 non-null    object \n",
      " 9   Fare         891 non-null    float64\n",
      " 10  Cabin        204 non-null    object \n",
      " 11  Embarked     889 non-null    object \n",
      "dtypes: float64(2), int64(5), object(5)\n",
      "memory usage: 83.7+ KB\n"
     ]
    }
   ],
   "source": [
    "df.info()"
   ]
  },
  {
   "cell_type": "code",
   "execution_count": 131,
   "metadata": {},
   "outputs": [
    {
     "data": {
      "text/plain": [
       "2"
      ]
     },
     "execution_count": 131,
     "metadata": {},
     "output_type": "execute_result"
    }
   ],
   "source": [
    "# 단순대치법 : 최빈값 (mode) 대체\n",
    "\n",
    "from scipy.stats import mode\n",
    "\n",
    "df['Embarked'].isnull().sum()"
   ]
  },
  {
   "cell_type": "code",
   "execution_count": 134,
   "metadata": {},
   "outputs": [],
   "source": [
    "embarked_mode = df['Embarked'].mode() # 최빈값이 나옴"
   ]
  },
  {
   "cell_type": "code",
   "execution_count": 135,
   "metadata": {},
   "outputs": [
    {
     "data": {
      "text/plain": [
       "'S'"
      ]
     },
     "execution_count": 135,
     "metadata": {},
     "output_type": "execute_result"
    }
   ],
   "source": [
    "embarked_mode[0]"
   ]
  },
  {
   "cell_type": "code",
   "execution_count": 138,
   "metadata": {},
   "outputs": [],
   "source": [
    "# df['Embarked'].fillna(0)"
   ]
  },
  {
   "cell_type": "code",
   "execution_count": 139,
   "metadata": {},
   "outputs": [
    {
     "name": "stderr",
     "output_type": "stream",
     "text": [
      "C:\\Users\\taeyoung\\AppData\\Local\\Temp\\ipykernel_31536\\2170384249.py:1: FutureWarning: Series.fillna with 'method' is deprecated and will raise in a future version. Use obj.ffill() or obj.bfill() instead.\n",
      "  df['Embarked'].fillna(method='ffill', inplace=True)\n"
     ]
    }
   ],
   "source": [
    "df['Embarked'].fillna(method='ffill', inplace=True)"
   ]
  },
  {
   "cell_type": "code",
   "execution_count": 136,
   "metadata": {},
   "outputs": [
    {
     "data": {
      "text/plain": [
       "0"
      ]
     },
     "execution_count": 136,
     "metadata": {},
     "output_type": "execute_result"
    }
   ],
   "source": [
    "# df['Embarked']의 결측치를 '최빈값' 대체\n",
    "\n",
    "# df['Embarked'].fillna(embarked_mode[0], inplace = True)\n",
    "df['Embarked'].isnull().sum()"
   ]
  },
  {
   "cell_type": "code",
   "execution_count": 140,
   "metadata": {},
   "outputs": [
    {
     "data": {
      "text/html": [
       "<div>\n",
       "<style scoped>\n",
       "    .dataframe tbody tr th:only-of-type {\n",
       "        vertical-align: middle;\n",
       "    }\n",
       "\n",
       "    .dataframe tbody tr th {\n",
       "        vertical-align: top;\n",
       "    }\n",
       "\n",
       "    .dataframe thead th {\n",
       "        text-align: right;\n",
       "    }\n",
       "</style>\n",
       "<table border=\"1\" class=\"dataframe\">\n",
       "  <thead>\n",
       "    <tr style=\"text-align: right;\">\n",
       "      <th></th>\n",
       "      <th>PassengerId</th>\n",
       "      <th>Survived</th>\n",
       "      <th>Pclass</th>\n",
       "      <th>Name</th>\n",
       "      <th>Sex</th>\n",
       "      <th>Age</th>\n",
       "      <th>SibSp</th>\n",
       "      <th>Parch</th>\n",
       "      <th>Ticket</th>\n",
       "      <th>Fare</th>\n",
       "      <th>Cabin</th>\n",
       "      <th>Embarked</th>\n",
       "    </tr>\n",
       "  </thead>\n",
       "  <tbody>\n",
       "    <tr>\n",
       "      <th>0</th>\n",
       "      <td>1</td>\n",
       "      <td>0</td>\n",
       "      <td>3</td>\n",
       "      <td>Braund, Mr. Owen Harris</td>\n",
       "      <td>male</td>\n",
       "      <td>22.0</td>\n",
       "      <td>1</td>\n",
       "      <td>0</td>\n",
       "      <td>A/5 21171</td>\n",
       "      <td>7.2500</td>\n",
       "      <td>NaN</td>\n",
       "      <td>S</td>\n",
       "    </tr>\n",
       "    <tr>\n",
       "      <th>1</th>\n",
       "      <td>2</td>\n",
       "      <td>1</td>\n",
       "      <td>1</td>\n",
       "      <td>Cumings, Mrs. John Bradley (Florence Briggs Th...</td>\n",
       "      <td>female</td>\n",
       "      <td>38.0</td>\n",
       "      <td>1</td>\n",
       "      <td>0</td>\n",
       "      <td>PC 17599</td>\n",
       "      <td>71.2833</td>\n",
       "      <td>C85</td>\n",
       "      <td>C</td>\n",
       "    </tr>\n",
       "    <tr>\n",
       "      <th>2</th>\n",
       "      <td>3</td>\n",
       "      <td>1</td>\n",
       "      <td>3</td>\n",
       "      <td>Heikkinen, Miss. Laina</td>\n",
       "      <td>female</td>\n",
       "      <td>26.0</td>\n",
       "      <td>0</td>\n",
       "      <td>0</td>\n",
       "      <td>STON/O2. 3101282</td>\n",
       "      <td>7.9250</td>\n",
       "      <td>NaN</td>\n",
       "      <td>S</td>\n",
       "    </tr>\n",
       "    <tr>\n",
       "      <th>3</th>\n",
       "      <td>4</td>\n",
       "      <td>1</td>\n",
       "      <td>1</td>\n",
       "      <td>Futrelle, Mrs. Jacques Heath (Lily May Peel)</td>\n",
       "      <td>female</td>\n",
       "      <td>35.0</td>\n",
       "      <td>1</td>\n",
       "      <td>0</td>\n",
       "      <td>113803</td>\n",
       "      <td>53.1000</td>\n",
       "      <td>C123</td>\n",
       "      <td>S</td>\n",
       "    </tr>\n",
       "    <tr>\n",
       "      <th>4</th>\n",
       "      <td>5</td>\n",
       "      <td>0</td>\n",
       "      <td>3</td>\n",
       "      <td>Allen, Mr. William Henry</td>\n",
       "      <td>male</td>\n",
       "      <td>35.0</td>\n",
       "      <td>0</td>\n",
       "      <td>0</td>\n",
       "      <td>373450</td>\n",
       "      <td>8.0500</td>\n",
       "      <td>NaN</td>\n",
       "      <td>S</td>\n",
       "    </tr>\n",
       "  </tbody>\n",
       "</table>\n",
       "</div>"
      ],
      "text/plain": [
       "   PassengerId  Survived  Pclass  \\\n",
       "0            1         0       3   \n",
       "1            2         1       1   \n",
       "2            3         1       3   \n",
       "3            4         1       1   \n",
       "4            5         0       3   \n",
       "\n",
       "                                                Name     Sex   Age  SibSp  \\\n",
       "0                            Braund, Mr. Owen Harris    male  22.0      1   \n",
       "1  Cumings, Mrs. John Bradley (Florence Briggs Th...  female  38.0      1   \n",
       "2                             Heikkinen, Miss. Laina  female  26.0      0   \n",
       "3       Futrelle, Mrs. Jacques Heath (Lily May Peel)  female  35.0      1   \n",
       "4                           Allen, Mr. William Henry    male  35.0      0   \n",
       "\n",
       "   Parch            Ticket     Fare Cabin Embarked  \n",
       "0      0         A/5 21171   7.2500   NaN        S  \n",
       "1      0          PC 17599  71.2833   C85        C  \n",
       "2      0  STON/O2. 3101282   7.9250   NaN        S  \n",
       "3      0            113803  53.1000  C123        S  \n",
       "4      0            373450   8.0500   NaN        S  "
      ]
     },
     "execution_count": 140,
     "metadata": {},
     "output_type": "execute_result"
    }
   ],
   "source": [
    "df.head()"
   ]
  },
  {
   "cell_type": "code",
   "execution_count": 141,
   "metadata": {},
   "outputs": [
    {
     "name": "stdout",
     "output_type": "stream",
     "text": [
      "<class 'pandas.core.frame.DataFrame'>\n",
      "RangeIndex: 891 entries, 0 to 890\n",
      "Data columns (total 12 columns):\n",
      " #   Column       Non-Null Count  Dtype  \n",
      "---  ------       --------------  -----  \n",
      " 0   PassengerId  891 non-null    int64  \n",
      " 1   Survived     891 non-null    int64  \n",
      " 2   Pclass       891 non-null    int64  \n",
      " 3   Name         891 non-null    object \n",
      " 4   Sex          891 non-null    object \n",
      " 5   Age          891 non-null    float64\n",
      " 6   SibSp        891 non-null    int64  \n",
      " 7   Parch        891 non-null    int64  \n",
      " 8   Ticket       891 non-null    object \n",
      " 9   Fare         891 non-null    float64\n",
      " 10  Cabin        204 non-null    object \n",
      " 11  Embarked     891 non-null    object \n",
      "dtypes: float64(2), int64(5), object(5)\n",
      "memory usage: 83.7+ KB\n"
     ]
    }
   ],
   "source": [
    "df.info()"
   ]
  },
  {
   "cell_type": "code",
   "execution_count": 143,
   "metadata": {},
   "outputs": [
    {
     "data": {
      "text/plain": [
       "Sex\n",
       "female    28.216730\n",
       "male      30.505824\n",
       "Name: Age, dtype: float64"
      ]
     },
     "execution_count": 143,
     "metadata": {},
     "output_type": "execute_result"
    }
   ],
   "source": [
    "# 성별 평균 연령 구하기\n",
    "\n",
    "df.groupby('Sex')['Age'].mean()"
   ]
  },
  {
   "cell_type": "code",
   "execution_count": 145,
   "metadata": {},
   "outputs": [
    {
     "data": {
      "text/plain": [
       "Pclass\n",
       "1    37.048118\n",
       "2    29.866958\n",
       "3    26.403259\n",
       "Name: Age, dtype: float64"
      ]
     },
     "execution_count": 145,
     "metadata": {},
     "output_type": "execute_result"
    }
   ],
   "source": [
    "# 좌석등급별 평균 연령 구하기\n",
    "df.groupby('Pclass')['Age'].mean()"
   ]
  },
  {
   "cell_type": "code",
   "execution_count": 146,
   "metadata": {},
   "outputs": [],
   "source": [
    "df['Age'].fillna(df.groupby('Pclass')['Age'].transform('mean'), inplace=True)\n",
    "# transform('mean') : \n",
    "#  그룹별로 계산된 값을 원래 데이터프레임의 index와 동일한 크기로 반환"
   ]
  },
  {
   "cell_type": "code",
   "execution_count": 148,
   "metadata": {},
   "outputs": [
    {
     "data": {
      "text/html": [
       "<div>\n",
       "<style scoped>\n",
       "    .dataframe tbody tr th:only-of-type {\n",
       "        vertical-align: middle;\n",
       "    }\n",
       "\n",
       "    .dataframe tbody tr th {\n",
       "        vertical-align: top;\n",
       "    }\n",
       "\n",
       "    .dataframe thead th {\n",
       "        text-align: right;\n",
       "    }\n",
       "</style>\n",
       "<table border=\"1\" class=\"dataframe\">\n",
       "  <thead>\n",
       "    <tr style=\"text-align: right;\">\n",
       "      <th></th>\n",
       "      <th>Pclass</th>\n",
       "      <th>Age</th>\n",
       "    </tr>\n",
       "  </thead>\n",
       "  <tbody>\n",
       "    <tr>\n",
       "      <th>0</th>\n",
       "      <td>3</td>\n",
       "      <td>22.000000</td>\n",
       "    </tr>\n",
       "    <tr>\n",
       "      <th>1</th>\n",
       "      <td>1</td>\n",
       "      <td>38.000000</td>\n",
       "    </tr>\n",
       "    <tr>\n",
       "      <th>2</th>\n",
       "      <td>3</td>\n",
       "      <td>26.000000</td>\n",
       "    </tr>\n",
       "    <tr>\n",
       "      <th>3</th>\n",
       "      <td>1</td>\n",
       "      <td>35.000000</td>\n",
       "    </tr>\n",
       "    <tr>\n",
       "      <th>4</th>\n",
       "      <td>3</td>\n",
       "      <td>35.000000</td>\n",
       "    </tr>\n",
       "    <tr>\n",
       "      <th>...</th>\n",
       "      <td>...</td>\n",
       "      <td>...</td>\n",
       "    </tr>\n",
       "    <tr>\n",
       "      <th>886</th>\n",
       "      <td>2</td>\n",
       "      <td>27.000000</td>\n",
       "    </tr>\n",
       "    <tr>\n",
       "      <th>887</th>\n",
       "      <td>1</td>\n",
       "      <td>19.000000</td>\n",
       "    </tr>\n",
       "    <tr>\n",
       "      <th>888</th>\n",
       "      <td>3</td>\n",
       "      <td>29.699118</td>\n",
       "    </tr>\n",
       "    <tr>\n",
       "      <th>889</th>\n",
       "      <td>1</td>\n",
       "      <td>26.000000</td>\n",
       "    </tr>\n",
       "    <tr>\n",
       "      <th>890</th>\n",
       "      <td>3</td>\n",
       "      <td>32.000000</td>\n",
       "    </tr>\n",
       "  </tbody>\n",
       "</table>\n",
       "<p>891 rows × 2 columns</p>\n",
       "</div>"
      ],
      "text/plain": [
       "     Pclass        Age\n",
       "0         3  22.000000\n",
       "1         1  38.000000\n",
       "2         3  26.000000\n",
       "3         1  35.000000\n",
       "4         3  35.000000\n",
       "..      ...        ...\n",
       "886       2  27.000000\n",
       "887       1  19.000000\n",
       "888       3  29.699118\n",
       "889       1  26.000000\n",
       "890       3  32.000000\n",
       "\n",
       "[891 rows x 2 columns]"
      ]
     },
     "execution_count": 148,
     "metadata": {},
     "output_type": "execute_result"
    }
   ],
   "source": [
    "df[['Pclass', 'Age']]"
   ]
  },
  {
   "cell_type": "markdown",
   "metadata": {},
   "source": [
    "### 이상치(Outliers) 처리"
   ]
  },
  {
   "cell_type": "code",
   "execution_count": 149,
   "metadata": {},
   "outputs": [
    {
     "data": {
      "text/plain": [
       "array([68.75865298, 59.28380397, 58.17580218, 59.90213723, 41.49051995,\n",
       "       75.55760696, 42.18577754, 44.43128378, 51.74070423, 50.72817675])"
      ]
     },
     "execution_count": 149,
     "metadata": {},
     "output_type": "execute_result"
    }
   ],
   "source": [
    "# 정규분포\n",
    "# 평균 50, 표준편차(std) : 10 인 데이터 200개 생성\n",
    "\n",
    "data = 10 * np.random.randn(200) + 50\n",
    "data[:10]"
   ]
  },
  {
   "cell_type": "code",
   "execution_count": 151,
   "metadata": {},
   "outputs": [],
   "source": [
    "df = pd.DataFrame({\"값\": data})"
   ]
  },
  {
   "cell_type": "code",
   "execution_count": 152,
   "metadata": {},
   "outputs": [],
   "source": [
    "# 임의의 이상치 삽입\n",
    "df.loc[201] = 2\n",
    "df.loc[202] = 100\n",
    "df.loc[203] = 10\n",
    "df.loc[204] = 110"
   ]
  },
  {
   "cell_type": "code",
   "execution_count": 158,
   "metadata": {},
   "outputs": [
    {
     "data": {
      "image/png": "[encoded data removed]",
      "text/plain": [
       "<Figure size 640x480 with 1 Axes>"
      ]
     },
     "metadata": {},
     "output_type": "display_data"
    }
   ],
   "source": [
    "# 분포 시각화\n",
    "plt.hist(df['값'], bins=20, rwidth=0.5)\n",
    "plt.show()"
   ]
  },
  {
   "cell_type": "code",
   "execution_count": 156,
   "metadata": {},
   "outputs": [
    {
     "data": {
      "image/png": "[encoded data removed]",
      "text/plain": [
       "<Figure size 640x480 with 1 Axes>"
      ]
     },
     "metadata": {},
     "output_type": "display_data"
    }
   ],
   "source": [
    "plt.boxplot(df['값'])\n",
    "plt.show()"
   ]
  },
  {
   "cell_type": "code",
   "execution_count": 165,
   "metadata": {},
   "outputs": [
    {
     "name": "stdout",
     "output_type": "stream",
     "text": [
      "Q1 =  42.85262638299625\n",
      "Q2 =  50.81328233530721\n",
      "Q3 =  57.41978559563141\n",
      "IQR =  14.567159212635161\n"
     ]
    }
   ],
   "source": [
    "Q1 = df['값'].quantile(.25)\n",
    "Q2 = df['값'].quantile(.50)\n",
    "Q3 = df['값'].quantile(.75)\n",
    "\n",
    "IQR = Q3 - Q1\n",
    "\n",
    "print(\"Q1 = \", Q1)\n",
    "print(\"Q2 = \", Q2)\n",
    "print(\"Q3 = \", Q3)\n",
    "print(\"IQR = \", IQR)\n"
   ]
  },
  {
   "cell_type": "code",
   "execution_count": 166,
   "metadata": {},
   "outputs": [
    {
     "name": "stdout",
     "output_type": "stream",
     "text": [
      "Q1 =  42.85262638299625\n",
      "Q2 =  50.81328233530721\n",
      "Q3 =  57.41978559563141\n",
      "IQR =  14.567159212635161\n"
     ]
    }
   ],
   "source": [
    "Q1 = df['값'].describe()[\"25%\"]\n",
    "Q2 = df['값'].describe()[\"50%\"]\n",
    "Q3 = df['값'].describe()[\"75%\"]\n",
    "\n",
    "IQR = Q3 - Q1\n",
    "\n",
    "print(\"Q1 = \", Q1)\n",
    "print(\"Q2 = \", Q2)\n",
    "print(\"Q3 = \", Q3)\n",
    "print(\"IQR = \", IQR)"
   ]
  },
  {
   "cell_type": "code",
   "execution_count": 170,
   "metadata": {},
   "outputs": [
    {
     "data": {
      "text/plain": [
       "Index(['count', 'mean', 'std', 'min', '25%', '50%', '75%', 'max'], dtype='object')"
      ]
     },
     "execution_count": 170,
     "metadata": {},
     "output_type": "execute_result"
    }
   ],
   "source": [
    "df_desc = df.describe()\n",
    "df_desc.index"
   ]
  },
  {
   "cell_type": "code",
   "execution_count": 176,
   "metadata": {},
   "outputs": [
    {
     "data": {
      "text/plain": [
       "값    42.852626\n",
       "Name: 25%, dtype: float64"
      ]
     },
     "execution_count": 176,
     "metadata": {},
     "output_type": "execute_result"
    }
   ],
   "source": [
    "df_desc.loc['25%', :]"
   ]
  },
  {
   "cell_type": "code",
   "execution_count": 184,
   "metadata": {},
   "outputs": [
    {
     "name": "stdout",
     "output_type": "stream",
     "text": [
      "         값\n",
      "202  100.0\n",
      "204  110.0\n"
     ]
    }
   ],
   "source": [
    "# 상한 경계 \n",
    "condition = df['값'] > (Q3 + IQR * 1.5)\n",
    "df[condition]\n",
    "upper_outlier = df[condition]\n",
    "print(upper_outlier)"
   ]
  },
  {
   "cell_type": "code",
   "execution_count": 185,
   "metadata": {},
   "outputs": [
    {
     "name": "stdout",
     "output_type": "stream",
     "text": [
      "        값\n",
      "201   2.0\n",
      "203  10.0\n"
     ]
    }
   ],
   "source": [
    "# 하한 경계\n",
    "condition = df['값'] < (Q1 - IQR * 1.5)\n",
    "df[condition]\n",
    "upper_outlier = df[condition]\n",
    "print(upper_outlier)"
   ]
  },
  {
   "cell_type": "markdown",
   "metadata": {},
   "source": [
    "### 평활화(Smoothing)"
   ]
  },
  {
   "cell_type": "code",
   "execution_count": 187,
   "metadata": {},
   "outputs": [],
   "source": [
    "# 평활하는 데이터 분포를 매끄럽게 \n",
    "# 만들어 줘서 데이터에서 중요하지 않은 것(잡음 등)을 제거 >> 패턴 분석 방법\n",
    "# 이동평균(MA : Moving Average)"
   ]
  },
  {
   "cell_type": "code",
   "execution_count": 188,
   "metadata": {},
   "outputs": [],
   "source": [
    "path = 'csv_file/lynx.csv'"
   ]
  },
  {
   "cell_type": "code",
   "execution_count": 191,
   "metadata": {},
   "outputs": [],
   "source": [
    "raw = pd.read_csv(path)\n",
    "df = raw.copy()"
   ]
  },
  {
   "cell_type": "code",
   "execution_count": 192,
   "metadata": {},
   "outputs": [
    {
     "data": {
      "text/html": [
       "<div>\n",
       "<style scoped>\n",
       "    .dataframe tbody tr th:only-of-type {\n",
       "        vertical-align: middle;\n",
       "    }\n",
       "\n",
       "    .dataframe tbody tr th {\n",
       "        vertical-align: top;\n",
       "    }\n",
       "\n",
       "    .dataframe thead th {\n",
       "        text-align: right;\n",
       "    }\n",
       "</style>\n",
       "<table border=\"1\" class=\"dataframe\">\n",
       "  <thead>\n",
       "    <tr style=\"text-align: right;\">\n",
       "      <th></th>\n",
       "      <th>Unnamed: 0</th>\n",
       "      <th>time</th>\n",
       "      <th>value</th>\n",
       "    </tr>\n",
       "  </thead>\n",
       "  <tbody>\n",
       "    <tr>\n",
       "      <th>count</th>\n",
       "      <td>114.000000</td>\n",
       "      <td>114.000000</td>\n",
       "      <td>114.000000</td>\n",
       "    </tr>\n",
       "    <tr>\n",
       "      <th>mean</th>\n",
       "      <td>57.500000</td>\n",
       "      <td>1877.500000</td>\n",
       "      <td>1538.017544</td>\n",
       "    </tr>\n",
       "    <tr>\n",
       "      <th>std</th>\n",
       "      <td>33.052988</td>\n",
       "      <td>33.052988</td>\n",
       "      <td>1585.843914</td>\n",
       "    </tr>\n",
       "    <tr>\n",
       "      <th>min</th>\n",
       "      <td>1.000000</td>\n",
       "      <td>1821.000000</td>\n",
       "      <td>39.000000</td>\n",
       "    </tr>\n",
       "    <tr>\n",
       "      <th>25%</th>\n",
       "      <td>29.250000</td>\n",
       "      <td>1849.250000</td>\n",
       "      <td>348.250000</td>\n",
       "    </tr>\n",
       "    <tr>\n",
       "      <th>50%</th>\n",
       "      <td>57.500000</td>\n",
       "      <td>1877.500000</td>\n",
       "      <td>771.000000</td>\n",
       "    </tr>\n",
       "    <tr>\n",
       "      <th>75%</th>\n",
       "      <td>85.750000</td>\n",
       "      <td>1905.750000</td>\n",
       "      <td>2566.750000</td>\n",
       "    </tr>\n",
       "    <tr>\n",
       "      <th>max</th>\n",
       "      <td>114.000000</td>\n",
       "      <td>1934.000000</td>\n",
       "      <td>6991.000000</td>\n",
       "    </tr>\n",
       "  </tbody>\n",
       "</table>\n",
       "</div>"
      ],
      "text/plain": [
       "       Unnamed: 0         time        value\n",
       "count  114.000000   114.000000   114.000000\n",
       "mean    57.500000  1877.500000  1538.017544\n",
       "std     33.052988    33.052988  1585.843914\n",
       "min      1.000000  1821.000000    39.000000\n",
       "25%     29.250000  1849.250000   348.250000\n",
       "50%     57.500000  1877.500000   771.000000\n",
       "75%     85.750000  1905.750000  2566.750000\n",
       "max    114.000000  1934.000000  6991.000000"
      ]
     },
     "execution_count": 192,
     "metadata": {},
     "output_type": "execute_result"
    }
   ],
   "source": [
    "df.describe()"
   ]
  },
  {
   "cell_type": "code",
   "execution_count": 194,
   "metadata": {},
   "outputs": [
    {
     "data": {
      "text/plain": [
       "0     269\n",
       "1     321\n",
       "2     585\n",
       "3     871\n",
       "4    1475\n",
       "5    2821\n",
       "6    3928\n",
       "7    5943\n",
       "8    4950\n",
       "9    2577\n",
       "Name: value, dtype: int64"
      ]
     },
     "execution_count": 194,
     "metadata": {},
     "output_type": "execute_result"
    }
   ],
   "source": [
    "# 단순 이동 평균 (10년)\n",
    "df['value'][:10]"
   ]
  },
  {
   "cell_type": "code",
   "execution_count": 199,
   "metadata": {},
   "outputs": [
    {
     "data": {
      "text/plain": [
       "0       NaN\n",
       "1       NaN\n",
       "2       NaN\n",
       "3       NaN\n",
       "4       NaN\n",
       "5       NaN\n",
       "6       NaN\n",
       "7       NaN\n",
       "8       NaN\n",
       "9    2374.0\n",
       "Name: value, dtype: float64"
      ]
     },
     "execution_count": 199,
     "metadata": {},
     "output_type": "execute_result"
    }
   ],
   "source": [
    "df['value'].rolling(10).mean()[:10]"
   ]
  },
  {
   "cell_type": "code",
   "execution_count": 201,
   "metadata": {},
   "outputs": [
    {
     "data": {
      "image/png": "[encoded data removed]",
      "text/plain": [
       "<Figure size 640x480 with 1 Axes>"
      ]
     },
     "metadata": {},
     "output_type": "display_data"
    }
   ],
   "source": [
    "df['sma'] = df['value'].rolling(10).mean()\n",
    "\n",
    "plt.plot(df['value'])\n",
    "plt.plot(df['sma'])\n",
    "\n",
    "plt.show()"
   ]
  },
  {
   "cell_type": "code",
   "execution_count": 204,
   "metadata": {},
   "outputs": [
    {
     "data": {
      "text/plain": [
       "0       269.000000\n",
       "1       296.238095\n",
       "2       401.797583\n",
       "3       536.360914\n",
       "4       761.461483\n",
       "          ...     \n",
       "109    1487.443285\n",
       "110    1443.129132\n",
       "111    1456.481338\n",
       "112    1565.621692\n",
       "113    1732.022900\n",
       "Name: value, Length: 114, dtype: float64"
      ]
     },
     "execution_count": 204,
     "metadata": {},
     "output_type": "execute_result"
    }
   ],
   "source": [
    "# 지수 가중 이동평균 (10년)\n",
    "df['value'].ewm(10).mean()"
   ]
  },
  {
   "cell_type": "code",
   "execution_count": 203,
   "metadata": {},
   "outputs": [
    {
     "data": {
      "image/png": "[encoded data removed]",
      "text/plain": [
       "<Figure size 640x480 with 1 Axes>"
      ]
     },
     "metadata": {},
     "output_type": "display_data"
    }
   ],
   "source": [
    "# ewm은 pandas 라이브러리에서 \n",
    "# 지수 가중 이동 평균(Exponentially Weighted Moving Average, EWMA)을 계산할 때 사용하는 메서드\n",
    "df['ewm'] = df['value'].ewm(10).mean()   #ewm 스무딩효과\n",
    "\n",
    "plt.plot(df['value'])\n",
    "plt.plot(df['ewm'])\n",
    "\n",
    "plt.show()"
   ]
  },
  {
   "cell_type": "code",
   "execution_count": null,
   "metadata": {},
   "outputs": [],
   "source": []
  }
 ],
 "metadata": {
  "kernelspec": {
   "display_name": "Python 3",
   "language": "python",
   "name": "python3"
  },
  "language_info": {
   "codemirror_mode": {
    "name": "ipython",
    "version": 3
   },
   "file_extension": ".py",
   "mimetype": "text/x-python",
   "name": "python",
   "nbconvert_exporter": "python",
   "pygments_lexer": "ipython3",
   "version": "3.12.0"
  }
 },
 "nbformat": 4,
 "nbformat_minor": 2
}
