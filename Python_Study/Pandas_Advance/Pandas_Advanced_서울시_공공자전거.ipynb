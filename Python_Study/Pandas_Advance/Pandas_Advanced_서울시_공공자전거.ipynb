{
 "cells": [
  {
   "cell_type": "code",
   "execution_count": 1,
   "metadata": {},
   "outputs": [],
   "source": [
    "import numpy as np\n",
    "import pandas as pd\n",
    "import matplotlib.pyplot as plt\n",
    "%matplotlib inline"
   ]
  },
  {
   "cell_type": "code",
   "execution_count": 35,
   "metadata": {},
   "outputs": [
    {
     "data": {
      "text/plain": [
       "False"
      ]
     },
     "execution_count": 35,
     "metadata": {},
     "output_type": "execute_result"
    }
   ],
   "source": [
    "import matplotlib as mpl\n",
    "import matplotlib.font_manager as format\n",
    "mpl.rcParams['axes.unicode_minus'] = False\n",
    "plt.rcParams['font.family'] == 'MS Gothic'"
   ]
  },
  {
   "cell_type": "code",
   "execution_count": 7,
   "metadata": {},
   "outputs": [],
   "source": [
    "# 데이터 확인 및 전처리\n",
    "# 2021 공공자전거 대여 이력 정보\n",
    "# 데이터 프레임 생성/확인\n",
    "\n",
    "df1 = pd.read_csv('csv/공공자전거 대여이력 정보_2021.01.csv', encoding='cp949', low_memory=False)\n",
    "df2 = pd.read_csv('csv/공공자전거 대여이력 정보_2021.02.csv', encoding='cp949', low_memory=False)\n",
    "df3 = pd.read_csv('csv/공공자전거 대여이력 정보_2021.03.csv', encoding='cp949', low_memory=False)\n",
    "df4 = pd.read_csv('csv/공공자전거 대여이력 정보_2021.04.csv', encoding='cp949', low_memory=False)\n",
    "df5 = pd.read_csv('csv/공공자전거 대여이력 정보_2021.05.csv', encoding='cp949', low_memory=False)\n",
    "df6 = pd.read_csv('csv/공공자전거 대여이력 정보_2021.06.csv', encoding='cp949', low_memory=False)\n",
    "\n",
    "# low_memory=False\n",
    "# 파일 읽을 때 낮은 메모리 사용을 위한 처리 하지마 >> 큰 데이터 셋 처리시 유용"
   ]
  },
  {
   "cell_type": "code",
   "execution_count": 10,
   "metadata": {},
   "outputs": [
    {
     "data": {
      "text/html": [
       "<div>\n",
       "<style scoped>\n",
       "    .dataframe tbody tr th:only-of-type {\n",
       "        vertical-align: middle;\n",
       "    }\n",
       "\n",
       "    .dataframe tbody tr th {\n",
       "        vertical-align: top;\n",
       "    }\n",
       "\n",
       "    .dataframe thead th {\n",
       "        text-align: right;\n",
       "    }\n",
       "</style>\n",
       "<table border=\"1\" class=\"dataframe\">\n",
       "  <thead>\n",
       "    <tr style=\"text-align: right;\">\n",
       "      <th></th>\n",
       "      <th>자전거번호</th>\n",
       "      <th>대여일시</th>\n",
       "      <th>대여 대여소번호</th>\n",
       "      <th>대여 대여소명</th>\n",
       "      <th>대여거치대</th>\n",
       "      <th>반납일시</th>\n",
       "      <th>반납대여소번호</th>\n",
       "      <th>반납대여소명</th>\n",
       "      <th>반납거치대</th>\n",
       "      <th>이용시간</th>\n",
       "      <th>이용거리</th>\n",
       "    </tr>\n",
       "  </thead>\n",
       "  <tbody>\n",
       "    <tr>\n",
       "      <th>0</th>\n",
       "      <td>SPB-53145</td>\n",
       "      <td>2021-01-02 20:50:36</td>\n",
       "      <td>3</td>\n",
       "      <td>중랑센터</td>\n",
       "      <td>0</td>\n",
       "      <td>2021-01-02 21:15:41</td>\n",
       "      <td>668</td>\n",
       "      <td>서울축산농협(장안지점)</td>\n",
       "      <td>0</td>\n",
       "      <td>25.0</td>\n",
       "      <td>0.00</td>\n",
       "    </tr>\n",
       "    <tr>\n",
       "      <th>1</th>\n",
       "      <td>SPB-53074</td>\n",
       "      <td>2021-01-04 16:02:12</td>\n",
       "      <td>3</td>\n",
       "      <td>중랑센터</td>\n",
       "      <td>0</td>\n",
       "      <td>2021-01-04 16:17:06</td>\n",
       "      <td>668</td>\n",
       "      <td>서울축산농협(장안지점)</td>\n",
       "      <td>0</td>\n",
       "      <td>14.0</td>\n",
       "      <td>0.00</td>\n",
       "    </tr>\n",
       "    <tr>\n",
       "      <th>2</th>\n",
       "      <td>SPB-50952</td>\n",
       "      <td>2021-01-13 21:02:05</td>\n",
       "      <td>3</td>\n",
       "      <td>중랑센터</td>\n",
       "      <td>0</td>\n",
       "      <td>2021-01-13 21:14:04</td>\n",
       "      <td>668</td>\n",
       "      <td>서울축산농협(장안지점)</td>\n",
       "      <td>0</td>\n",
       "      <td>11.0</td>\n",
       "      <td>1853.99</td>\n",
       "    </tr>\n",
       "  </tbody>\n",
       "</table>\n",
       "</div>"
      ],
      "text/plain": [
       "       자전거번호                 대여일시  대여 대여소번호 대여 대여소명 대여거치대  \\\n",
       "0  SPB-53145  2021-01-02 20:50:36         3    중랑센터     0   \n",
       "1  SPB-53074  2021-01-04 16:02:12         3    중랑센터     0   \n",
       "2  SPB-50952  2021-01-13 21:02:05         3    중랑센터     0   \n",
       "\n",
       "                  반납일시 반납대여소번호        반납대여소명  반납거치대  이용시간     이용거리  \n",
       "0  2021-01-02 21:15:41     668  서울축산농협(장안지점)      0  25.0     0.00  \n",
       "1  2021-01-04 16:17:06     668  서울축산농협(장안지점)      0  14.0     0.00  \n",
       "2  2021-01-13 21:14:04     668  서울축산농협(장안지점)      0  11.0  1853.99  "
      ]
     },
     "execution_count": 10,
     "metadata": {},
     "output_type": "execute_result"
    }
   ],
   "source": [
    "# 데이터 연결 >> 확인\n",
    "# concat\n",
    "df = pd.concat([df1, df2, df3, df4, df5, df6])\n",
    "df.head(3)"
   ]
  },
  {
   "cell_type": "code",
   "execution_count": 12,
   "metadata": {},
   "outputs": [
    {
     "name": "stdout",
     "output_type": "stream",
     "text": [
      "<class 'pandas.core.frame.DataFrame'>\n",
      "Index: 13613873 entries, 0 to 3445943\n",
      "Data columns (total 11 columns):\n",
      " #   Column    Dtype  \n",
      "---  ------    -----  \n",
      " 0   자전거번호     object \n",
      " 1   대여일시      object \n",
      " 2   대여 대여소번호  int64  \n",
      " 3   대여 대여소명   object \n",
      " 4   대여거치대     object \n",
      " 5   반납일시      object \n",
      " 6   반납대여소번호   object \n",
      " 7   반납대여소명    object \n",
      " 8   반납거치대     int64  \n",
      " 9   이용시간      float64\n",
      " 10  이용거리      float64\n",
      "dtypes: float64(2), int64(2), object(7)\n",
      "memory usage: 1.2+ GB\n"
     ]
    }
   ],
   "source": [
    "df.info()"
   ]
  },
  {
   "cell_type": "code",
   "execution_count": 14,
   "metadata": {},
   "outputs": [],
   "source": [
    "# 데이터 전처리\n",
    "\n",
    "# 불필요한 컬럼 제거\n",
    "# >> 자전거 번호, 대여거치대, 반납거치대 제거\n",
    "df.drop(columns=['자전거번호','대여거치대','반납거치대'], inplace=True)"
   ]
  },
  {
   "cell_type": "code",
   "execution_count": 15,
   "metadata": {},
   "outputs": [
    {
     "data": {
      "text/html": [
       "<div>\n",
       "<style scoped>\n",
       "    .dataframe tbody tr th:only-of-type {\n",
       "        vertical-align: middle;\n",
       "    }\n",
       "\n",
       "    .dataframe tbody tr th {\n",
       "        vertical-align: top;\n",
       "    }\n",
       "\n",
       "    .dataframe thead th {\n",
       "        text-align: right;\n",
       "    }\n",
       "</style>\n",
       "<table border=\"1\" class=\"dataframe\">\n",
       "  <thead>\n",
       "    <tr style=\"text-align: right;\">\n",
       "      <th></th>\n",
       "      <th>대여일시</th>\n",
       "      <th>대여 대여소번호</th>\n",
       "      <th>대여 대여소명</th>\n",
       "      <th>반납일시</th>\n",
       "      <th>반납대여소번호</th>\n",
       "      <th>반납대여소명</th>\n",
       "      <th>이용시간</th>\n",
       "      <th>이용거리</th>\n",
       "    </tr>\n",
       "  </thead>\n",
       "  <tbody>\n",
       "    <tr>\n",
       "      <th>0</th>\n",
       "      <td>2021-01-02 20:50:36</td>\n",
       "      <td>3</td>\n",
       "      <td>중랑센터</td>\n",
       "      <td>2021-01-02 21:15:41</td>\n",
       "      <td>668</td>\n",
       "      <td>서울축산농협(장안지점)</td>\n",
       "      <td>25.0</td>\n",
       "      <td>0.00</td>\n",
       "    </tr>\n",
       "    <tr>\n",
       "      <th>1</th>\n",
       "      <td>2021-01-04 16:02:12</td>\n",
       "      <td>3</td>\n",
       "      <td>중랑센터</td>\n",
       "      <td>2021-01-04 16:17:06</td>\n",
       "      <td>668</td>\n",
       "      <td>서울축산농협(장안지점)</td>\n",
       "      <td>14.0</td>\n",
       "      <td>0.00</td>\n",
       "    </tr>\n",
       "    <tr>\n",
       "      <th>2</th>\n",
       "      <td>2021-01-13 21:02:05</td>\n",
       "      <td>3</td>\n",
       "      <td>중랑센터</td>\n",
       "      <td>2021-01-13 21:14:04</td>\n",
       "      <td>668</td>\n",
       "      <td>서울축산농협(장안지점)</td>\n",
       "      <td>11.0</td>\n",
       "      <td>1853.99</td>\n",
       "    </tr>\n",
       "  </tbody>\n",
       "</table>\n",
       "</div>"
      ],
      "text/plain": [
       "                  대여일시  대여 대여소번호 대여 대여소명                 반납일시 반납대여소번호  \\\n",
       "0  2021-01-02 20:50:36         3    중랑센터  2021-01-02 21:15:41     668   \n",
       "1  2021-01-04 16:02:12         3    중랑센터  2021-01-04 16:17:06     668   \n",
       "2  2021-01-13 21:02:05         3    중랑센터  2021-01-13 21:14:04     668   \n",
       "\n",
       "         반납대여소명  이용시간     이용거리  \n",
       "0  서울축산농협(장안지점)  25.0     0.00  \n",
       "1  서울축산농협(장안지점)  14.0     0.00  \n",
       "2  서울축산농협(장안지점)  11.0  1853.99  "
      ]
     },
     "execution_count": 15,
     "metadata": {},
     "output_type": "execute_result"
    }
   ],
   "source": [
    "df.head(3)"
   ]
  },
  {
   "cell_type": "code",
   "execution_count": 16,
   "metadata": {},
   "outputs": [
    {
     "name": "stdout",
     "output_type": "stream",
     "text": [
      "<class 'pandas.core.frame.DataFrame'>\n",
      "Index: 13613873 entries, 0 to 3445943\n",
      "Data columns (total 8 columns):\n",
      " #   Column    Dtype  \n",
      "---  ------    -----  \n",
      " 0   대여일시      object \n",
      " 1   대여 대여소번호  int64  \n",
      " 2   대여 대여소명   object \n",
      " 3   반납일시      object \n",
      " 4   반납대여소번호   object \n",
      " 5   반납대여소명    object \n",
      " 6   이용시간      float64\n",
      " 7   이용거리      float64\n",
      "dtypes: float64(2), int64(1), object(5)\n",
      "memory usage: 934.8+ MB\n"
     ]
    }
   ],
   "source": [
    "df.info()"
   ]
  },
  {
   "cell_type": "code",
   "execution_count": 17,
   "metadata": {},
   "outputs": [
    {
     "data": {
      "text/plain": [
       "대여일시         object\n",
       "대여 대여소번호      int64\n",
       "대여 대여소명      object\n",
       "반납일시         object\n",
       "반납대여소번호      object\n",
       "반납대여소명       object\n",
       "이용시간        float64\n",
       "이용거리        float64\n",
       "dtype: object"
      ]
     },
     "execution_count": 17,
     "metadata": {},
     "output_type": "execute_result"
    }
   ],
   "source": [
    "# 자료형 확인 및 변경\n"
   ]
  },
  {
   "cell_type": "code",
   "execution_count": 18,
   "metadata": {},
   "outputs": [],
   "source": [
    "# object >> category 형 변환 (대여 대여소번호, 반납대여소번호)\n",
    "df['대여 대여소번호'] = df['대여 대여소번호'].astype('category')\n",
    "df['반납대여소번호'] = df['반납대여소번호'].astype('category')"
   ]
  },
  {
   "cell_type": "code",
   "execution_count": 19,
   "metadata": {},
   "outputs": [
    {
     "data": {
      "text/plain": [
       "대여일시          object\n",
       "대여 대여소번호    category\n",
       "대여 대여소명       object\n",
       "반납일시          object\n",
       "반납대여소번호     category\n",
       "반납대여소명        object\n",
       "이용시간         float64\n",
       "이용거리         float64\n",
       "dtype: object"
      ]
     },
     "execution_count": 19,
     "metadata": {},
     "output_type": "execute_result"
    }
   ],
   "source": [
    "df.dtypes"
   ]
  },
  {
   "cell_type": "code",
   "execution_count": 20,
   "metadata": {},
   "outputs": [
    {
     "name": "stdout",
     "output_type": "stream",
     "text": [
      "<class 'pandas.core.frame.DataFrame'>\n",
      "Index: 13613873 entries, 0 to 3445943\n",
      "Data columns (total 8 columns):\n",
      " #   Column    Dtype   \n",
      "---  ------    -----   \n",
      " 0   대여일시      object  \n",
      " 1   대여 대여소번호  category\n",
      " 2   대여 대여소명   object  \n",
      " 3   반납일시      object  \n",
      " 4   반납대여소번호   category\n",
      " 5   반납대여소명    object  \n",
      " 6   이용시간      float64 \n",
      " 7   이용거리      float64 \n",
      "dtypes: category(2), float64(2), object(4)\n",
      "memory usage: 779.2+ MB\n"
     ]
    }
   ],
   "source": [
    "# 메모리 용량 확인\n",
    "df.info()"
   ]
  },
  {
   "cell_type": "code",
   "execution_count": 22,
   "metadata": {},
   "outputs": [],
   "source": [
    "# datetime 형 변환 : 대여일시, 반납일시\n",
    "df['대여일시'] = pd.to_datetime(df['대여일시'])\n",
    "df['반납일시'] = pd.to_datetime(df['반납일시'], errors='coerce')\n",
    "# errors = 'coerce' --> 에러를 강제로!\n",
    "# >> 변환 중에 오류가 발생할 경우, 해당 값을 NaT(Not a Time)으로 설정"
   ]
  },
  {
   "cell_type": "code",
   "execution_count": null,
   "metadata": {},
   "outputs": [],
   "source": [
    "df.head()"
   ]
  },
  {
   "cell_type": "code",
   "execution_count": 23,
   "metadata": {},
   "outputs": [
    {
     "data": {
      "text/plain": [
       "대여일시          0\n",
       "대여 대여소번호      0\n",
       "대여 대여소명       0\n",
       "반납일시        146\n",
       "반납대여소번호       0\n",
       "반납대여소명        0\n",
       "이용시간          0\n",
       "이용거리        269\n",
       "dtype: int64"
      ]
     },
     "execution_count": 23,
     "metadata": {},
     "output_type": "execute_result"
    }
   ],
   "source": [
    "# 결측치 확인 처리\n",
    "df.isnull().sum()"
   ]
  },
  {
   "cell_type": "code",
   "execution_count": 24,
   "metadata": {},
   "outputs": [],
   "source": [
    "# 결측치 제거\n",
    "df.dropna(inplace=True)"
   ]
  },
  {
   "cell_type": "code",
   "execution_count": 25,
   "metadata": {},
   "outputs": [
    {
     "data": {
      "text/plain": [
       "대여일시        0\n",
       "대여 대여소번호    0\n",
       "대여 대여소명     0\n",
       "반납일시        0\n",
       "반납대여소번호     0\n",
       "반납대여소명      0\n",
       "이용시간        0\n",
       "이용거리        0\n",
       "dtype: int64"
      ]
     },
     "execution_count": 25,
     "metadata": {},
     "output_type": "execute_result"
    }
   ],
   "source": [
    "df.isnull().sum()"
   ]
  },
  {
   "cell_type": "code",
   "execution_count": 26,
   "metadata": {},
   "outputs": [
    {
     "data": {
      "text/plain": [
       "0          2021-01-02\n",
       "1          2021-01-04\n",
       "2          2021-01-13\n",
       "3          2021-01-14\n",
       "4          2021-01-18\n",
       "              ...    \n",
       "3445939    2021-06-30\n",
       "3445940    2021-06-30\n",
       "3445941    2021-06-30\n",
       "3445942    2021-06-30\n",
       "3445943    2021-06-30\n",
       "Name: 대여일시, Length: 13613604, dtype: object"
      ]
     },
     "execution_count": 26,
     "metadata": {},
     "output_type": "execute_result"
    }
   ],
   "source": [
    "# 일별 이용 현황\n",
    "\n",
    "# 대여 날짜 컬럼 추가\n",
    "# >> date\n",
    "df['대여일시'].dt.date"
   ]
  },
  {
   "cell_type": "code",
   "execution_count": 27,
   "metadata": {},
   "outputs": [
    {
     "data": {
      "text/html": [
       "<div>\n",
       "<style scoped>\n",
       "    .dataframe tbody tr th:only-of-type {\n",
       "        vertical-align: middle;\n",
       "    }\n",
       "\n",
       "    .dataframe tbody tr th {\n",
       "        vertical-align: top;\n",
       "    }\n",
       "\n",
       "    .dataframe thead th {\n",
       "        text-align: right;\n",
       "    }\n",
       "</style>\n",
       "<table border=\"1\" class=\"dataframe\">\n",
       "  <thead>\n",
       "    <tr style=\"text-align: right;\">\n",
       "      <th></th>\n",
       "      <th>대여일시</th>\n",
       "      <th>대여 대여소번호</th>\n",
       "      <th>대여 대여소명</th>\n",
       "      <th>반납일시</th>\n",
       "      <th>반납대여소번호</th>\n",
       "      <th>반납대여소명</th>\n",
       "      <th>이용시간</th>\n",
       "      <th>이용거리</th>\n",
       "      <th>대여날짜</th>\n",
       "    </tr>\n",
       "  </thead>\n",
       "  <tbody>\n",
       "    <tr>\n",
       "      <th>0</th>\n",
       "      <td>2021-01-02 20:50:36</td>\n",
       "      <td>3</td>\n",
       "      <td>중랑센터</td>\n",
       "      <td>2021-01-02 21:15:41</td>\n",
       "      <td>668</td>\n",
       "      <td>서울축산농협(장안지점)</td>\n",
       "      <td>25.0</td>\n",
       "      <td>0.00</td>\n",
       "      <td>2021-01-02</td>\n",
       "    </tr>\n",
       "    <tr>\n",
       "      <th>1</th>\n",
       "      <td>2021-01-04 16:02:12</td>\n",
       "      <td>3</td>\n",
       "      <td>중랑센터</td>\n",
       "      <td>2021-01-04 16:17:06</td>\n",
       "      <td>668</td>\n",
       "      <td>서울축산농협(장안지점)</td>\n",
       "      <td>14.0</td>\n",
       "      <td>0.00</td>\n",
       "      <td>2021-01-04</td>\n",
       "    </tr>\n",
       "    <tr>\n",
       "      <th>2</th>\n",
       "      <td>2021-01-13 21:02:05</td>\n",
       "      <td>3</td>\n",
       "      <td>중랑센터</td>\n",
       "      <td>2021-01-13 21:14:04</td>\n",
       "      <td>668</td>\n",
       "      <td>서울축산농협(장안지점)</td>\n",
       "      <td>11.0</td>\n",
       "      <td>1853.99</td>\n",
       "      <td>2021-01-13</td>\n",
       "    </tr>\n",
       "  </tbody>\n",
       "</table>\n",
       "</div>"
      ],
      "text/plain": [
       "                 대여일시 대여 대여소번호 대여 대여소명                반납일시 반납대여소번호  \\\n",
       "0 2021-01-02 20:50:36        3    중랑센터 2021-01-02 21:15:41     668   \n",
       "1 2021-01-04 16:02:12        3    중랑센터 2021-01-04 16:17:06     668   \n",
       "2 2021-01-13 21:02:05        3    중랑센터 2021-01-13 21:14:04     668   \n",
       "\n",
       "         반납대여소명  이용시간     이용거리        대여날짜  \n",
       "0  서울축산농협(장안지점)  25.0     0.00  2021-01-02  \n",
       "1  서울축산농협(장안지점)  14.0     0.00  2021-01-04  \n",
       "2  서울축산농협(장안지점)  11.0  1853.99  2021-01-13  "
      ]
     },
     "execution_count": 27,
     "metadata": {},
     "output_type": "execute_result"
    }
   ],
   "source": [
    "df['대여날짜'] = df['대여일시'].dt.date\n",
    "df.head(3)"
   ]
  },
  {
   "cell_type": "code",
   "execution_count": 28,
   "metadata": {},
   "outputs": [
    {
     "data": {
      "text/html": [
       "<div>\n",
       "<style scoped>\n",
       "    .dataframe tbody tr th:only-of-type {\n",
       "        vertical-align: middle;\n",
       "    }\n",
       "\n",
       "    .dataframe tbody tr th {\n",
       "        vertical-align: top;\n",
       "    }\n",
       "\n",
       "    .dataframe thead th {\n",
       "        text-align: right;\n",
       "    }\n",
       "</style>\n",
       "<table border=\"1\" class=\"dataframe\">\n",
       "  <thead>\n",
       "    <tr style=\"text-align: right;\">\n",
       "      <th></th>\n",
       "      <th>대여일시</th>\n",
       "    </tr>\n",
       "    <tr>\n",
       "      <th>대여날짜</th>\n",
       "      <th></th>\n",
       "    </tr>\n",
       "  </thead>\n",
       "  <tbody>\n",
       "    <tr>\n",
       "      <th>2021-01-01</th>\n",
       "      <td>22119</td>\n",
       "    </tr>\n",
       "    <tr>\n",
       "      <th>2021-01-02</th>\n",
       "      <td>23463</td>\n",
       "    </tr>\n",
       "    <tr>\n",
       "      <th>2021-01-03</th>\n",
       "      <td>21656</td>\n",
       "    </tr>\n",
       "    <tr>\n",
       "      <th>2021-01-04</th>\n",
       "      <td>32732</td>\n",
       "    </tr>\n",
       "    <tr>\n",
       "      <th>2021-01-05</th>\n",
       "      <td>28819</td>\n",
       "    </tr>\n",
       "    <tr>\n",
       "      <th>...</th>\n",
       "      <td>...</td>\n",
       "    </tr>\n",
       "    <tr>\n",
       "      <th>2021-06-26</th>\n",
       "      <td>105414</td>\n",
       "    </tr>\n",
       "    <tr>\n",
       "      <th>2021-06-27</th>\n",
       "      <td>92486</td>\n",
       "    </tr>\n",
       "    <tr>\n",
       "      <th>2021-06-28</th>\n",
       "      <td>105882</td>\n",
       "    </tr>\n",
       "    <tr>\n",
       "      <th>2021-06-29</th>\n",
       "      <td>111436</td>\n",
       "    </tr>\n",
       "    <tr>\n",
       "      <th>2021-06-30</th>\n",
       "      <td>121632</td>\n",
       "    </tr>\n",
       "  </tbody>\n",
       "</table>\n",
       "<p>181 rows × 1 columns</p>\n",
       "</div>"
      ],
      "text/plain": [
       "              대여일시\n",
       "대여날짜              \n",
       "2021-01-01   22119\n",
       "2021-01-02   23463\n",
       "2021-01-03   21656\n",
       "2021-01-04   32732\n",
       "2021-01-05   28819\n",
       "...            ...\n",
       "2021-06-26  105414\n",
       "2021-06-27   92486\n",
       "2021-06-28  105882\n",
       "2021-06-29  111436\n",
       "2021-06-30  121632\n",
       "\n",
       "[181 rows x 1 columns]"
      ]
     },
     "execution_count": 28,
     "metadata": {},
     "output_type": "execute_result"
    }
   ],
   "source": [
    "# 대여날짜 별 대여건수\n",
    "# groupby, to_frame\n",
    "\n",
    "# 대여날짜 별 대여건수 추출\n",
    "df.groupby('대여날짜')['대여일시'].count().to_frame()"
   ]
  },
  {
   "cell_type": "code",
   "execution_count": 31,
   "metadata": {},
   "outputs": [],
   "source": [
    "df_count = df.groupby('대여날짜')['대여일시'].count().to_frame()"
   ]
  },
  {
   "cell_type": "code",
   "execution_count": 32,
   "metadata": {},
   "outputs": [
    {
     "data": {
      "text/html": [
       "<div>\n",
       "<style scoped>\n",
       "    .dataframe tbody tr th:only-of-type {\n",
       "        vertical-align: middle;\n",
       "    }\n",
       "\n",
       "    .dataframe tbody tr th {\n",
       "        vertical-align: top;\n",
       "    }\n",
       "\n",
       "    .dataframe thead th {\n",
       "        text-align: right;\n",
       "    }\n",
       "</style>\n",
       "<table border=\"1\" class=\"dataframe\">\n",
       "  <thead>\n",
       "    <tr style=\"text-align: right;\">\n",
       "      <th></th>\n",
       "      <th>대여일시</th>\n",
       "    </tr>\n",
       "    <tr>\n",
       "      <th>대여날짜</th>\n",
       "      <th></th>\n",
       "    </tr>\n",
       "  </thead>\n",
       "  <tbody>\n",
       "    <tr>\n",
       "      <th>2021-01-01</th>\n",
       "      <td>22119</td>\n",
       "    </tr>\n",
       "    <tr>\n",
       "      <th>2021-01-02</th>\n",
       "      <td>23463</td>\n",
       "    </tr>\n",
       "    <tr>\n",
       "      <th>2021-01-03</th>\n",
       "      <td>21656</td>\n",
       "    </tr>\n",
       "    <tr>\n",
       "      <th>2021-01-04</th>\n",
       "      <td>32732</td>\n",
       "    </tr>\n",
       "    <tr>\n",
       "      <th>2021-01-05</th>\n",
       "      <td>28819</td>\n",
       "    </tr>\n",
       "    <tr>\n",
       "      <th>...</th>\n",
       "      <td>...</td>\n",
       "    </tr>\n",
       "    <tr>\n",
       "      <th>2021-06-26</th>\n",
       "      <td>105414</td>\n",
       "    </tr>\n",
       "    <tr>\n",
       "      <th>2021-06-27</th>\n",
       "      <td>92486</td>\n",
       "    </tr>\n",
       "    <tr>\n",
       "      <th>2021-06-28</th>\n",
       "      <td>105882</td>\n",
       "    </tr>\n",
       "    <tr>\n",
       "      <th>2021-06-29</th>\n",
       "      <td>111436</td>\n",
       "    </tr>\n",
       "    <tr>\n",
       "      <th>2021-06-30</th>\n",
       "      <td>121632</td>\n",
       "    </tr>\n",
       "  </tbody>\n",
       "</table>\n",
       "<p>181 rows × 1 columns</p>\n",
       "</div>"
      ],
      "text/plain": [
       "              대여일시\n",
       "대여날짜              \n",
       "2021-01-01   22119\n",
       "2021-01-02   23463\n",
       "2021-01-03   21656\n",
       "2021-01-04   32732\n",
       "2021-01-05   28819\n",
       "...            ...\n",
       "2021-06-26  105414\n",
       "2021-06-27   92486\n",
       "2021-06-28  105882\n",
       "2021-06-29  111436\n",
       "2021-06-30  121632\n",
       "\n",
       "[181 rows x 1 columns]"
      ]
     },
     "execution_count": 32,
     "metadata": {},
     "output_type": "execute_result"
    }
   ],
   "source": [
    "df_count"
   ]
  },
  {
   "cell_type": "code",
   "execution_count": 30,
   "metadata": {},
   "outputs": [
    {
     "data": {
      "text/html": [
       "<div>\n",
       "<style scoped>\n",
       "    .dataframe tbody tr th:only-of-type {\n",
       "        vertical-align: middle;\n",
       "    }\n",
       "\n",
       "    .dataframe tbody tr th {\n",
       "        vertical-align: top;\n",
       "    }\n",
       "\n",
       "    .dataframe thead th {\n",
       "        text-align: right;\n",
       "    }\n",
       "</style>\n",
       "<table border=\"1\" class=\"dataframe\">\n",
       "  <thead>\n",
       "    <tr style=\"text-align: right;\">\n",
       "      <th></th>\n",
       "      <th>대여건수</th>\n",
       "    </tr>\n",
       "    <tr>\n",
       "      <th>대여날짜</th>\n",
       "      <th></th>\n",
       "    </tr>\n",
       "  </thead>\n",
       "  <tbody>\n",
       "    <tr>\n",
       "      <th>2021-01-01</th>\n",
       "      <td>22119</td>\n",
       "    </tr>\n",
       "    <tr>\n",
       "      <th>2021-01-02</th>\n",
       "      <td>23463</td>\n",
       "    </tr>\n",
       "    <tr>\n",
       "      <th>2021-01-03</th>\n",
       "      <td>21656</td>\n",
       "    </tr>\n",
       "  </tbody>\n",
       "</table>\n",
       "</div>"
      ],
      "text/plain": [
       "             대여건수\n",
       "대여날짜             \n",
       "2021-01-01  22119\n",
       "2021-01-02  23463\n",
       "2021-01-03  21656"
      ]
     },
     "execution_count": 30,
     "metadata": {},
     "output_type": "execute_result"
    }
   ],
   "source": [
    "df_count.columns = ['대여건수']\n",
    "df_count.head(3)"
   ]
  },
  {
   "cell_type": "code",
   "execution_count": 45,
   "metadata": {},
   "outputs": [
    {
     "name": "stdout",
     "output_type": "stream",
     "text": [
      "Collecting koreanize_matplotlib\n",
      "  Obtaining dependency information for koreanize_matplotlib from https://files.pythonhosted.org/packages/ef/91/93f56a4526d2dbead44250d9166d97568c2ce051c90eaa4be36788d59131/koreanize_matplotlib-0.1.1-py3-none-any.whl.metadata\n",
      "  Downloading koreanize_matplotlib-0.1.1-py3-none-any.whl.metadata (992 bytes)\n",
      "Requirement already satisfied: matplotlib in c:\\python312\\lib\\site-packages (from koreanize_matplotlib) (3.8.4)\n",
      "Requirement already satisfied: contourpy>=1.0.1 in c:\\python312\\lib\\site-packages (from matplotlib->koreanize_matplotlib) (1.2.1)\n",
      "Requirement already satisfied: cycler>=0.10 in c:\\python312\\lib\\site-packages (from matplotlib->koreanize_matplotlib) (0.12.1)\n",
      "Requirement already satisfied: fonttools>=4.22.0 in c:\\python312\\lib\\site-packages (from matplotlib->koreanize_matplotlib) (4.51.0)\n",
      "Requirement already satisfied: kiwisolver>=1.3.1 in c:\\python312\\lib\\site-packages (from matplotlib->koreanize_matplotlib) (1.4.5)\n",
      "Requirement already satisfied: numpy>=1.21 in c:\\python312\\lib\\site-packages (from matplotlib->koreanize_matplotlib) (1.26.4)\n",
      "Requirement already satisfied: packaging>=20.0 in c:\\users\\taeyoung\\appdata\\roaming\\python\\python312\\site-packages (from matplotlib->koreanize_matplotlib) (24.0)\n",
      "Requirement already satisfied: pillow>=8 in c:\\python312\\lib\\site-packages (from matplotlib->koreanize_matplotlib) (10.3.0)\n",
      "Requirement already satisfied: pyparsing>=2.3.1 in c:\\python312\\lib\\site-packages (from matplotlib->koreanize_matplotlib) (3.1.2)\n",
      "Requirement already satisfied: python-dateutil>=2.7 in c:\\users\\taeyoung\\appdata\\roaming\\python\\python312\\site-packages (from matplotlib->koreanize_matplotlib) (2.9.0.post0)\n",
      "Requirement already satisfied: six>=1.5 in c:\\users\\taeyoung\\appdata\\roaming\\python\\python312\\site-packages (from python-dateutil>=2.7->matplotlib->koreanize_matplotlib) (1.16.0)\n",
      "Using cached koreanize_matplotlib-0.1.1-py3-none-any.whl (7.9 MB)\n",
      "Installing collected packages: koreanize_matplotlib\n",
      "Successfully installed koreanize_matplotlib-0.1.1\n",
      "Note: you may need to restart the kernel to use updated packages.\n"
     ]
    },
    {
     "name": "stderr",
     "output_type": "stream",
     "text": [
      "\n",
      "[notice] A new release of pip is available: 23.2.1 -> 24.0\n",
      "[notice] To update, run: python.exe -m pip install --upgrade pip\n"
     ]
    }
   ],
   "source": [
    "# pip install koreanize_matplotlib"
   ]
  },
  {
   "cell_type": "code",
   "execution_count": 48,
   "metadata": {},
   "outputs": [
    {
     "data": {
      "image/png": "[encoded data removed]",
      "text/plain": [
       "<Figure size 640x480 with 1 Axes>"
      ]
     },
     "metadata": {},
     "output_type": "display_data"
    }
   ],
   "source": [
    "import matplotlib.pyplot as plt\n",
    "\n",
    "# 한글 폰트 설정\n",
    "plt.rcParams['font.family'] = 'NanumGothic'  # 한글 폰트를 나눔고딕으로 설정\n",
    "\n",
    "# 그래프 그리기\n",
    "plt.plot(df_count.index, df_count.values)\n",
    "plt.title('서울시 공공자전거 대여날짜별 대여 건수')\n",
    "plt.show()"
   ]
  },
  {
   "cell_type": "code",
   "execution_count": 49,
   "metadata": {},
   "outputs": [
    {
     "data": {
      "text/html": [
       "<div>\n",
       "<style scoped>\n",
       "    .dataframe tbody tr th:only-of-type {\n",
       "        vertical-align: middle;\n",
       "    }\n",
       "\n",
       "    .dataframe tbody tr th {\n",
       "        vertical-align: top;\n",
       "    }\n",
       "\n",
       "    .dataframe thead th {\n",
       "        text-align: right;\n",
       "    }\n",
       "</style>\n",
       "<table border=\"1\" class=\"dataframe\">\n",
       "  <thead>\n",
       "    <tr style=\"text-align: right;\">\n",
       "      <th></th>\n",
       "      <th>이용시간</th>\n",
       "    </tr>\n",
       "    <tr>\n",
       "      <th>대여날짜</th>\n",
       "      <th></th>\n",
       "    </tr>\n",
       "  </thead>\n",
       "  <tbody>\n",
       "    <tr>\n",
       "      <th>2021-01-01</th>\n",
       "      <td>692309.0</td>\n",
       "    </tr>\n",
       "    <tr>\n",
       "      <th>2021-01-02</th>\n",
       "      <td>686580.0</td>\n",
       "    </tr>\n",
       "    <tr>\n",
       "      <th>2021-01-03</th>\n",
       "      <td>609571.0</td>\n",
       "    </tr>\n",
       "    <tr>\n",
       "      <th>2021-01-04</th>\n",
       "      <td>750721.0</td>\n",
       "    </tr>\n",
       "    <tr>\n",
       "      <th>2021-01-05</th>\n",
       "      <td>610227.0</td>\n",
       "    </tr>\n",
       "    <tr>\n",
       "      <th>...</th>\n",
       "      <td>...</td>\n",
       "    </tr>\n",
       "    <tr>\n",
       "      <th>2021-06-26</th>\n",
       "      <td>3168288.0</td>\n",
       "    </tr>\n",
       "    <tr>\n",
       "      <th>2021-06-27</th>\n",
       "      <td>2706168.0</td>\n",
       "    </tr>\n",
       "    <tr>\n",
       "      <th>2021-06-28</th>\n",
       "      <td>2405249.0</td>\n",
       "    </tr>\n",
       "    <tr>\n",
       "      <th>2021-06-29</th>\n",
       "      <td>2530020.0</td>\n",
       "    </tr>\n",
       "    <tr>\n",
       "      <th>2021-06-30</th>\n",
       "      <td>2950342.0</td>\n",
       "    </tr>\n",
       "  </tbody>\n",
       "</table>\n",
       "<p>181 rows × 1 columns</p>\n",
       "</div>"
      ],
      "text/plain": [
       "                 이용시간\n",
       "대여날짜                 \n",
       "2021-01-01   692309.0\n",
       "2021-01-02   686580.0\n",
       "2021-01-03   609571.0\n",
       "2021-01-04   750721.0\n",
       "2021-01-05   610227.0\n",
       "...               ...\n",
       "2021-06-26  3168288.0\n",
       "2021-06-27  2706168.0\n",
       "2021-06-28  2405249.0\n",
       "2021-06-29  2530020.0\n",
       "2021-06-30  2950342.0\n",
       "\n",
       "[181 rows x 1 columns]"
      ]
     },
     "execution_count": 49,
     "metadata": {},
     "output_type": "execute_result"
    }
   ],
   "source": [
    "df_time = df.groupby('대여날짜')['이용시간'].sum().to_frame()\n",
    "df_time"
   ]
  },
  {
   "cell_type": "code",
   "execution_count": 52,
   "metadata": {},
   "outputs": [
    {
     "data": {
      "image/png": "[encoded data removed]",
      "text/plain": [
       "<Figure size 640x480 with 1 Axes>"
      ]
     },
     "metadata": {},
     "output_type": "display_data"
    }
   ],
   "source": [
    "\n",
    "plt.plot(df_time.index, df_time.values)\n",
    "plt.title('서울시 공공자전거 대여날짜 별 이용시간')\n",
    "plt.show()"
   ]
  },
  {
   "cell_type": "code",
   "execution_count": 51,
   "metadata": {},
   "outputs": [
    {
     "data": {
      "image/png": "[encoded data removed]",
      "text/plain": [
       "<Figure size 640x480 with 1 Axes>"
      ]
     },
     "metadata": {},
     "output_type": "display_data"
    }
   ],
   "source": [
    "# 대여 날짜 별 이용거리\n",
    "df_distance = df.groupby('대여날짜')['이용거리'].sum().to_frame()\n",
    "\n",
    "plt.plot(df_distance.index, df_distance.values)\n",
    "plt.title('서울시 공공자전거 대여날짜 별 이용거리')\n",
    "plt.show()"
   ]
  },
  {
   "cell_type": "code",
   "execution_count": 53,
   "metadata": {},
   "outputs": [
    {
     "data": {
      "text/html": [
       "<div>\n",
       "<style scoped>\n",
       "    .dataframe tbody tr th:only-of-type {\n",
       "        vertical-align: middle;\n",
       "    }\n",
       "\n",
       "    .dataframe tbody tr th {\n",
       "        vertical-align: top;\n",
       "    }\n",
       "\n",
       "    .dataframe thead th {\n",
       "        text-align: right;\n",
       "    }\n",
       "</style>\n",
       "<table border=\"1\" class=\"dataframe\">\n",
       "  <thead>\n",
       "    <tr style=\"text-align: right;\">\n",
       "      <th></th>\n",
       "      <th>이용시간</th>\n",
       "      <th>이용거리</th>\n",
       "      <th>대여일시</th>\n",
       "    </tr>\n",
       "    <tr>\n",
       "      <th>대여날짜</th>\n",
       "      <th></th>\n",
       "      <th></th>\n",
       "      <th></th>\n",
       "    </tr>\n",
       "  </thead>\n",
       "  <tbody>\n",
       "    <tr>\n",
       "      <th>2021-01-01</th>\n",
       "      <td>692309.0</td>\n",
       "      <td>4.613529e+07</td>\n",
       "      <td>22119</td>\n",
       "    </tr>\n",
       "    <tr>\n",
       "      <th>2021-01-02</th>\n",
       "      <td>686580.0</td>\n",
       "      <td>4.409618e+07</td>\n",
       "      <td>23463</td>\n",
       "    </tr>\n",
       "    <tr>\n",
       "      <th>2021-01-03</th>\n",
       "      <td>609571.0</td>\n",
       "      <td>4.059830e+07</td>\n",
       "      <td>21656</td>\n",
       "    </tr>\n",
       "    <tr>\n",
       "      <th>2021-01-04</th>\n",
       "      <td>750721.0</td>\n",
       "      <td>5.249645e+07</td>\n",
       "      <td>32732</td>\n",
       "    </tr>\n",
       "    <tr>\n",
       "      <th>2021-01-05</th>\n",
       "      <td>610227.0</td>\n",
       "      <td>6.944856e+07</td>\n",
       "      <td>28819</td>\n",
       "    </tr>\n",
       "    <tr>\n",
       "      <th>...</th>\n",
       "      <td>...</td>\n",
       "      <td>...</td>\n",
       "      <td>...</td>\n",
       "    </tr>\n",
       "    <tr>\n",
       "      <th>2021-06-26</th>\n",
       "      <td>3168288.0</td>\n",
       "      <td>3.635015e+08</td>\n",
       "      <td>105414</td>\n",
       "    </tr>\n",
       "    <tr>\n",
       "      <th>2021-06-27</th>\n",
       "      <td>2706168.0</td>\n",
       "      <td>3.078146e+08</td>\n",
       "      <td>92486</td>\n",
       "    </tr>\n",
       "    <tr>\n",
       "      <th>2021-06-28</th>\n",
       "      <td>2405249.0</td>\n",
       "      <td>2.828124e+08</td>\n",
       "      <td>105882</td>\n",
       "    </tr>\n",
       "    <tr>\n",
       "      <th>2021-06-29</th>\n",
       "      <td>2530020.0</td>\n",
       "      <td>3.031029e+08</td>\n",
       "      <td>111436</td>\n",
       "    </tr>\n",
       "    <tr>\n",
       "      <th>2021-06-30</th>\n",
       "      <td>2950342.0</td>\n",
       "      <td>3.395277e+08</td>\n",
       "      <td>121632</td>\n",
       "    </tr>\n",
       "  </tbody>\n",
       "</table>\n",
       "<p>181 rows × 3 columns</p>\n",
       "</div>"
      ],
      "text/plain": [
       "                 이용시간          이용거리    대여일시\n",
       "대여날짜                                       \n",
       "2021-01-01   692309.0  4.613529e+07   22119\n",
       "2021-01-02   686580.0  4.409618e+07   23463\n",
       "2021-01-03   609571.0  4.059830e+07   21656\n",
       "2021-01-04   750721.0  5.249645e+07   32732\n",
       "2021-01-05   610227.0  6.944856e+07   28819\n",
       "...               ...           ...     ...\n",
       "2021-06-26  3168288.0  3.635015e+08  105414\n",
       "2021-06-27  2706168.0  3.078146e+08   92486\n",
       "2021-06-28  2405249.0  2.828124e+08  105882\n",
       "2021-06-29  2530020.0  3.031029e+08  111436\n",
       "2021-06-30  2950342.0  3.395277e+08  121632\n",
       "\n",
       "[181 rows x 3 columns]"
      ]
     },
     "execution_count": 53,
     "metadata": {},
     "output_type": "execute_result"
    }
   ],
   "source": [
    "df_date = pd.concat([df_time, df_distance, df_count], axis=1)\n",
    "df_date"
   ]
  },
  {
   "cell_type": "code",
   "execution_count": 54,
   "metadata": {},
   "outputs": [],
   "source": [
    "# 시간대 별 대여 및 반납 현황\n",
    "# 대여시간, 반납시간 컬럼 추가\n",
    "\n",
    "df['대여시간']= df['대여일시'].dt.hour\n",
    "df['반납시간'] = df['반납일시'].dt.hour"
   ]
  },
  {
   "cell_type": "code",
   "execution_count": 55,
   "metadata": {},
   "outputs": [
    {
     "data": {
      "text/plain": [
       "대여시간\n",
       "18    1432779\n",
       "17    1178279\n",
       "19     984476\n",
       "16     934211\n",
       "20     825031\n",
       "15     816040\n",
       "8      808506\n",
       "21     770378\n",
       "14     725175\n",
       "13     667237\n",
       "22     643611\n",
       "12     623065\n",
       "11     537810\n",
       "9      499995\n",
       "7      486775\n",
       "10     438084\n",
       "23     341859\n",
       "0      240025\n",
       "6      188920\n",
       "1      158905\n",
       "2      103629\n",
       "5       84713\n",
       "3       68710\n",
       "4       55391\n",
       "Name: count, dtype: int64"
      ]
     },
     "execution_count": 55,
     "metadata": {},
     "output_type": "execute_result"
    }
   ],
   "source": [
    "# 시간대별 대여 및 반납 현황\n",
    "\n",
    "df['대여시간'].value_counts()  # 결과 18시에 가장 많음"
   ]
  },
  {
   "cell_type": "code",
   "execution_count": 56,
   "metadata": {},
   "outputs": [
    {
     "data": {
      "text/plain": [
       "대여시간\n",
       "18    1432779\n",
       "17    1178279\n",
       "19     984476\n",
       "16     934211\n",
       "20     825031\n",
       "Name: count, dtype: int64"
      ]
     },
     "execution_count": 56,
     "metadata": {},
     "output_type": "execute_result"
    }
   ],
   "source": [
    "s_rental = df['대여시간'].value_counts()\n",
    "s_rental.head()"
   ]
  },
  {
   "cell_type": "code",
   "execution_count": 60,
   "metadata": {},
   "outputs": [
    {
     "data": {
      "image/png": "[encoded data removed]",
      "text/plain": [
       "<Figure size 640x480 with 1 Axes>"
      ]
     },
     "metadata": {},
     "output_type": "display_data"
    }
   ],
   "source": [
    "s_rental = s_rental.sort_index()\n",
    "\n",
    "x = s_rental.index\n",
    "y = s_rental.values\n",
    "\n",
    "plt.bar(x,y, color ='#7f00ff')\n",
    "plt.title('시간대별 공공자전거 대여건수')\n",
    "plt.xlabel('대여시간')\n",
    "plt.ylabel('대여건수')\n",
    "plt.show()"
   ]
  },
  {
   "cell_type": "code",
   "execution_count": 61,
   "metadata": {},
   "outputs": [
    {
     "data": {
      "text/plain": [
       "0             3\n",
       "1             3\n",
       "2             3\n",
       "3             3\n",
       "4             3\n",
       "           ... \n",
       "3445939     152\n",
       "3445940     152\n",
       "3445941     152\n",
       "3445942    2220\n",
       "3445943    2220\n",
       "Name: 대여 대여소번호, Length: 13613604, dtype: category\n",
       "Categories (2493, int64): [3, 5, 10, 101, ..., 9999, 88888, 99997, 99999]"
      ]
     },
     "execution_count": 61,
     "metadata": {},
     "output_type": "execute_result"
    }
   ],
   "source": [
    "# 대여소별 대여 및 반납 현황\n",
    "\n",
    "# 대여소 현황\n",
    "\n",
    "# 대여 대여소번호 개수\n",
    "\n",
    "df['대여 대여소번호']"
   ]
  },
  {
   "cell_type": "code",
   "execution_count": 62,
   "metadata": {},
   "outputs": [
    {
     "data": {
      "text/plain": [
       "0            668\n",
       "1            668\n",
       "2            668\n",
       "3            668\n",
       "4            540\n",
       "           ...  \n",
       "3445939    00126\n",
       "3445940    00437\n",
       "3445941    00437\n",
       "3445942    02526\n",
       "3445943    02526\n",
       "Name: 반납대여소번호, Length: 13613604, dtype: category\n",
       "Categories (4811, object): [3, 10, 101, 102, ..., '화랑대역 2번출구 앞', '휘경sk뷰아파트 앞', '휘경여중고삼거리', '흑석역 4번출구']"
      ]
     },
     "execution_count": 62,
     "metadata": {},
     "output_type": "execute_result"
    }
   ],
   "source": [
    "df['반납대여소번호']"
   ]
  },
  {
   "cell_type": "code",
   "execution_count": 63,
   "metadata": {},
   "outputs": [],
   "source": [
    "# 데이터 타입(형) 변환\n",
    "\n",
    "# 반납대여소 번호 처리(str 변환)\n",
    "df['반납대여소번호'] = df['반납대여소번호'].astype('str')"
   ]
  },
  {
   "cell_type": "code",
   "execution_count": 64,
   "metadata": {},
   "outputs": [
    {
     "data": {
      "text/plain": [
       "0            668\n",
       "1            668\n",
       "2            668\n",
       "3            668\n",
       "4            540\n",
       "           ...  \n",
       "3445939    00126\n",
       "3445940    00437\n",
       "3445941    00437\n",
       "3445942    02526\n",
       "3445943    02526\n",
       "Name: 반납대여소번호, Length: 13613604, dtype: object"
      ]
     },
     "execution_count": 64,
     "metadata": {},
     "output_type": "execute_result"
    }
   ],
   "source": [
    "df['반납대여소번호']"
   ]
  },
  {
   "cell_type": "code",
   "execution_count": 65,
   "metadata": {},
   "outputs": [],
   "source": [
    "# 반납대여소 번호 처리 (왼쪽 '0' 제거)\n",
    "df['반납대여소번호'] = df['반납대여소번호'].str.lstrip('0')"
   ]
  },
  {
   "cell_type": "code",
   "execution_count": 67,
   "metadata": {},
   "outputs": [
    {
     "data": {
      "text/plain": [
       "0           668\n",
       "1           668\n",
       "2           668\n",
       "3           668\n",
       "4           540\n",
       "           ... \n",
       "3445939     126\n",
       "3445940     437\n",
       "3445941     437\n",
       "3445942    2526\n",
       "3445943    2526\n",
       "Name: 반납대여소번호, Length: 13613604, dtype: int32"
      ]
     },
     "execution_count": 67,
     "metadata": {},
     "output_type": "execute_result"
    }
   ],
   "source": [
    "# 반납대여소 번호 처리(int변환)\n",
    "df['반납대여소번호'] = df['반납대여소번호'].astype('int')\n",
    "df['반납대여소번호']"
   ]
  },
  {
   "cell_type": "code",
   "execution_count": 69,
   "metadata": {},
   "outputs": [
    {
     "data": {
      "text/plain": [
       "0           668\n",
       "1           668\n",
       "2           668\n",
       "3           668\n",
       "4           540\n",
       "           ... \n",
       "3445939     126\n",
       "3445940     437\n",
       "3445941     437\n",
       "3445942    2526\n",
       "3445943    2526\n",
       "Name: 반납대여소번호, Length: 13613604, dtype: category\n",
       "Categories (2493, int32): [3, 5, 10, 101, ..., 9999, 88888, 99997, 99999]"
      ]
     },
     "execution_count": 69,
     "metadata": {},
     "output_type": "execute_result"
    }
   ],
   "source": [
    "# 반납대여소 번호 처리(category 변환)\n",
    "df['반납대여소번호'] = df['반납대여소번호'].astype('category')\n",
    "df['반납대여소번호']"
   ]
  },
  {
   "cell_type": "code",
   "execution_count": 70,
   "metadata": {},
   "outputs": [
    {
     "data": {
      "text/html": [
       "<div>\n",
       "<style scoped>\n",
       "    .dataframe tbody tr th:only-of-type {\n",
       "        vertical-align: middle;\n",
       "    }\n",
       "\n",
       "    .dataframe tbody tr th {\n",
       "        vertical-align: top;\n",
       "    }\n",
       "\n",
       "    .dataframe thead th {\n",
       "        text-align: right;\n",
       "    }\n",
       "</style>\n",
       "<table border=\"1\" class=\"dataframe\">\n",
       "  <thead>\n",
       "    <tr style=\"text-align: right;\">\n",
       "      <th></th>\n",
       "      <th>대여 대여소번호</th>\n",
       "      <th>대여 대여소명</th>\n",
       "    </tr>\n",
       "  </thead>\n",
       "  <tbody>\n",
       "    <tr>\n",
       "      <th>0</th>\n",
       "      <td>3</td>\n",
       "      <td>중랑센터</td>\n",
       "    </tr>\n",
       "    <tr>\n",
       "      <th>1</th>\n",
       "      <td>3</td>\n",
       "      <td>중랑센터</td>\n",
       "    </tr>\n",
       "    <tr>\n",
       "      <th>2</th>\n",
       "      <td>3</td>\n",
       "      <td>중랑센터</td>\n",
       "    </tr>\n",
       "    <tr>\n",
       "      <th>3</th>\n",
       "      <td>3</td>\n",
       "      <td>중랑센터</td>\n",
       "    </tr>\n",
       "    <tr>\n",
       "      <th>4</th>\n",
       "      <td>3</td>\n",
       "      <td>중랑센터</td>\n",
       "    </tr>\n",
       "    <tr>\n",
       "      <th>...</th>\n",
       "      <td>...</td>\n",
       "      <td>...</td>\n",
       "    </tr>\n",
       "    <tr>\n",
       "      <th>3445939</th>\n",
       "      <td>152</td>\n",
       "      <td>마포구민체육센터 앞</td>\n",
       "    </tr>\n",
       "    <tr>\n",
       "      <th>3445940</th>\n",
       "      <td>152</td>\n",
       "      <td>마포구민체육센터 앞</td>\n",
       "    </tr>\n",
       "    <tr>\n",
       "      <th>3445941</th>\n",
       "      <td>152</td>\n",
       "      <td>마포구민체육센터 앞</td>\n",
       "    </tr>\n",
       "    <tr>\n",
       "      <th>3445942</th>\n",
       "      <td>2220</td>\n",
       "      <td>반포본동 주민센터 앞</td>\n",
       "    </tr>\n",
       "    <tr>\n",
       "      <th>3445943</th>\n",
       "      <td>2220</td>\n",
       "      <td>반포본동 주민센터 앞</td>\n",
       "    </tr>\n",
       "  </tbody>\n",
       "</table>\n",
       "<p>13613604 rows × 2 columns</p>\n",
       "</div>"
      ],
      "text/plain": [
       "        대여 대여소번호      대여 대여소명\n",
       "0              3         중랑센터\n",
       "1              3         중랑센터\n",
       "2              3         중랑센터\n",
       "3              3         중랑센터\n",
       "4              3         중랑센터\n",
       "...          ...          ...\n",
       "3445939      152   마포구민체육센터 앞\n",
       "3445940      152   마포구민체육센터 앞\n",
       "3445941      152   마포구민체육센터 앞\n",
       "3445942     2220  반포본동 주민센터 앞\n",
       "3445943     2220  반포본동 주민센터 앞\n",
       "\n",
       "[13613604 rows x 2 columns]"
      ]
     },
     "execution_count": 70,
     "metadata": {},
     "output_type": "execute_result"
    }
   ],
   "source": [
    "# 대여 건수가 가장 많은 대여소 베스트 10 선정\n",
    "\n",
    "df[['대여 대여소번호','대여 대여소명']]"
   ]
  },
  {
   "cell_type": "code",
   "execution_count": 72,
   "metadata": {},
   "outputs": [
    {
     "data": {
      "text/html": [
       "<div>\n",
       "<style scoped>\n",
       "    .dataframe tbody tr th:only-of-type {\n",
       "        vertical-align: middle;\n",
       "    }\n",
       "\n",
       "    .dataframe tbody tr th {\n",
       "        vertical-align: top;\n",
       "    }\n",
       "\n",
       "    .dataframe thead th {\n",
       "        text-align: right;\n",
       "    }\n",
       "</style>\n",
       "<table border=\"1\" class=\"dataframe\">\n",
       "  <thead>\n",
       "    <tr style=\"text-align: right;\">\n",
       "      <th></th>\n",
       "      <th></th>\n",
       "      <th>count</th>\n",
       "    </tr>\n",
       "    <tr>\n",
       "      <th>대여 대여소번호</th>\n",
       "      <th>대여 대여소명</th>\n",
       "      <th></th>\n",
       "    </tr>\n",
       "  </thead>\n",
       "  <tbody>\n",
       "    <tr>\n",
       "      <th>207</th>\n",
       "      <th>여의나루역 1번출구 앞</th>\n",
       "      <td>68994</td>\n",
       "    </tr>\n",
       "    <tr>\n",
       "      <th>502</th>\n",
       "      <th>뚝섬유원지역 1번출구 앞</th>\n",
       "      <td>68588</td>\n",
       "    </tr>\n",
       "    <tr>\n",
       "      <th>152</th>\n",
       "      <th>마포구민체육센터 앞</th>\n",
       "      <td>43535</td>\n",
       "    </tr>\n",
       "    <tr>\n",
       "      <th>2102</th>\n",
       "      <th>봉림교 교통섬</th>\n",
       "      <td>43368</td>\n",
       "    </tr>\n",
       "    <tr>\n",
       "      <th>1210</th>\n",
       "      <th>롯데월드타워(잠실역2번출구 쪽)</th>\n",
       "      <td>37149</td>\n",
       "    </tr>\n",
       "    <tr>\n",
       "      <th>2715</th>\n",
       "      <th>마곡나루역 2번 출구</th>\n",
       "      <td>36988</td>\n",
       "    </tr>\n",
       "    <tr>\n",
       "      <th>2177</th>\n",
       "      <th>신대방역 2번 출구</th>\n",
       "      <td>31971</td>\n",
       "    </tr>\n",
       "    <tr>\n",
       "      <th>272</th>\n",
       "      <th>당산육갑문</th>\n",
       "      <td>31527</td>\n",
       "    </tr>\n",
       "    <tr>\n",
       "      <th>210</th>\n",
       "      <th>IFC몰</th>\n",
       "      <td>31443</td>\n",
       "    </tr>\n",
       "    <tr>\n",
       "      <th>565</th>\n",
       "      <th>옥수역 3번출구</th>\n",
       "      <td>29811</td>\n",
       "    </tr>\n",
       "  </tbody>\n",
       "</table>\n",
       "</div>"
      ],
      "text/plain": [
       "                            count\n",
       "대여 대여소번호 대여 대여소명                 \n",
       "207      여의나루역 1번출구 앞       68994\n",
       "502      뚝섬유원지역 1번출구 앞      68588\n",
       "152      마포구민체육센터 앞         43535\n",
       "2102     봉림교 교통섬            43368\n",
       "1210     롯데월드타워(잠실역2번출구 쪽)  37149\n",
       "2715     마곡나루역 2번 출구        36988\n",
       "2177     신대방역 2번 출구         31971\n",
       "272      당산육갑문              31527\n",
       "210      IFC몰               31443\n",
       "565      옥수역 3번출구           29811"
      ]
     },
     "execution_count": 72,
     "metadata": {},
     "output_type": "execute_result"
    }
   ],
   "source": [
    "df[['대여 대여소번호','대여 대여소명']].value_counts()[:10].to_frame()"
   ]
  },
  {
   "cell_type": "code",
   "execution_count": 73,
   "metadata": {},
   "outputs": [
    {
     "data": {
      "text/html": [
       "<div>\n",
       "<style scoped>\n",
       "    .dataframe tbody tr th:only-of-type {\n",
       "        vertical-align: middle;\n",
       "    }\n",
       "\n",
       "    .dataframe tbody tr th {\n",
       "        vertical-align: top;\n",
       "    }\n",
       "\n",
       "    .dataframe thead th {\n",
       "        text-align: right;\n",
       "    }\n",
       "</style>\n",
       "<table border=\"1\" class=\"dataframe\">\n",
       "  <thead>\n",
       "    <tr style=\"text-align: right;\">\n",
       "      <th></th>\n",
       "      <th></th>\n",
       "      <th>count</th>\n",
       "    </tr>\n",
       "    <tr>\n",
       "      <th>반납대여소번호</th>\n",
       "      <th>반납대여소명</th>\n",
       "      <th></th>\n",
       "    </tr>\n",
       "  </thead>\n",
       "  <tbody>\n",
       "    <tr>\n",
       "      <th>502</th>\n",
       "      <th>뚝섬유원지역 1번출구 앞</th>\n",
       "      <td>78958</td>\n",
       "    </tr>\n",
       "    <tr>\n",
       "      <th>207</th>\n",
       "      <th>여의나루역 1번출구 앞</th>\n",
       "      <td>68966</td>\n",
       "    </tr>\n",
       "    <tr>\n",
       "      <th>152</th>\n",
       "      <th>마포구민체육센터 앞</th>\n",
       "      <td>50607</td>\n",
       "    </tr>\n",
       "    <tr>\n",
       "      <th>2102</th>\n",
       "      <th>봉림교 교통섬</th>\n",
       "      <td>44572</td>\n",
       "    </tr>\n",
       "    <tr>\n",
       "      <th>1210</th>\n",
       "      <th>롯데월드타워(잠실역2번출구 쪽)</th>\n",
       "      <td>37344</td>\n",
       "    </tr>\n",
       "    <tr>\n",
       "      <th>2715</th>\n",
       "      <th>마곡나루역 2번 출구</th>\n",
       "      <td>36876</td>\n",
       "    </tr>\n",
       "    <tr>\n",
       "      <th>272</th>\n",
       "      <th>당산육갑문</th>\n",
       "      <td>34276</td>\n",
       "    </tr>\n",
       "    <tr>\n",
       "      <th>210</th>\n",
       "      <th>IFC몰</th>\n",
       "      <td>33758</td>\n",
       "    </tr>\n",
       "    <tr>\n",
       "      <th>2177</th>\n",
       "      <th>신대방역 2번 출구</th>\n",
       "      <td>33159</td>\n",
       "    </tr>\n",
       "    <tr>\n",
       "      <th>565</th>\n",
       "      <th>옥수역 3번출구</th>\n",
       "      <td>32381</td>\n",
       "    </tr>\n",
       "  </tbody>\n",
       "</table>\n",
       "</div>"
      ],
      "text/plain": [
       "                           count\n",
       "반납대여소번호 반납대여소명                  \n",
       "502     뚝섬유원지역 1번출구 앞      78958\n",
       "207     여의나루역 1번출구 앞       68966\n",
       "152     마포구민체육센터 앞         50607\n",
       "2102    봉림교 교통섬            44572\n",
       "1210    롯데월드타워(잠실역2번출구 쪽)  37344\n",
       "2715    마곡나루역 2번 출구        36876\n",
       "272     당산육갑문              34276\n",
       "210     IFC몰               33758\n",
       "2177    신대방역 2번 출구         33159\n",
       "565     옥수역 3번출구           32381"
      ]
     },
     "execution_count": 73,
     "metadata": {},
     "output_type": "execute_result"
    }
   ],
   "source": [
    "# 반납 건수가 가장 많은 대여소 베스트 10 선정\n",
    "\n",
    "df[['반납대여소번호','반납대여소명']].value_counts()[:10].to_frame()"
   ]
  },
  {
   "cell_type": "code",
   "execution_count": 76,
   "metadata": {},
   "outputs": [
    {
     "data": {
      "text/html": [
       "<div>\n",
       "<style scoped>\n",
       "    .dataframe tbody tr th:only-of-type {\n",
       "        vertical-align: middle;\n",
       "    }\n",
       "\n",
       "    .dataframe tbody tr th {\n",
       "        vertical-align: top;\n",
       "    }\n",
       "\n",
       "    .dataframe thead th {\n",
       "        text-align: right;\n",
       "    }\n",
       "</style>\n",
       "<table border=\"1\" class=\"dataframe\">\n",
       "  <thead>\n",
       "    <tr style=\"text-align: right;\">\n",
       "      <th></th>\n",
       "      <th>대여일시</th>\n",
       "      <th>대여 대여소번호</th>\n",
       "      <th>대여 대여소명</th>\n",
       "      <th>반납일시</th>\n",
       "      <th>반납대여소번호</th>\n",
       "      <th>반납대여소명</th>\n",
       "      <th>이용시간</th>\n",
       "      <th>이용거리</th>\n",
       "      <th>대여날짜</th>\n",
       "      <th>대여시간</th>\n",
       "      <th>반납시간</th>\n",
       "    </tr>\n",
       "  </thead>\n",
       "  <tbody>\n",
       "    <tr>\n",
       "      <th>45838</th>\n",
       "      <td>2021-01-01 01:05:49</td>\n",
       "      <td>207</td>\n",
       "      <td>여의나루역 1번출구 앞</td>\n",
       "      <td>2021-01-01 01:16:29</td>\n",
       "      <td>201</td>\n",
       "      <td>진미파라곤 앞</td>\n",
       "      <td>10.0</td>\n",
       "      <td>0.00</td>\n",
       "      <td>2021-01-01</td>\n",
       "      <td>1</td>\n",
       "      <td>1</td>\n",
       "    </tr>\n",
       "    <tr>\n",
       "      <th>45839</th>\n",
       "      <td>2021-01-01 04:28:45</td>\n",
       "      <td>207</td>\n",
       "      <td>여의나루역 1번출구 앞</td>\n",
       "      <td>2021-01-01 04:48:23</td>\n",
       "      <td>493</td>\n",
       "      <td>홍대입구역 6번출구</td>\n",
       "      <td>19.0</td>\n",
       "      <td>0.00</td>\n",
       "      <td>2021-01-01</td>\n",
       "      <td>4</td>\n",
       "      <td>4</td>\n",
       "    </tr>\n",
       "    <tr>\n",
       "      <th>45840</th>\n",
       "      <td>2021-01-01 09:39:23</td>\n",
       "      <td>207</td>\n",
       "      <td>여의나루역 1번출구 앞</td>\n",
       "      <td>2021-01-01 09:45:33</td>\n",
       "      <td>223</td>\n",
       "      <td>진주아파트상가 앞</td>\n",
       "      <td>6.0</td>\n",
       "      <td>877.23</td>\n",
       "      <td>2021-01-01</td>\n",
       "      <td>9</td>\n",
       "      <td>9</td>\n",
       "    </tr>\n",
       "    <tr>\n",
       "      <th>45841</th>\n",
       "      <td>2021-01-01 10:50:10</td>\n",
       "      <td>207</td>\n",
       "      <td>여의나루역 1번출구 앞</td>\n",
       "      <td>2021-01-01 11:17:49</td>\n",
       "      <td>207</td>\n",
       "      <td>여의나루역 1번출구 앞</td>\n",
       "      <td>27.0</td>\n",
       "      <td>0.00</td>\n",
       "      <td>2021-01-01</td>\n",
       "      <td>10</td>\n",
       "      <td>11</td>\n",
       "    </tr>\n",
       "    <tr>\n",
       "      <th>45842</th>\n",
       "      <td>2021-01-01 11:01:44</td>\n",
       "      <td>207</td>\n",
       "      <td>여의나루역 1번출구 앞</td>\n",
       "      <td>2021-01-01 11:19:02</td>\n",
       "      <td>207</td>\n",
       "      <td>여의나루역 1번출구 앞</td>\n",
       "      <td>17.0</td>\n",
       "      <td>0.00</td>\n",
       "      <td>2021-01-01</td>\n",
       "      <td>11</td>\n",
       "      <td>11</td>\n",
       "    </tr>\n",
       "    <tr>\n",
       "      <th>...</th>\n",
       "      <td>...</td>\n",
       "      <td>...</td>\n",
       "      <td>...</td>\n",
       "      <td>...</td>\n",
       "      <td>...</td>\n",
       "      <td>...</td>\n",
       "      <td>...</td>\n",
       "      <td>...</td>\n",
       "      <td>...</td>\n",
       "      <td>...</td>\n",
       "      <td>...</td>\n",
       "    </tr>\n",
       "    <tr>\n",
       "      <th>3445365</th>\n",
       "      <td>2021-06-30 22:34:23</td>\n",
       "      <td>207</td>\n",
       "      <td>여의나루역 1번출구 앞</td>\n",
       "      <td>2021-07-01 00:12:03</td>\n",
       "      <td>4526</td>\n",
       "      <td>목동아파트2단지 222동 앞</td>\n",
       "      <td>97.0</td>\n",
       "      <td>9268.32</td>\n",
       "      <td>2021-06-30</td>\n",
       "      <td>22</td>\n",
       "      <td>0</td>\n",
       "    </tr>\n",
       "    <tr>\n",
       "      <th>3445420</th>\n",
       "      <td>2021-06-30 22:36:03</td>\n",
       "      <td>207</td>\n",
       "      <td>여의나루역 1번출구 앞</td>\n",
       "      <td>2021-07-01 00:12:31</td>\n",
       "      <td>1148</td>\n",
       "      <td>볏골공원</td>\n",
       "      <td>96.0</td>\n",
       "      <td>10957.26</td>\n",
       "      <td>2021-06-30</td>\n",
       "      <td>22</td>\n",
       "      <td>0</td>\n",
       "    </tr>\n",
       "    <tr>\n",
       "      <th>3445452</th>\n",
       "      <td>2021-06-30 22:36:11</td>\n",
       "      <td>207</td>\n",
       "      <td>여의나루역 1번출구 앞</td>\n",
       "      <td>2021-07-01 00:12:44</td>\n",
       "      <td>704</td>\n",
       "      <td>남부법원검찰청 교차로</td>\n",
       "      <td>96.0</td>\n",
       "      <td>11358.59</td>\n",
       "      <td>2021-06-30</td>\n",
       "      <td>22</td>\n",
       "      <td>0</td>\n",
       "    </tr>\n",
       "    <tr>\n",
       "      <th>3445463</th>\n",
       "      <td>2021-06-30 22:53:04</td>\n",
       "      <td>207</td>\n",
       "      <td>여의나루역 1번출구 앞</td>\n",
       "      <td>2021-07-01 00:12:47</td>\n",
       "      <td>207</td>\n",
       "      <td>여의나루역 1번출구 앞</td>\n",
       "      <td>80.0</td>\n",
       "      <td>0.00</td>\n",
       "      <td>2021-06-30</td>\n",
       "      <td>22</td>\n",
       "      <td>0</td>\n",
       "    </tr>\n",
       "    <tr>\n",
       "      <th>3445487</th>\n",
       "      <td>2021-06-30 22:02:53</td>\n",
       "      <td>207</td>\n",
       "      <td>여의나루역 1번출구 앞</td>\n",
       "      <td>2021-07-01 00:13:00</td>\n",
       "      <td>2715</td>\n",
       "      <td>마곡나루역 2번 출구</td>\n",
       "      <td>130.0</td>\n",
       "      <td>13337.80</td>\n",
       "      <td>2021-06-30</td>\n",
       "      <td>22</td>\n",
       "      <td>0</td>\n",
       "    </tr>\n",
       "  </tbody>\n",
       "</table>\n",
       "<p>68995 rows × 11 columns</p>\n",
       "</div>"
      ],
      "text/plain": [
       "                       대여일시 대여 대여소번호       대여 대여소명                반납일시  \\\n",
       "45838   2021-01-01 01:05:49      207  여의나루역 1번출구 앞 2021-01-01 01:16:29   \n",
       "45839   2021-01-01 04:28:45      207  여의나루역 1번출구 앞 2021-01-01 04:48:23   \n",
       "45840   2021-01-01 09:39:23      207  여의나루역 1번출구 앞 2021-01-01 09:45:33   \n",
       "45841   2021-01-01 10:50:10      207  여의나루역 1번출구 앞 2021-01-01 11:17:49   \n",
       "45842   2021-01-01 11:01:44      207  여의나루역 1번출구 앞 2021-01-01 11:19:02   \n",
       "...                     ...      ...           ...                 ...   \n",
       "3445365 2021-06-30 22:34:23      207  여의나루역 1번출구 앞 2021-07-01 00:12:03   \n",
       "3445420 2021-06-30 22:36:03      207  여의나루역 1번출구 앞 2021-07-01 00:12:31   \n",
       "3445452 2021-06-30 22:36:11      207  여의나루역 1번출구 앞 2021-07-01 00:12:44   \n",
       "3445463 2021-06-30 22:53:04      207  여의나루역 1번출구 앞 2021-07-01 00:12:47   \n",
       "3445487 2021-06-30 22:02:53      207  여의나루역 1번출구 앞 2021-07-01 00:13:00   \n",
       "\n",
       "        반납대여소번호           반납대여소명   이용시간      이용거리        대여날짜  대여시간  반납시간  \n",
       "45838       201          진미파라곤 앞   10.0      0.00  2021-01-01     1     1  \n",
       "45839       493       홍대입구역 6번출구   19.0      0.00  2021-01-01     4     4  \n",
       "45840       223        진주아파트상가 앞    6.0    877.23  2021-01-01     9     9  \n",
       "45841       207     여의나루역 1번출구 앞   27.0      0.00  2021-01-01    10    11  \n",
       "45842       207     여의나루역 1번출구 앞   17.0      0.00  2021-01-01    11    11  \n",
       "...         ...              ...    ...       ...         ...   ...   ...  \n",
       "3445365    4526  목동아파트2단지 222동 앞   97.0   9268.32  2021-06-30    22     0  \n",
       "3445420    1148             볏골공원   96.0  10957.26  2021-06-30    22     0  \n",
       "3445452     704      남부법원검찰청 교차로   96.0  11358.59  2021-06-30    22     0  \n",
       "3445463     207     여의나루역 1번출구 앞   80.0      0.00  2021-06-30    22     0  \n",
       "3445487    2715      마곡나루역 2번 출구  130.0  13337.80  2021-06-30    22     0  \n",
       "\n",
       "[68995 rows x 11 columns]"
      ]
     },
     "execution_count": 76,
     "metadata": {},
     "output_type": "execute_result"
    }
   ],
   "source": [
    "# 여의나루역 1번출구 앞 대여소 이용 현황\n",
    "\n",
    "# 서브셋 만들기\n",
    "condition = df['대여 대여소번호'] == 207\n",
    "df[condition]\n",
    "\n",
    "df_207 = df[condition]\n",
    "df_207"
   ]
  },
  {
   "cell_type": "code",
   "execution_count": 81,
   "metadata": {},
   "outputs": [
    {
     "data": {
      "text/html": [
       "<div>\n",
       "<style scoped>\n",
       "    .dataframe tbody tr th:only-of-type {\n",
       "        vertical-align: middle;\n",
       "    }\n",
       "\n",
       "    .dataframe tbody tr th {\n",
       "        vertical-align: top;\n",
       "    }\n",
       "\n",
       "    .dataframe thead th {\n",
       "        text-align: right;\n",
       "    }\n",
       "</style>\n",
       "<table border=\"1\" class=\"dataframe\">\n",
       "  <thead>\n",
       "    <tr style=\"text-align: right;\">\n",
       "      <th></th>\n",
       "      <th></th>\n",
       "      <th>count</th>\n",
       "    </tr>\n",
       "    <tr>\n",
       "      <th>반납대여소번호</th>\n",
       "      <th>반납대여소명</th>\n",
       "      <th></th>\n",
       "    </tr>\n",
       "  </thead>\n",
       "  <tbody>\n",
       "    <tr>\n",
       "      <th>207</th>\n",
       "      <th>여의나루역 1번출구 앞</th>\n",
       "      <td>18347</td>\n",
       "    </tr>\n",
       "    <tr>\n",
       "      <th>202</th>\n",
       "      <th>국민일보 앞</th>\n",
       "      <td>2006</td>\n",
       "    </tr>\n",
       "    <tr>\n",
       "      <th>222</th>\n",
       "      <th>시범아파트버스정류장 옆</th>\n",
       "      <td>1588</td>\n",
       "    </tr>\n",
       "    <tr>\n",
       "      <th>249</th>\n",
       "      <th>여의도중학교 옆</th>\n",
       "      <td>1525</td>\n",
       "    </tr>\n",
       "    <tr>\n",
       "      <th>272</th>\n",
       "      <th>당산육갑문</th>\n",
       "      <td>1269</td>\n",
       "    </tr>\n",
       "    <tr>\n",
       "      <th>...</th>\n",
       "      <th>...</th>\n",
       "      <td>...</td>\n",
       "    </tr>\n",
       "    <tr>\n",
       "      <th>2414</th>\n",
       "      <th>도곡역 아카데미스위트 앞</th>\n",
       "      <td>1</td>\n",
       "    </tr>\n",
       "    <tr>\n",
       "      <th>669</th>\n",
       "      <th>청계한신휴플러스앞 삼거리</th>\n",
       "      <td>1</td>\n",
       "    </tr>\n",
       "    <tr>\n",
       "      <th>1661</th>\n",
       "      <th>당현천근린공원</th>\n",
       "      <td>1</td>\n",
       "    </tr>\n",
       "    <tr>\n",
       "      <th>1670</th>\n",
       "      <th>노원경찰서교차로</th>\n",
       "      <td>1</td>\n",
       "    </tr>\n",
       "    <tr>\n",
       "      <th>966</th>\n",
       "      <th>서울혁신파크1</th>\n",
       "      <td>1</td>\n",
       "    </tr>\n",
       "  </tbody>\n",
       "</table>\n",
       "<p>1413 rows × 1 columns</p>\n",
       "</div>"
      ],
      "text/plain": [
       "                       count\n",
       "반납대여소번호 반납대여소명              \n",
       "207     여의나루역 1번출구 앞   18347\n",
       "202     국민일보 앞          2006\n",
       "222     시범아파트버스정류장 옆    1588\n",
       "249     여의도중학교 옆        1525\n",
       "272     당산육갑문           1269\n",
       "...                      ...\n",
       "2414    도곡역 아카데미스위트 앞      1\n",
       "669     청계한신휴플러스앞 삼거리      1\n",
       "1661    당현천근린공원            1\n",
       "1670    노원경찰서교차로           1\n",
       "966     서울혁신파크1            1\n",
       "\n",
       "[1413 rows x 1 columns]"
      ]
     },
     "execution_count": 81,
     "metadata": {},
     "output_type": "execute_result"
    }
   ],
   "source": [
    "# 반납현황\n",
    "df_207[['반납대여소번호','반납대여소명']].value_counts().to_frame()"
   ]
  },
  {
   "cell_type": "code",
   "execution_count": 84,
   "metadata": {},
   "outputs": [
    {
     "name": "stderr",
     "output_type": "stream",
     "text": [
      "C:\\Users\\taeyoung\\AppData\\Local\\Temp\\ipykernel_29876\\2263167626.py:2: SettingWithCopyWarning: \n",
      "A value is trying to be set on a copy of a slice from a DataFrame.\n",
      "Try using .loc[row_indexer,col_indexer] = value instead\n",
      "\n",
      "See the caveats in the documentation: https://pandas.pydata.org/pandas-docs/stable/user_guide/indexing.html#returning-a-view-versus-a-copy\n",
      "  df_207['대여요일'] = df_207['대여일시'].dt.strftime('%a')\n"
     ]
    },
    {
     "data": {
      "text/plain": [
       "45838      Fri\n",
       "45839      Fri\n",
       "45840      Fri\n",
       "45841      Fri\n",
       "45842      Fri\n",
       "          ... \n",
       "3445365    Wed\n",
       "3445420    Wed\n",
       "3445452    Wed\n",
       "3445463    Wed\n",
       "3445487    Wed\n",
       "Name: 대여요일, Length: 68995, dtype: object"
      ]
     },
     "execution_count": 84,
     "metadata": {},
     "output_type": "execute_result"
    }
   ],
   "source": [
    "# 요일별 대여 현황\n",
    "df_207['대여요일'] = df_207['대여일시'].dt.strftime('%a')\n",
    "df_207['대여요일']"
   ]
  },
  {
   "cell_type": "code",
   "execution_count": 85,
   "metadata": {},
   "outputs": [
    {
     "data": {
      "text/plain": [
       "대여요일\n",
       "Sun    14454\n",
       "Sat    10932\n",
       "Wed    10755\n",
       "Fri     9191\n",
       "Mon     8391\n",
       "Thu     8037\n",
       "Tue     7235\n",
       "Name: count, dtype: int64"
      ]
     },
     "execution_count": 85,
     "metadata": {},
     "output_type": "execute_result"
    }
   ],
   "source": [
    "df_207['대여요일'].value_counts()"
   ]
  },
  {
   "cell_type": "code",
   "execution_count": 86,
   "metadata": {},
   "outputs": [
    {
     "data": {
      "text/plain": [
       "45838       10.0\n",
       "45839       19.0\n",
       "45840        6.0\n",
       "45841       27.0\n",
       "45842       17.0\n",
       "           ...  \n",
       "3445365     97.0\n",
       "3445420     96.0\n",
       "3445452     96.0\n",
       "3445463     80.0\n",
       "3445487    130.0\n",
       "Name: 이용시간, Length: 68995, dtype: float64"
      ]
     },
     "execution_count": 86,
     "metadata": {},
     "output_type": "execute_result"
    }
   ],
   "source": [
    "# 이용시간 통계\n",
    "\n",
    "df_207['이용시간']"
   ]
  },
  {
   "cell_type": "code",
   "execution_count": 88,
   "metadata": {},
   "outputs": [
    {
     "data": {
      "text/plain": [
       "50.28551344300312"
      ]
     },
     "execution_count": 88,
     "metadata": {},
     "output_type": "execute_result"
    }
   ],
   "source": [
    "df_207['이용시간'].mean()"
   ]
  },
  {
   "cell_type": "code",
   "execution_count": 90,
   "metadata": {},
   "outputs": [
    {
     "name": "stdout",
     "output_type": "stream",
     "text": [
      "1268.0\n",
      "\n",
      "1.0\n"
     ]
    }
   ],
   "source": [
    "print(df_207['이용시간'].max())\n",
    "print()\n",
    "print(df_207['이용시간'].min())"
   ]
  },
  {
   "cell_type": "code",
   "execution_count": 91,
   "metadata": {},
   "outputs": [
    {
     "data": {
      "text/plain": [
       "27.27823322905529"
      ]
     },
     "execution_count": 91,
     "metadata": {},
     "output_type": "execute_result"
    }
   ],
   "source": [
    "df['이용시간'].mean()"
   ]
  }
 ],
 "metadata": {
  "kernelspec": {
   "display_name": "Python 3",
   "language": "python",
   "name": "python3"
  },
  "language_info": {
   "codemirror_mode": {
    "name": "ipython",
    "version": 3
   },
   "file_extension": ".py",
   "mimetype": "text/x-python",
   "name": "python",
   "nbconvert_exporter": "python",
   "pygments_lexer": "ipython3",
   "version": "3.12.0"
  }
 },
 "nbformat": 4,
 "nbformat_minor": 2
}
