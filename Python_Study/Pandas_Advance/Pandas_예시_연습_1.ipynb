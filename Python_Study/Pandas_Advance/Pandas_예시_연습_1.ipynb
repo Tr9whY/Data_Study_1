{
 "cells": [
  {
   "cell_type": "code",
   "execution_count": 2,
   "metadata": {},
   "outputs": [],
   "source": [
    "import pandas as pd\n",
    "import numpy as np\n",
    "import matplotlib.pyplot as plt\n",
    "import matplotlib as mpl\n",
    "%matplotlib inline"
   ]
  },
  {
   "cell_type": "code",
   "execution_count": 3,
   "metadata": {},
   "outputs": [
    {
     "data": {
      "text/plain": [
       "False"
      ]
     },
     "execution_count": 3,
     "metadata": {},
     "output_type": "execute_result"
    }
   ],
   "source": [
    "from matplotlib import font_manager, rc\n",
    "import matplotlib as mpl\n",
    "\n",
    "# 마이너스 깨짐 현상 해결\n",
    "mpl.rcParams['axes.unicode_minus'] = False\n",
    "plt.rcParams['font.family'] == 'MS Gothic'"
   ]
  },
  {
   "cell_type": "markdown",
   "metadata": {},
   "source": [
    "## 예시"
   ]
  },
  {
   "cell_type": "code",
   "execution_count": 25,
   "metadata": {},
   "outputs": [],
   "source": [
    "# 한국인, 일본인 각 성인 100명 육류 소비량 데이터 생성\n",
    "\n",
    "np.random.randn(1000)  # 0~1 사이 가상의 데이터 1000개 생성\n",
    "\n",
    "meat_consumption_kor = np.random.randn(1000) + 54\n",
    "meat_consumption_jpn = np.random.randn(1000) + 32"
   ]
  },
  {
   "cell_type": "code",
   "execution_count": 26,
   "metadata": {},
   "outputs": [
    {
     "data": {
      "text/html": [
       "<div>\n",
       "<style scoped>\n",
       "    .dataframe tbody tr th:only-of-type {\n",
       "        vertical-align: middle;\n",
       "    }\n",
       "\n",
       "    .dataframe tbody tr th {\n",
       "        vertical-align: top;\n",
       "    }\n",
       "\n",
       "    .dataframe thead th {\n",
       "        text-align: right;\n",
       "    }\n",
       "</style>\n",
       "<table border=\"1\" class=\"dataframe\">\n",
       "  <thead>\n",
       "    <tr style=\"text-align: right;\">\n",
       "      <th></th>\n",
       "      <th>한국인</th>\n",
       "      <th>일본인</th>\n",
       "    </tr>\n",
       "  </thead>\n",
       "  <tbody>\n",
       "    <tr>\n",
       "      <th>0</th>\n",
       "      <td>52.309381</td>\n",
       "      <td>31.699643</td>\n",
       "    </tr>\n",
       "    <tr>\n",
       "      <th>1</th>\n",
       "      <td>53.664183</td>\n",
       "      <td>32.590076</td>\n",
       "    </tr>\n",
       "    <tr>\n",
       "      <th>2</th>\n",
       "      <td>55.070145</td>\n",
       "      <td>31.440806</td>\n",
       "    </tr>\n",
       "  </tbody>\n",
       "</table>\n",
       "</div>"
      ],
      "text/plain": [
       "         한국인        일본인\n",
       "0  52.309381  31.699643\n",
       "1  53.664183  32.590076\n",
       "2  55.070145  31.440806"
      ]
     },
     "execution_count": 26,
     "metadata": {},
     "output_type": "execute_result"
    }
   ],
   "source": [
    "# 데이터 프레임 생성\n",
    "raw = pd.DataFrame({'한국인': meat_consumption_kor,\n",
    "              '일본인': meat_consumption_jpn})\n",
    "\n",
    "df = raw.copy()\n",
    "df.head(3)"
   ]
  },
  {
   "cell_type": "code",
   "execution_count": 27,
   "metadata": {},
   "outputs": [
    {
     "data": {
      "image/png": "[encoded data removed]",
      "text/plain": [
       "<Figure size 640x480 with 1 Axes>"
      ]
     },
     "metadata": {},
     "output_type": "display_data"
    }
   ],
   "source": [
    "# 한국인 육류 소비량 히스토그램\n",
    "\n",
    "plt.hist(meat_consumption_kor)\n",
    "plt.xlabel('Korea')\n",
    "plt.show()"
   ]
  },
  {
   "cell_type": "code",
   "execution_count": 28,
   "metadata": {},
   "outputs": [
    {
     "data": {
      "image/png": "[encoded data removed]",
      "text/plain": [
       "<Figure size 640x480 with 1 Axes>"
      ]
     },
     "metadata": {},
     "output_type": "display_data"
    }
   ],
   "source": [
    "plt.hist(meat_consumption_jpn)\n",
    "plt.xlabel('Japan')\n",
    "plt.show()"
   ]
  },
  {
   "cell_type": "code",
   "execution_count": 29,
   "metadata": {},
   "outputs": [],
   "source": [
    "# 표준 정규화 함수 zscore() 함수 이용\n",
    "# 기존 데이터프레임 데이터에 새 열 생성(zscore 즉 데이터표준화 한 컬럼 추가)\n",
    "\n",
    "import scipy.stats as ss\n",
    "df['한국인정규화'] = ss.zscore(meat_consumption_kor)\n",
    "df['일본인정규화'] = ss.zscore(meat_consumption_jpn)"
   ]
  },
  {
   "cell_type": "code",
   "execution_count": 30,
   "metadata": {},
   "outputs": [
    {
     "data": {
      "text/html": [
       "<div>\n",
       "<style scoped>\n",
       "    .dataframe tbody tr th:only-of-type {\n",
       "        vertical-align: middle;\n",
       "    }\n",
       "\n",
       "    .dataframe tbody tr th {\n",
       "        vertical-align: top;\n",
       "    }\n",
       "\n",
       "    .dataframe thead th {\n",
       "        text-align: right;\n",
       "    }\n",
       "</style>\n",
       "<table border=\"1\" class=\"dataframe\">\n",
       "  <thead>\n",
       "    <tr style=\"text-align: right;\">\n",
       "      <th></th>\n",
       "      <th>한국인</th>\n",
       "      <th>일본인</th>\n",
       "      <th>한국인정규화</th>\n",
       "      <th>일본인정규화</th>\n",
       "    </tr>\n",
       "  </thead>\n",
       "  <tbody>\n",
       "    <tr>\n",
       "      <th>0</th>\n",
       "      <td>52.309381</td>\n",
       "      <td>31.699643</td>\n",
       "      <td>-1.698938</td>\n",
       "      <td>-0.307959</td>\n",
       "    </tr>\n",
       "    <tr>\n",
       "      <th>1</th>\n",
       "      <td>53.664183</td>\n",
       "      <td>32.590076</td>\n",
       "      <td>-0.345098</td>\n",
       "      <td>0.554531</td>\n",
       "    </tr>\n",
       "    <tr>\n",
       "      <th>2</th>\n",
       "      <td>55.070145</td>\n",
       "      <td>31.440806</td>\n",
       "      <td>1.059865</td>\n",
       "      <td>-0.558673</td>\n",
       "    </tr>\n",
       "  </tbody>\n",
       "</table>\n",
       "</div>"
      ],
      "text/plain": [
       "         한국인        일본인    한국인정규화    일본인정규화\n",
       "0  52.309381  31.699643 -1.698938 -0.307959\n",
       "1  53.664183  32.590076 -0.345098  0.554531\n",
       "2  55.070145  31.440806  1.059865 -0.558673"
      ]
     },
     "execution_count": 30,
     "metadata": {},
     "output_type": "execute_result"
    }
   ],
   "source": [
    "df.head(3)"
   ]
  },
  {
   "cell_type": "code",
   "execution_count": 31,
   "metadata": {},
   "outputs": [],
   "source": [
    "# 표준정규화 수식 활용\n",
    "# (x-x_bar) / sigma >> zscore\n",
    "df['한국인정규화_수식']=\\\n",
    "(meat_consumption_kor - np.mean(meat_consumption_kor)) / np.std(meat_consumption_kor)\n",
    "df['일본인정규화_수식']=\\\n",
    "(meat_consumption_jpn - np.mean(meat_consumption_jpn)) / np.std(meat_consumption_jpn)"
   ]
  },
  {
   "cell_type": "code",
   "execution_count": 32,
   "metadata": {},
   "outputs": [
    {
     "data": {
      "text/html": [
       "<div>\n",
       "<style scoped>\n",
       "    .dataframe tbody tr th:only-of-type {\n",
       "        vertical-align: middle;\n",
       "    }\n",
       "\n",
       "    .dataframe tbody tr th {\n",
       "        vertical-align: top;\n",
       "    }\n",
       "\n",
       "    .dataframe thead th {\n",
       "        text-align: right;\n",
       "    }\n",
       "</style>\n",
       "<table border=\"1\" class=\"dataframe\">\n",
       "  <thead>\n",
       "    <tr style=\"text-align: right;\">\n",
       "      <th></th>\n",
       "      <th>한국인</th>\n",
       "      <th>일본인</th>\n",
       "      <th>한국인정규화</th>\n",
       "      <th>일본인정규화</th>\n",
       "      <th>한국인정규화_수식</th>\n",
       "      <th>일본인정규화_수식</th>\n",
       "    </tr>\n",
       "  </thead>\n",
       "  <tbody>\n",
       "    <tr>\n",
       "      <th>0</th>\n",
       "      <td>52.309381</td>\n",
       "      <td>31.699643</td>\n",
       "      <td>-1.698938</td>\n",
       "      <td>-0.307959</td>\n",
       "      <td>-1.698938</td>\n",
       "      <td>-0.307959</td>\n",
       "    </tr>\n",
       "    <tr>\n",
       "      <th>1</th>\n",
       "      <td>53.664183</td>\n",
       "      <td>32.590076</td>\n",
       "      <td>-0.345098</td>\n",
       "      <td>0.554531</td>\n",
       "      <td>-0.345098</td>\n",
       "      <td>0.554531</td>\n",
       "    </tr>\n",
       "    <tr>\n",
       "      <th>2</th>\n",
       "      <td>55.070145</td>\n",
       "      <td>31.440806</td>\n",
       "      <td>1.059865</td>\n",
       "      <td>-0.558673</td>\n",
       "      <td>1.059865</td>\n",
       "      <td>-0.558673</td>\n",
       "    </tr>\n",
       "  </tbody>\n",
       "</table>\n",
       "</div>"
      ],
      "text/plain": [
       "         한국인        일본인    한국인정규화    일본인정규화  한국인정규화_수식  일본인정규화_수식\n",
       "0  52.309381  31.699643 -1.698938 -0.307959  -1.698938  -0.307959\n",
       "1  53.664183  32.590076 -0.345098  0.554531  -0.345098   0.554531\n",
       "2  55.070145  31.440806  1.059865 -0.558673   1.059865  -0.558673"
      ]
     },
     "execution_count": 32,
     "metadata": {},
     "output_type": "execute_result"
    }
   ],
   "source": [
    "df.head(3)"
   ]
  },
  {
   "cell_type": "code",
   "execution_count": 33,
   "metadata": {},
   "outputs": [
    {
     "data": {
      "image/png": "[encoded data removed]",
      "text/plain": [
       "<Figure size 640x480 with 1 Axes>"
      ]
     },
     "metadata": {},
     "output_type": "display_data"
    },
    {
     "data": {
      "image/png": "[encoded data removed]",
      "text/plain": [
       "<Figure size 640x480 with 1 Axes>"
      ]
     },
     "metadata": {},
     "output_type": "display_data"
    }
   ],
   "source": [
    "# 표준화된 데이터에 대한 히스토그램 그리기\n",
    "\n",
    "plt.hist(df['한국인정규화'])\n",
    "plt.xlabel('Korea')\n",
    "plt.show()\n",
    "\n",
    "plt.hist(df['일본인정규화'])\n",
    "plt.xlabel('Japan')\n",
    "plt.show()"
   ]
  },
  {
   "cell_type": "code",
   "execution_count": 34,
   "metadata": {},
   "outputs": [],
   "source": [
    "# 사이킷런 스케일러 활용 정규화(*** 암기할 것)\n",
    "\n",
    "from sklearn.preprocessing import StandardScaler\n",
    "\n",
    "scaler = StandardScaler()\n",
    "df['한국인정규화_사이킷런_표준화'] = scaler.fit_transform(df[['한국인']])  # 2차원 이여야 함.\n",
    "df['일본인정규화_사이킷런_표준화'] = scaler.fit_transform(df[['일본인']])"
   ]
  },
  {
   "cell_type": "code",
   "execution_count": 35,
   "metadata": {},
   "outputs": [
    {
     "data": {
      "text/html": [
       "<div>\n",
       "<style scoped>\n",
       "    .dataframe tbody tr th:only-of-type {\n",
       "        vertical-align: middle;\n",
       "    }\n",
       "\n",
       "    .dataframe tbody tr th {\n",
       "        vertical-align: top;\n",
       "    }\n",
       "\n",
       "    .dataframe thead th {\n",
       "        text-align: right;\n",
       "    }\n",
       "</style>\n",
       "<table border=\"1\" class=\"dataframe\">\n",
       "  <thead>\n",
       "    <tr style=\"text-align: right;\">\n",
       "      <th></th>\n",
       "      <th>한국인</th>\n",
       "      <th>일본인</th>\n",
       "      <th>한국인정규화</th>\n",
       "      <th>일본인정규화</th>\n",
       "      <th>한국인정규화_수식</th>\n",
       "      <th>일본인정규화_수식</th>\n",
       "      <th>한국인정규화_사이킷런_표준화</th>\n",
       "      <th>일본인정규화_사이킷런_표준화</th>\n",
       "    </tr>\n",
       "  </thead>\n",
       "  <tbody>\n",
       "    <tr>\n",
       "      <th>0</th>\n",
       "      <td>52.309381</td>\n",
       "      <td>31.699643</td>\n",
       "      <td>-1.698938</td>\n",
       "      <td>-0.307959</td>\n",
       "      <td>-1.698938</td>\n",
       "      <td>-0.307959</td>\n",
       "      <td>-1.698938</td>\n",
       "      <td>-0.307959</td>\n",
       "    </tr>\n",
       "    <tr>\n",
       "      <th>1</th>\n",
       "      <td>53.664183</td>\n",
       "      <td>32.590076</td>\n",
       "      <td>-0.345098</td>\n",
       "      <td>0.554531</td>\n",
       "      <td>-0.345098</td>\n",
       "      <td>0.554531</td>\n",
       "      <td>-0.345098</td>\n",
       "      <td>0.554531</td>\n",
       "    </tr>\n",
       "    <tr>\n",
       "      <th>2</th>\n",
       "      <td>55.070145</td>\n",
       "      <td>31.440806</td>\n",
       "      <td>1.059865</td>\n",
       "      <td>-0.558673</td>\n",
       "      <td>1.059865</td>\n",
       "      <td>-0.558673</td>\n",
       "      <td>1.059865</td>\n",
       "      <td>-0.558673</td>\n",
       "    </tr>\n",
       "    <tr>\n",
       "      <th>3</th>\n",
       "      <td>54.574175</td>\n",
       "      <td>31.124642</td>\n",
       "      <td>0.564248</td>\n",
       "      <td>-0.864916</td>\n",
       "      <td>0.564248</td>\n",
       "      <td>-0.864916</td>\n",
       "      <td>0.564248</td>\n",
       "      <td>-0.864916</td>\n",
       "    </tr>\n",
       "    <tr>\n",
       "      <th>4</th>\n",
       "      <td>54.427512</td>\n",
       "      <td>33.253019</td>\n",
       "      <td>0.417689</td>\n",
       "      <td>1.196670</td>\n",
       "      <td>0.417689</td>\n",
       "      <td>1.196670</td>\n",
       "      <td>0.417689</td>\n",
       "      <td>1.196670</td>\n",
       "    </tr>\n",
       "  </tbody>\n",
       "</table>\n",
       "</div>"
      ],
      "text/plain": [
       "         한국인        일본인    한국인정규화    일본인정규화  한국인정규화_수식  일본인정규화_수식  \\\n",
       "0  52.309381  31.699643 -1.698938 -0.307959  -1.698938  -0.307959   \n",
       "1  53.664183  32.590076 -0.345098  0.554531  -0.345098   0.554531   \n",
       "2  55.070145  31.440806  1.059865 -0.558673   1.059865  -0.558673   \n",
       "3  54.574175  31.124642  0.564248 -0.864916   0.564248  -0.864916   \n",
       "4  54.427512  33.253019  0.417689  1.196670   0.417689   1.196670   \n",
       "\n",
       "   한국인정규화_사이킷런_표준화  일본인정규화_사이킷런_표준화  \n",
       "0        -1.698938        -0.307959  \n",
       "1        -0.345098         0.554531  \n",
       "2         1.059865        -0.558673  \n",
       "3         0.564248        -0.864916  \n",
       "4         0.417689         1.196670  "
      ]
     },
     "execution_count": 35,
     "metadata": {},
     "output_type": "execute_result"
    }
   ],
   "source": [
    "df.head()"
   ]
  },
  {
   "cell_type": "code",
   "execution_count": 36,
   "metadata": {},
   "outputs": [
    {
     "data": {
      "text/html": [
       "<div>\n",
       "<style scoped>\n",
       "    .dataframe tbody tr th:only-of-type {\n",
       "        vertical-align: middle;\n",
       "    }\n",
       "\n",
       "    .dataframe tbody tr th {\n",
       "        vertical-align: top;\n",
       "    }\n",
       "\n",
       "    .dataframe thead th {\n",
       "        text-align: right;\n",
       "    }\n",
       "</style>\n",
       "<table border=\"1\" class=\"dataframe\">\n",
       "  <thead>\n",
       "    <tr style=\"text-align: right;\">\n",
       "      <th></th>\n",
       "      <th>한국인</th>\n",
       "    </tr>\n",
       "  </thead>\n",
       "  <tbody>\n",
       "    <tr>\n",
       "      <th>0</th>\n",
       "      <td>52.309381</td>\n",
       "    </tr>\n",
       "    <tr>\n",
       "      <th>1</th>\n",
       "      <td>53.664183</td>\n",
       "    </tr>\n",
       "    <tr>\n",
       "      <th>2</th>\n",
       "      <td>55.070145</td>\n",
       "    </tr>\n",
       "    <tr>\n",
       "      <th>3</th>\n",
       "      <td>54.574175</td>\n",
       "    </tr>\n",
       "    <tr>\n",
       "      <th>4</th>\n",
       "      <td>54.427512</td>\n",
       "    </tr>\n",
       "    <tr>\n",
       "      <th>...</th>\n",
       "      <td>...</td>\n",
       "    </tr>\n",
       "    <tr>\n",
       "      <th>995</th>\n",
       "      <td>55.527904</td>\n",
       "    </tr>\n",
       "    <tr>\n",
       "      <th>996</th>\n",
       "      <td>56.430404</td>\n",
       "    </tr>\n",
       "    <tr>\n",
       "      <th>997</th>\n",
       "      <td>53.737387</td>\n",
       "    </tr>\n",
       "    <tr>\n",
       "      <th>998</th>\n",
       "      <td>53.580241</td>\n",
       "    </tr>\n",
       "    <tr>\n",
       "      <th>999</th>\n",
       "      <td>54.651693</td>\n",
       "    </tr>\n",
       "  </tbody>\n",
       "</table>\n",
       "<p>1000 rows × 1 columns</p>\n",
       "</div>"
      ],
      "text/plain": [
       "           한국인\n",
       "0    52.309381\n",
       "1    53.664183\n",
       "2    55.070145\n",
       "3    54.574175\n",
       "4    54.427512\n",
       "..         ...\n",
       "995  55.527904\n",
       "996  56.430404\n",
       "997  53.737387\n",
       "998  53.580241\n",
       "999  54.651693\n",
       "\n",
       "[1000 rows x 1 columns]"
      ]
     },
     "execution_count": 36,
     "metadata": {},
     "output_type": "execute_result"
    }
   ],
   "source": [
    "df[['한국인']]"
   ]
  },
  {
   "cell_type": "code",
   "execution_count": 37,
   "metadata": {},
   "outputs": [],
   "source": [
    "# 정규화 : min-max ( min : 0 , max : 1)\n",
    "\n",
    "from sklearn.preprocessing import MinMaxScaler\n",
    "scaler = MinMaxScaler()\n",
    "\n",
    "df['한국인정규화_사이킷런_최소최대'] = scaler.fit_transform(df[['한국인']])  # 2차원 이여야 함.\n",
    "df['일본인정규화_사이킷런_최소최대'] = scaler.fit_transform(df[['일본인']])"
   ]
  },
  {
   "cell_type": "code",
   "execution_count": 38,
   "metadata": {},
   "outputs": [
    {
     "data": {
      "text/html": [
       "<div>\n",
       "<style scoped>\n",
       "    .dataframe tbody tr th:only-of-type {\n",
       "        vertical-align: middle;\n",
       "    }\n",
       "\n",
       "    .dataframe tbody tr th {\n",
       "        vertical-align: top;\n",
       "    }\n",
       "\n",
       "    .dataframe thead th {\n",
       "        text-align: right;\n",
       "    }\n",
       "</style>\n",
       "<table border=\"1\" class=\"dataframe\">\n",
       "  <thead>\n",
       "    <tr style=\"text-align: right;\">\n",
       "      <th></th>\n",
       "      <th>한국인</th>\n",
       "      <th>일본인</th>\n",
       "      <th>한국인정규화</th>\n",
       "      <th>일본인정규화</th>\n",
       "      <th>한국인정규화_수식</th>\n",
       "      <th>일본인정규화_수식</th>\n",
       "      <th>한국인정규화_사이킷런_표준화</th>\n",
       "      <th>일본인정규화_사이킷런_표준화</th>\n",
       "      <th>한국인정규화_사이킷런_최소최대</th>\n",
       "      <th>일본인정규화_사이킷런_최소최대</th>\n",
       "    </tr>\n",
       "  </thead>\n",
       "  <tbody>\n",
       "    <tr>\n",
       "      <th>0</th>\n",
       "      <td>52.309381</td>\n",
       "      <td>31.699643</td>\n",
       "      <td>-1.698938</td>\n",
       "      <td>-0.307959</td>\n",
       "      <td>-1.698938</td>\n",
       "      <td>-0.307959</td>\n",
       "      <td>-1.698938</td>\n",
       "      <td>-0.307959</td>\n",
       "      <td>0.215819</td>\n",
       "      <td>0.420247</td>\n",
       "    </tr>\n",
       "    <tr>\n",
       "      <th>1</th>\n",
       "      <td>53.664183</td>\n",
       "      <td>32.590076</td>\n",
       "      <td>-0.345098</td>\n",
       "      <td>0.554531</td>\n",
       "      <td>-0.345098</td>\n",
       "      <td>0.554531</td>\n",
       "      <td>-0.345098</td>\n",
       "      <td>0.554531</td>\n",
       "      <td>0.446330</td>\n",
       "      <td>0.561776</td>\n",
       "    </tr>\n",
       "    <tr>\n",
       "      <th>2</th>\n",
       "      <td>55.070145</td>\n",
       "      <td>31.440806</td>\n",
       "      <td>1.059865</td>\n",
       "      <td>-0.558673</td>\n",
       "      <td>1.059865</td>\n",
       "      <td>-0.558673</td>\n",
       "      <td>1.059865</td>\n",
       "      <td>-0.558673</td>\n",
       "      <td>0.685544</td>\n",
       "      <td>0.379106</td>\n",
       "    </tr>\n",
       "  </tbody>\n",
       "</table>\n",
       "</div>"
      ],
      "text/plain": [
       "         한국인        일본인    한국인정규화    일본인정규화  한국인정규화_수식  일본인정규화_수식  \\\n",
       "0  52.309381  31.699643 -1.698938 -0.307959  -1.698938  -0.307959   \n",
       "1  53.664183  32.590076 -0.345098  0.554531  -0.345098   0.554531   \n",
       "2  55.070145  31.440806  1.059865 -0.558673   1.059865  -0.558673   \n",
       "\n",
       "   한국인정규화_사이킷런_표준화  일본인정규화_사이킷런_표준화  한국인정규화_사이킷런_최소최대  일본인정규화_사이킷런_최소최대  \n",
       "0        -1.698938        -0.307959          0.215819          0.420247  \n",
       "1        -0.345098         0.554531          0.446330          0.561776  \n",
       "2         1.059865        -0.558673          0.685544          0.379106  "
      ]
     },
     "execution_count": 38,
     "metadata": {},
     "output_type": "execute_result"
    }
   ],
   "source": [
    "df.head(3)"
   ]
  },
  {
   "cell_type": "code",
   "execution_count": 39,
   "metadata": {},
   "outputs": [
    {
     "data": {
      "text/html": [
       "<div>\n",
       "<style scoped>\n",
       "    .dataframe tbody tr th:only-of-type {\n",
       "        vertical-align: middle;\n",
       "    }\n",
       "\n",
       "    .dataframe tbody tr th {\n",
       "        vertical-align: top;\n",
       "    }\n",
       "\n",
       "    .dataframe thead th {\n",
       "        text-align: right;\n",
       "    }\n",
       "</style>\n",
       "<table border=\"1\" class=\"dataframe\">\n",
       "  <thead>\n",
       "    <tr style=\"text-align: right;\">\n",
       "      <th></th>\n",
       "      <th>한국인</th>\n",
       "      <th>일본인</th>\n",
       "      <th>한국인정규화</th>\n",
       "      <th>일본인정규화</th>\n",
       "      <th>한국인정규화_수식</th>\n",
       "      <th>일본인정규화_수식</th>\n",
       "      <th>한국인정규화_사이킷런_표준화</th>\n",
       "      <th>일본인정규화_사이킷런_표준화</th>\n",
       "      <th>한국인정규화_사이킷런_최소최대</th>\n",
       "      <th>일본인정규화_사이킷런_최소최대</th>\n",
       "      <th>한국인_수식_최대최소</th>\n",
       "      <th>일본인_수식_최대최소</th>\n",
       "    </tr>\n",
       "  </thead>\n",
       "  <tbody>\n",
       "    <tr>\n",
       "      <th>0</th>\n",
       "      <td>52.309381</td>\n",
       "      <td>31.699643</td>\n",
       "      <td>-1.698938</td>\n",
       "      <td>-0.307959</td>\n",
       "      <td>-1.698938</td>\n",
       "      <td>-0.307959</td>\n",
       "      <td>-1.698938</td>\n",
       "      <td>-0.307959</td>\n",
       "      <td>0.215819</td>\n",
       "      <td>0.420247</td>\n",
       "      <td>0.215819</td>\n",
       "      <td>0.420247</td>\n",
       "    </tr>\n",
       "    <tr>\n",
       "      <th>1</th>\n",
       "      <td>53.664183</td>\n",
       "      <td>32.590076</td>\n",
       "      <td>-0.345098</td>\n",
       "      <td>0.554531</td>\n",
       "      <td>-0.345098</td>\n",
       "      <td>0.554531</td>\n",
       "      <td>-0.345098</td>\n",
       "      <td>0.554531</td>\n",
       "      <td>0.446330</td>\n",
       "      <td>0.561776</td>\n",
       "      <td>0.446330</td>\n",
       "      <td>0.561776</td>\n",
       "    </tr>\n",
       "    <tr>\n",
       "      <th>2</th>\n",
       "      <td>55.070145</td>\n",
       "      <td>31.440806</td>\n",
       "      <td>1.059865</td>\n",
       "      <td>-0.558673</td>\n",
       "      <td>1.059865</td>\n",
       "      <td>-0.558673</td>\n",
       "      <td>1.059865</td>\n",
       "      <td>-0.558673</td>\n",
       "      <td>0.685544</td>\n",
       "      <td>0.379106</td>\n",
       "      <td>0.685544</td>\n",
       "      <td>0.379106</td>\n",
       "    </tr>\n",
       "  </tbody>\n",
       "</table>\n",
       "</div>"
      ],
      "text/plain": [
       "         한국인        일본인    한국인정규화    일본인정규화  한국인정규화_수식  일본인정규화_수식  \\\n",
       "0  52.309381  31.699643 -1.698938 -0.307959  -1.698938  -0.307959   \n",
       "1  53.664183  32.590076 -0.345098  0.554531  -0.345098   0.554531   \n",
       "2  55.070145  31.440806  1.059865 -0.558673   1.059865  -0.558673   \n",
       "\n",
       "   한국인정규화_사이킷런_표준화  일본인정규화_사이킷런_표준화  한국인정규화_사이킷런_최소최대  일본인정규화_사이킷런_최소최대  \\\n",
       "0        -1.698938        -0.307959          0.215819          0.420247   \n",
       "1        -0.345098         0.554531          0.446330          0.561776   \n",
       "2         1.059865        -0.558673          0.685544          0.379106   \n",
       "\n",
       "   한국인_수식_최대최소  일본인_수식_최대최소  \n",
       "0     0.215819     0.420247  \n",
       "1     0.446330     0.561776  \n",
       "2     0.685544     0.379106  "
      ]
     },
     "execution_count": 39,
     "metadata": {},
     "output_type": "execute_result"
    }
   ],
   "source": [
    "min_ = np.min(meat_consumption_kor)\n",
    "max_ = np.max(meat_consumption_kor)\n",
    "df['한국인_수식_최대최소']= (df[['한국인']] - min_) / (max_ - min_)\n",
    "\n",
    "min_ = np.min(meat_consumption_jpn)\n",
    "max_ = np.max(meat_consumption_jpn)\n",
    "df['일본인_수식_최대최소']= (df[['일본인']] - min_) / (max_ - min_)\n",
    "\n",
    "df.head(3)"
   ]
  },
  {
   "cell_type": "code",
   "execution_count": 40,
   "metadata": {},
   "outputs": [],
   "source": [
    "# USJudegeRatings.csv\n",
    "path = 'https://raw.githubusercontent.com/vincentarelbundock/Rdatasets/master/csv/datasets/USJudgeRatings.csv'"
   ]
  },
  {
   "cell_type": "code",
   "execution_count": 41,
   "metadata": {},
   "outputs": [],
   "source": [
    "raw  = pd.read_csv(path)"
   ]
  },
  {
   "cell_type": "code",
   "execution_count": 42,
   "metadata": {},
   "outputs": [],
   "source": [
    "df = raw.copy()"
   ]
  },
  {
   "cell_type": "code",
   "execution_count": 43,
   "metadata": {},
   "outputs": [
    {
     "data": {
      "text/html": [
       "<div>\n",
       "<style scoped>\n",
       "    .dataframe tbody tr th:only-of-type {\n",
       "        vertical-align: middle;\n",
       "    }\n",
       "\n",
       "    .dataframe tbody tr th {\n",
       "        vertical-align: top;\n",
       "    }\n",
       "\n",
       "    .dataframe thead th {\n",
       "        text-align: right;\n",
       "    }\n",
       "</style>\n",
       "<table border=\"1\" class=\"dataframe\">\n",
       "  <thead>\n",
       "    <tr style=\"text-align: right;\">\n",
       "      <th></th>\n",
       "      <th>rownames</th>\n",
       "      <th>CONT</th>\n",
       "      <th>INTG</th>\n",
       "      <th>DMNR</th>\n",
       "      <th>DILG</th>\n",
       "      <th>CFMG</th>\n",
       "      <th>DECI</th>\n",
       "      <th>PREP</th>\n",
       "      <th>FAMI</th>\n",
       "      <th>ORAL</th>\n",
       "      <th>WRIT</th>\n",
       "      <th>PHYS</th>\n",
       "      <th>RTEN</th>\n",
       "    </tr>\n",
       "  </thead>\n",
       "  <tbody>\n",
       "    <tr>\n",
       "      <th>0</th>\n",
       "      <td>AARONSON,L.H.</td>\n",
       "      <td>5.7</td>\n",
       "      <td>7.9</td>\n",
       "      <td>7.7</td>\n",
       "      <td>7.3</td>\n",
       "      <td>7.1</td>\n",
       "      <td>7.4</td>\n",
       "      <td>7.1</td>\n",
       "      <td>7.1</td>\n",
       "      <td>7.1</td>\n",
       "      <td>7.0</td>\n",
       "      <td>8.3</td>\n",
       "      <td>7.8</td>\n",
       "    </tr>\n",
       "    <tr>\n",
       "      <th>1</th>\n",
       "      <td>ALEXANDER,J.M.</td>\n",
       "      <td>6.8</td>\n",
       "      <td>8.9</td>\n",
       "      <td>8.8</td>\n",
       "      <td>8.5</td>\n",
       "      <td>7.8</td>\n",
       "      <td>8.1</td>\n",
       "      <td>8.0</td>\n",
       "      <td>8.0</td>\n",
       "      <td>7.8</td>\n",
       "      <td>7.9</td>\n",
       "      <td>8.5</td>\n",
       "      <td>8.7</td>\n",
       "    </tr>\n",
       "    <tr>\n",
       "      <th>2</th>\n",
       "      <td>ARMENTANO,A.J.</td>\n",
       "      <td>7.2</td>\n",
       "      <td>8.1</td>\n",
       "      <td>7.8</td>\n",
       "      <td>7.8</td>\n",
       "      <td>7.5</td>\n",
       "      <td>7.6</td>\n",
       "      <td>7.5</td>\n",
       "      <td>7.5</td>\n",
       "      <td>7.3</td>\n",
       "      <td>7.4</td>\n",
       "      <td>7.9</td>\n",
       "      <td>7.8</td>\n",
       "    </tr>\n",
       "  </tbody>\n",
       "</table>\n",
       "</div>"
      ],
      "text/plain": [
       "         rownames  CONT  INTG  DMNR  DILG  CFMG  DECI  PREP  FAMI  ORAL  WRIT  \\\n",
       "0   AARONSON,L.H.   5.7   7.9   7.7   7.3   7.1   7.4   7.1   7.1   7.1   7.0   \n",
       "1  ALEXANDER,J.M.   6.8   8.9   8.8   8.5   7.8   8.1   8.0   8.0   7.8   7.9   \n",
       "2  ARMENTANO,A.J.   7.2   8.1   7.8   7.8   7.5   7.6   7.5   7.5   7.3   7.4   \n",
       "\n",
       "   PHYS  RTEN  \n",
       "0   8.3   7.8  \n",
       "1   8.5   8.7  \n",
       "2   7.9   7.8  "
      ]
     },
     "execution_count": 43,
     "metadata": {},
     "output_type": "execute_result"
    }
   ],
   "source": [
    "df.head(3)"
   ]
  },
  {
   "cell_type": "code",
   "execution_count": 44,
   "metadata": {},
   "outputs": [
    {
     "data": {
      "text/plain": [
       "Index(['rownames', 'CONT', 'INTG', 'DMNR', 'DILG', 'CFMG', 'DECI', 'PREP',\n",
       "       'FAMI', 'ORAL', 'WRIT', 'PHYS', 'RTEN'],\n",
       "      dtype='object')"
      ]
     },
     "execution_count": 44,
     "metadata": {},
     "output_type": "execute_result"
    }
   ],
   "source": [
    "df.columns"
   ]
  },
  {
   "cell_type": "code",
   "execution_count": 45,
   "metadata": {},
   "outputs": [
    {
     "name": "stdout",
     "output_type": "stream",
     "text": [
      "1.0859724796276253\n",
      "-1.5582154642293153\n"
     ]
    }
   ],
   "source": [
    "import scipy.stats as ss\n",
    "\n",
    "# 지정한 컬럼 왜도(skew) 계산\n",
    "print(ss.skew(df['CONT']))\n",
    "print(ss.skew(df['PHYS']))"
   ]
  },
  {
   "cell_type": "code",
   "execution_count": 53,
   "metadata": {},
   "outputs": [
    {
     "data": {
      "text/plain": [
       "0     9.3\n",
       "1     9.5\n",
       "2     8.9\n",
       "3     9.8\n",
       "4     6.5\n",
       "5     9.6\n",
       "6    10.1\n",
       "7     7.8\n",
       "8     9.8\n",
       "9     9.5\n",
       "Name: PHYS, dtype: float64"
      ]
     },
     "execution_count": 53,
     "metadata": {},
     "output_type": "execute_result"
    }
   ],
   "source": [
    "(df['PHYS']+1)[:10]"
   ]
  },
  {
   "cell_type": "code",
   "execution_count": 54,
   "metadata": {},
   "outputs": [
    {
     "data": {
      "text/plain": [
       "10.1"
      ]
     },
     "execution_count": 54,
     "metadata": {},
     "output_type": "execute_result"
    }
   ],
   "source": [
    "np.max(df['PHYS'] + 1)\n",
    "# 모든 열의 값에 1 더한 후 최대값 구하기"
   ]
  },
  {
   "cell_type": "code",
   "execution_count": null,
   "metadata": {},
   "outputs": [],
   "source": [
    "np.max(df['PHYS'] + 1) - df['PHYS']\n",
    "# 원래 값이 클수록 결과 값이 작아지고, 원래 값이 작으면 결과 값은 커지는 효과."
   ]
  },
  {
   "cell_type": "code",
   "execution_count": 55,
   "metadata": {},
   "outputs": [
    {
     "data": {
      "text/plain": [
       "0     0.587787\n",
       "1     0.470004\n",
       "2     0.788457\n",
       "3     0.262364\n",
       "4     1.526056\n",
       "5     0.405465\n",
       "6     0.000000\n",
       "7     1.193922\n",
       "8     0.262364\n",
       "9     0.470004\n",
       "10    0.530628\n",
       "11    1.163151\n",
       "12    0.693147\n",
       "13    1.360977\n",
       "14    0.530628\n",
       "15    0.741937\n",
       "16    1.163151\n",
       "17    0.693147\n",
       "18    0.741937\n",
       "19    1.064711\n",
       "20    0.955511\n",
       "21    0.993252\n",
       "22    1.686399\n",
       "23    0.832909\n",
       "24    0.336472\n",
       "25    0.095310\n",
       "26    0.587787\n",
       "27    0.262364\n",
       "28    0.530628\n",
       "29    0.182322\n",
       "30    0.530628\n",
       "31    0.693147\n",
       "32    0.336472\n",
       "33    0.262364\n",
       "34    1.335001\n",
       "35    0.741937\n",
       "36    0.693147\n",
       "37    0.470004\n",
       "38    0.741937\n",
       "39    0.693147\n",
       "40    0.916291\n",
       "41    0.587787\n",
       "42    0.832909\n",
       "Name: PHYS, dtype: float64"
      ]
     },
     "execution_count": 55,
     "metadata": {},
     "output_type": "execute_result"
    }
   ],
   "source": [
    "np.log(np.max(df['PHYS'] + 1) - df['PHYS'])"
   ]
  },
  {
   "cell_type": "code",
   "execution_count": 51,
   "metadata": {},
   "outputs": [
    {
     "name": "stdout",
     "output_type": "stream",
     "text": [
      "0     1.740466\n",
      "1     1.916923\n",
      "2     1.974081\n",
      "3     1.916923\n",
      "4     1.987874\n",
      "5     1.824549\n",
      "6     2.360854\n",
      "7     1.945910\n",
      "8     1.987874\n",
      "9     2.104134\n",
      "10    1.945910\n",
      "11    1.871802\n",
      "12    1.902108\n",
      "13    1.945910\n",
      "14    1.871802\n",
      "15    1.987874\n",
      "16    2.079442\n",
      "17    2.041220\n",
      "18    2.116256\n",
      "19    2.261763\n",
      "20    1.960095\n",
      "21    2.028148\n",
      "22    1.887070\n",
      "23    1.824549\n",
      "24    2.014903\n",
      "25    2.054124\n",
      "26    1.960095\n",
      "27    2.014903\n",
      "28    2.014903\n",
      "29    1.960095\n",
      "30    1.887070\n",
      "31    2.128232\n",
      "32    1.931521\n",
      "33    1.987874\n",
      "34    2.041220\n",
      "35    2.140066\n",
      "36    1.931521\n",
      "37    1.871802\n",
      "38    2.116256\n",
      "39    2.116256\n",
      "40    2.197225\n",
      "41    1.960095\n",
      "42    2.151762\n",
      "Name: CONT_log, dtype: float64\n",
      "0     0.587787\n",
      "1     0.470004\n",
      "2     0.788457\n",
      "3     0.262364\n",
      "4     1.526056\n",
      "5     0.405465\n",
      "6     0.000000\n",
      "7     1.193922\n",
      "8     0.262364\n",
      "9     0.470004\n",
      "10    0.530628\n",
      "11    1.163151\n",
      "12    0.693147\n",
      "13    1.360977\n",
      "14    0.530628\n",
      "15    0.741937\n",
      "16    1.163151\n",
      "17    0.693147\n",
      "18    0.741937\n",
      "19    1.064711\n",
      "20    0.955511\n",
      "21    0.993252\n",
      "22    1.686399\n",
      "23    0.832909\n",
      "24    0.336472\n",
      "25    0.095310\n",
      "26    0.587787\n",
      "27    0.262364\n",
      "28    0.530628\n",
      "29    0.182322\n",
      "30    0.530628\n",
      "31    0.693147\n",
      "32    0.336472\n",
      "33    0.262364\n",
      "34    1.335001\n",
      "35    0.741937\n",
      "36    0.693147\n",
      "37    0.470004\n",
      "38    0.741937\n",
      "39    0.693147\n",
      "40    0.916291\n",
      "41    0.587787\n",
      "42    0.832909\n",
      "Name: PHYS_log, dtype: float64\n"
     ]
    }
   ],
   "source": [
    "# 변수 변환 - 로그 변환\n",
    "\n",
    "df['CONT_log'] = np.log(df['CONT'])\n",
    "df['PHYS_log'] = np.log(np.max(df['PHYS'] + 1) - df['PHYS'])\n",
    "\n",
    "# / log + 0.256887\n",
    "\n",
    "print(df['CONT_log'])\n",
    "print(df['PHYS_log'])\n",
    "\n",
    "# 이 변환은 변수의 값들이 한쪽으로 치우쳐 있거나, 최대값 근처에 몰려있을때 사용.\n",
    "# 값들을 역순으로 바꾸어 로그 변환을 적용한 것입니다.\n",
    "# 이 변환을 통해 데이터의 분포를 더 균등하게 만들 수 있습니다.\n",
    "\n",
    "# 결론적으로, 이러한 로그 변환은 데이터의 분포를 조정하고, \n",
    "# 모델의 성능을 향상시키기 위해 사용됩니다. \n",
    "# 데이터가 극단적인 값이나 비대칭적인 분포를 가질 때 특히 유용합니다."
   ]
  },
  {
   "cell_type": "code",
   "execution_count": 56,
   "metadata": {},
   "outputs": [
    {
     "name": "stdout",
     "output_type": "stream",
     "text": [
      "0.6555571886692603\n",
      "0.5824357748750443\n"
     ]
    }
   ],
   "source": [
    "# 왜도 계산\n",
    "\n",
    "print(ss.skew(df['CONT_log']))\n",
    "print(ss.skew(df['PHYS_log']))"
   ]
  },
  {
   "cell_type": "code",
   "execution_count": 79,
   "metadata": {},
   "outputs": [
    {
     "name": "stdout",
     "output_type": "stream",
     "text": [
      "   이름  수학점수\n",
      "0  철수    52\n",
      "1  영희    92\n",
      "2  미영    84\n",
      "3  시완    71\n",
      "4  미경    65\n",
      "5  영환    81\n",
      "6  숙경    66\n",
      "7  부영    77\n",
      "8  민섭    73\n",
      "9  보연    74\n",
      "73.5\n"
     ]
    }
   ],
   "source": [
    "# 수학 점수(Math_score)\n",
    "\n",
    "data = [[\"철수\",52], [\"영희\",92], [\"미영\",84], [\"시완\",71], [\"미경\",65],\n",
    "        [\"영환\",81], [\"숙경\",66], [\"부영\",77], [\"민섭\",73], [\"보연\",74]]\n",
    "\n",
    "# print(data)\n",
    "\n",
    "df = pd.DataFrame(data, columns = ['이름','수학점수'])\n",
    "print(df)\n",
    "\n",
    "print(np.mean(df['수학점수']))"
   ]
  },
  {
   "cell_type": "code",
   "execution_count": 80,
   "metadata": {},
   "outputs": [
    {
     "data": {
      "image/png": "[encoded data removed]",
      "text/plain": [
       "<Figure size 640x480 with 1 Axes>"
      ]
     },
     "metadata": {},
     "output_type": "display_data"
    }
   ],
   "source": [
    "plt.hist(df['수학점수'])\n",
    "plt.show()"
   ]
  },
  {
   "cell_type": "code",
   "execution_count": 81,
   "metadata": {},
   "outputs": [
    {
     "data": {
      "image/png": "[encoded data removed]",
      "text/plain": [
       "<Figure size 640x480 with 1 Axes>"
      ]
     },
     "metadata": {},
     "output_type": "display_data"
    }
   ],
   "source": [
    "# 히스토그램 (범위 50 ~ 100, 5개 구간)\n",
    "plt.hist(df['수학점수'], bins=5, range=[50,100], rwidth=0.7)\n",
    "# rwidth(그래프 폭 조절하는 기능, 생략시 default = 1)\n",
    "plt.show()"
   ]
  },
  {
   "cell_type": "code",
   "execution_count": 82,
   "metadata": {},
   "outputs": [
    {
     "data": {
      "text/html": [
       "<div>\n",
       "<style scoped>\n",
       "    .dataframe tbody tr th:only-of-type {\n",
       "        vertical-align: middle;\n",
       "    }\n",
       "\n",
       "    .dataframe tbody tr th {\n",
       "        vertical-align: top;\n",
       "    }\n",
       "\n",
       "    .dataframe thead th {\n",
       "        text-align: right;\n",
       "    }\n",
       "</style>\n",
       "<table border=\"1\" class=\"dataframe\">\n",
       "  <thead>\n",
       "    <tr style=\"text-align: right;\">\n",
       "      <th></th>\n",
       "      <th>이름</th>\n",
       "      <th>수학점수</th>\n",
       "    </tr>\n",
       "  </thead>\n",
       "  <tbody>\n",
       "    <tr>\n",
       "      <th>0</th>\n",
       "      <td>철수</td>\n",
       "      <td>52</td>\n",
       "    </tr>\n",
       "    <tr>\n",
       "      <th>1</th>\n",
       "      <td>영희</td>\n",
       "      <td>92</td>\n",
       "    </tr>\n",
       "    <tr>\n",
       "      <th>2</th>\n",
       "      <td>미영</td>\n",
       "      <td>84</td>\n",
       "    </tr>\n",
       "    <tr>\n",
       "      <th>3</th>\n",
       "      <td>시완</td>\n",
       "      <td>71</td>\n",
       "    </tr>\n",
       "    <tr>\n",
       "      <th>4</th>\n",
       "      <td>미경</td>\n",
       "      <td>65</td>\n",
       "    </tr>\n",
       "  </tbody>\n",
       "</table>\n",
       "</div>"
      ],
      "text/plain": [
       "   이름  수학점수\n",
       "0  철수    52\n",
       "1  영희    92\n",
       "2  미영    84\n",
       "3  시완    71\n",
       "4  미경    65"
      ]
     },
     "execution_count": 82,
     "metadata": {},
     "output_type": "execute_result"
    }
   ],
   "source": [
    "df.head()"
   ]
  },
  {
   "cell_type": "code",
   "execution_count": 83,
   "metadata": {},
   "outputs": [],
   "source": [
    "df.loc[df['수학점수'] < 60 , '등급']  = 'F'\n",
    "df.loc[(df['수학점수'] >= 60) & (df['수학점수'] < 70 ),'등급']  = 'D'\n",
    "df.loc[(df['수학점수'] >= 70) & (df['수학점수'] < 80 ),'등급']  = 'C'\n",
    "df.loc[(df['수학점수'] >= 80) & (df['수학점수'] < 90 ),'등급']  = 'B'\n",
    "df.loc[(df['수학점수'] >= 90) & (df['수학점수'] <= 100 ),'등급']  = 'A'"
   ]
  },
  {
   "cell_type": "code",
   "execution_count": 84,
   "metadata": {},
   "outputs": [
    {
     "data": {
      "text/html": [
       "<div>\n",
       "<style scoped>\n",
       "    .dataframe tbody tr th:only-of-type {\n",
       "        vertical-align: middle;\n",
       "    }\n",
       "\n",
       "    .dataframe tbody tr th {\n",
       "        vertical-align: top;\n",
       "    }\n",
       "\n",
       "    .dataframe thead th {\n",
       "        text-align: right;\n",
       "    }\n",
       "</style>\n",
       "<table border=\"1\" class=\"dataframe\">\n",
       "  <thead>\n",
       "    <tr style=\"text-align: right;\">\n",
       "      <th></th>\n",
       "      <th>이름</th>\n",
       "      <th>수학점수</th>\n",
       "      <th>등급</th>\n",
       "    </tr>\n",
       "  </thead>\n",
       "  <tbody>\n",
       "    <tr>\n",
       "      <th>0</th>\n",
       "      <td>철수</td>\n",
       "      <td>52</td>\n",
       "      <td>F</td>\n",
       "    </tr>\n",
       "    <tr>\n",
       "      <th>1</th>\n",
       "      <td>영희</td>\n",
       "      <td>92</td>\n",
       "      <td>A</td>\n",
       "    </tr>\n",
       "    <tr>\n",
       "      <th>2</th>\n",
       "      <td>미영</td>\n",
       "      <td>84</td>\n",
       "      <td>B</td>\n",
       "    </tr>\n",
       "    <tr>\n",
       "      <th>3</th>\n",
       "      <td>시완</td>\n",
       "      <td>71</td>\n",
       "      <td>C</td>\n",
       "    </tr>\n",
       "    <tr>\n",
       "      <th>4</th>\n",
       "      <td>미경</td>\n",
       "      <td>65</td>\n",
       "      <td>D</td>\n",
       "    </tr>\n",
       "  </tbody>\n",
       "</table>\n",
       "</div>"
      ],
      "text/plain": [
       "   이름  수학점수 등급\n",
       "0  철수    52  F\n",
       "1  영희    92  A\n",
       "2  미영    84  B\n",
       "3  시완    71  C\n",
       "4  미경    65  D"
      ]
     },
     "execution_count": 84,
     "metadata": {},
     "output_type": "execute_result"
    }
   ],
   "source": [
    "df.head()"
   ]
  },
  {
   "cell_type": "code",
   "execution_count": 85,
   "metadata": {},
   "outputs": [],
   "source": [
    "# CUT\n",
    "df['등급_cut'] = pd.cut(x=df['수학점수'], bins=[0,60,70,80,90,100], \n",
    "                  labels = ['F','D','C','B','A'],\n",
    "                  include_lowest=True)"
   ]
  },
  {
   "cell_type": "code",
   "execution_count": 86,
   "metadata": {},
   "outputs": [
    {
     "data": {
      "text/html": [
       "<div>\n",
       "<style scoped>\n",
       "    .dataframe tbody tr th:only-of-type {\n",
       "        vertical-align: middle;\n",
       "    }\n",
       "\n",
       "    .dataframe tbody tr th {\n",
       "        vertical-align: top;\n",
       "    }\n",
       "\n",
       "    .dataframe thead th {\n",
       "        text-align: right;\n",
       "    }\n",
       "</style>\n",
       "<table border=\"1\" class=\"dataframe\">\n",
       "  <thead>\n",
       "    <tr style=\"text-align: right;\">\n",
       "      <th></th>\n",
       "      <th>이름</th>\n",
       "      <th>수학점수</th>\n",
       "      <th>등급</th>\n",
       "      <th>등급_cut</th>\n",
       "    </tr>\n",
       "  </thead>\n",
       "  <tbody>\n",
       "    <tr>\n",
       "      <th>0</th>\n",
       "      <td>철수</td>\n",
       "      <td>52</td>\n",
       "      <td>F</td>\n",
       "      <td>F</td>\n",
       "    </tr>\n",
       "    <tr>\n",
       "      <th>1</th>\n",
       "      <td>영희</td>\n",
       "      <td>92</td>\n",
       "      <td>A</td>\n",
       "      <td>A</td>\n",
       "    </tr>\n",
       "    <tr>\n",
       "      <th>2</th>\n",
       "      <td>미영</td>\n",
       "      <td>84</td>\n",
       "      <td>B</td>\n",
       "      <td>B</td>\n",
       "    </tr>\n",
       "    <tr>\n",
       "      <th>3</th>\n",
       "      <td>시완</td>\n",
       "      <td>71</td>\n",
       "      <td>C</td>\n",
       "      <td>C</td>\n",
       "    </tr>\n",
       "    <tr>\n",
       "      <th>4</th>\n",
       "      <td>미경</td>\n",
       "      <td>65</td>\n",
       "      <td>D</td>\n",
       "      <td>D</td>\n",
       "    </tr>\n",
       "  </tbody>\n",
       "</table>\n",
       "</div>"
      ],
      "text/plain": [
       "   이름  수학점수 등급 등급_cut\n",
       "0  철수    52  F      F\n",
       "1  영희    92  A      A\n",
       "2  미영    84  B      B\n",
       "3  시완    71  C      C\n",
       "4  미경    65  D      D"
      ]
     },
     "execution_count": 86,
     "metadata": {},
     "output_type": "execute_result"
    }
   ],
   "source": [
    "df.head()"
   ]
  },
  {
   "cell_type": "code",
   "execution_count": 87,
   "metadata": {},
   "outputs": [],
   "source": [
    "# Qcut\n",
    "df['등급_QCUT'] = pd.qcut(x=df['수학점수'],\n",
    "                        q=5, \n",
    "                        labels = ['F','D','C','B','A'])"
   ]
  },
  {
   "cell_type": "code",
   "execution_count": 88,
   "metadata": {},
   "outputs": [
    {
     "data": {
      "text/html": [
       "<div>\n",
       "<style scoped>\n",
       "    .dataframe tbody tr th:only-of-type {\n",
       "        vertical-align: middle;\n",
       "    }\n",
       "\n",
       "    .dataframe tbody tr th {\n",
       "        vertical-align: top;\n",
       "    }\n",
       "\n",
       "    .dataframe thead th {\n",
       "        text-align: right;\n",
       "    }\n",
       "</style>\n",
       "<table border=\"1\" class=\"dataframe\">\n",
       "  <thead>\n",
       "    <tr style=\"text-align: right;\">\n",
       "      <th></th>\n",
       "      <th>이름</th>\n",
       "      <th>수학점수</th>\n",
       "      <th>등급</th>\n",
       "      <th>등급_cut</th>\n",
       "      <th>등급_QCUT</th>\n",
       "    </tr>\n",
       "  </thead>\n",
       "  <tbody>\n",
       "    <tr>\n",
       "      <th>0</th>\n",
       "      <td>철수</td>\n",
       "      <td>52</td>\n",
       "      <td>F</td>\n",
       "      <td>F</td>\n",
       "      <td>F</td>\n",
       "    </tr>\n",
       "    <tr>\n",
       "      <th>1</th>\n",
       "      <td>영희</td>\n",
       "      <td>92</td>\n",
       "      <td>A</td>\n",
       "      <td>A</td>\n",
       "      <td>A</td>\n",
       "    </tr>\n",
       "    <tr>\n",
       "      <th>2</th>\n",
       "      <td>미영</td>\n",
       "      <td>84</td>\n",
       "      <td>B</td>\n",
       "      <td>B</td>\n",
       "      <td>A</td>\n",
       "    </tr>\n",
       "    <tr>\n",
       "      <th>3</th>\n",
       "      <td>시완</td>\n",
       "      <td>71</td>\n",
       "      <td>C</td>\n",
       "      <td>C</td>\n",
       "      <td>D</td>\n",
       "    </tr>\n",
       "    <tr>\n",
       "      <th>4</th>\n",
       "      <td>미경</td>\n",
       "      <td>65</td>\n",
       "      <td>D</td>\n",
       "      <td>D</td>\n",
       "      <td>F</td>\n",
       "    </tr>\n",
       "  </tbody>\n",
       "</table>\n",
       "</div>"
      ],
      "text/plain": [
       "   이름  수학점수 등급 등급_cut 등급_QCUT\n",
       "0  철수    52  F      F       F\n",
       "1  영희    92  A      A       A\n",
       "2  미영    84  B      B       A\n",
       "3  시완    71  C      C       D\n",
       "4  미경    65  D      D       F"
      ]
     },
     "execution_count": 88,
     "metadata": {},
     "output_type": "execute_result"
    }
   ],
   "source": [
    "df.head()"
   ]
  },
  {
   "cell_type": "code",
   "execution_count": null,
   "metadata": {},
   "outputs": [],
   "source": []
  }
 ],
 "metadata": {
  "kernelspec": {
   "display_name": "Python 3",
   "language": "python",
   "name": "python3"
  },
  "language_info": {
   "codemirror_mode": {
    "name": "ipython",
    "version": 3
   },
   "file_extension": ".py",
   "mimetype": "text/x-python",
   "name": "python",
   "nbconvert_exporter": "python",
   "pygments_lexer": "ipython3",
   "version": "3.12.0"
  }
 },
 "nbformat": 4,
 "nbformat_minor": 2
}
