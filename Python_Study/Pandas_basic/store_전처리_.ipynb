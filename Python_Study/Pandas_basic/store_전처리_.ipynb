{
 "cells": [
  {
   "cell_type": "code",
   "execution_count": 1,
   "metadata": {},
   "outputs": [],
   "source": [
    "import pandas as pd\n",
    "import numpy as np"
   ]
  },
  {
   "cell_type": "code",
   "execution_count": null,
   "metadata": {},
   "outputs": [],
   "source": [
    "test = pd.read_excel('서울_동물위탁관리업_영업장목록_20240427 (1).xlsx')\n",
    "test.head()\n",
    "test.info()\n",
    "test.columns\n",
    "test.isnull().sum()                                      # null 값 체크\n",
    "test_col = test[['구분','업체명','소재지']]               # 컬럼 추출"
   ]
  },
  {
   "cell_type": "code",
   "execution_count": null,
   "metadata": {},
   "outputs": [
    {
     "name": "stderr",
     "output_type": "stream",
     "text": [
      "C:\\Users\\taeyoung\\AppData\\Local\\Temp\\ipykernel_5036\\38957457.py:1: SettingWithCopyWarning: \n",
      "A value is trying to be set on a copy of a slice from a DataFrame\n",
      "\n",
      "See the caveats in the documentation: https://pandas.pydata.org/pandas-docs/stable/user_guide/indexing.html#returning-a-view-versus-a-copy\n",
      "  test_col.rename(columns={'구분':'Category',\n"
     ]
    }
   ],
   "source": [
    "# 컬럼 이름 변경 및 저장 시점1\n",
    "test_col.rename(columns={'구분':'Category',\n",
    "                        '업체명':'Company_Name',\n",
    "                        '소재지':'Location'\n",
    "                        }, inplace= True)\n",
    "test_col_rename = test_col.copy()"
   ]
  },
  {
   "cell_type": "code",
   "execution_count": 51,
   "metadata": {},
   "outputs": [],
   "source": [
    "# '구' & '동' 컬럼 생성\n",
    "test_col_rename['Gu'] = test_col_rename['Location'].apply(lambda x: x.split(' ')[1])\n",
    "test_col_rename['Dong'] = test_col_rename['Location'].apply(lambda x: x.split(' ')[2])"
   ]
  },
  {
   "cell_type": "code",
   "execution_count": 71,
   "metadata": {},
   "outputs": [],
   "source": [
    "# 저장 시점 2\n",
    "test_col_2= test_col_rename.copy()"
   ]
  },
  {
   "cell_type": "code",
   "execution_count": 72,
   "metadata": {},
   "outputs": [
    {
     "data": {
      "text/plain": [
       "Index(['Category', 'Company_Name', 'Location', 'Gu', 'Dong'], dtype='object')"
      ]
     },
     "execution_count": 72,
     "metadata": {},
     "output_type": "execute_result"
    }
   ],
   "source": [
    "test_col_2.columns"
   ]
  },
  {
   "cell_type": "code",
   "execution_count": null,
   "metadata": {},
   "outputs": [],
   "source": [
    "# 저장시점3 , 쓸 컬럼만 사용 & 구/동 카운팅 , 카운팅 된 중복 제거 ex) 논현동 = 18 , 논현동 = 18 을 처음만 남기고 중복 제거\n",
    "test_col_uniq = test_col_2[['Gu', 'Dong','Category']]\n",
    "test_col_uniq['Counts'] = test_col_uniq.groupby(['Gu','Dong']).transform('size')\n",
    "test_col_uniq = test_col_uniq.drop_duplicates(subset=['Gu','Dong'],keep='first').reset_index(drop=True)"
   ]
  },
  {
   "cell_type": "code",
   "execution_count": 103,
   "metadata": {},
   "outputs": [],
   "source": [
    "# 구/동 이름 순으로 재정렬 & idx 따로 생성 및 컬럼 순서 정렬\n",
    "test_col_uniq = test_col_uniq.sort_values(by=['Gu','Dong'], ascending=True)\n",
    "test_col_uniq['Idx'] = range(len(test_col_uniq))\n",
    "test_col_uniq = test_col_uniq[['Idx','Gu', 'Dong','Category']]"
   ]
  },
  {
   "cell_type": "code",
   "execution_count": 104,
   "metadata": {},
   "outputs": [],
   "source": [
    "# 저장.\n",
    "test_col_uniq.to_csv('test.csv', encoding='utf-8', index=False)"
   ]
  }
 ],
 "metadata": {
  "kernelspec": {
   "display_name": "Python 3",
   "language": "python",
   "name": "python3"
  },
  "language_info": {
   "codemirror_mode": {
    "name": "ipython",
    "version": 3
   },
   "file_extension": ".py",
   "mimetype": "text/x-python",
   "name": "python",
   "nbconvert_exporter": "python",
   "pygments_lexer": "ipython3",
   "version": "3.12.0"
  }
 },
 "nbformat": 4,
 "nbformat_minor": 2
}
