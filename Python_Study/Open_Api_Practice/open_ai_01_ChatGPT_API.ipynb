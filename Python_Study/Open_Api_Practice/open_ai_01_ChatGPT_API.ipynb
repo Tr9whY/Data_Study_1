{
  "cells": [
    {
      "cell_type": "code",
      "execution_count": 1,
      "metadata": {
        "colab": {
          "base_uri": "https://localhost:8080/"
        },
        "id": "UZXW6_e03Ywo",
        "outputId": "60066e3a-4021-4ad1-f5c2-f091480846b8"
      },
      "outputs": [
        {
          "name": "stdout",
          "output_type": "stream",
          "text": [
            "Collecting openai\n",
            "  Downloading openai-1.30.3-py3-none-any.whl (320 kB)\n",
            "\u001b[?25l     \u001b[90m━━━━━━━━━━━━━━━━━━━━━━━━━━━━━━━━━━━━━━━━\u001b[0m \u001b[32m0.0/320.6 kB\u001b[0m \u001b[31m?\u001b[0m eta \u001b[36m-:--:--\u001b[0m\r\u001b[2K     \u001b[91m━━━━━━━━━━━━━━━\u001b[0m\u001b[90m╺\u001b[0m\u001b[90m━━━━━━━━━━━━━━━━━━━━━━━━\u001b[0m \u001b[32m122.9/320.6 kB\u001b[0m \u001b[31m4.2 MB/s\u001b[0m eta \u001b[36m0:00:01\u001b[0m\r\u001b[2K     \u001b[90m━━━━━━━━━━━━━━━━━━━━━━━━━━━━━━━━━━━━━━━━\u001b[0m \u001b[32m320.6/320.6 kB\u001b[0m \u001b[31m5.9 MB/s\u001b[0m eta \u001b[36m0:00:00\u001b[0m\n",
            "\u001b[?25hRequirement already satisfied: anyio<5,>=3.5.0 in /usr/local/lib/python3.10/dist-packages (from openai) (3.7.1)\n",
            "Requirement already satisfied: distro<2,>=1.7.0 in /usr/lib/python3/dist-packages (from openai) (1.7.0)\n",
            "Collecting httpx<1,>=0.23.0 (from openai)\n",
            "  Downloading httpx-0.27.0-py3-none-any.whl (75 kB)\n",
            "\u001b[2K     \u001b[90m━━━━━━━━━━━━━━━━━━━━━━━━━━━━━━━━━━━━━━━━\u001b[0m \u001b[32m75.6/75.6 kB\u001b[0m \u001b[31m9.1 MB/s\u001b[0m eta \u001b[36m0:00:00\u001b[0m\n",
            "\u001b[?25hRequirement already satisfied: pydantic<3,>=1.9.0 in /usr/local/lib/python3.10/dist-packages (from openai) (2.7.1)\n",
            "Requirement already satisfied: sniffio in /usr/local/lib/python3.10/dist-packages (from openai) (1.3.1)\n",
            "Requirement already satisfied: tqdm>4 in /usr/local/lib/python3.10/dist-packages (from openai) (4.66.4)\n",
            "Requirement already satisfied: typing-extensions<5,>=4.7 in /usr/local/lib/python3.10/dist-packages (from openai) (4.11.0)\n",
            "Requirement already satisfied: idna>=2.8 in /usr/local/lib/python3.10/dist-packages (from anyio<5,>=3.5.0->openai) (3.7)\n",
            "Requirement already satisfied: exceptiongroup in /usr/local/lib/python3.10/dist-packages (from anyio<5,>=3.5.0->openai) (1.2.1)\n",
            "Requirement already satisfied: certifi in /usr/local/lib/python3.10/dist-packages (from httpx<1,>=0.23.0->openai) (2024.2.2)\n",
            "Collecting httpcore==1.* (from httpx<1,>=0.23.0->openai)\n",
            "  Downloading httpcore-1.0.5-py3-none-any.whl (77 kB)\n",
            "\u001b[2K     \u001b[90m━━━━━━━━━━━━━━━━━━━━━━━━━━━━━━━━━━━━━━━━\u001b[0m \u001b[32m77.9/77.9 kB\u001b[0m \u001b[31m10.1 MB/s\u001b[0m eta \u001b[36m0:00:00\u001b[0m\n",
            "\u001b[?25hCollecting h11<0.15,>=0.13 (from httpcore==1.*->httpx<1,>=0.23.0->openai)\n",
            "  Downloading h11-0.14.0-py3-none-any.whl (58 kB)\n",
            "\u001b[2K     \u001b[90m━━━━━━━━━━━━━━━━━━━━━━━━━━━━━━━━━━━━━━━━\u001b[0m \u001b[32m58.3/58.3 kB\u001b[0m \u001b[31m7.7 MB/s\u001b[0m eta \u001b[36m0:00:00\u001b[0m\n",
            "\u001b[?25hRequirement already satisfied: annotated-types>=0.4.0 in /usr/local/lib/python3.10/dist-packages (from pydantic<3,>=1.9.0->openai) (0.7.0)\n",
            "Requirement already satisfied: pydantic-core==2.18.2 in /usr/local/lib/python3.10/dist-packages (from pydantic<3,>=1.9.0->openai) (2.18.2)\n",
            "Installing collected packages: h11, httpcore, httpx, openai\n",
            "Successfully installed h11-0.14.0 httpcore-1.0.5 httpx-0.27.0 openai-1.30.3\n"
          ]
        }
      ],
      "source": [
        "!pip install openai"
      ]
    },
    {
      "cell_type": "markdown",
      "metadata": {
        "id": "jYGfAoip9AC5"
      },
      "source": [
        "패키지 불러오기"
      ]
    },
    {
      "cell_type": "code",
      "execution_count": 2,
      "metadata": {
        "id": "0WfmCwnK8xwf"
      },
      "outputs": [],
      "source": [
        "import openai"
      ]
    },
    {
      "cell_type": "markdown",
      "metadata": {
        "id": "HJgx0FBs9HeW"
      },
      "source": [
        "Client 생성 및 API Key 지정하기"
      ]
    },
    {
      "cell_type": "code",
      "execution_count": 3,
      "metadata": {
        "id": "HNCWPNV19MSX"
      },
      "outputs": [],
      "source": [
        "# client = openai.OpenAI(api_key = 'api key 입력해 주세요')"
      ]
    },
    {
      "cell_type": "code",
      "execution_count": 4,
      "metadata": {
        "id": "sTcf8mvL9VtK"
      },
      "outputs": [],
      "source": [
        "client = openai.OpenAI(api_key = \"\")"
      ]
    },
    {
      "cell_type": "markdown",
      "metadata": {
        "id": "4tHxd7aR9fzL"
      },
      "source": [
        "기본 질문하기"
      ]
    },
    {
      "cell_type": "code",
      "execution_count": 5,
      "metadata": {
        "id": "dsqnFTe79dau"
      },
      "outputs": [],
      "source": [
        "response =\\\n",
        "client.chat.completions.create(\n",
        "    model = 'gpt-3.5-turbo',\n",
        "    messages = [{'role':'user','content': 'Tell me how to make a pizza'}]\n",
        ")"
      ]
    },
    {
      "cell_type": "code",
      "execution_count": 6,
      "metadata": {
        "id": "TIrfHDoN9356"
      },
      "outputs": [],
      "source": [
        "# client.chat.completions.create : 질문(query) 위한 메서드"
      ]
    },
    {
      "cell_type": "markdown",
      "metadata": {
        "id": "63HavFhB-O02"
      },
      "source": [
        "응답에서 답변만 추출하기"
      ]
    },
    {
      "cell_type": "code",
      "execution_count": 8,
      "metadata": {
        "colab": {
          "base_uri": "https://localhost:8080/"
        },
        "id": "TQPKGyu09-nt",
        "outputId": "6cbb4a67-4031-45e5-c85c-54837b947489"
      },
      "outputs": [
        {
          "data": {
            "text/plain": [
              "[Choice(finish_reason='stop', index=0, logprobs=None, message=ChatCompletionMessage(content='Here is a simple recipe to make a classic pizza at home:\\n\\nIngredients:\\n- 1 ½ cups of all-purpose flour\\n- 1 teaspoon of instant dry yeast\\n- 1 teaspoon of sugar\\n- 1 teaspoon of salt\\n- 1 tablespoon of olive oil\\n- ½ cup of warm water\\n- Pizza sauce\\n- Shredded mozzarella cheese\\n- Toppings of your choice (pepperoni, mushrooms, bell peppers, onions, etc.)\\n\\nInstructions:\\n1. In a large mixing bowl, combine the flour, yeast, sugar, and salt.\\n2. Gradually add the warm water and olive oil to the dry ingredients, mixing until a dough forms.\\n3. Knead the dough on a floured surface for about 5 minutes, or until it becomes smooth and elastic.\\n4. Place the dough in a greased bowl, cover with a clean kitchen towel, and let it rise in a warm place for about 1 hour, or until doubled in size.\\n5. Preheat your oven to 475°F (245°C) and place a pizza stone or baking sheet in the oven to heat up.\\n6. Punch down the dough and roll it out into a circle on a floured surface. Transfer the dough to a pizza peel or an inverted baking sheet lined with parchment paper.\\n7. Spread pizza sauce over the dough, leaving a small border around the edge. Sprinkle shredded mozzarella cheese over the sauce and add your desired toppings.\\n8. Carefully transfer the pizza to the preheated pizza stone or baking sheet in the oven. Bake for about 12-15 minutes, or until the crust is golden brown and the cheese is bubbly.\\n9. Remove the pizza from the oven and let it cool slightly before slicing and serving. Enjoy your homemade pizza!', role='assistant', function_call=None, tool_calls=None))]"
            ]
          },
          "execution_count": 8,
          "metadata": {},
          "output_type": "execute_result"
        }
      ],
      "source": [
        "response.choices"
      ]
    },
    {
      "cell_type": "code",
      "execution_count": 9,
      "metadata": {
        "colab": {
          "base_uri": "https://localhost:8080/"
        },
        "id": "zGd2eMAO-W5T",
        "outputId": "0ebf390b-9acb-4aa6-ed93-2e927f9f1fb2"
      },
      "outputs": [
        {
          "data": {
            "text/plain": [
              "Choice(finish_reason='stop', index=0, logprobs=None, message=ChatCompletionMessage(content='Here is a simple recipe to make a classic pizza at home:\\n\\nIngredients:\\n- 1 ½ cups of all-purpose flour\\n- 1 teaspoon of instant dry yeast\\n- 1 teaspoon of sugar\\n- 1 teaspoon of salt\\n- 1 tablespoon of olive oil\\n- ½ cup of warm water\\n- Pizza sauce\\n- Shredded mozzarella cheese\\n- Toppings of your choice (pepperoni, mushrooms, bell peppers, onions, etc.)\\n\\nInstructions:\\n1. In a large mixing bowl, combine the flour, yeast, sugar, and salt.\\n2. Gradually add the warm water and olive oil to the dry ingredients, mixing until a dough forms.\\n3. Knead the dough on a floured surface for about 5 minutes, or until it becomes smooth and elastic.\\n4. Place the dough in a greased bowl, cover with a clean kitchen towel, and let it rise in a warm place for about 1 hour, or until doubled in size.\\n5. Preheat your oven to 475°F (245°C) and place a pizza stone or baking sheet in the oven to heat up.\\n6. Punch down the dough and roll it out into a circle on a floured surface. Transfer the dough to a pizza peel or an inverted baking sheet lined with parchment paper.\\n7. Spread pizza sauce over the dough, leaving a small border around the edge. Sprinkle shredded mozzarella cheese over the sauce and add your desired toppings.\\n8. Carefully transfer the pizza to the preheated pizza stone or baking sheet in the oven. Bake for about 12-15 minutes, or until the crust is golden brown and the cheese is bubbly.\\n9. Remove the pizza from the oven and let it cool slightly before slicing and serving. Enjoy your homemade pizza!', role='assistant', function_call=None, tool_calls=None))"
            ]
          },
          "execution_count": 9,
          "metadata": {},
          "output_type": "execute_result"
        }
      ],
      "source": [
        "response.choices[0]"
      ]
    },
    {
      "cell_type": "code",
      "execution_count": 10,
      "metadata": {
        "colab": {
          "base_uri": "https://localhost:8080/"
        },
        "id": "fW4NgbM3-aMK",
        "outputId": "1d06a392-f07b-4ec4-d57d-2e222b41bb8b"
      },
      "outputs": [
        {
          "data": {
            "text/plain": [
              "ChatCompletionMessage(content='Here is a simple recipe to make a classic pizza at home:\\n\\nIngredients:\\n- 1 ½ cups of all-purpose flour\\n- 1 teaspoon of instant dry yeast\\n- 1 teaspoon of sugar\\n- 1 teaspoon of salt\\n- 1 tablespoon of olive oil\\n- ½ cup of warm water\\n- Pizza sauce\\n- Shredded mozzarella cheese\\n- Toppings of your choice (pepperoni, mushrooms, bell peppers, onions, etc.)\\n\\nInstructions:\\n1. In a large mixing bowl, combine the flour, yeast, sugar, and salt.\\n2. Gradually add the warm water and olive oil to the dry ingredients, mixing until a dough forms.\\n3. Knead the dough on a floured surface for about 5 minutes, or until it becomes smooth and elastic.\\n4. Place the dough in a greased bowl, cover with a clean kitchen towel, and let it rise in a warm place for about 1 hour, or until doubled in size.\\n5. Preheat your oven to 475°F (245°C) and place a pizza stone or baking sheet in the oven to heat up.\\n6. Punch down the dough and roll it out into a circle on a floured surface. Transfer the dough to a pizza peel or an inverted baking sheet lined with parchment paper.\\n7. Spread pizza sauce over the dough, leaving a small border around the edge. Sprinkle shredded mozzarella cheese over the sauce and add your desired toppings.\\n8. Carefully transfer the pizza to the preheated pizza stone or baking sheet in the oven. Bake for about 12-15 minutes, or until the crust is golden brown and the cheese is bubbly.\\n9. Remove the pizza from the oven and let it cool slightly before slicing and serving. Enjoy your homemade pizza!', role='assistant', function_call=None, tool_calls=None)"
            ]
          },
          "execution_count": 10,
          "metadata": {},
          "output_type": "execute_result"
        }
      ],
      "source": [
        "response.choices[0].message"
      ]
    },
    {
      "cell_type": "code",
      "execution_count": 11,
      "metadata": {
        "colab": {
          "base_uri": "https://localhost:8080/",
          "height": 161
        },
        "id": "Q1Oh7fEd-eAt",
        "outputId": "726df199-2b2c-4f11-81a4-009bca405fcc"
      },
      "outputs": [
        {
          "data": {
            "application/vnd.google.colaboratory.intrinsic+json": {
              "type": "string"
            },
            "text/plain": [
              "'Here is a simple recipe to make a classic pizza at home:\\n\\nIngredients:\\n- 1 ½ cups of all-purpose flour\\n- 1 teaspoon of instant dry yeast\\n- 1 teaspoon of sugar\\n- 1 teaspoon of salt\\n- 1 tablespoon of olive oil\\n- ½ cup of warm water\\n- Pizza sauce\\n- Shredded mozzarella cheese\\n- Toppings of your choice (pepperoni, mushrooms, bell peppers, onions, etc.)\\n\\nInstructions:\\n1. In a large mixing bowl, combine the flour, yeast, sugar, and salt.\\n2. Gradually add the warm water and olive oil to the dry ingredients, mixing until a dough forms.\\n3. Knead the dough on a floured surface for about 5 minutes, or until it becomes smooth and elastic.\\n4. Place the dough in a greased bowl, cover with a clean kitchen towel, and let it rise in a warm place for about 1 hour, or until doubled in size.\\n5. Preheat your oven to 475°F (245°C) and place a pizza stone or baking sheet in the oven to heat up.\\n6. Punch down the dough and roll it out into a circle on a floured surface. Transfer the dough to a pizza peel or an inverted baking sheet lined with parchment paper.\\n7. Spread pizza sauce over the dough, leaving a small border around the edge. Sprinkle shredded mozzarella cheese over the sauce and add your desired toppings.\\n8. Carefully transfer the pizza to the preheated pizza stone or baking sheet in the oven. Bake for about 12-15 minutes, or until the crust is golden brown and the cheese is bubbly.\\n9. Remove the pizza from the oven and let it cool slightly before slicing and serving. Enjoy your homemade pizza!'"
            ]
          },
          "execution_count": 11,
          "metadata": {},
          "output_type": "execute_result"
        }
      ],
      "source": [
        "response.choices[0].message.content"
      ]
    },
    {
      "cell_type": "code",
      "execution_count": 12,
      "metadata": {
        "colab": {
          "base_uri": "https://localhost:8080/"
        },
        "id": "lOSWhzY6-izu",
        "outputId": "a865871c-0808-4bf4-c887-f204fbf43fcd"
      },
      "outputs": [
        {
          "name": "stdout",
          "output_type": "stream",
          "text": [
            "Here is a simple recipe to make a classic pizza at home:\n",
            "\n",
            "Ingredients:\n",
            "- 1 ½ cups of all-purpose flour\n",
            "- 1 teaspoon of instant dry yeast\n",
            "- 1 teaspoon of sugar\n",
            "- 1 teaspoon of salt\n",
            "- 1 tablespoon of olive oil\n",
            "- ½ cup of warm water\n",
            "- Pizza sauce\n",
            "- Shredded mozzarella cheese\n",
            "- Toppings of your choice (pepperoni, mushrooms, bell peppers, onions, etc.)\n",
            "\n",
            "Instructions:\n",
            "1. In a large mixing bowl, combine the flour, yeast, sugar, and salt.\n",
            "2. Gradually add the warm water and olive oil to the dry ingredients, mixing until a dough forms.\n",
            "3. Knead the dough on a floured surface for about 5 minutes, or until it becomes smooth and elastic.\n",
            "4. Place the dough in a greased bowl, cover with a clean kitchen towel, and let it rise in a warm place for about 1 hour, or until doubled in size.\n",
            "5. Preheat your oven to 475°F (245°C) and place a pizza stone or baking sheet in the oven to heat up.\n",
            "6. Punch down the dough and roll it out into a circle on a floured surface. Transfer the dough to a pizza peel or an inverted baking sheet lined with parchment paper.\n",
            "7. Spread pizza sauce over the dough, leaving a small border around the edge. Sprinkle shredded mozzarella cheese over the sauce and add your desired toppings.\n",
            "8. Carefully transfer the pizza to the preheated pizza stone or baking sheet in the oven. Bake for about 12-15 minutes, or until the crust is golden brown and the cheese is bubbly.\n",
            "9. Remove the pizza from the oven and let it cool slightly before slicing and serving. Enjoy your homemade pizza!\n"
          ]
        }
      ],
      "source": [
        "print(response.choices[0].message.content)"
      ]
    },
    {
      "cell_type": "markdown",
      "metadata": {
        "id": "24Lf087L_Nc6"
      },
      "source": [
        "소모 토큰, 비용 확인"
      ]
    },
    {
      "cell_type": "code",
      "execution_count": 13,
      "metadata": {
        "colab": {
          "base_uri": "https://localhost:8080/"
        },
        "id": "Jwg9rEfp-mrC",
        "outputId": "a36e01f2-c82d-4073-f034-73436398bf9f"
      },
      "outputs": [
        {
          "name": "stdout",
          "output_type": "stream",
          "text": [
            "CompletionUsage(completion_tokens=369, prompt_tokens=14, total_tokens=383)\n"
          ]
        }
      ],
      "source": [
        "print(response.usage)"
      ]
    },
    {
      "cell_type": "code",
      "execution_count": 14,
      "metadata": {
        "colab": {
          "base_uri": "https://localhost:8080/"
        },
        "id": "QglZmNvt_ref",
        "outputId": "69de0ea1-35a2-4fb8-fe4d-cdec19f6e04c"
      },
      "outputs": [
        {
          "data": {
            "text/plain": [
              "0.0007589999999999999"
            ]
          },
          "execution_count": 14,
          "metadata": {},
          "output_type": "execute_result"
        }
      ],
      "source": [
        "total_bill = response.usage.prompt_tokens * 0.0015/1000 + response.usage.completion_tokens * 0.002/1000\n",
        "total_bill"
      ]
    },
    {
      "cell_type": "code",
      "execution_count": 15,
      "metadata": {
        "colab": {
          "base_uri": "https://localhost:8080/"
        },
        "id": "nCBg5O-rASAa",
        "outputId": "049c0653-9c58-44e1-d65a-25a7284febcc"
      },
      "outputs": [
        {
          "name": "stdout",
          "output_type": "stream",
          "text": [
            "총 발생 비용 0.0007589999999999999 원\n"
          ]
        }
      ],
      "source": [
        "print('총 발생 비용 {} 원'.format(total_bill * 1,323.43))"
      ]
    },
    {
      "cell_type": "markdown",
      "metadata": {
        "id": "z-Cfs70zAkIx"
      },
      "source": [
        "역할 부여하기"
      ]
    },
    {
      "cell_type": "code",
      "execution_count": 16,
      "metadata": {
        "colab": {
          "base_uri": "https://localhost:8080/"
        },
        "id": "7M-3opMAAbND",
        "outputId": "7158b1d7-08cc-45f3-e5e5-3598bd0eba6f"
      },
      "outputs": [
        {
          "name": "stdout",
          "output_type": "stream",
          "text": [
            "2020년 월드시리즈에서는 로스앤젤레스 다저스가 탬파베이 레이스를 상대로 우승을 차지했어요.\n"
          ]
        }
      ],
      "source": [
        "response =\\\n",
        "client.chat.completions.create(\n",
        "    model = 'gpt-3.5-turbo',\n",
        "    messages = [{'role':'system','content': '너는 친절하게 답변해 주는 비서야'},   # 역할 부여\n",
        "                {'role':'user','content': '2020년 월드시리즈에서 누가 우승했어?'}, # 사용자-질문(query)\n",
        "\n",
        "                ]\n",
        ")\n",
        "\n",
        "print(response.choices[0].message.content)"
      ]
    },
    {
      "cell_type": "code",
      "execution_count": 17,
      "metadata": {
        "colab": {
          "base_uri": "https://localhost:8080/"
        },
        "id": "ysN86SLdBaQ0",
        "outputId": "735aadf9-eacb-4d1c-f561-99fffcbe9538"
      },
      "outputs": [
        {
          "name": "stdout",
          "output_type": "stream",
          "text": [
            "The Los Angeles Dodgers won the 2020 World Series.\n"
          ]
        }
      ],
      "source": [
        "response =\\\n",
        "client.chat.completions.create(\n",
        "    model = 'gpt-3.5-turbo',\n",
        "    messages = [{\"role\": \"system\", \"content\": \"You must only answer users' questions in English. This must be honored. You must only answer in English.\"},\n",
        "                {'role':'user','content': '2020년 월드시리즈에서 누가 우승했어?'}, # 사용자-질문(query)\n",
        "\n",
        "                ]\n",
        ")\n",
        "\n",
        "print(response.choices[0].message.content)"
      ]
    },
    {
      "cell_type": "code",
      "execution_count": 18,
      "metadata": {
        "colab": {
          "base_uri": "https://localhost:8080/"
        },
        "id": "d-Cz248UCRXQ",
        "outputId": "b07826ed-b295-40be-eb8b-ed4c4512bc34"
      },
      "outputs": [
        {
          "name": "stdout",
          "output_type": "stream",
          "text": [
            "Sorry, I can't provide that information.\n"
          ]
        }
      ],
      "source": [
        "response =\\\n",
        "client.chat.completions.create(\n",
        "    model = 'gpt-3.5-turbo',\n",
        "    messages = [ {\"role\": \"system\", \"content\": \"You're a chatbot that refuses to answer and says sorry when users ask questions.\"},\n",
        "                {'role':'user','content': '2020년 월드시리즈에서 누가 우승했어?'}, # 사용자-질문(query)\n",
        "\n",
        "                ]\n",
        ")\n",
        "\n",
        "print(response.choices[0].message.content)"
      ]
    },
    {
      "cell_type": "code",
      "execution_count": 19,
      "metadata": {
        "colab": {
          "base_uri": "https://localhost:8080/"
        },
        "id": "eCk0T5hYCW3s",
        "outputId": "c5f28217-2fb1-4797-ced4-af6618933436"
      },
      "outputs": [
        {
          "name": "stdout",
          "output_type": "stream",
          "text": [
            "Who won the World Series in 2020?\n"
          ]
        }
      ],
      "source": [
        "response = client.chat.completions.create(\n",
        " model=\"gpt-3.5-turbo\",\n",
        " messages=[\n",
        "  {\"role\": \"system\", \"content\": \"You are a translator that translates users' inputs. If the input is in Korean, it must be translated into English. This must be strictly adhered to.\"},\n",
        "  {\"role\": \"user\", \"content\": \"2020년 월드시리즈에서는 누가 우승했어?\"}\n",
        "  ]\n",
        " )\n",
        "print(response.choices[0].message.content)"
      ]
    },
    {
      "cell_type": "markdown",
      "metadata": {
        "id": "sA6QuwNSCrVI"
      },
      "source": [
        "이전 대화를 포함하여 답변하기"
      ]
    },
    {
      "cell_type": "code",
      "execution_count": 20,
      "metadata": {
        "colab": {
          "base_uri": "https://localhost:8080/"
        },
        "id": "-N3qs3G-Co2m",
        "outputId": "87ad288b-e183-43ff-e316-d1da17a3ba6a"
      },
      "outputs": [
        {
          "name": "stdout",
          "output_type": "stream",
          "text": [
            "2002년 월드컵에서 대한민국은 기존의 강호국들을 상대로 예상치 못한 결과를 이끌어내며 화제가 되었습니다. 4강에 진출한 대한민국은 일본과 공동 개최하는 월드컵에서 역대 최고 실적을 기록했고, 특히 한국 대표팀의 열정적인 경기 욕구와 극적인 승부결과에 대한 열광적인 응원이 국내외에서 큰 주목을 받았습니다. 이러한 성과는 대한민국 축구 문화의 발전과 선수들의 투지, 그리고 국민의 열정적인 응원이 결합된 결과였습니다.\n"
          ]
        }
      ],
      "source": [
        "response = client.chat.completions.create(\n",
        " model=\"gpt-3.5-turbo\",\n",
        " messages=[\n",
        "    {'role':'user', 'content':'2002년 월드컵에서 가장 화제가 되었던 나라는 어디야?'},\n",
        "    {'role':'assistant', 'content': '예상을 깨고 4강 진출 신화를 일으킨 대한민국입니다.'},\n",
        "    {'role':'assistant', 'content' : '그 나라가 화제가 되었던 이유를 자세하게 설명해줘'}\n",
        "\n",
        "  ]\n",
        " )\n",
        "print(response.choices[0].message.content)"
      ]
    },
    {
      "cell_type": "code",
      "execution_count": 27,
      "metadata": {
        "colab": {
          "base_uri": "https://localhost:8080/"
        },
        "id": "VedrBPoqCo6Y",
        "outputId": "33f4ed8f-3a10-4ff0-f499-7e6d17db1659"
      },
      "outputs": [
        {
          "name": "stdout",
          "output_type": "stream",
          "text": [
            "2002년 월드컵에서 대한민국의 감독은 거스 히딩크(Guus Hiddink)였습니다. 그의 지도하에 대한민국 팀은 이전의 경기 방식과 다르게 공격적이고 활동적인 플레이 스타일을 채택했습니다.\n",
            "\n",
            "히딩크 감독의 주요 전략 중 하나는 고강도의 체력 훈련을 통해 선수들의 전반적인 체력과 스피드를 향상시키는 것이었습니다. 이로 인해 팀은 경기 내내 높은 에너지 레벨을 유지할 수 있었고, 경기 후반에도 공격적인 플레이를 지속할 수 있었습니다.\n",
            "\n",
            "또한, 히딩크는 유연한 전술과 다양한 포지션 변화를 통해 상대 팀의 예측을 어렵게 만들었습니다. 3-4-3 포메이션을 주로 사용하면서, 선수들이 수비와 공격에 자유롭게 참여하도록 했습니다. 이는 대한민국 팀이 많은 득점 기회를 만들 수 있도록 도왔습니다.\n",
            "\n",
            "그 결과, 대한민국은 이탈리아와 스페인을 차례로 꺾고 4강에 진출하는 놀라운 성과를 거두었습니다. 이러한 전략과 팀의 노력 덕분에 대한민국은 2002년 월드컵에서 세계 축구 팬들의 큰 주목을 받았습니다.\n"
          ]
        }
      ],
      "source": [
        "response = client.chat.completions.create(\n",
        " model=\"gpt-4o\",\n",
        " messages=[\n",
        "    {'role':'user', 'content':'2002년 월드컵에서 가장 화제가 되었던 나라는 어디야?'},\n",
        "    {'role':'assistant', 'content': '예상을 깨고 4강 진출 신화를 일으킨 대한민국입니다.'},\n",
        "    {'role':'assistant', 'content' : '그 당시 감독은 누구야? 그리고 주요 전략은 무엇이야?'}\n",
        "\n",
        "  ]\n",
        " )\n",
        "print(response.choices[0].message.content)"
      ]
    },
    {
      "cell_type": "code",
      "execution_count": null,
      "metadata": {
        "id": "hljfdu01Co92"
      },
      "outputs": [],
      "source": []
    }
  ],
  "metadata": {
    "accelerator": "GPU",
    "colab": {
      "gpuType": "T4",
      "provenance": []
    },
    "kernelspec": {
      "display_name": "Python 3",
      "name": "python3"
    },
    "language_info": {
      "name": "python"
    }
  },
  "nbformat": 4,
  "nbformat_minor": 0
}
