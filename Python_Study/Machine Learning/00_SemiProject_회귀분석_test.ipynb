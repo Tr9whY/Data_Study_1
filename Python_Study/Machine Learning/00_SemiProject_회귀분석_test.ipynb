{
 "cells": [
  {
   "cell_type": "code",
   "execution_count": 1,
   "metadata": {},
   "outputs": [],
   "source": [
    "import pandas as pd\n"
   ]
  },
  {
   "cell_type": "code",
   "execution_count": 1,
   "metadata": {},
   "outputs": [
    {
     "name": "stdout",
     "output_type": "stream",
     "text": [
      "[{\"Gu\": \"\\uc131\\ubd81\\uad6c\", \"Dong\": \"\\uae38\\uc74c\\ub3d9\", \"Pet_Owners\": 1621, \"Total_Registrations\": 2005}, {\"Gu\": \"\\uc131\\ubd81\\uad6c\", \"Dong\": \"\\ub3c8\\uc554\\ub3d9\", \"Pet_Owners\": 1586, \"Total_Registrations\": 1978}, {\"Gu\": \"\\uc131\\ubd81\\uad6c\", \"Dong\": \"\\ub3d9\\uc120\\ub3d91\\uac00\", \"Pet_Owners\": 49, \"Total_Registrations\": 57}, {\"Gu\": \"\\uc131\\ubd81\\uad6c\", \"Dong\": \"\\ub3d9\\uc120\\ub3d92\\uac00\", \"Pet_Owners\": 79, \"Total_Registrations\": 107}, {\"Gu\": \"\\uc131\\ubd81\\uad6c\", \"Dong\": \"\\ub3d9\\uc120\\ub3d93\\uac00\", \"Pet_Owners\": 105, \"Total_Registrations\": 136}, {\"Gu\": \"\\uc131\\ubd81\\uad6c\", \"Dong\": \"\\ub3d9\\uc120\\ub3d94\\uac00\", \"Pet_Owners\": 112, \"Total_Registrations\": 145}, {\"Gu\": \"\\uc131\\ubd81\\uad6c\", \"Dong\": \"\\ub3d9\\uc120\\ub3d95\\uac00\", \"Pet_Owners\": 75, \"Total_Registrations\": 91}, {\"Gu\": \"\\uc131\\ubd81\\uad6c\", \"Dong\": \"\\ub3d9\\uc18c\\ubb38\\ub3d91\\uac00\", \"Pet_Owners\": 51, \"Total_Registrations\": 69}, {\"Gu\": \"\\uc131\\ubd81\\uad6c\", \"Dong\": \"\\ub3d9\\uc18c\\ubb38\\ub3d92\\uac00\", \"Pet_Owners\": 54, \"Total_Registrations\": 74}, {\"Gu\": \"\\uc131\\ubd81\\uad6c\", \"Dong\": \"\\ub3d9\\uc18c\\ubb38\\ub3d93\\uac00\", \"Pet_Owners\": 6, \"Total_Registrations\": 7}, {\"Gu\": \"\\uc131\\ubd81\\uad6c\", \"Dong\": \"\\ub3d9\\uc18c\\ubb38\\ub3d94\\uac00\", \"Pet_Owners\": 89, \"Total_Registrations\": 112}, {\"Gu\": \"\\uc131\\ubd81\\uad6c\", \"Dong\": \"\\ub3d9\\uc18c\\ubb38\\ub3d95\\uac00\", \"Pet_Owners\": 37, \"Total_Registrations\": 44}, {\"Gu\": \"\\uc131\\ubd81\\uad6c\", \"Dong\": \"\\ub3d9\\uc18c\\ubb38\\ub3d96\\uac00\", \"Pet_Owners\": 61, \"Total_Registrations\": 84}, {\"Gu\": \"\\uc131\\ubd81\\uad6c\", \"Dong\": \"\\ub3d9\\uc18c\\ubb38\\ub3d97\\uac00\", \"Pet_Owners\": 96, \"Total_Registrations\": 120}, {\"Gu\": \"\\uc131\\ubd81\\uad6c\", \"Dong\": \"\\ubcf4\\ubb38\\ub3d91\\uac00\", \"Pet_Owners\": 73, \"Total_Registrations\": 88}, {\"Gu\": \"\\uc131\\ubd81\\uad6c\", \"Dong\": \"\\ubcf4\\ubb38\\ub3d92\\uac00\", \"Pet_Owners\": 102, \"Total_Registrations\": 127}, {\"Gu\": \"\\uc131\\ubd81\\uad6c\", \"Dong\": \"\\ubcf4\\ubb38\\ub3d93\\uac00\", \"Pet_Owners\": 120, \"Total_Registrations\": 149}, {\"Gu\": \"\\uc131\\ubd81\\uad6c\", \"Dong\": \"\\ubcf4\\ubb38\\ub3d94\\uac00\", \"Pet_Owners\": 35, \"Total_Registrations\": 47}, {\"Gu\": \"\\uc131\\ubd81\\uad6c\", \"Dong\": \"\\ubcf4\\ubb38\\ub3d95\\uac00\", \"Pet_Owners\": 75, \"Total_Registrations\": 100}, {\"Gu\": \"\\uc131\\ubd81\\uad6c\", \"Dong\": \"\\ubcf4\\ubb38\\ub3d96\\uac00\", \"Pet_Owners\": 231, \"Total_Registrations\": 301}, {\"Gu\": \"\\uc131\\ubd81\\uad6c\", \"Dong\": \"\\ubcf4\\ubb38\\ub3d97\\uac00\", \"Pet_Owners\": 24, \"Total_Registrations\": 34}, {\"Gu\": \"\\uc131\\ubd81\\uad6c\", \"Dong\": \"\\uc0bc\\uc120\\ub3d91\\uac00\", \"Pet_Owners\": 228, \"Total_Registrations\": 296}, {\"Gu\": \"\\uc131\\ubd81\\uad6c\", \"Dong\": \"\\uc0bc\\uc120\\ub3d92\\uac00\", \"Pet_Owners\": 255, \"Total_Registrations\": 330}, {\"Gu\": \"\\uc131\\ubd81\\uad6c\", \"Dong\": \"\\uc0bc\\uc120\\ub3d93\\uac00\", \"Pet_Owners\": 184, \"Total_Registrations\": 240}, {\"Gu\": \"\\uc131\\ubd81\\uad6c\", \"Dong\": \"\\uc0bc\\uc120\\ub3d94\\uac00\", \"Pet_Owners\": 90, \"Total_Registrations\": 114}, {\"Gu\": \"\\uc131\\ubd81\\uad6c\", \"Dong\": \"\\uc0bc\\uc120\\ub3d95\\uac00\", \"Pet_Owners\": 160, \"Total_Registrations\": 205}, {\"Gu\": \"\\uc131\\ubd81\\uad6c\", \"Dong\": \"\\uc0c1\\uc6d4\\uace1\\ub3d9\", \"Pet_Owners\": 404, \"Total_Registrations\": 507}, {\"Gu\": \"\\uc131\\ubd81\\uad6c\", \"Dong\": \"\\uc11d\\uad00\\ub3d9\", \"Pet_Owners\": 1247, \"Total_Registrations\": 1573}, {\"Gu\": \"\\uc131\\ubd81\\uad6c\", \"Dong\": \"\\uc131\\ubd81\\ub3d9\", \"Pet_Owners\": 746, \"Total_Registrations\": 1062}, {\"Gu\": \"\\uc131\\ubd81\\uad6c\", \"Dong\": \"\\uc131\\ubd81\\ub3d91\\uac00\", \"Pet_Owners\": 100, \"Total_Registrations\": 136}, {\"Gu\": \"\\uc131\\ubd81\\uad6c\", \"Dong\": \"\\uc548\\uc554\\ub3d91\\uac00\", \"Pet_Owners\": 136, \"Total_Registrations\": 162}, {\"Gu\": \"\\uc131\\ubd81\\uad6c\", \"Dong\": \"\\uc548\\uc554\\ub3d92\\uac00\", \"Pet_Owners\": 94, \"Total_Registrations\": 126}, {\"Gu\": \"\\uc131\\ubd81\\uad6c\", \"Dong\": \"\\uc548\\uc554\\ub3d93\\uac00\", \"Pet_Owners\": 187, \"Total_Registrations\": 253}, {\"Gu\": \"\\uc131\\ubd81\\uad6c\", \"Dong\": \"\\uc548\\uc554\\ub3d94\\uac00\", \"Pet_Owners\": 45, \"Total_Registrations\": 51}, {\"Gu\": \"\\uc131\\ubd81\\uad6c\", \"Dong\": \"\\uc548\\uc554\\ub3d95\\uac00\", \"Pet_Owners\": 94, \"Total_Registrations\": 118}, {\"Gu\": \"\\uc131\\ubd81\\uad6c\", \"Dong\": \"\\uc7a5\\uc704\\ub3d9\", \"Pet_Owners\": 2304, \"Total_Registrations\": 3106}, {\"Gu\": \"\\uc131\\ubd81\\uad6c\", \"Dong\": \"\\uc815\\ub989\\ub3d9\", \"Pet_Owners\": 3102, \"Total_Registrations\": 3970}, {\"Gu\": \"\\uc131\\ubd81\\uad6c\", \"Dong\": \"\\uc885\\uc554\\ub3d9\", \"Pet_Owners\": 1404, \"Total_Registrations\": 1748}, {\"Gu\": \"\\uc131\\ubd81\\uad6c\", \"Dong\": \"\\ud558\\uc6d4\\uace1\\ub3d9\", \"Pet_Owners\": 1504, \"Total_Registrations\": 2005}]\n",
      "[{\"Gu\": \"\\uc1a1\\ud30c\\uad6c\", \"Dong\": \"\\uac00\\ub77d\\ub3d9\", \"Pet_Owners\": 2642, \"Total_Registrations\": 3195}, {\"Gu\": \"\\uc1a1\\ud30c\\uad6c\", \"Dong\": \"\\uac70\\uc5ec\\ub3d9\", \"Pet_Owners\": 1184, \"Total_Registrations\": 1531}, {\"Gu\": \"\\uc1a1\\ud30c\\uad6c\", \"Dong\": \"\\ub9c8\\ucc9c\\ub3d9\", \"Pet_Owners\": 1318, \"Total_Registrations\": 1728}, {\"Gu\": \"\\uc1a1\\ud30c\\uad6c\", \"Dong\": \"\\ubb38\\uc815\\ub3d9\", \"Pet_Owners\": 2616, \"Total_Registrations\": 3233}, {\"Gu\": \"\\uc1a1\\ud30c\\uad6c\", \"Dong\": \"\\ubc29\\uc774\\ub3d9\", \"Pet_Owners\": 2410, \"Total_Registrations\": 3056}, {\"Gu\": \"\\uc1a1\\ud30c\\uad6c\", \"Dong\": \"\\uc0bc\\uc804\\ub3d9\", \"Pet_Owners\": 1462, \"Total_Registrations\": 1887}, {\"Gu\": \"\\uc1a1\\ud30c\\uad6c\", \"Dong\": \"\\uc11d\\ucd0c\\ub3d9\", \"Pet_Owners\": 1384, \"Total_Registrations\": 1862}, {\"Gu\": \"\\uc1a1\\ud30c\\uad6c\", \"Dong\": \"\\uc1a1\\ud30c\\ub3d9\", \"Pet_Owners\": 1694, \"Total_Registrations\": 2152}, {\"Gu\": \"\\uc1a1\\ud30c\\uad6c\", \"Dong\": \"\\uc2e0\\ucc9c\\ub3d9\", \"Pet_Owners\": 1409, \"Total_Registrations\": 1680}, {\"Gu\": \"\\uc1a1\\ud30c\\uad6c\", \"Dong\": \"\\uc624\\uae08\\ub3d9\", \"Pet_Owners\": 1361, \"Total_Registrations\": 1657}, {\"Gu\": \"\\uc1a1\\ud30c\\uad6c\", \"Dong\": \"\\uc7a0\\uc2e4\\ub3d9\", \"Pet_Owners\": 4283, \"Total_Registrations\": 5255}, {\"Gu\": \"\\uc1a1\\ud30c\\uad6c\", \"Dong\": \"\\uc7a5\\uc9c0\\ub3d9\", \"Pet_Owners\": 1274, \"Total_Registrations\": 1551}, {\"Gu\": \"\\uc1a1\\ud30c\\uad6c\", \"Dong\": \"\\ud48d\\ub0a9\\ub3d9\", \"Pet_Owners\": 1374, \"Total_Registrations\": 1701}]\n",
      "[{\"Gu\": \"\\uc601\\ub4f1\\ud3ec\\uad6c\", \"Dong\": \"\\ub2f9\\uc0b0\\ub3d9\", \"Pet_Owners\": 271, \"Total_Registrations\": 322}, {\"Gu\": \"\\uc601\\ub4f1\\ud3ec\\uad6c\", \"Dong\": \"\\ub2f9\\uc0b0\\ub3d91\\uac00\", \"Pet_Owners\": 310, \"Total_Registrations\": 403}, {\"Gu\": \"\\uc601\\ub4f1\\ud3ec\\uad6c\", \"Dong\": \"\\ub2f9\\uc0b0\\ub3d92\\uac00\", \"Pet_Owners\": 217, \"Total_Registrations\": 277}, {\"Gu\": \"\\uc601\\ub4f1\\ud3ec\\uad6c\", \"Dong\": \"\\ub2f9\\uc0b0\\ub3d93\\uac00\", \"Pet_Owners\": 400, \"Total_Registrations\": 509}, {\"Gu\": \"\\uc601\\ub4f1\\ud3ec\\uad6c\", \"Dong\": \"\\ub2f9\\uc0b0\\ub3d94\\uac00\", \"Pet_Owners\": 462, \"Total_Registrations\": 563}, {\"Gu\": \"\\uc601\\ub4f1\\ud3ec\\uad6c\", \"Dong\": \"\\ub2f9\\uc0b0\\ub3d95\\uac00\", \"Pet_Owners\": 497, \"Total_Registrations\": 607}, {\"Gu\": \"\\uc601\\ub4f1\\ud3ec\\uad6c\", \"Dong\": \"\\ub2f9\\uc0b0\\ub3d96\\uac00\", \"Pet_Owners\": 159, \"Total_Registrations\": 209}, {\"Gu\": \"\\uc601\\ub4f1\\ud3ec\\uad6c\", \"Dong\": \"\\ub300\\ub9bc\\ub3d9\", \"Pet_Owners\": 2178, \"Total_Registrations\": 2725}, {\"Gu\": \"\\uc601\\ub4f1\\ud3ec\\uad6c\", \"Dong\": \"\\ub3c4\\ub9bc\\ub3d9\", \"Pet_Owners\": 830, \"Total_Registrations\": 1040}, {\"Gu\": \"\\uc601\\ub4f1\\ud3ec\\uad6c\", \"Dong\": \"\\ubb38\\ub798\\ub3d91\\uac00\", \"Pet_Owners\": 10, \"Total_Registrations\": 12}, {\"Gu\": \"\\uc601\\ub4f1\\ud3ec\\uad6c\", \"Dong\": \"\\ubb38\\ub798\\ub3d92\\uac00\", \"Pet_Owners\": 45, \"Total_Registrations\": 62}, {\"Gu\": \"\\uc601\\ub4f1\\ud3ec\\uad6c\", \"Dong\": \"\\ubb38\\ub798\\ub3d93\\uac00\", \"Pet_Owners\": 503, \"Total_Registrations\": 751}, {\"Gu\": \"\\uc601\\ub4f1\\ud3ec\\uad6c\", \"Dong\": \"\\ubb38\\ub798\\ub3d94\\uac00\", \"Pet_Owners\": 74, \"Total_Registrations\": 96}, {\"Gu\": \"\\uc601\\ub4f1\\ud3ec\\uad6c\", \"Dong\": \"\\ubb38\\ub798\\ub3d95\\uac00\", \"Pet_Owners\": 185, \"Total_Registrations\": 230}, {\"Gu\": \"\\uc601\\ub4f1\\ud3ec\\uad6c\", \"Dong\": \"\\ubb38\\ub798\\ub3d96\\uac00\", \"Pet_Owners\": 405, \"Total_Registrations\": 485}, {\"Gu\": \"\\uc601\\ub4f1\\ud3ec\\uad6c\", \"Dong\": \"\\uc2e0\\uae38\\ub3d9\", \"Pet_Owners\": 4212, \"Total_Registrations\": 5303}, {\"Gu\": \"\\uc601\\ub4f1\\ud3ec\\uad6c\", \"Dong\": \"\\uc591\\ud3c9\\ub3d91\\uac00\", \"Pet_Owners\": 199, \"Total_Registrations\": 269}, {\"Gu\": \"\\uc601\\ub4f1\\ud3ec\\uad6c\", \"Dong\": \"\\uc591\\ud3c9\\ub3d92\\uac00\", \"Pet_Owners\": 283, \"Total_Registrations\": 356}, {\"Gu\": \"\\uc601\\ub4f1\\ud3ec\\uad6c\", \"Dong\": \"\\uc591\\ud3c9\\ub3d93\\uac00\", \"Pet_Owners\": 440, \"Total_Registrations\": 535}, {\"Gu\": \"\\uc601\\ub4f1\\ud3ec\\uad6c\", \"Dong\": \"\\uc591\\ud3c9\\ub3d94\\uac00\", \"Pet_Owners\": 285, \"Total_Registrations\": 335}, {\"Gu\": \"\\uc601\\ub4f1\\ud3ec\\uad6c\", \"Dong\": \"\\uc591\\ud3c9\\ub3d95\\uac00\", \"Pet_Owners\": 248, \"Total_Registrations\": 314}, {\"Gu\": \"\\uc601\\ub4f1\\ud3ec\\uad6c\", \"Dong\": \"\\uc591\\ud3c9\\ub3d96\\uac00\", \"Pet_Owners\": 217, \"Total_Registrations\": 290}, {\"Gu\": \"\\uc601\\ub4f1\\ud3ec\\uad6c\", \"Dong\": \"\\uc5ec\\uc758\\ub3c4\\ub3d9\", \"Pet_Owners\": 1659, \"Total_Registrations\": 2064}, {\"Gu\": \"\\uc601\\ub4f1\\ud3ec\\uad6c\", \"Dong\": \"\\uc601\\ub4f1\\ud3ec\\ub3d9\", \"Pet_Owners\": 567, \"Total_Registrations\": 721}, {\"Gu\": \"\\uc601\\ub4f1\\ud3ec\\uad6c\", \"Dong\": \"\\uc601\\ub4f1\\ud3ec\\ub3d91\\uac00\", \"Pet_Owners\": 121, \"Total_Registrations\": 149}, {\"Gu\": \"\\uc601\\ub4f1\\ud3ec\\uad6c\", \"Dong\": \"\\uc601\\ub4f1\\ud3ec\\ub3d92\\uac00\", \"Pet_Owners\": 175, \"Total_Registrations\": 227}, {\"Gu\": \"\\uc601\\ub4f1\\ud3ec\\uad6c\", \"Dong\": \"\\uc601\\ub4f1\\ud3ec\\ub3d93\\uac00\", \"Pet_Owners\": 61, \"Total_Registrations\": 94}, {\"Gu\": \"\\uc601\\ub4f1\\ud3ec\\uad6c\", \"Dong\": \"\\uc601\\ub4f1\\ud3ec\\ub3d94\\uac00\", \"Pet_Owners\": 88, \"Total_Registrations\": 116}, {\"Gu\": \"\\uc601\\ub4f1\\ud3ec\\uad6c\", \"Dong\": \"\\uc601\\ub4f1\\ud3ec\\ub3d95\\uac00\", \"Pet_Owners\": 86, \"Total_Registrations\": 116}, {\"Gu\": \"\\uc601\\ub4f1\\ud3ec\\uad6c\", \"Dong\": \"\\uc601\\ub4f1\\ud3ec\\ub3d96\\uac00\", \"Pet_Owners\": 79, \"Total_Registrations\": 112}, {\"Gu\": \"\\uc601\\ub4f1\\ud3ec\\uad6c\", \"Dong\": \"\\uc601\\ub4f1\\ud3ec\\ub3d97\\uac00\", \"Pet_Owners\": 334, \"Total_Registrations\": 433}, {\"Gu\": \"\\uc601\\ub4f1\\ud3ec\\uad6c\", \"Dong\": \"\\uc601\\ub4f1\\ud3ec\\ub3d98\\uac00\", \"Pet_Owners\": 198, \"Total_Registrations\": 239}]\n"
     ]
    }
   ],
   "source": [
    "import pandas as pd\n",
    "import json\n",
    "\n",
    "def convert_to_json(file_path):\n",
    "    data = []\n",
    "    df = pd.read_csv(file_path)\n",
    "    for index, row in df.iterrows():\n",
    "        data_dict = {\n",
    "            \"Gu\": row['Gu'],\n",
    "            \"Dong\": row['Dong'],\n",
    "            \"Pet_Owners\": row['Pet_Owners'],\n",
    "            \"Total_Registrations\": row['Total_Registrations']\n",
    "        }\n",
    "        data.append(data_dict)\n",
    "    return data\n",
    "\n",
    "# 성북구 데이터 변환\n",
    "성북구 = convert_to_json('seongbukgu_taeyoung_v1.csv')\n",
    "print(json.dumps(성북구))\n",
    "\n",
    "# 송파구 데이터 변환\n",
    "송파구 = convert_to_json('songpa_taeyoung_v1.csv')\n",
    "print(json.dumps(송파구))\n",
    "\n",
    "# 영등포구 데이터 변환\n",
    "영등포구 = convert_to_json('yeongdeungpo_taeyoung_v1.csv')\n",
    "print(json.dumps(영등포구))"
   ]
  },
  {
   "cell_type": "code",
   "execution_count": null,
   "metadata": {},
   "outputs": [],
   "source": [
    "영등포구 = convert_to_json('yeongdeungpo_taeyoung_v1.csv')\n",
    "print(json.dumps(영등포구))"
   ]
  },
  {
   "cell_type": "code",
   "execution_count": 3,
   "metadata": {},
   "outputs": [
    {
     "name": "stdout",
     "output_type": "stream",
     "text": [
      "도선동: 예측 소유자 수 - 226.5334873793395\n",
      "마장동: 예측 소유자 수 - 906.0332171965173\n",
      "사근동: 예측 소유자 수 - 275.1260823604038\n",
      "송정동: 예측 소유자 수 - 580.2238508480698\n",
      "옥수동: 예측 소유자 수 - 1380.0101682413247\n",
      "용답동: 예측 소유자 수 - 656.6974429494169\n",
      "응봉동: 예측 소유자 수 - 777.7806304432164\n",
      "행당동: 예측 소유자 수 - 1984.6295057926\n",
      "홍익동: 예측 소유자 수 - 173.16129289194103\n",
      "금호동1가: 예측 소유자 수 - 890.10121884207\n",
      "금호동2가: 예측 소유자 수 - 626.426646075967\n",
      "금호동3가: 예측 소유자 수 - 667.0532418798076\n",
      "금호동4가: 예측 소유자 수 - 734.7642348862087\n",
      "성수동1가: 예측 소유자 수 - 1814.9537233177361\n",
      "성수동2가: 예측 소유자 수 - 1421.4333639628876\n",
      "상왕십리동: 예측 소유자 수 - 198.65249025905672\n",
      "하왕십리동: 예측 소유자 수 - 1470.025958943952\n"
     ]
    }
   ],
   "source": [
    "import pandas as pd\n",
    "from sklearn.linear_model import LinearRegression\n",
    "from datetime import datetime\n",
    "\n",
    "# 성동구 반려동물 현황 데이터\n",
    "data_sungdong = [\n",
    "    {\"Dong\": \"도선동\", \"Total_Registrations\": 291},\n",
    "    {\"Dong\": \"마장동\", \"Total_Registrations\": 1144},\n",
    "    {\"Dong\": \"사근동\", \"Total_Registrations\": 352},\n",
    "    {\"Dong\": \"송정동\", \"Total_Registrations\": 735},\n",
    "    {\"Dong\": \"옥수동\", \"Total_Registrations\": 1739},\n",
    "    {\"Dong\": \"용답동\", \"Total_Registrations\": 831},\n",
    "    {\"Dong\": \"응봉동\", \"Total_Registrations\": 983},\n",
    "    {\"Dong\": \"행당동\", \"Total_Registrations\": 2498},\n",
    "    {\"Dong\": \"홍익동\", \"Total_Registrations\": 224},\n",
    "    {\"Dong\": \"금호동1가\", \"Total_Registrations\": 1124},\n",
    "    {\"Dong\": \"금호동2가\", \"Total_Registrations\": 793},\n",
    "    {\"Dong\": \"금호동3가\", \"Total_Registrations\": 844},\n",
    "    {\"Dong\": \"금호동4가\", \"Total_Registrations\": 929},\n",
    "    {\"Dong\": \"성수동1가\", \"Total_Registrations\": 2285},\n",
    "    {\"Dong\": \"성수동2가\", \"Total_Registrations\": 1791},\n",
    "    {\"Dong\": \"상왕십리동\", \"Total_Registrations\": 256},\n",
    "    {\"Dong\": \"하왕십리동\", \"Total_Registrations\": 1852},\n",
    "]\n",
    "\n",
    "# 데이터프레임 생성\n",
    "df_sungdong = pd.DataFrame(data_sungdong)\n",
    "\n",
    "# 성북구와 송파구의 데이터를 합친 후 전체 데이터셋으로 사용\n",
    "data = 영등포구 + 송파구 + 성북구\n",
    "\n",
    "df = pd.DataFrame(data)\n",
    "\n",
    "# 동물 등록 수와 소유자 수 간의 선형 회귀 모델 학습\n",
    "X = df[['Total_Registrations']]\n",
    "y = df['Pet_Owners']\n",
    "model = LinearRegression()\n",
    "model.fit(X, y)\n",
    "\n",
    "# 성동구 데이터를 이용하여 성동구의 소유자 수 예측\n",
    "X_sungdong = df_sungdong[['Total_Registrations']]\n",
    "predicted_pet_owners_sungdong = model.predict(X_sungdong)\n",
    "\n",
    "# 예측 결과 출력\n",
    "for index, row in df_sungdong.iterrows():\n",
    "    print(f\"{row['Dong']}: 예측 소유자 수 - {predicted_pet_owners_sungdong[index]}\")"
   ]
  },
  {
   "cell_type": "code",
   "execution_count": 5,
   "metadata": {},
   "outputs": [
    {
     "name": "stdout",
     "output_type": "stream",
     "text": [
      "도선동: 등록 수 대비 소유자 수 비율 - 1.285\n",
      "마장동: 등록 수 대비 소유자 수 비율 - 1.263\n",
      "사근동: 등록 수 대비 소유자 수 비율 - 1.279\n",
      "송정동: 등록 수 대비 소유자 수 비율 - 1.267\n",
      "옥수동: 등록 수 대비 소유자 수 비율 - 1.260\n",
      "용답동: 등록 수 대비 소유자 수 비율 - 1.265\n",
      "응봉동: 등록 수 대비 소유자 수 비율 - 1.264\n",
      "행당동: 등록 수 대비 소유자 수 비율 - 1.259\n",
      "홍익동: 등록 수 대비 소유자 수 비율 - 1.294\n",
      "금호동1가: 등록 수 대비 소유자 수 비율 - 1.263\n",
      "금호동2가: 등록 수 대비 소유자 수 비율 - 1.266\n",
      "금호동3가: 등록 수 대비 소유자 수 비율 - 1.265\n",
      "금호동4가: 등록 수 대비 소유자 수 비율 - 1.264\n",
      "성수동1가: 등록 수 대비 소유자 수 비율 - 1.259\n",
      "성수동2가: 등록 수 대비 소유자 수 비율 - 1.260\n",
      "상왕십리동: 등록 수 대비 소유자 수 비율 - 1.289\n",
      "하왕십리동: 등록 수 대비 소유자 수 비율 - 1.260\n"
     ]
    }
   ],
   "source": [
    "for index, row in df_sungdong.iterrows():\n",
    "    predicted_pet_owners = predicted_pet_owners_sungdong[index]\n",
    "    total_registrations = row['Total_Registrations']\n",
    "    ratio = total_registrations / predicted_pet_owners\n",
    "    print(f\"{row['Dong']}: 등록 수 대비 소유자 수 비율 - {ratio:.3f}\")\n"
   ]
  },
  {
   "cell_type": "code",
   "execution_count": null,
   "metadata": {},
   "outputs": [],
   "source": [
    "# 전체 median 값 : 1.27로 일정...하다는 값을 얻음."
   ]
  }
 ],
 "metadata": {
  "kernelspec": {
   "display_name": "Python 3",
   "language": "python",
   "name": "python3"
  },
  "language_info": {
   "codemirror_mode": {
    "name": "ipython",
    "version": 3
   },
   "file_extension": ".py",
   "mimetype": "text/x-python",
   "name": "python",
   "nbconvert_exporter": "python",
   "pygments_lexer": "ipython3",
   "version": "3.12.0"
  }
 },
 "nbformat": 4,
 "nbformat_minor": 2
}
