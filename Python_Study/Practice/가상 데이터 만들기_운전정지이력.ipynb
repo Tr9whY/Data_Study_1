{
 "cells": [
  {
   "cell_type": "markdown",
   "metadata": {},
   "source": [
    "### 가상 데이터 만들기"
   ]
  },
  {
   "cell_type": "code",
   "execution_count": 1,
   "metadata": {},
   "outputs": [
    {
     "name": "stdout",
     "output_type": "stream",
     "text": [
      "Requirement already satisfied: pandas in c:\\users\\taeyoung\\appdata\\local\\programs\\python\\python310\\lib\\site-packages (2.2.2)\n",
      "Requirement already satisfied: numpy in c:\\users\\taeyoung\\appdata\\local\\programs\\python\\python310\\lib\\site-packages (1.26.4)\n",
      "Requirement already satisfied: tzdata>=2022.7 in c:\\users\\taeyoung\\appdata\\local\\programs\\python\\python310\\lib\\site-packages (from pandas) (2024.1)\n",
      "Requirement already satisfied: pytz>=2020.1 in c:\\users\\taeyoung\\appdata\\local\\programs\\python\\python310\\lib\\site-packages (from pandas) (2024.1)\n",
      "Requirement already satisfied: python-dateutil>=2.8.2 in c:\\users\\taeyoung\\appdata\\local\\programs\\python\\python310\\lib\\site-packages (from pandas) (2.9.0.post0)\n",
      "Requirement already satisfied: six>=1.5 in c:\\users\\taeyoung\\appdata\\local\\programs\\python\\python310\\lib\\site-packages (from python-dateutil>=2.8.2->pandas) (1.16.0)\n"
     ]
    },
    {
     "name": "stderr",
     "output_type": "stream",
     "text": [
      "\n",
      "[notice] A new release of pip available: 22.3.1 -> 24.2\n",
      "[notice] To update, run: C:\\Users\\taeyoung\\AppData\\Local\\Programs\\Python\\Python310\\python.exe -m pip install --upgrade pip\n"
     ]
    }
   ],
   "source": [
    "!pip install pandas numpy"
   ]
  },
  {
   "cell_type": "code",
   "execution_count": null,
   "metadata": {},
   "outputs": [],
   "source": [
    "import pandas as pd\n",
    "import numpy as np\n",
    "from datetime import datetime, timedelta\n",
    "\n",
    "# 데이터 생성\n",
    "rows = 100000  # 총 행 수\n",
    "num_files = 5  # 파일 수\n",
    "rows_per_file = rows // num_files\n",
    "\n",
    "# 가상 데이터 생성 함수\n",
    "def generate_data(num_rows):\n",
    "    base_time = datetime(2023, 1, 1)\n",
    "    data = {\n",
    "        '설비ID': np.random.randint(1000, 2000, num_rows),\n",
    "        '설비이름': np.random.choice(['발전기1', '발전기2', '터빈1', '터빈2'], num_rows),\n",
    "        '운전시작시간': [base_time + timedelta(minutes=np.random.randint(0, 100000)) for _ in range(num_rows)],\n",
    "        '운전종료시간': [base_time + timedelta(minutes=np.random.randint(100000, 200000)) for _ in range(num_rows)],\n",
    "        '운전시간(분)': np.random.randint(30, 300, num_rows),\n",
    "        '상태': np.random.choice(['운전', '정지'], num_rows)\n",
    "    }\n",
    "    return pd.DataFrame(data)\n",
    "\n",
    "# 데이터 프레임 생성 및 여러 파일로 분할 저장\n",
    "for i in range(num_files):\n",
    "    df = generate_data(rows_per_file)\n",
    "    file_name = f\"/mnt/data/전력_운전정지_이력_{i+1}.csv\"\n",
    "    df.to_csv(file_name, index=False)\n",
    "\n",
    "\"/mnt/data/에 5개의 CSV 파일을 저장했습니다.\""
   ]
  },
  {
   "cell_type": "markdown",
   "metadata": {},
   "source": [
    "## 설비 시설 지역별 가상의 데이터 만들기"
   ]
  },
  {
   "cell_type": "code",
   "execution_count": 2,
   "metadata": {},
   "outputs": [
    {
     "name": "stderr",
     "output_type": "stream",
     "text": [
      "C:\\Users\\taeyoung\\AppData\\Local\\Temp\\ipykernel_23412\\4260272233.py:30: FutureWarning: 'H' is deprecated and will be removed in a future version, please use 'h' instead.\n",
      "  date_range = pd.date_range(start='2021-01-01', end='2024-12-31', freq='H')\n",
      "C:\\Users\\taeyoung\\AppData\\Local\\Temp\\ipykernel_23412\\4260272233.py:47: FutureWarning: 'H' is deprecated and will be removed in a future version, please use 'h' instead.\n",
      "  start_times = pd.date_range(start='2021-01-01', periods=num_rows, freq='H')\n"
     ]
    },
    {
     "name": "stdout",
     "output_type": "stream",
     "text": [
      "CSV 파일들이 성공적으로 생성되었습니다.\n"
     ]
    }
   ],
   "source": [
    "import pandas as pd\n",
    "import numpy as np\n",
    "from datetime import datetime, timedelta\n",
    "\n",
    "# 30개의 임의적인 설비 이름\n",
    "facility_names = [f\"설비_{i}\" for i in range(1, 31)]\n",
    "\n",
    "# 대한민국 주요 지역의 위도와 경도 (서울, 부산, 대구 등)\n",
    "locations = [\n",
    "    {\"지역\": \"서울\", \"위도\": 37.5665, \"경도\": 126.9780},\n",
    "    {\"지역\": \"부산\", \"위도\": 35.1796, \"경도\": 129.0756},\n",
    "    {\"지역\": \"대구\", \"위도\": 35.8722, \"경도\": 128.6025},\n",
    "    {\"지역\": \"인천\", \"위도\": 37.4563, \"경도\": 126.7052},\n",
    "    {\"지역\": \"광주\", \"위도\": 35.1595, \"경도\": 126.8526},\n",
    "    {\"지역\": \"대전\", \"위도\": 36.3504, \"경도\": 127.3845},\n",
    "    {\"지역\": \"울산\", \"위도\": 35.5384, \"경도\": 129.3114},\n",
    "    {\"지역\": \"세종\", \"위도\": 36.4802, \"경도\": 127.2891},\n",
    "    {\"지역\": \"경기도\", \"위도\": 37.4138, \"경도\": 127.5183},\n",
    "    {\"지역\": \"강원도\", \"위도\": 37.5558, \"경도\": 128.2093},\n",
    "    {\"지역\": \"충청북도\", \"위도\": 36.6357, \"경도\": 127.4913},\n",
    "    {\"지역\": \"충청남도\", \"위도\": 36.5184, \"경도\": 126.8000},\n",
    "    {\"지역\": \"전라북도\", \"위도\": 35.7175, \"경도\": 127.1530},\n",
    "    {\"지역\": \"전라남도\", \"위도\": 34.8679, \"경도\": 126.9910},\n",
    "    {\"지역\": \"경상북도\", \"위도\": 36.4919, \"경도\": 128.8889},\n",
    "    {\"지역\": \"경상남도\", \"위도\": 35.4606, \"경도\": 128.2132},\n",
    "    {\"지역\": \"제주도\", \"위도\": 33.4996, \"경도\": 126.5312}\n",
    "]\n",
    "\n",
    "# 날짜 범위 생성: 2021년부터 2024년까지\n",
    "date_range = pd.date_range(start='2021-01-01', end='2024-12-31', freq='H')\n",
    "rows = len(date_range)\n",
    "total_rows = 100000  # 각 파일에 대한 행 수\n",
    "\n",
    "# 랜덤 전력 소비 데이터 생성 및 0값을 30개 랜덤 배치\n",
    "def generate_power_data(num_rows):\n",
    "    np.random.seed(42)\n",
    "    power_data = np.random.randint(50, 500, size=num_rows)\n",
    "    missing_indices = np.random.choice(range(num_rows), size=30, replace=False)\n",
    "    power_data[missing_indices] = 0\n",
    "    return power_data\n",
    "\n",
    "# 데이터 프레임 생성 함수\n",
    "def generate_data(num_rows):\n",
    "    selected_facilities = np.random.choice(facility_names, num_rows)\n",
    "    selected_locations = np.random.choice(locations, num_rows)\n",
    "    power_data = generate_power_data(num_rows)\n",
    "    start_times = pd.date_range(start='2021-01-01', periods=num_rows, freq='H')\n",
    "    end_times = start_times + pd.to_timedelta(np.random.randint(30, 300, size=num_rows), unit='m')\n",
    "\n",
    "    df = pd.DataFrame({\n",
    "        '날짜': start_times,\n",
    "        '설비이름': selected_facilities,\n",
    "        '지역': [loc['지역'] for loc in selected_locations],\n",
    "        '위도': [loc['위도'] for loc in selected_locations],\n",
    "        '경도': [loc['경도'] for loc in selected_locations],\n",
    "        '전력소비량': power_data,\n",
    "        '운전시작시간': start_times,\n",
    "        '운전종료시간': end_times\n",
    "    })\n",
    "    \n",
    "    return df\n",
    "\n",
    "# 5개의 CSV 파일 생성\n",
    "for i in range(5):\n",
    "    df = generate_data(total_rows)\n",
    "    file_name = f\"전력_운전정지_이력_누락데이터_{i+1}.csv\"\n",
    "    df.to_csv(file_name, index=False, encoding='utf-8-sig')\n",
    "\n",
    "print(\"CSV 파일들이 성공적으로 생성되었습니다.\")"
   ]
  },
  {
   "cell_type": "code",
   "execution_count": 3,
   "metadata": {},
   "outputs": [
    {
     "name": "stderr",
     "output_type": "stream",
     "text": [
      "C:\\Users\\taeyoung\\AppData\\Local\\Temp\\ipykernel_23412\\3781707877.py:29: FutureWarning: 'H' is deprecated and will be removed in a future version, please use 'h' instead.\n",
      "  date_range = pd.date_range(start='2021-01-01', end='2024-12-31', freq='H')\n",
      "C:\\Users\\taeyoung\\AppData\\Local\\Temp\\ipykernel_23412\\3781707877.py:44: FutureWarning: 'H' is deprecated and will be removed in a future version, please use 'h' instead.\n",
      "  start_times = pd.date_range(start='2021-01-01', periods=num_rows, freq='H')\n"
     ]
    },
    {
     "name": "stdout",
     "output_type": "stream",
     "text": [
      "지역별 CSV 파일들이 성공적으로 생성되었습니다.\n"
     ]
    }
   ],
   "source": [
    "import pandas as pd\n",
    "import numpy as np\n",
    "from datetime import datetime, timedelta\n",
    "\n",
    "# 30개의 랜덤 설비 번호\n",
    "facility_names = [f\"설비_{i}\" for i in range(1, 31)]\n",
    "\n",
    "# 대한민국 주요 지역의 위도와 경도 (서울, 부산, 대구 등)\n",
    "locations = [\n",
    "    {\"지역\": \"서울\", \"위도\": 37.5665, \"경도\": 126.9780},\n",
    "    {\"지역\": \"부산\", \"위도\": 35.1796, \"경도\": 129.0756},\n",
    "    {\"지역\": \"대구\", \"위도\": 35.8722, \"경도\": 128.6025},\n",
    "    {\"지역\": \"인천\", \"위도\": 37.4563, \"경도\": 126.7052},\n",
    "    {\"지역\": \"광주\", \"위도\": 35.1595, \"경도\": 126.8526},\n",
    "    {\"지역\": \"대전\", \"위도\": 36.3504, \"경도\": 127.3845},\n",
    "    {\"지역\": \"울산\", \"위도\": 35.5384, \"경도\": 129.3114},\n",
    "    {\"지역\": \"세종\", \"위도\": 36.4802, \"경도\": 127.2891},\n",
    "    {\"지역\": \"경기도\", \"위도\": 37.4138, \"경도\": 127.5183},\n",
    "    {\"지역\": \"강원도\", \"위도\": 37.5558, \"경도\": 128.2093},\n",
    "    {\"지역\": \"충청북도\", \"위도\": 36.6357, \"경도\": 127.4913},\n",
    "    {\"지역\": \"충청남도\", \"위도\": 36.5184, \"경도\": 126.8000},\n",
    "    {\"지역\": \"전라북도\", \"위도\": 35.7175, \"경도\": 127.1530},\n",
    "    {\"지역\": \"전라남도\", \"위도\": 34.8679, \"경도\": 126.9910},\n",
    "    {\"지역\": \"경상북도\", \"위도\": 36.4919, \"경도\": 128.8889},\n",
    "    {\"지역\": \"경상남도\", \"위도\": 35.4606, \"경도\": 128.2132},\n",
    "    {\"지역\": \"제주도\", \"위도\": 33.4996, \"경도\": 126.5312}\n",
    "]\n",
    "# 날짜 범위 생성: 2021년부터 2024년까지\n",
    "date_range = pd.date_range(start='2021-01-01', end='2024-12-31', freq='H')\n",
    "total_rows = 100000  # 각 파일에 대한 행 수\n",
    "\n",
    "# 누락값_0으로 가정하고 약 30개 랜덤으로 배치(전력소비량에만 넣을거임)\n",
    "def generate_power_data(num_rows):\n",
    "    np.random.seed(42)\n",
    "    power_data = np.random.randint(50, 500, size=num_rows)\n",
    "    missing_indices = np.random.choice(range(num_rows), size=30, replace=False)\n",
    "    power_data[missing_indices] = 0\n",
    "    return power_data\n",
    "\n",
    "# 데이터 프레임 생성 함수(10만개 생성할거임)\n",
    "def generate_data_for_location(location, num_rows):\n",
    "    selected_facilities = np.random.choice(facility_names, num_rows)\n",
    "    power_data = generate_power_data(num_rows)\n",
    "    start_times = pd.date_range(start='2021-01-01', periods=num_rows, freq='H')\n",
    "    end_times = start_times + pd.to_timedelta(np.random.randint(30, 300, size=num_rows), unit='m')\n",
    "\n",
    "    df = pd.DataFrame({\n",
    "        '날짜': start_times,\n",
    "        '설비이름': selected_facilities,\n",
    "        '지역': location['지역'],\n",
    "        '위도': location['위도'],\n",
    "        '경도': location['경도'],\n",
    "        '전력소비량': power_data,\n",
    "        '운전시작시간': start_times,\n",
    "        '운전종료시간': end_times\n",
    "    })\n",
    "    \n",
    "    return df\n",
    "\n",
    "# 각 지역별로 CSV 파일 생성\n",
    "for location in locations:\n",
    "    df = generate_data_for_location(location, total_rows)\n",
    "    file_name = f\"전력_운전정지_이력_{location['지역']}.csv\"\n",
    "    df.to_csv(file_name, index=False, encoding='utf-8-sig') #\n",
    "\n",
    "print(\"두근두근 생성완료\")"
   ]
  },
  {
   "cell_type": "code",
   "execution_count": null,
   "metadata": {},
   "outputs": [],
   "source": []
  }
 ],
 "metadata": {
  "kernelspec": {
   "display_name": "Python 3",
   "language": "python",
   "name": "python3"
  },
  "language_info": {
   "codemirror_mode": {
    "name": "ipython",
    "version": 3
   },
   "file_extension": ".py",
   "mimetype": "text/x-python",
   "name": "python",
   "nbconvert_exporter": "python",
   "pygments_lexer": "ipython3",
   "version": "3.12.0"
  }
 },
 "nbformat": 4,
 "nbformat_minor": 2
}
