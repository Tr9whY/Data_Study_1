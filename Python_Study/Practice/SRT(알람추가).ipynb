{
 "cells": [
  {
   "cell_type": "markdown",
   "metadata": {},
   "source": [
    "### 설치코드"
   ]
  },
  {
   "cell_type": "code",
   "execution_count": 1,
   "metadata": {},
   "outputs": [
    {
     "name": "stdout",
     "output_type": "stream",
     "text": [
      "Requirement already satisfied: selenium in c:\\users\\taeyoung\\appdata\\local\\programs\\python\\python310\\lib\\site-packages (4.24.0)\n",
      "Requirement already satisfied: urllib3[socks]<3,>=1.26 in c:\\users\\taeyoung\\appdata\\local\\programs\\python\\python310\\lib\\site-packages (from selenium) (2.2.1)\n",
      "Requirement already satisfied: trio-websocket~=0.9 in c:\\users\\taeyoung\\appdata\\local\\programs\\python\\python310\\lib\\site-packages (from selenium) (0.11.1)\n",
      "Requirement already satisfied: trio~=0.17 in c:\\users\\taeyoung\\appdata\\local\\programs\\python\\python310\\lib\\site-packages (from selenium) (0.25.0)\n",
      "Requirement already satisfied: websocket-client~=1.8 in c:\\users\\taeyoung\\appdata\\local\\programs\\python\\python310\\lib\\site-packages (from selenium) (1.8.0)\n",
      "Requirement already satisfied: typing_extensions~=4.9 in c:\\users\\taeyoung\\appdata\\local\\programs\\python\\python310\\lib\\site-packages (from selenium) (4.12.2)\n",
      "Requirement already satisfied: certifi>=2021.10.8 in c:\\users\\taeyoung\\appdata\\local\\programs\\python\\python310\\lib\\site-packages (from selenium) (2024.2.2)\n",
      "Requirement already satisfied: sortedcontainers in c:\\users\\taeyoung\\appdata\\local\\programs\\python\\python310\\lib\\site-packages (from trio~=0.17->selenium) (2.4.0)\n",
      "Requirement already satisfied: cffi>=1.14 in c:\\users\\taeyoung\\appdata\\local\\programs\\python\\python310\\lib\\site-packages (from trio~=0.17->selenium) (1.16.0)\n",
      "Requirement already satisfied: idna in c:\\users\\taeyoung\\appdata\\local\\programs\\python\\python310\\lib\\site-packages (from trio~=0.17->selenium) (3.7)\n",
      "Requirement already satisfied: outcome in c:\\users\\taeyoung\\appdata\\local\\programs\\python\\python310\\lib\\site-packages (from trio~=0.17->selenium) (1.3.0.post0)\n",
      "Requirement already satisfied: exceptiongroup in c:\\users\\taeyoung\\appdata\\local\\programs\\python\\python310\\lib\\site-packages (from trio~=0.17->selenium) (1.2.0)\n",
      "Requirement already satisfied: attrs>=23.2.0 in c:\\users\\taeyoung\\appdata\\local\\programs\\python\\python310\\lib\\site-packages (from trio~=0.17->selenium) (23.2.0)\n",
      "Requirement already satisfied: sniffio>=1.3.0 in c:\\users\\taeyoung\\appdata\\local\\programs\\python\\python310\\lib\\site-packages (from trio~=0.17->selenium) (1.3.1)\n",
      "Requirement already satisfied: wsproto>=0.14 in c:\\users\\taeyoung\\appdata\\local\\programs\\python\\python310\\lib\\site-packages (from trio-websocket~=0.9->selenium) (1.2.0)\n",
      "Requirement already satisfied: pysocks!=1.5.7,<2.0,>=1.5.6 in c:\\users\\taeyoung\\appdata\\local\\programs\\python\\python310\\lib\\site-packages (from urllib3[socks]<3,>=1.26->selenium) (1.7.1)\n",
      "Requirement already satisfied: pycparser in c:\\users\\taeyoung\\appdata\\local\\programs\\python\\python310\\lib\\site-packages (from cffi>=1.14->trio~=0.17->selenium) (2.22)\n",
      "Requirement already satisfied: h11<1,>=0.9.0 in c:\\users\\taeyoung\\appdata\\local\\programs\\python\\python310\\lib\\site-packages (from wsproto>=0.14->trio-websocket~=0.9->selenium) (0.14.0)\n"
     ]
    },
    {
     "name": "stderr",
     "output_type": "stream",
     "text": [
      "\n",
      "[notice] A new release of pip available: 22.3.1 -> 24.2\n",
      "[notice] To update, run: C:\\Users\\taeyoung\\AppData\\Local\\Programs\\Python\\Python310\\python.exe -m pip install --upgrade pip\n"
     ]
    }
   ],
   "source": [
    "!pip install selenium\n",
    "!pip install --upgrade selenium webdriver-manager"
   ]
  },
  {
   "cell_type": "code",
   "execution_count": 1,
   "metadata": {},
   "outputs": [
    {
     "name": "stdout",
     "output_type": "stream",
     "text": [
      "C:\\Users\\taeyoung\\.wdm\\drivers\\chromedriver\\win64\\128.0.6613.119\\chromedriver-win32/THIRD_PARTY_NOTICES.chromedriver\n"
     ]
    }
   ],
   "source": [
    "from webdriver_manager.chrome import ChromeDriverManager\n",
    "\n",
    "driver_path = ChromeDriverManager().install()\n",
    "print(driver_path)  # 크롬 드라이버 설치 경로 출력"
   ]
  },
  {
   "cell_type": "markdown",
   "metadata": {},
   "source": [
    "## \"THIRD_PARTY_NOTICES\",\"chromedriver\" ->(이건 내 경로임) 맨 뒤 알아서 경로 잘 넣을것 안되면 GPT ㄱㄱ "
   ]
  },
  {
   "cell_type": "markdown",
   "metadata": {},
   "source": [
    "### 테스트용"
   ]
  },
  {
   "cell_type": "code",
   "execution_count": 2,
   "metadata": {},
   "outputs": [],
   "source": [
    "import time\n",
    "from webdriver_manager.chrome import ChromeDriverManager\n",
    "from selenium import webdriver\n",
    "from selenium.webdriver.chrome.service import Service\n",
    "\n",
    "# 크롬 드라이버 설치 경로\n",
    "driver_path = ChromeDriverManager().install()\n",
    "\n",
    "# 경로를 Service 객체에 전달\n",
    "service = Service(driver_path.replace(\"THIRD_PARTY_NOTICES.chromedriver\", \"chromedriver.exe\"))\n",
    "\n",
    "# WebDriver 실행\n",
    "driver = webdriver.Chrome(service=service)\n",
    "\n",
    "# 원하는 페이지로 이동\n",
    "driver.get('https://etk.srail.co.kr/cmc/01/selectLoginForm.do')\n",
    "\n",
    "# 10초 대기\n",
    "time.sleep(10)\n",
    "\n",
    "# 필요한 작업을 수행한 후, 드라이버 종료\n",
    "driver.quit()  # 모든 창을 닫고 드라이버 세션 종료"
   ]
  },
  {
   "cell_type": "markdown",
   "metadata": {},
   "source": [
    "## 알람추가 실행용"
   ]
  },
  {
   "cell_type": "code",
   "execution_count": 41,
   "metadata": {},
   "outputs": [
    {
     "name": "stdout",
     "output_type": "stream",
     "text": [
      "매진: 수서\n",
      "10:20 ~ 광주송정\n",
      "12:18\n",
      "매진: 수서\n",
      "11:00 ~ 광주송정\n",
      "12:42\n",
      "매진: 수서\n",
      "12:20 ~ 광주송정\n",
      "14:03\n",
      "매진: 수서\n",
      "13:09 ~ 광주송정\n",
      "14:55\n",
      "새로고침\n",
      "매진: 수서\n",
      "10:20 ~ 광주송정\n",
      "12:18\n",
      "매진: 수서\n",
      "11:00 ~ 광주송정\n",
      "12:42\n",
      "매진: 수서\n",
      "12:20 ~ 광주송정\n",
      "14:03\n",
      "매진: 수서\n",
      "13:09 ~ 광주송정\n",
      "14:55\n"
     ]
    },
    {
     "ename": "KeyboardInterrupt",
     "evalue": "",
     "output_type": "error",
     "traceback": [
      "\u001b[1;31m---------------------------------------------------------------------------\u001b[0m",
      "\u001b[1;31mKeyboardInterrupt\u001b[0m                         Traceback (most recent call last)",
      "Cell \u001b[1;32mIn[41], line 121\u001b[0m\n\u001b[0;32m    117\u001b[0m                 time\u001b[38;5;241m.\u001b[39msleep(\u001b[38;5;241m3\u001b[39m)  \u001b[38;5;66;03m# 3초 대기\u001b[39;00m\n\u001b[0;32m    120\u001b[0m \u001b[38;5;66;03m# 함수 호출 예시\u001b[39;00m\n\u001b[1;32m--> 121\u001b[0m \u001b[43mreserve_train\u001b[49m\u001b[43m(\u001b[49m\n\u001b[0;32m    122\u001b[0m \u001b[43m    \u001b[49m\u001b[43mmember_num\u001b[49m\u001b[38;5;241;43m=\u001b[39;49m\u001b[38;5;124;43m\"\u001b[39;49m\u001b[38;5;124;43m2499075459\u001b[39;49m\u001b[38;5;124;43m\"\u001b[39;49m\u001b[43m,\u001b[49m\n\u001b[0;32m    123\u001b[0m \u001b[43m    \u001b[49m\u001b[43mpwd\u001b[49m\u001b[38;5;241;43m=\u001b[39;49m\u001b[38;5;124;43m\"\u001b[39;49m\u001b[38;5;124;43m94983094Aa!\u001b[39;49m\u001b[38;5;124;43m\"\u001b[39;49m\u001b[43m,\u001b[49m\n\u001b[0;32m    124\u001b[0m \u001b[43m    \u001b[49m\u001b[43mdepart_station\u001b[49m\u001b[38;5;241;43m=\u001b[39;49m\u001b[38;5;124;43m\"\u001b[39;49m\u001b[38;5;124;43m수서\u001b[39;49m\u001b[38;5;124;43m\"\u001b[39;49m\u001b[43m,\u001b[49m\n\u001b[0;32m    125\u001b[0m \u001b[43m    \u001b[49m\u001b[43marrival_station\u001b[49m\u001b[38;5;241;43m=\u001b[39;49m\u001b[38;5;124;43m\"\u001b[39;49m\u001b[38;5;124;43m광주송정\u001b[39;49m\u001b[38;5;124;43m\"\u001b[39;49m\u001b[43m,\u001b[49m\n\u001b[0;32m    126\u001b[0m \u001b[43m    \u001b[49m\u001b[43mdepart_date\u001b[49m\u001b[38;5;241;43m=\u001b[39;49m\u001b[38;5;124;43m\"\u001b[39;49m\u001b[38;5;124;43m20240913\u001b[39;49m\u001b[38;5;124;43m\"\u001b[39;49m\u001b[43m,\u001b[49m\n\u001b[0;32m    127\u001b[0m \u001b[43m    \u001b[49m\u001b[43mdepart_time\u001b[49m\u001b[38;5;241;43m=\u001b[39;49m\u001b[38;5;124;43m\"\u001b[39;49m\u001b[38;5;124;43m10\u001b[39;49m\u001b[38;5;124;43m\"\u001b[39;49m\u001b[43m,\u001b[49m\u001b[43m               \u001b[49m\u001b[38;5;66;43;03m# 시간\u001b[39;49;00m\n\u001b[0;32m    128\u001b[0m \u001b[43m    \u001b[49m\u001b[43mnumber_of_trains\u001b[49m\u001b[38;5;241;43m=\u001b[39;49m\u001b[38;5;241;43m4\u001b[39;49m\n\u001b[0;32m    129\u001b[0m \u001b[43m)\u001b[49m\n",
      "Cell \u001b[1;32mIn[41], line 100\u001b[0m, in \u001b[0;36mreserve_train\u001b[1;34m(member_num, pwd, depart_station, arrival_station, depart_date, depart_time, number_of_trains)\u001b[0m\n\u001b[0;32m     97\u001b[0m     \u001b[38;5;28;01mbreak\u001b[39;00m\n\u001b[0;32m     99\u001b[0m \u001b[38;5;66;03m# 5초 기다리기 후 다시 조회\u001b[39;00m\n\u001b[1;32m--> 100\u001b[0m \u001b[43mtime\u001b[49m\u001b[38;5;241;43m.\u001b[39;49m\u001b[43msleep\u001b[49m\u001b[43m(\u001b[49m\u001b[38;5;241;43m5\u001b[39;49m\u001b[43m)\u001b[49m\n\u001b[0;32m    101\u001b[0m submit \u001b[38;5;241m=\u001b[39m driver\u001b[38;5;241m.\u001b[39mfind_element(By\u001b[38;5;241m.\u001b[39mXPATH, \u001b[38;5;124m\"\u001b[39m\u001b[38;5;124m//input[@value=\u001b[39m\u001b[38;5;124m'\u001b[39m\u001b[38;5;124m조회하기\u001b[39m\u001b[38;5;124m'\u001b[39m\u001b[38;5;124m]\u001b[39m\u001b[38;5;124m\"\u001b[39m)\n\u001b[0;32m    102\u001b[0m driver\u001b[38;5;241m.\u001b[39mexecute_script(\u001b[38;5;124m\"\u001b[39m\u001b[38;5;124marguments[0].click();\u001b[39m\u001b[38;5;124m\"\u001b[39m, submit)\n",
      "\u001b[1;31mKeyboardInterrupt\u001b[0m: "
     ]
    }
   ],
   "source": [
    "import time\n",
    "import winsound\n",
    "from webdriver_manager.chrome import ChromeDriverManager\n",
    "from selenium import webdriver\n",
    "from selenium.webdriver.common.by import By\n",
    "from selenium.webdriver.chrome.service import Service\n",
    "from selenium.webdriver.support.select import Select\n",
    "\n",
    "def reserve_train(member_num, pwd, depart_station, arrival_station, depart_date, depart_time, number_of_trains):\n",
    "    \"\"\"\n",
    "    SRT 기차 예약 자동화 함수.\n",
    "    \n",
    "    Args:\n",
    "        member_num (str): 회원번호\n",
    "        pwd (str): 비밀번호\n",
    "        depart_station (str): 출발역\n",
    "        arrival_station (str): 도착역\n",
    "        depart_date (str): 출발 날짜 (YYYYMMDD 형식)\n",
    "        depart_time (str): 출발 시간 (00, 02, 04, ..., 20, 22 형식)\n",
    "        number_of_trains (int): 검색 결과 상단에서 예약 가능 여부를 확인할 기차 수\n",
    "    \"\"\"\n",
    "    \n",
    "    # 크롬 드라이버 설치 경로\n",
    "    driver_path = ChromeDriverManager().install()\n",
    "\n",
    "    # 경로를 Service 객체에 전달\n",
    "    service = Service(driver_path.replace(\"THIRD_PARTY_NOTICES.chromedriver\", \"chromedriver.exe\"))\n",
    "\n",
    "    # WebDriver 실행\n",
    "    driver = webdriver.Chrome(service=service)\n",
    "\n",
    "    try:\n",
    "        # 원하는 페이지로 이동\n",
    "        driver.get('https://etk.srail.co.kr/cmc/01/selectLoginForm.do')\n",
    "        driver.implicitly_wait(15)\n",
    "\n",
    "        # 로그인\n",
    "        driver.find_element(By.ID, 'srchDvNm01').send_keys(member_num)  # 회원번호 입력\n",
    "        driver.find_element(By.ID, 'hmpgPwdCphd01').send_keys(pwd)  # 비밀번호 입력\n",
    "        driver.find_element(By.XPATH, '//*[@id=\"login-form\"]/fieldset/div[1]/div[1]/div[2]/div/div[2]/input').click()\n",
    "        driver.implicitly_wait(5)\n",
    "\n",
    "        # 기차 조회 페이지로 이동\n",
    "        driver.get('https://etk.srail.kr/hpg/hra/01/selectScheduleList.do')\n",
    "        driver.implicitly_wait(5)\n",
    "\n",
    "        # 출발지 입력\n",
    "        dep_stn = driver.find_element(By.ID, 'dptRsStnCdNm')\n",
    "        dep_stn.clear()\n",
    "        dep_stn.send_keys(depart_station)\n",
    "\n",
    "        # 도착지 입력\n",
    "        arr_stn = driver.find_element(By.ID, 'arvRsStnCdNm')\n",
    "        arr_stn.clear()\n",
    "        arr_stn.send_keys(arrival_station)\n",
    "\n",
    "        # 출발 날짜 설정\n",
    "        elm_dptDt = driver.find_element(By.ID, \"dptDt\")\n",
    "        driver.execute_script(\"arguments[0].setAttribute('style','display: True;')\", elm_dptDt)\n",
    "        Select(driver.find_element(By.ID, \"dptDt\")).select_by_value(depart_date)\n",
    "\n",
    "        # 출발 시간 설정\n",
    "        elm_dptTm = driver.find_element(By.ID, \"dptTm\")\n",
    "        driver.execute_script(\"arguments[0].setAttribute('style','display: True;')\", elm_dptTm)\n",
    "        Select(driver.find_element(By.ID, \"dptTm\")).select_by_visible_text(depart_time)\n",
    "\n",
    "        # 조회하기 버튼 클릭\n",
    "        driver.find_element(By.XPATH, \"//input[@value='조회하기']\").click()\n",
    "        driver.implicitly_wait(5)\n",
    "\n",
    "        # 예약 가능한 기차 찾기\n",
    "        reserved = False\n",
    "        while True:\n",
    "            for i in range(1, number_of_trains+1):\n",
    "                # 기차 출발 및 도착 시간 정보 추출\n",
    "                depart_time = driver.find_element(By.CSS_SELECTOR, f\"#result-form > fieldset > div.tbl_wrap.th_thead > table > tbody > tr:nth-child({i}) > td:nth-child(4)\").text\n",
    "                arrival_time = driver.find_element(By.CSS_SELECTOR, f\"#result-form > fieldset > div.tbl_wrap.th_thead > table > tbody > tr:nth-child({i}) > td:nth-child(5)\").text\n",
    "                train_time = f\"{depart_time} ~ {arrival_time}\"\n",
    "\n",
    "                # 일반석 예약 상태 확인\n",
    "                standard_seat = driver.find_element(By.CSS_SELECTOR, f\"#result-form > fieldset > div.tbl_wrap.th_thead > table > tbody > tr:nth-child({i}) > td:nth-child(7)\").text\n",
    "\n",
    "                if \"예약하기\" in standard_seat:\n",
    "                    # 예약 가능한 경우 해당 기차 정보 출력\n",
    "                    train_info = driver.find_element(By.CSS_SELECTOR, f\"#result-form > fieldset > div.tbl_wrap.th_thead > table > tbody > tr:nth-child({i}) > td:nth-child(5)\").text\n",
    "                    print(f\"예약 가능: {train_time} (기차 정보: {train_info})\")\n",
    "                    \n",
    "                    # 예약 진행\n",
    "                    driver.find_element(By.XPATH, f\"/html/body/div[1]/div[4]/div/div[3]/div[1]/form/fieldset/div[6]/table/tbody/tr[{i}]/td[7]/a/span\").click()\n",
    "                    reserved = True\n",
    "                    break\n",
    "                else:\n",
    "                    print(f\"매진: {train_time}\")\n",
    "            \n",
    "            # 예약 성공 시 반복문 종료\n",
    "            if reserved:\n",
    "                break\n",
    "\n",
    "            # 5초 기다리기 후 다시 조회\n",
    "            time.sleep(5)\n",
    "            submit = driver.find_element(By.XPATH, \"//input[@value='조회하기']\")\n",
    "            driver.execute_script(\"arguments[0].click();\", submit)\n",
    "            print(\"새로고침\")\n",
    "            driver.implicitly_wait(10)\n",
    "            time.sleep(3)\n",
    "\n",
    "    finally:\n",
    "        # 예약이 없을 때만 브라우저 종료\n",
    "        if not reserved:\n",
    "            driver.quit()\n",
    "\n",
    "        # 예약이 완료된 후 5분 동안 알람 울리기\n",
    "        if reserved:\n",
    "            print(\"예약 완료, 알람 울림 시작.\")\n",
    "            for _ in range(5 * 60):  # 5분 동안 1초 간격으로 알람\n",
    "                winsound.Beep(1000, 1000)  # 주파수 1000Hz, 1초 동안 울림\n",
    "                time.sleep(3)  # 3초 대기\n",
    "\n",
    "\n",
    "# 함수 호출 예시\n",
    "reserve_train(\n",
    "    member_num=\"회원번호\",\n",
    "    pwd=\"비밀번호\",\n",
    "    depart_station=\"수서\",\n",
    "    arrival_station=\"광주송정\",\n",
    "    depart_date=\"20240911\",\n",
    "    depart_time=\"10\",               # 시간\n",
    "    number_of_trains=4\n",
    ")"
   ]
  },
  {
   "cell_type": "code",
   "execution_count": null,
   "metadata": {},
   "outputs": [],
   "source": []
  }
 ],
 "metadata": {
  "kernelspec": {
   "display_name": "Python 3",
   "language": "python",
   "name": "python3"
  },
  "language_info": {
   "codemirror_mode": {
    "name": "ipython",
    "version": 3
   },
   "file_extension": ".py",
   "mimetype": "text/x-python",
   "name": "python",
   "nbconvert_exporter": "python",
   "pygments_lexer": "ipython3",
   "version": "3.12.0"
  }
 },
 "nbformat": 4,
 "nbformat_minor": 2
}
