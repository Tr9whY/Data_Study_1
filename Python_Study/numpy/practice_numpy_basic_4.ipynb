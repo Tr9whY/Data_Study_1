{
 "cells": [
  {
   "cell_type": "code",
   "execution_count": 7,
   "metadata": {},
   "outputs": [
    {
     "name": "stdout",
     "output_type": "stream",
     "text": [
      "[1 2 3]\n",
      "<class 'numpy.ndarray'>\n",
      "(3,)\n",
      "------------------------------\n",
      "[[1 2 3]\n",
      " [4 5 6]]\n",
      "(2, 3)\n",
      "------------------------------\n",
      "[[1 2 3]]\n",
      "(1, 3)\n",
      "------------------------------\n",
      "1\n",
      "2\n",
      "2\n"
     ]
    }
   ],
   "source": [
    "import numpy as np\n",
    "\n",
    "arr1 = np.array([1,2,3])\n",
    "\n",
    "print(arr1)\n",
    "print(type(arr1))\n",
    "print(arr1.shape) # 1차원\n",
    "\n",
    "print('-'*30)\n",
    "arr2 = np.array([[1,2,3],[4,5,6]])\n",
    "print(arr2)\n",
    "print(arr2.shape) # 2차원\n",
    "print('-'*30)\n",
    "\n",
    "arr3 = np.array([[1,2,3]])\n",
    "print(arr3)\n",
    "print(arr3.shape) # (1,3) 2차원 행렬\n",
    "print('-'*30)\n",
    "\n",
    "# ndim ( number of dimension) : 몇 차원인지 나타내줌.\n",
    "print(arr1.ndim) # 1차원\n",
    "print(arr2.ndim) # 2차원\n",
    "print(arr3.ndim) # 3차원\n",
    "\n"
   ]
  },
  {
   "cell_type": "code",
   "execution_count": 8,
   "metadata": {},
   "outputs": [
    {
     "data": {
      "text/plain": [
       "array([ 1,  4,  7, 10, 13, 16, 19])"
      ]
     },
     "execution_count": 8,
     "metadata": {},
     "output_type": "execute_result"
    }
   ],
   "source": [
    "# arange : array + range\n",
    "np.arange(1,20,3) # start, end, step"
   ]
  },
  {
   "cell_type": "code",
   "execution_count": 9,
   "metadata": {},
   "outputs": [
    {
     "data": {
      "text/plain": [
       "array([[0., 0., 0., 0., 0.],\n",
       "       [0., 0., 0., 0., 0.]])"
      ]
     },
     "execution_count": 9,
     "metadata": {},
     "output_type": "execute_result"
    }
   ],
   "source": [
    "# 넘파이 배열 초기화\n",
    "np.zeros((2,5))"
   ]
  },
  {
   "cell_type": "code",
   "execution_count": 10,
   "metadata": {},
   "outputs": [
    {
     "data": {
      "text/plain": [
       "array([[1., 1., 1., 1.],\n",
       "       [1., 1., 1., 1.],\n",
       "       [1., 1., 1., 1.]])"
      ]
     },
     "execution_count": 10,
     "metadata": {},
     "output_type": "execute_result"
    }
   ],
   "source": [
    "np.ones((3,4))"
   ]
  },
  {
   "cell_type": "code",
   "execution_count": 12,
   "metadata": {},
   "outputs": [
    {
     "data": {
      "text/plain": [
       "array([[0., 0., 0., 0.],\n",
       "       [0., 0., 0., 0.],\n",
       "       [0., 0., 0., 0.]])"
      ]
     },
     "execution_count": 12,
     "metadata": {},
     "output_type": "execute_result"
    }
   ],
   "source": [
    "# zeros_like : 0 처럼~ : 0으로 채워진 배열 생성\n",
    "temp_1 = np.ones((3,4))\n",
    "np.zeros_like(temp_1)"
   ]
  },
  {
   "cell_type": "code",
   "execution_count": 13,
   "metadata": {},
   "outputs": [
    {
     "data": {
      "text/plain": [
       "array([[0, 0, 0],\n",
       "       [0, 0, 0]])"
      ]
     },
     "execution_count": 13,
     "metadata": {},
     "output_type": "execute_result"
    }
   ],
   "source": [
    "one_b = np.array([[1,2,3],[4,5,6]])\n",
    "np.zeros_like(one_b)"
   ]
  },
  {
   "cell_type": "markdown",
   "metadata": {},
   "source": [
    "### np.full, np.random\n",
    "\n",
    "- np.full()\n",
    "- np.full((a,b),k)\n",
    "- a*b 행렬 배열을 >> 모든 요소 특정 k 값으로 채움."
   ]
  },
  {
   "cell_type": "code",
   "execution_count": 14,
   "metadata": {},
   "outputs": [
    {
     "data": {
      "text/plain": [
       "array([[9, 9, 9],\n",
       "       [9, 9, 9],\n",
       "       [9, 9, 9],\n",
       "       [9, 9, 9]])"
      ]
     },
     "execution_count": 14,
     "metadata": {},
     "output_type": "execute_result"
    }
   ],
   "source": [
    "np.full((4,3),9)"
   ]
  },
  {
   "cell_type": "code",
   "execution_count": 15,
   "metadata": {},
   "outputs": [
    {
     "data": {
      "text/plain": [
       "array([[4, 4, 4],\n",
       "       [4, 4, 4],\n",
       "       [4, 4, 4],\n",
       "       [4, 4, 4]])"
      ]
     },
     "execution_count": 15,
     "metadata": {},
     "output_type": "execute_result"
    }
   ],
   "source": [
    "np.full((4,3),4)"
   ]
  },
  {
   "cell_type": "code",
   "execution_count": 18,
   "metadata": {},
   "outputs": [
    {
     "name": "stdout",
     "output_type": "stream",
     "text": [
      "[[0.75612377 0.05296674 0.10751094 0.89276212]\n",
      " [0.90682325 0.35470118 0.02722311 0.4380004 ]\n",
      " [0.11150895 0.92062152 0.13970343 0.36678128]]\n",
      "(3, 4)\n",
      "2\n"
     ]
    }
   ],
   "source": [
    "# random\n",
    "# (3,4) 튜플 형태로 인자. 생성할 배열의 크기가 (3,4) 튜플 형태 인자로 입력됨\n",
    "# 0-1 사이\n",
    "# 한 번만 전달 받음\n",
    "arr1 = np.random.random((3,4))\n",
    "print(arr1)\n",
    "print(arr1.shape)\n",
    "print(arr1.ndim)"
   ]
  },
  {
   "cell_type": "code",
   "execution_count": 19,
   "metadata": {},
   "outputs": [
    {
     "name": "stdout",
     "output_type": "stream",
     "text": [
      "[[0.13248296 0.19958582 0.46514029 0.59326239]\n",
      " [0.18240322 0.54639982 0.47867151 0.35983288]\n",
      " [0.34874151 0.6527639  0.95559726 0.84789096]]\n",
      "<class 'numpy.ndarray'>\n",
      "------------------------------\n",
      "[[[0.24350232 0.81614816]\n",
      "  [0.11912874 0.02114164]\n",
      "  [0.87697861 0.66442343]\n",
      "  [0.67682272 0.29483816]]\n",
      "\n",
      " [[0.23519215 0.07357437]\n",
      "  [0.53162125 0.07109456]\n",
      "  [0.04846874 0.30857438]\n",
      "  [0.70016697 0.10347769]]\n",
      "\n",
      " [[0.96128573 0.1192472 ]\n",
      "  [0.73370963 0.77444506]\n",
      "  [0.57253934 0.09816052]\n",
      "  [0.34895836 0.42833849]]]\n",
      "(3, 4, 2)\n",
      "3\n"
     ]
    }
   ],
   "source": [
    "# np.random.rand\n",
    "# 0-1 사이 난수 생성\n",
    "arr2 = np.random.rand(3,4)\n",
    "arr7 = np.random.rand(3,4,2)\n",
    "print(arr2)\n",
    "print(type(arr2))\n",
    "print('-'*30)\n",
    "print(arr7)\n",
    "print(arr7.shape)\n",
    "print(arr7.ndim)"
   ]
  },
  {
   "cell_type": "code",
   "execution_count": 20,
   "metadata": {},
   "outputs": [
    {
     "data": {
      "text/plain": [
       "array([[-0.85192422,  0.27431658],\n",
       "       [-1.38827838,  1.44915458],\n",
       "       [ 0.09329363,  0.66155983],\n",
       "       [ 1.86908395,  0.02775238]])"
      ]
     },
     "execution_count": 20,
     "metadata": {},
     "output_type": "execute_result"
    }
   ],
   "source": [
    "# randn 평균 0 , 표준편차 1 >> 표준화 (x-x bar) / std\n",
    "np.random.randn(4,2)"
   ]
  },
  {
   "cell_type": "code",
   "execution_count": 22,
   "metadata": {},
   "outputs": [
    {
     "data": {
      "text/plain": [
       "array([[1., 0., 0., 0.],\n",
       "       [0., 1., 0., 0.],\n",
       "       [0., 0., 1., 0.],\n",
       "       [0., 0., 0., 1.]])"
      ]
     },
     "execution_count": 22,
     "metadata": {},
     "output_type": "execute_result"
    }
   ],
   "source": [
    "# np.eye() : 항등 행렬\n",
    "# 행렬 A, A * I\n",
    "\n",
    "np.eye(4)"
   ]
  },
  {
   "cell_type": "code",
   "execution_count": 23,
   "metadata": {},
   "outputs": [
    {
     "name": "stdout",
     "output_type": "stream",
     "text": [
      "[[2 3 1 5]\n",
      " [8 1 3 4]\n",
      " [5 6 7 8]\n",
      " [1 2 3 4]]\n",
      "\n",
      "(4, 4)\n",
      "[[1. 0. 0. 0.]\n",
      " [0. 1. 0. 0.]\n",
      " [0. 0. 1. 0.]\n",
      " [0. 0. 0. 1.]]\n",
      "\n",
      "[[2. 3. 1. 5.]\n",
      " [8. 1. 3. 4.]\n",
      " [5. 6. 7. 8.]\n",
      " [1. 2. 3. 4.]]\n"
     ]
    }
   ],
   "source": [
    "A = np.array([[2,3,1,5],[8,1,3,4],[5,6,7,8],[1,2,3,4]])\n",
    "\n",
    "print(A)\n",
    "print()\n",
    "print(A.shape)\n",
    "I = np.eye(4)\n",
    "print(I)\n",
    "print()\n",
    "print(A @ I)"
   ]
  },
  {
   "cell_type": "code",
   "execution_count": 24,
   "metadata": {},
   "outputs": [
    {
     "name": "stdout",
     "output_type": "stream",
     "text": [
      "[[2 3]\n",
      " [8 1]]\n",
      "\n",
      "\n",
      "[[2. 3.]\n",
      " [8. 1.]]\n"
     ]
    }
   ],
   "source": [
    "B = np.array([[2,3],[8,1]])\n",
    "print(B)\n",
    "print()\n",
    "I = np.eye(2)\n",
    "print()\n",
    "print(B @ I)"
   ]
  },
  {
   "cell_type": "code",
   "execution_count": 25,
   "metadata": {},
   "outputs": [
    {
     "name": "stdout",
     "output_type": "stream",
     "text": [
      "[ 0  1  2  3  4  5  6  7  8  9 10 11]\n"
     ]
    }
   ],
   "source": [
    "# numpy 배열 크기 변형\n",
    "arr1 = np.arange(12)\n",
    "print(arr1)\n"
   ]
  },
  {
   "cell_type": "code",
   "execution_count": 26,
   "metadata": {},
   "outputs": [
    {
     "name": "stdout",
     "output_type": "stream",
     "text": [
      "[[ 0  1  2  3]\n",
      " [ 4  5  6  7]\n",
      " [ 8  9 10 11]]\n"
     ]
    }
   ],
   "source": [
    "arr2 = arr1.reshape(3,-1)\n",
    "print(arr2)"
   ]
  },
  {
   "cell_type": "code",
   "execution_count": 27,
   "metadata": {},
   "outputs": [
    {
     "data": {
      "text/plain": [
       "array([[ 0,  4,  8],\n",
       "       [ 1,  5,  9],\n",
       "       [ 2,  6, 10],\n",
       "       [ 3,  7, 11]])"
      ]
     },
     "execution_count": 27,
     "metadata": {},
     "output_type": "execute_result"
    }
   ],
   "source": [
    "# order = 'F' : 값을 열부터 채워 넣음\n",
    "\n",
    "arr1.reshape(4,-1, order='F')\n"
   ]
  },
  {
   "cell_type": "code",
   "execution_count": 28,
   "metadata": {},
   "outputs": [
    {
     "name": "stdout",
     "output_type": "stream",
     "text": [
      "[0 1 2 3 4 5 6 7 8 9]\n",
      "[[0 1 2 3 4]\n",
      " [5 6 7 8 9]]\n"
     ]
    }
   ],
   "source": [
    "arr1 = np.arange(10)\n",
    "print(arr1)\n",
    "\n",
    "arr2 = arr1.reshape(-1,5)\n",
    "print(arr2)"
   ]
  },
  {
   "cell_type": "code",
   "execution_count": 29,
   "metadata": {},
   "outputs": [
    {
     "name": "stdout",
     "output_type": "stream",
     "text": [
      "2 차원\n",
      "(2, 5)\n"
     ]
    }
   ],
   "source": [
    "print(arr2.ndim,'차원')\n",
    "print(arr2.shape)"
   ]
  },
  {
   "cell_type": "code",
   "execution_count": 30,
   "metadata": {},
   "outputs": [
    {
     "name": "stdout",
     "output_type": "stream",
     "text": [
      "[ 0  1  2  3  4  5  6  7  8  9 10 11]\n",
      "1 차원\n",
      "(12,)\n",
      "[[[ 0  1]\n",
      "  [ 2  3]\n",
      "  [ 4  5]]\n",
      "\n",
      " [[ 6  7]\n",
      "  [ 8  9]\n",
      "  [10 11]]]\n",
      "3 차원\n",
      "(2, 3, 2)\n"
     ]
    }
   ],
   "source": [
    "arr3 = np.arange(12)\n",
    "print(arr3)\n",
    "print(arr3.ndim,'차원')\n",
    "print(arr3.shape)\n",
    "\n",
    "arr4 = arr3.reshape(2,3,2)\n",
    "print(arr4)\n",
    "print(arr4.ndim,'차원')\n",
    "print(arr4.shape)"
   ]
  },
  {
   "cell_type": "code",
   "execution_count": 31,
   "metadata": {},
   "outputs": [
    {
     "name": "stdout",
     "output_type": "stream",
     "text": [
      "[[[ 0  6]\n",
      "  [ 2  8]\n",
      "  [ 4 10]]\n",
      "\n",
      " [[ 1  7]\n",
      "  [ 3  9]\n",
      "  [ 5 11]]]\n",
      "\n",
      "3\n",
      "(2, 3, 2)\n"
     ]
    }
   ],
   "source": [
    "arr5 = arr3.reshape(2,3,2, order='F') # (2,3,2) : 2개가 있어요. (3,2) 행렬이.\n",
    "print(arr5)\n",
    "print()\n",
    "print(arr5.ndim)\n",
    "print(arr5.shape)"
   ]
  },
  {
   "cell_type": "code",
   "execution_count": 33,
   "metadata": {},
   "outputs": [
    {
     "data": {
      "text/plain": [
       "array([0, 1, 2, 3, 4, 5, 6, 7, 8, 9])"
      ]
     },
     "execution_count": 33,
     "metadata": {},
     "output_type": "execute_result"
    }
   ],
   "source": [
    "# 1차원으로 변환\n",
    "arr2.flatten() # flatten : 평탄화하다 라는 뜻이 있음."
   ]
  },
  {
   "cell_type": "code",
   "execution_count": 35,
   "metadata": {},
   "outputs": [
    {
     "name": "stdout",
     "output_type": "stream",
     "text": [
      "[1 2 3 4 5 6 7 8 9]\n",
      "3\n",
      "8\n",
      "[[1 2 3]\n",
      " [4 5 6]\n",
      " [7 8 9]]\n",
      "\n",
      "1\n",
      "\n",
      "[7 8 9]\n",
      "8\n",
      "[7 8]\n",
      "\n",
      "[4 5 6]\n"
     ]
    }
   ],
   "source": [
    "arr1 = np.arange(1,10)\n",
    "print(arr1)\n",
    "print(arr1[2])\n",
    "print(arr1[-2])\n",
    "arr2 = arr1.reshape(3,3)\n",
    "print(arr2)\n",
    "print()\n",
    "print(arr2[0,0])\n",
    "print()\n",
    "print(arr2[-1])\n",
    "print(arr2[-1,-2])\n",
    "print(arr2[-1,:-1])\n",
    "print()\n",
    "print(arr2[:-1][-1])"
   ]
  },
  {
   "cell_type": "code",
   "execution_count": 36,
   "metadata": {},
   "outputs": [
    {
     "name": "stdout",
     "output_type": "stream",
     "text": [
      "[1 2 3]\n",
      "\n",
      "[2 3]\n",
      "\n",
      "[[1 2 3]\n",
      " [4 5 6]\n",
      " [7 8 9]]\n"
     ]
    }
   ],
   "source": [
    "arr2 = arr1[0:3]\n",
    "print(arr2)\n",
    "print()\n",
    "\n",
    "arr3 = arr2[1:]\n",
    "print(arr3)\n",
    "print()\n",
    "\n",
    "arr4 = arr1.reshape(3,3)\n",
    "print(arr4)"
   ]
  },
  {
   "cell_type": "code",
   "execution_count": 37,
   "metadata": {},
   "outputs": [
    {
     "name": "stdout",
     "output_type": "stream",
     "text": [
      "[[1 2 3]\n",
      " [4 5 6]\n",
      " [7 8 9]]\n",
      "------------------------------\n",
      "[[1 2]\n",
      " [4 5]]\n",
      "------------------------------\n",
      "[[4 5 6]\n",
      " [7 8 9]]\n",
      "------------------------------\n",
      "[[2 3]\n",
      " [5 6]]\n"
     ]
    }
   ],
   "source": [
    "print(arr4)\n",
    "print('-'*30)\n",
    "\n",
    "print(arr4[:2, :2])\n",
    "print('-'*30)\n",
    "print(arr4[1:3, :3])\n",
    "print('-'*30)\n",
    "print(arr4[:2, 1:])"
   ]
  },
  {
   "cell_type": "code",
   "execution_count": 38,
   "metadata": {},
   "outputs": [
    {
     "name": "stdout",
     "output_type": "stream",
     "text": [
      "[[1 2 3]\n",
      " [4 5 6]]\n",
      "------------------------------\n",
      "[[ 7  8]\n",
      " [ 9 10]\n",
      " [ 1  2]]\n",
      "------------------------------\n",
      "[[28 34]\n",
      " [79 94]]\n"
     ]
    }
   ],
   "source": [
    "# 내적 (dot product)\n",
    "arr1 = np.array([[1,2,3],[4,5,6]])\n",
    "arr2 = np.array([[7,8],[9,10],[1,2]])\n",
    "\n",
    "print(arr1)\n",
    "print('-'*30)\n",
    "print(arr2)\n",
    "print('-'*30)\n",
    "print(arr1 @ arr2)"
   ]
  },
  {
   "cell_type": "code",
   "execution_count": 39,
   "metadata": {},
   "outputs": [
    {
     "data": {
      "text/plain": [
       "array([[28, 34],\n",
       "       [79, 94]])"
      ]
     },
     "execution_count": 39,
     "metadata": {},
     "output_type": "execute_result"
    }
   ],
   "source": [
    "np.dot(arr1, arr2)"
   ]
  },
  {
   "cell_type": "code",
   "execution_count": 41,
   "metadata": {},
   "outputs": [
    {
     "name": "stdout",
     "output_type": "stream",
     "text": [
      "[[1 2 3]\n",
      " [4 5 6]]\n",
      "------------------------------\n",
      "[[1 4]\n",
      " [2 5]\n",
      " [3 6]]\n",
      "------------------------------\n",
      "[[1 4]\n",
      " [2 5]\n",
      " [3 6]]\n"
     ]
    }
   ],
   "source": [
    "# 전치 행렬\n",
    "\n",
    "print(arr1)\n",
    "print('-'*30)\n",
    "print(arr1.T)\n",
    "print('-'*30)\n",
    "print(np.transpose(arr1))"
   ]
  },
  {
   "cell_type": "code",
   "execution_count": 42,
   "metadata": {},
   "outputs": [
    {
     "data": {
      "text/plain": [
       "6"
      ]
     },
     "execution_count": 42,
     "metadata": {},
     "output_type": "execute_result"
    }
   ],
   "source": [
    "x = np.array([18,26,52,-54,64,15])\n",
    "len(x)"
   ]
  },
  {
   "cell_type": "code",
   "execution_count": 43,
   "metadata": {},
   "outputs": [
    {
     "name": "stdout",
     "output_type": "stream",
     "text": [
      "평균 20.166666666666668\n",
      "표준편차 37.64047762124646\n",
      "분산 1416.8055555555557\n"
     ]
    }
   ],
   "source": [
    "print('평균', np.mean(x)) # mean : 평균\n",
    "print('표준편차', np.std(x)) # standard\n",
    "print('분산', np.var(x)) # variance"
   ]
  },
  {
   "cell_type": "code",
   "execution_count": 44,
   "metadata": {},
   "outputs": [
    {
     "name": "stdout",
     "output_type": "stream",
     "text": [
      "[ 18  26  52 -54  64  15]\n",
      "\n",
      "64\n",
      "\n",
      "-54\n",
      "\n",
      "22.0\n",
      "\n"
     ]
    }
   ],
   "source": [
    "print(x)\n",
    "print()\n",
    "\n",
    "print(np.max(x))\n",
    "print()\n",
    "\n",
    "print(np.min(x))\n",
    "print()\n",
    "\n",
    "print(np.median(x))\n",
    "print()"
   ]
  },
  {
   "cell_type": "code",
   "execution_count": 45,
   "metadata": {},
   "outputs": [
    {
     "name": "stdout",
     "output_type": "stream",
     "text": [
      "15.75\n",
      "22.0\n",
      "45.5\n"
     ]
    }
   ],
   "source": [
    "# 사분위 수\n",
    "print(np.percentile(x,25)) \n",
    "print(np.percentile(x,50)) # 중위수\n",
    "print(np.percentile(x,75))"
   ]
  },
  {
   "cell_type": "code",
   "execution_count": null,
   "metadata": {},
   "outputs": [],
   "source": []
  }
 ],
 "metadata": {
  "kernelspec": {
   "display_name": "Python 3",
   "language": "python",
   "name": "python3"
  },
  "language_info": {
   "codemirror_mode": {
    "name": "ipython",
    "version": 3
   },
   "file_extension": ".py",
   "mimetype": "text/x-python",
   "name": "python",
   "nbconvert_exporter": "python",
   "pygments_lexer": "ipython3",
   "version": "3.12.0"
  }
 },
 "nbformat": 4,
 "nbformat_minor": 2
}
