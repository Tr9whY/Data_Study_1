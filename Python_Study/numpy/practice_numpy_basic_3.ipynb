{
 "cells": [
  {
   "cell_type": "code",
   "execution_count": 1,
   "metadata": {},
   "outputs": [
    {
     "name": "stdout",
     "output_type": "stream",
     "text": [
      "Package          Version\n",
      "---------------- -----------\n",
      "attrs            23.2.0\n",
      "certifi          2024.2.2\n",
      "cffi             1.16.0\n",
      "exceptiongroup   1.2.0\n",
      "h11              0.14.0\n",
      "idna             3.7\n",
      "outcome          1.3.0.post0\n",
      "pip              22.3.1\n",
      "pycparser        2.22\n",
      "PySocks          1.7.1\n",
      "selenium         4.12.0\n",
      "setuptools       65.5.0\n",
      "sniffio          1.3.1\n",
      "sortedcontainers 2.4.0\n",
      "trio             0.25.0\n",
      "trio-websocket   0.11.1\n",
      "urllib3          2.2.1\n",
      "wsproto          1.2.0\n"
     ]
    },
    {
     "name": "stderr",
     "output_type": "stream",
     "text": [
      "\n",
      "[notice] A new release of pip available: 22.3.1 -> 24.0\n",
      "[notice] To update, run: C:\\Users\\taeyoung\\AppData\\Local\\Programs\\Python\\Python310\\python.exe -m pip install --upgrade pip\n"
     ]
    }
   ],
   "source": [
    "!pip list"
   ]
  },
  {
   "cell_type": "code",
   "execution_count": 2,
   "metadata": {},
   "outputs": [
    {
     "name": "stdout",
     "output_type": "stream",
     "text": [
      "[1 2 3 4 5]\n",
      "\n",
      "[[1 2 3]\n",
      " [4 5 6]]\n"
     ]
    }
   ],
   "source": [
    "import numpy as np\n",
    "\n",
    "arr1 = np.array([1,2,3,4,5])\n",
    "arr2 = np.array([[1,2,3],[4,5,6]])\n",
    "\n",
    "print(arr1)\n",
    "print()\n",
    "print(arr2)"
   ]
  },
  {
   "cell_type": "markdown",
   "metadata": {},
   "source": [
    "### 난수 이용한 2차원 배열 생성\n",
    " - randn : random + normal distribution(정규분포)"
   ]
  },
  {
   "cell_type": "code",
   "execution_count": 3,
   "metadata": {},
   "outputs": [
    {
     "name": "stdout",
     "output_type": "stream",
     "text": [
      "[ 0.27223944  1.13448736 -0.42127973]\n",
      "\n",
      "[[ 0.36449393  0.93552579  0.89132086]\n",
      " [-0.64987321 -0.3112482   0.22025212]]\n"
     ]
    }
   ],
   "source": [
    "arr3 = np.random.randn(3)\n",
    "arr4 = np.random.randn(2,3)\n",
    "\n",
    "print(arr3)\n",
    "print()\n",
    "print(arr4)"
   ]
  },
  {
   "cell_type": "code",
   "execution_count": 4,
   "metadata": {},
   "outputs": [
    {
     "name": "stdout",
     "output_type": "stream",
     "text": [
      "[0. 0. 0. 0. 0.]\n",
      "\n",
      "[[1. 1. 1.]\n",
      " [1. 1. 1.]]\n"
     ]
    }
   ],
   "source": [
    "# 원소를 0 또는 1로 초기화\n",
    "arr5 = np.zeros(5)\n",
    "arr6 = np.ones((2,3))\n",
    "\n",
    "print(arr5)\n",
    "print()\n",
    "print(arr6)"
   ]
  },
  {
   "cell_type": "code",
   "execution_count": 7,
   "metadata": {},
   "outputs": [
    {
     "name": "stdout",
     "output_type": "stream",
     "text": [
      "[ 20  30  40  50  60  70  80  90 100 110 120 130 140 150 160 170 180 190]\n",
      "1\n",
      "\n",
      "[[ 20  30  40  50  60  70]\n",
      " [ 80  90 100 110 120 130]\n",
      " [140 150 160 170 180 190]]\n",
      "2\n"
     ]
    }
   ],
   "source": [
    "# arrange() 와 reshape()\n",
    "# arange : array(배열) + range(범위)\n",
    "# arnage(start, end, step)\n",
    "\n",
    "arr7 = np.arange(20,200,10)\n",
    "arr8 = arr7.reshape(3,-1)\n",
    "\n",
    "print(arr7)\n",
    "print(arr7.ndim)        # ndim : 몇 차원인지?\n",
    "print()\n",
    "print(arr8)\n",
    "print(arr8.ndim)"
   ]
  },
  {
   "cell_type": "code",
   "execution_count": 10,
   "metadata": {},
   "outputs": [
    {
     "name": "stdout",
     "output_type": "stream",
     "text": [
      "[ 1  2  3  4  5  6  7  8  9 10 11 12 13 14 15 16 17 18 19 20]\n",
      "(20,)\n",
      "\n",
      "2\n",
      "20\n",
      "\n",
      "[[ 1  2  3  4  5  6  7  8  9 10]\n",
      " [11 12 13 14 15 16 17 18 19 20]]\n",
      "(2, 10)\n",
      "\n",
      "[ 1  2  3  4  5  6  7  8  9 10]\n",
      "[11 12 13 14 15 16 17 18 19 20]\n",
      "100\n",
      "[ 11 100  13  14  15  16  17  18  19  20]\n"
     ]
    }
   ],
   "source": [
    "# 배열 다루기\n",
    "ar1 = np.arange(1,21,1)\n",
    "ar2 = ar1.reshape(2,-1)\n",
    "\n",
    "print(ar1)\n",
    "print(ar1.shape)\n",
    "print()\n",
    "print(ar1[1]) # index\n",
    "print(len(ar1))\n",
    "print()\n",
    "print(ar2)\n",
    "print(ar2.shape)\n",
    "print()\n",
    "print(ar2[0])\n",
    "print(ar2[1])\n",
    "\n",
    "ar2[1][1] = 100    # 수정이 되\n",
    "\n",
    "print(ar2[1][1])\n",
    "print(ar2[1])"
   ]
  },
  {
   "cell_type": "code",
   "execution_count": 11,
   "metadata": {},
   "outputs": [
    {
     "name": "stdout",
     "output_type": "stream",
     "text": [
      "[ 1  2  3  4  5  6  7  8  9 10]\n",
      "\n",
      "[ 4  5  6  7  8  9 10 11 12 13]\n",
      "\n",
      "[ 8 10 12 14 16 18 20 22 24 26]\n"
     ]
    }
   ],
   "source": [
    "# 배열의 산술 연산 : 배열의 연산은 배열 원소에 각각 적용됨.\n",
    "\n",
    "ar1 = np.arange(1,11,1)\n",
    "ar2 = ar1 + 3               # broadcasting ( 각 원소에 적용됨 )\n",
    "ar3 = ar2 * 2\n",
    "\n",
    "print(ar1)\n",
    "print()\n",
    "print(ar2)\n",
    "print()\n",
    "print(ar3)"
   ]
  },
  {
   "cell_type": "code",
   "execution_count": 14,
   "metadata": {},
   "outputs": [
    {
     "name": "stdout",
     "output_type": "stream",
     "text": [
      "[[ 5  7  9]\n",
      " [-7 -6 19]\n",
      " [ 6  9 11]]\n",
      "53\n",
      "5.888888888888889\n",
      "7.651353466971919\n",
      "19\n",
      "-7\n"
     ]
    }
   ],
   "source": [
    "# 배열의 통계 메소드 사용\n",
    "arr = np.array([[5,7,9],[-7,-6,19],[6,9,11]])\n",
    "\n",
    "print(arr)\n",
    "print(arr.sum())  # 합\n",
    "print(arr.mean()) # 평균\n",
    "print(arr.std())  # 표준편차\n",
    "print(arr.max())  # 최댓값\n",
    "print(arr.min())  # 최솟값\n"
   ]
  },
  {
   "cell_type": "code",
   "execution_count": 16,
   "metadata": {},
   "outputs": [
    {
     "name": "stdout",
     "output_type": "stream",
     "text": [
      "[[ 5  7  9]\n",
      " [-7 -6 19]\n",
      " [ 6  9 11]]\n",
      "\n",
      "[ 6  9 19]\n",
      "\n",
      "[ 9 19 11]\n"
     ]
    }
   ],
   "source": [
    "print(arr)\n",
    "print()\n",
    "print(arr.max(axis=0)) # 각 열에서 최댓값 \n",
    "print()\n",
    "print(arr.max(axis=1)) # 각 행에서 최댓값"
   ]
  },
  {
   "cell_type": "code",
   "execution_count": 18,
   "metadata": {},
   "outputs": [
    {
     "name": "stdout",
     "output_type": "stream",
     "text": [
      "[[ True  True  True]\n",
      " [False False  True]\n",
      " [ True  True  True]]\n",
      "\n",
      "[[False False False]\n",
      " [ True  True False]\n",
      " [False False False]]\n"
     ]
    }
   ],
   "source": [
    "# 조건식을 사용한 연산\n",
    "print(arr > 0)\n",
    "print()\n",
    "print(arr < 0)"
   ]
  },
  {
   "cell_type": "code",
   "execution_count": 21,
   "metadata": {},
   "outputs": [
    {
     "name": "stdout",
     "output_type": "stream",
     "text": [
      "[[ 5  7  9]\n",
      " [-7 -6 19]\n",
      " [ 6  9 11]]\n",
      "\n",
      "2\n"
     ]
    }
   ],
   "source": [
    "print(arr)\n",
    "print()\n",
    "print((arr < 0).sum())"
   ]
  },
  {
   "cell_type": "code",
   "execution_count": 22,
   "metadata": {},
   "outputs": [
    {
     "data": {
      "text/plain": [
       "array([[ 5,  7,  9],\n",
       "       [ 0,  0, 19],\n",
       "       [ 6,  9, 11]])"
      ]
     },
     "execution_count": 22,
     "metadata": {},
     "output_type": "execute_result"
    }
   ],
   "source": [
    "# np.where\n",
    "np.where(arr < 0, 0, arr)\n",
    "\n",
    "# arr < 0 : 조건식\n",
    "# 조건식 True (arr < 0) >> '0', 그렇지 않으면, arr 출력"
   ]
  },
  {
   "cell_type": "code",
   "execution_count": 25,
   "metadata": {},
   "outputs": [
    {
     "name": "stdout",
     "output_type": "stream",
     "text": [
      "[[-3 -6  9]\n",
      " [ 5  4 11]\n",
      " [ 6  7 19]]\n"
     ]
    }
   ],
   "source": [
    "# sort(0) : 열 단위로 원소를 정렬\n",
    "\n",
    "arr = np.array([[5,7,9],[-3,-6,19],[6,4,11]])\n",
    "arr.sort(0)\n",
    "print(arr)"
   ]
  },
  {
   "cell_type": "code",
   "execution_count": 26,
   "metadata": {},
   "outputs": [
    {
     "name": "stdout",
     "output_type": "stream",
     "text": [
      "[[ 5  7  9]\n",
      " [-6 -3 19]\n",
      " [ 4  6 11]]\n"
     ]
    }
   ],
   "source": [
    "# sort(1) : 열 단위로 원소를 정렬\n",
    "\n",
    "arr = np.array([[5,7,9],[-3,-6,19],[6,4,11]])\n",
    "arr.sort(1)\n",
    "print(arr)"
   ]
  },
  {
   "cell_type": "code",
   "execution_count": 28,
   "metadata": {},
   "outputs": [
    {
     "name": "stdout",
     "output_type": "stream",
     "text": [
      "[[-3 -6  9]\n",
      " [ 5  4 11]\n",
      " [ 6  7 19]]\n",
      "------------------------------\n",
      "[[-6 -3  9]\n",
      " [ 4  5 11]\n",
      " [ 6  7 19]]\n"
     ]
    }
   ],
   "source": [
    "arr = np.array([[5,7,9],[-3,-6,19],[6,4,11]])\n",
    "arr.sort(0)\n",
    "print(arr)\n",
    "print('-'*30)\n",
    "arr.sort(1)\n",
    "print(arr) # 열과 행을 정렬 했으므로 전체 정렬이 됨."
   ]
  },
  {
   "cell_type": "markdown",
   "metadata": {},
   "source": [
    "### 2차원에서 3차원으로\n",
    "1. np.newaxis\n",
    "2. np.expand_dims"
   ]
  },
  {
   "cell_type": "code",
   "execution_count": 30,
   "metadata": {},
   "outputs": [
    {
     "name": "stdout",
     "output_type": "stream",
     "text": [
      "[[[1 2 3]\n",
      "  [4 5 6]]]\n",
      "\n",
      "(1, 2, 3)\n",
      "3\n"
     ]
    }
   ],
   "source": [
    "import numpy as np\n",
    "\n",
    "# 2차원 배열 생성\n",
    "arr = np.array([[1,2,3],[4,5,6]])\n",
    "\n",
    "# 축 추가 np.newaxis 활용, 첫 번째 축 (0번 인덱스)에 새로운 축 추가\n",
    "new_arr_axis0 = arr[np.newaxis,:,:]\n",
    "print(new_arr_axis0)\n",
    "print()\n",
    "print(new_arr_axis0.shape)\n",
    "print(new_arr_axis0.ndim)"
   ]
  },
  {
   "cell_type": "code",
   "execution_count": 31,
   "metadata": {},
   "outputs": [
    {
     "name": "stdout",
     "output_type": "stream",
     "text": [
      "[[[1 2 3]]\n",
      "\n",
      " [[4 5 6]]]\n",
      "\n",
      "(2, 1, 3)\n"
     ]
    }
   ],
   "source": [
    "# 두 번째 축 (1번 인덱스)에 새로운 축 추가\n",
    "new_arr_axis1 = arr[:, np.newaxis, :]\n",
    "print(new_arr_axis1)\n",
    "print()\n",
    "print(new_arr_axis1.shape)"
   ]
  },
  {
   "cell_type": "code",
   "execution_count": 32,
   "metadata": {},
   "outputs": [
    {
     "name": "stdout",
     "output_type": "stream",
     "text": [
      "[[[1]\n",
      "  [2]\n",
      "  [3]]\n",
      "\n",
      " [[4]\n",
      "  [5]\n",
      "  [6]]]\n",
      "\n",
      "(2, 3, 1)\n"
     ]
    }
   ],
   "source": [
    "# 세 번째 축 (2번 인덱스)에 새로운 축 추가\n",
    "new_arr_axis2 = arr[:,:, np.newaxis]\n",
    "print(new_arr_axis2)\n",
    "print()\n",
    "print(new_arr_axis2.shape)"
   ]
  }
 ],
 "metadata": {
  "kernelspec": {
   "display_name": "Python 3",
   "language": "python",
   "name": "python3"
  },
  "language_info": {
   "codemirror_mode": {
    "name": "ipython",
    "version": 3
   },
   "file_extension": ".py",
   "mimetype": "text/x-python",
   "name": "python",
   "nbconvert_exporter": "python",
   "pygments_lexer": "ipython3",
   "version": "3.12.0"
  }
 },
 "nbformat": 4,
 "nbformat_minor": 2
}
